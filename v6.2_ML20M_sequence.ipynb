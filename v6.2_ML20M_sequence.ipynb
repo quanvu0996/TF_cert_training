{
  "cells": [
    {
      "cell_type": "markdown",
      "metadata": {
        "id": "a8qpAznwl3Fk"
      },
      "source": [
        "ver 6.0 \n",
        "Supervised contrastive"
      ]
    },
    {
      "cell_type": "markdown",
      "metadata": {
        "id": "fRXKKOy-8X1R"
      },
      "source": [
        "# Enviroment setup"
      ]
    },
    {
      "cell_type": "code",
      "execution_count": 1,
      "metadata": {
        "colab": {
          "base_uri": "https://localhost:8080/"
        },
        "id": "q7sPzaTKcdTo",
        "outputId": "4e3ff95b-2a3d-4569-93a3-e7d95054afe9"
      },
      "outputs": [
        {
          "output_type": "stream",
          "name": "stdout",
          "text": [
            "Looking in indexes: https://pypi.org/simple, https://us-python.pkg.dev/colab-wheels/public/simple/\n",
            "Requirement already satisfied: tensorflow-addons in /usr/local/lib/python3.7/dist-packages (0.17.1)\n",
            "Requirement already satisfied: packaging in /usr/local/lib/python3.7/dist-packages (from tensorflow-addons) (21.3)\n",
            "Requirement already satisfied: typeguard>=2.7 in /usr/local/lib/python3.7/dist-packages (from tensorflow-addons) (2.7.1)\n",
            "Requirement already satisfied: pyparsing!=3.0.5,>=2.0.2 in /usr/local/lib/python3.7/dist-packages (from packaging->tensorflow-addons) (3.0.9)\n",
            "Looking in indexes: https://pypi.org/simple, https://us-python.pkg.dev/colab-wheels/public/simple/\n",
            "Requirement already satisfied: dask[dataframe] in /usr/local/lib/python3.7/dist-packages (2.12.0)\n",
            "Requirement already satisfied: partd>=0.3.10 in /usr/local/lib/python3.7/dist-packages (from dask[dataframe]) (1.2.0)\n",
            "Requirement already satisfied: fsspec>=0.6.0 in /usr/local/lib/python3.7/dist-packages (from dask[dataframe]) (2022.5.0)\n",
            "Requirement already satisfied: numpy>=1.13.0 in /usr/local/lib/python3.7/dist-packages (from dask[dataframe]) (1.21.6)\n",
            "Requirement already satisfied: pandas>=0.23.0 in /usr/local/lib/python3.7/dist-packages (from dask[dataframe]) (1.3.5)\n",
            "Requirement already satisfied: toolz>=0.7.3 in /usr/local/lib/python3.7/dist-packages (from dask[dataframe]) (0.11.2)\n",
            "Requirement already satisfied: pytz>=2017.3 in /usr/local/lib/python3.7/dist-packages (from pandas>=0.23.0->dask[dataframe]) (2022.1)\n",
            "Requirement already satisfied: python-dateutil>=2.7.3 in /usr/local/lib/python3.7/dist-packages (from pandas>=0.23.0->dask[dataframe]) (2.8.2)\n",
            "Requirement already satisfied: locket in /usr/local/lib/python3.7/dist-packages (from partd>=0.3.10->dask[dataframe]) (1.0.0)\n",
            "Requirement already satisfied: six>=1.5 in /usr/local/lib/python3.7/dist-packages (from python-dateutil>=2.7.3->pandas>=0.23.0->dask[dataframe]) (1.15.0)\n"
          ]
        }
      ],
      "source": [
        "!pip install tensorflow-addons\n",
        "# !pip install recommenders\n",
        "!pip install \"dask[dataframe]\" --upgrade"
      ]
    },
    {
      "cell_type": "markdown",
      "metadata": {
        "id": "oGKXb_a2GGDk"
      },
      "source": [
        "# Libs"
      ]
    },
    {
      "cell_type": "code",
      "execution_count": 2,
      "metadata": {
        "id": "XS6UHXPVAQqs"
      },
      "outputs": [],
      "source": [
        "import pandas as pd\n",
        "import numpy as np\n",
        "import random\n",
        "from matplotlib import pyplot as plt\n",
        "import gc\n",
        "import math\n",
        "import datetime, time\n",
        "from joblib import Parallel, delayed\n",
        "from tqdm import tqdm\n",
        "\n",
        "import tensorflow as tf\n",
        "from tensorflow.keras import layers\n",
        "import tensorflow.keras.backend as K\n",
        "import tensorflow_addons as tfa\n",
        "from tensorflow_addons.losses import TripletSemiHardLoss \n",
        "from sklearn.preprocessing import LabelEncoder\n",
        "\n",
        "from sklearn.model_selection import train_test_split\n",
        "\n",
        "from sklearn.decomposition import PCA\n",
        "import seaborn as sns\n",
        "from sklearn.manifold import TSNE\n",
        "\n",
        "import dask.dataframe as dd\n",
        "\n",
        "# from recommenders.datasets.python_splitters import python_random_split\n",
        "# from recommenders.evaluation.python_evaluation import map_at_k, ndcg_at_k, precision_at_k, recall_at_k\n",
        "# from recommenders.models.cornac.cornac_utils import predict_ranking"
      ]
    },
    {
      "cell_type": "code",
      "execution_count": 3,
      "metadata": {
        "colab": {
          "base_uri": "https://localhost:8080/",
          "height": 35
        },
        "id": "Gv8gXemwD3UQ",
        "outputId": "83d1115e-a190-4324-9c1a-6e19f870154d"
      },
      "outputs": [
        {
          "output_type": "execute_result",
          "data": {
            "text/plain": [
              "'2.8.2'"
            ],
            "application/vnd.google.colaboratory.intrinsic+json": {
              "type": "string"
            }
          },
          "metadata": {},
          "execution_count": 3
        }
      ],
      "source": [
        "tf.__version__"
      ]
    },
    {
      "cell_type": "code",
      "execution_count": 4,
      "metadata": {
        "id": "Crhty6fiAQqu"
      },
      "outputs": [],
      "source": [
        "itemCol = 'movieId'\n",
        "userCol = 'userId'"
      ]
    },
    {
      "cell_type": "code",
      "execution_count": 5,
      "metadata": {
        "colab": {
          "base_uri": "https://localhost:8080/"
        },
        "id": "xOJJy441A0w0",
        "outputId": "b568b3b2-d4a5-4a09-f72a-742cad3e03fd"
      },
      "outputs": [
        {
          "output_type": "stream",
          "name": "stdout",
          "text": [
            "Drive already mounted at /content/gdrive; to attempt to forcibly remount, call drive.mount(\"/content/gdrive\", force_remount=True).\n"
          ]
        }
      ],
      "source": [
        "# DGX setup\n",
        "# fpath = \"./ml-20m\"\n",
        "\n",
        "#colab setup\n",
        "from google.colab import drive\n",
        "drive.mount('/content/gdrive')\n",
        "fpath = \"/content/gdrive/MyDrive/RECOMMENDER_STUDIES/data/ml-20m\""
      ]
    },
    {
      "cell_type": "code",
      "execution_count": 6,
      "metadata": {
        "colab": {
          "base_uri": "https://localhost:8080/",
          "height": 204
        },
        "id": "_DH8SxPH64nZ",
        "outputId": "ba1db851-c1f4-44b7-aa53-5a51c5dc2d13"
      },
      "outputs": [
        {
          "output_type": "execute_result",
          "data": {
            "text/plain": [
              "   movieId                        title  \\\n",
              "0        1                    Toy Story   \n",
              "1        2                      Jumanji   \n",
              "2        3             Grumpier Old Men   \n",
              "3        4            Waiting to Exhale   \n",
              "4        5  Father of the Bride Part II   \n",
              "\n",
              "                                        genres  year  \n",
              "0  Adventure Animation Children Comedy Fantasy  1995  \n",
              "1                   Adventure Children Fantasy  1995  \n",
              "2                               Comedy Romance  1995  \n",
              "3                         Comedy Drama Romance  1995  \n",
              "4                                       Comedy  1995  "
            ],
            "text/html": [
              "\n",
              "  <div id=\"df-65b288bf-8656-4af0-b62b-9f5b2040f864\">\n",
              "    <div class=\"colab-df-container\">\n",
              "      <div>\n",
              "<style scoped>\n",
              "    .dataframe tbody tr th:only-of-type {\n",
              "        vertical-align: middle;\n",
              "    }\n",
              "\n",
              "    .dataframe tbody tr th {\n",
              "        vertical-align: top;\n",
              "    }\n",
              "\n",
              "    .dataframe thead th {\n",
              "        text-align: right;\n",
              "    }\n",
              "</style>\n",
              "<table border=\"1\" class=\"dataframe\">\n",
              "  <thead>\n",
              "    <tr style=\"text-align: right;\">\n",
              "      <th></th>\n",
              "      <th>movieId</th>\n",
              "      <th>title</th>\n",
              "      <th>genres</th>\n",
              "      <th>year</th>\n",
              "    </tr>\n",
              "  </thead>\n",
              "  <tbody>\n",
              "    <tr>\n",
              "      <th>0</th>\n",
              "      <td>1</td>\n",
              "      <td>Toy Story</td>\n",
              "      <td>Adventure Animation Children Comedy Fantasy</td>\n",
              "      <td>1995</td>\n",
              "    </tr>\n",
              "    <tr>\n",
              "      <th>1</th>\n",
              "      <td>2</td>\n",
              "      <td>Jumanji</td>\n",
              "      <td>Adventure Children Fantasy</td>\n",
              "      <td>1995</td>\n",
              "    </tr>\n",
              "    <tr>\n",
              "      <th>2</th>\n",
              "      <td>3</td>\n",
              "      <td>Grumpier Old Men</td>\n",
              "      <td>Comedy Romance</td>\n",
              "      <td>1995</td>\n",
              "    </tr>\n",
              "    <tr>\n",
              "      <th>3</th>\n",
              "      <td>4</td>\n",
              "      <td>Waiting to Exhale</td>\n",
              "      <td>Comedy Drama Romance</td>\n",
              "      <td>1995</td>\n",
              "    </tr>\n",
              "    <tr>\n",
              "      <th>4</th>\n",
              "      <td>5</td>\n",
              "      <td>Father of the Bride Part II</td>\n",
              "      <td>Comedy</td>\n",
              "      <td>1995</td>\n",
              "    </tr>\n",
              "  </tbody>\n",
              "</table>\n",
              "</div>\n",
              "      <button class=\"colab-df-convert\" onclick=\"convertToInteractive('df-65b288bf-8656-4af0-b62b-9f5b2040f864')\"\n",
              "              title=\"Convert this dataframe to an interactive table.\"\n",
              "              style=\"display:none;\">\n",
              "        \n",
              "  <svg xmlns=\"http://www.w3.org/2000/svg\" height=\"24px\"viewBox=\"0 0 24 24\"\n",
              "       width=\"24px\">\n",
              "    <path d=\"M0 0h24v24H0V0z\" fill=\"none\"/>\n",
              "    <path d=\"M18.56 5.44l.94 2.06.94-2.06 2.06-.94-2.06-.94-.94-2.06-.94 2.06-2.06.94zm-11 1L8.5 8.5l.94-2.06 2.06-.94-2.06-.94L8.5 2.5l-.94 2.06-2.06.94zm10 10l.94 2.06.94-2.06 2.06-.94-2.06-.94-.94-2.06-.94 2.06-2.06.94z\"/><path d=\"M17.41 7.96l-1.37-1.37c-.4-.4-.92-.59-1.43-.59-.52 0-1.04.2-1.43.59L10.3 9.45l-7.72 7.72c-.78.78-.78 2.05 0 2.83L4 21.41c.39.39.9.59 1.41.59.51 0 1.02-.2 1.41-.59l7.78-7.78 2.81-2.81c.8-.78.8-2.07 0-2.86zM5.41 20L4 18.59l7.72-7.72 1.47 1.35L5.41 20z\"/>\n",
              "  </svg>\n",
              "      </button>\n",
              "      \n",
              "  <style>\n",
              "    .colab-df-container {\n",
              "      display:flex;\n",
              "      flex-wrap:wrap;\n",
              "      gap: 12px;\n",
              "    }\n",
              "\n",
              "    .colab-df-convert {\n",
              "      background-color: #E8F0FE;\n",
              "      border: none;\n",
              "      border-radius: 50%;\n",
              "      cursor: pointer;\n",
              "      display: none;\n",
              "      fill: #1967D2;\n",
              "      height: 32px;\n",
              "      padding: 0 0 0 0;\n",
              "      width: 32px;\n",
              "    }\n",
              "\n",
              "    .colab-df-convert:hover {\n",
              "      background-color: #E2EBFA;\n",
              "      box-shadow: 0px 1px 2px rgba(60, 64, 67, 0.3), 0px 1px 3px 1px rgba(60, 64, 67, 0.15);\n",
              "      fill: #174EA6;\n",
              "    }\n",
              "\n",
              "    [theme=dark] .colab-df-convert {\n",
              "      background-color: #3B4455;\n",
              "      fill: #D2E3FC;\n",
              "    }\n",
              "\n",
              "    [theme=dark] .colab-df-convert:hover {\n",
              "      background-color: #434B5C;\n",
              "      box-shadow: 0px 1px 3px 1px rgba(0, 0, 0, 0.15);\n",
              "      filter: drop-shadow(0px 1px 2px rgba(0, 0, 0, 0.3));\n",
              "      fill: #FFFFFF;\n",
              "    }\n",
              "  </style>\n",
              "\n",
              "      <script>\n",
              "        const buttonEl =\n",
              "          document.querySelector('#df-65b288bf-8656-4af0-b62b-9f5b2040f864 button.colab-df-convert');\n",
              "        buttonEl.style.display =\n",
              "          google.colab.kernel.accessAllowed ? 'block' : 'none';\n",
              "\n",
              "        async function convertToInteractive(key) {\n",
              "          const element = document.querySelector('#df-65b288bf-8656-4af0-b62b-9f5b2040f864');\n",
              "          const dataTable =\n",
              "            await google.colab.kernel.invokeFunction('convertToInteractive',\n",
              "                                                     [key], {});\n",
              "          if (!dataTable) return;\n",
              "\n",
              "          const docLinkHtml = 'Like what you see? Visit the ' +\n",
              "            '<a target=\"_blank\" href=https://colab.research.google.com/notebooks/data_table.ipynb>data table notebook</a>'\n",
              "            + ' to learn more about interactive tables.';\n",
              "          element.innerHTML = '';\n",
              "          dataTable['output_type'] = 'display_data';\n",
              "          await google.colab.output.renderOutput(dataTable, element);\n",
              "          const docLink = document.createElement('div');\n",
              "          docLink.innerHTML = docLinkHtml;\n",
              "          element.appendChild(docLink);\n",
              "        }\n",
              "      </script>\n",
              "    </div>\n",
              "  </div>\n",
              "  "
            ]
          },
          "metadata": {},
          "execution_count": 6
        }
      ],
      "source": [
        "# Loading movie\n",
        "movies = pd.read_csv(fpath+'/movies.csv')\n",
        "movies[\"year\"]=movies[\"title\"].apply(lambda x: x[-5:-1])\n",
        "movies[\"genres\"] = movies[\"genres\"].apply(lambda x: ' ' if x == '(no genres listed)' else ' '.join(x.split('|')) )\n",
        "movies[\"title\"]= movies[\"title\"].apply(lambda x: x[0:-7])\n",
        "movies.head()"
      ]
    },
    {
      "cell_type": "code",
      "execution_count": 7,
      "metadata": {
        "id": "fiRtTNy1ScIa"
      },
      "outputs": [],
      "source": [
        "# user-wise train-test split\n",
        "def user_wise_split(userCol, test_size=0.25):\n",
        "    df = pd.read_csv(fpath+'/ratings.csv')\n",
        "    df[\"y\"] = df[\"rating\"]/2.5-1\n",
        "    all_user = df[userCol].drop_duplicates()\n",
        "    train_user, test_user = train_test_split(all_user, test_size=test_size)\n",
        "\n",
        "    train_ratings = df[df[userCol].isin(train_user)]\n",
        "    test_ratings = df[df[userCol].isin(test_user)]\n",
        "    return train_ratings, test_ratings\n",
        "\n",
        "train, test= user_wise_split(userCol,test_size= 0.35)"
      ]
    },
    {
      "cell_type": "code",
      "execution_count": 8,
      "metadata": {
        "id": "iejmAYEB4kjy"
      },
      "outputs": [],
      "source": [
        "top_k_item = 20000\n",
        "wu_size = 200\n",
        "max_item = wu_size\n",
        "\n",
        "top_items = train.groupby(itemCol).count().sort_values(by=userCol, ascending=False).head(top_k_item).index"
      ]
    },
    {
      "cell_type": "markdown",
      "metadata": {
        "id": "HIfY6FeqKqQ4"
      },
      "source": [
        "# Class  model"
      ]
    },
    {
      "cell_type": "code",
      "execution_count": 9,
      "metadata": {
        "id": "mvnW0Fd52VkU"
      },
      "outputs": [],
      "source": [
        "class TimeTrachker():\n",
        "    \"\"\"Tracking runing time\"\"\"\n",
        "    def start(self):\n",
        "        self.start_time = time.time()\n",
        "\n",
        "    def check(self, des = ''):\n",
        "        try:\n",
        "            if self.check_time is None:\n",
        "                self.check_time = self.start_time\n",
        "        except:\n",
        "            self.check_time = self.start_time\n",
        "        self.end_time = time.time()\n",
        "        dur = self.end_time - self.check_time\n",
        "        print(des + \" duration: \", dur)\n",
        "\n",
        "        self.check_time = time.time()\n",
        "        return dur\n",
        "\n",
        "    def stop(self, des = ''):\n",
        "        self.end_time = time.time()\n",
        "        dur = self.end_time - self.start_time\n",
        "        print(des + \" duration: \", dur)\n",
        "        self.start_time = time.time()\n",
        "        self.check_time = None\n",
        "        return dur\n",
        "\n",
        "timer = TimeTrachker()"
      ]
    },
    {
      "cell_type": "code",
      "execution_count": 10,
      "metadata": {
        "id": "Lb2Hx2rlWzmP"
      },
      "outputs": [],
      "source": [
        "def get_interaction_set(interaction, max_item = None, top_k_item = None):\n",
        "    \"\"\"\n",
        "    Input:\n",
        "        interaction: df[userCol, itemCol, y]: dữ liệu đầu vào\n",
        "        max_item: int: item num limit\n",
        "    Output:\n",
        "        df, itemCol: list, y: list, itemCol_str: string, userCol as index\n",
        "        list item sắp xếp theo giảm dần độ lớn rating\n",
        "    \"\"\"\n",
        "    items = interaction.groupby(itemCol).count().sort_values(by=userCol, ascending=False)\n",
        "    if top_k_item is not None:\n",
        "        top_items = items.head(top_k_item).index\n",
        "        interaction = interaction[interaction[itemCol].isin(top_items)]\n",
        "    else:\n",
        "        top_items = items.index\n",
        "\n",
        "    # Sắp xếp item theo thứ tự giảm dần rating (về sau cắt padding sẽ ưu tiên giữ lại item có rating cao)\n",
        "    rindex = interaction.groupby(userCol)[\"y\"].transform(lambda grp: grp.sort_values(ascending=False).index)\n",
        "    interaction = interaction.reindex(rindex)\n",
        "    \n",
        "    # Chuyển thành warm-up set theo từng user\n",
        "    interaction = interaction.groupby(\"userId\").agg({itemCol:list, \"y\":list})\n",
        "\n",
        "    # Giới hạn độ dài warm_up size\n",
        "    if max_item is not None:\n",
        "        interaction[itemCol] = interaction[itemCol].apply(lambda x: x[0:max_item])\n",
        "        interaction[\"y\"] = interaction[\"y\"].apply(lambda x: x[0:max_item])\n",
        "\n",
        "    return interaction, top_items"
      ]
    },
    {
      "cell_type": "code",
      "execution_count": 11,
      "metadata": {
        "id": "jJySyZdU4Iou"
      },
      "outputs": [],
      "source": [
        "# Bulding model\n",
        "class Efficient_Rec(tf.keras.Model):\n",
        "    def __init__(self, encoder, wu_size= 200, use_tf_function=False):\n",
        "        super().__init__()\n",
        "        self.use_tf_function = use_tf_function\n",
        "        self.encoder = encoder\n",
        "        self.wu_size = wu_size\n",
        "\n",
        "    # from v2.2: chỉ groupby, không padding\n",
        "    @staticmethod\n",
        "    def get_interaction_set(interaction, max_item = None, top_k_item = None):\n",
        "        \"\"\"\n",
        "        Input:\n",
        "            interaction: df[userCol, itemCol, y]: dữ liệu đầu vào\n",
        "            max_item: int: item num limit\n",
        "        Output:\n",
        "            df, itemCol: list, y: list, itemCol_str: string, userCol as index\n",
        "            list item sắp xếp theo giảm dần độ lớn rating\n",
        "        \"\"\"\n",
        "        items = interaction.groupby(itemCol).count().sort_values(by=userCol, ascending=False)\n",
        "        if top_k_item is not None:\n",
        "            top_items = items.head(top_k_item).index\n",
        "            interaction = interaction[interaction[itemCol].isin(top_items)]\n",
        "        else:\n",
        "            top_items = items.index\n",
        "\n",
        "        # Sắp xếp item theo thứ tự giảm dần rating (về sau cắt padding sẽ ưu tiên giữ lại item có rating cao)\n",
        "        rindex = interaction.groupby(userCol)[\"y\"].transform(lambda grp: grp.sort_values(ascending=False).index)\n",
        "        interaction = interaction.reindex(rindex)\n",
        "        \n",
        "        # Chuyển thành warm-up set theo từng user\n",
        "        interaction = interaction.groupby(\"userId\").agg({itemCol:list, \"y\":list})\n",
        "\n",
        "        # Giới hạn độ dài warm_up size\n",
        "        if max_item is not None:\n",
        "            interaction[itemCol] = interaction[itemCol].apply(lambda x: x[0:max_item])\n",
        "            interaction[\"y\"] = interaction[\"y\"].apply(lambda x: x[0:max_item])\n",
        "\n",
        "        return interaction, top_items\n",
        "\n",
        "    def _preprocess(self, inputs, padding_size = 100):\n",
        "        \"\"\"\n",
        "        Padding về wu_size và mask_size, convert list of items => string of items\n",
        "        batch_inputs: df: itemStr, y\"\"\"\n",
        "\n",
        "        def padding_list(list_item, wu_size, value=0, is_padding=True):\n",
        "            series_item1 = list_item[0:wu_size]\n",
        "            if is_padding:\n",
        "                series_item1 = series_item1+[value]*(wu_size-len(series_item1))\n",
        "            return series_item1\n",
        "\n",
        "        items_list, ratings_list = inputs\n",
        "\n",
        "        items   = items_list.apply(lambda x: ' '.join(list([str(i) for i in x])))\n",
        "        ratings =   np.stack( ratings_list.apply(lambda x: padding_list( x, padding_size  ) ) )\n",
        "\n",
        "        return items, ratings\n",
        "\n",
        "\n",
        "    @staticmethod\n",
        "    def get_top_cluster(scores, interaction_list, cluster_num=5):\n",
        "        interaction_list_ = interaction_list.copy()\n",
        "        idx = np.argsort(-scores.transpose(),axis=0)[:cluster_num]\n",
        "        interaction_list_[\"clusters\"] = [list(i) for i in idx.transpose()]\n",
        "        interaction_list_[\"scores\"] = [ list(scores[i][ind]) for i, ind in enumerate(idx.transpose()) ]\n",
        "        return interaction_list_\n",
        "\n",
        "    def minibatch_clustering(self, interaction_list, batch_size= 512):\n",
        "        chunks = [interaction_list[i:i+batch_size] for i in range(0,interaction_list.shape[0],batch_size)]\n",
        "        preds = []\n",
        "        for chunk in chunks:\n",
        "            pred = self.encoder(self._preprocess( [chunk[itemCol], chunk[\"y\"]], padding_size = wu_size )).numpy()\n",
        "            preds.append( pred )\n",
        "\n",
        "        return np.concatenate(preds)\n",
        "\n",
        "    @staticmethod\n",
        "    def chunk_explode(ratings, batch_size = 1024**2):\n",
        "        chunks = [ratings[i:i+batch_size] for i in range(0,ratings.shape[0],batch_size)]\n",
        "        explodes = []\n",
        "\n",
        "        # Todo: convert for loop to parallel\n",
        "        def chunk_process(chunk):\n",
        "            explode = chunk.explode([\"clusters\", \"scores\"])\n",
        "            explode[\"contribute_score\"] = explode[\"scores\"].astype(\"float64\")*explode[\"y\"]\n",
        "            explode = explode.groupby([\"clusters\", \"movieId\"]).agg({\n",
        "                \"contribute_score\": [\"mean\", \"count\"]\n",
        "            }).reset_index()\n",
        "            explode.columns = [\"clusters\", \"movieId\", \"mean\", \"count\"]\n",
        "\n",
        "            return explode\n",
        "\n",
        "        explodes = Parallel(n_jobs = -1, verbose = 1)(\n",
        "                    delayed(chunk_process)(chunk) for chunk in tqdm(chunks))\n",
        "        # combine results\n",
        "        gr = pd.concat(explodes, axis = 0)\n",
        "        gr[\"product\"] = gr[\"mean\"]*gr[\"count\"]\n",
        "        gr = gr.groupby([\"clusters\", \"movieId\"]).sum().reset_index()\n",
        "        gr[\"contribute_score\"] = gr[\"product\"]/gr[\"count\"]\n",
        "        gr = gr[[\"clusters\", \"movieId\", \"contribute_score\"]]\n",
        "        return gr\n",
        "\n",
        "    def get_shortlist(self, ratings, interaction_list= None, limit = 500, cluster_num = 5, batch_size=512):\n",
        "        timer.start()\n",
        "        if interaction_list is None:\n",
        "            interaction_list_, _ = self.get_interaction_set(  ratings, max_item = max_item, top_k_item = top_k_item  )\n",
        "        else:\n",
        "            interaction_list_ = interaction_list.copy()\n",
        "\n",
        "        scores = self.minibatch_clustering(interaction_list_, batch_size=batch_size)\n",
        "\n",
        "        # Limit number of cluster for each user\n",
        "        interaction_list_ = self.get_top_cluster(scores, interaction_list_, cluster_num= cluster_num)\n",
        "        timer.check(des = \"Get cluster\")\n",
        "\n",
        "        # Get shortlist for each cluster\n",
        "        ratings_ = ratings.copy().set_index(\"userId\")\n",
        "        ratings_ = ratings_[ratings_[\"y\"]>0]\n",
        "        ratings_ = ratings_.join(interaction_list_, rsuffix=\"_l\", how = \"inner\")\n",
        "        timer.check(des = \"Join interaction\")\n",
        "        ratings_ = self.chunk_explode(ratings_, batch_size= 1024*200)\n",
        "        timer.check(des = \"Chunk explode\")\n",
        "\n",
        "        ratings_[\"rank\"] = ratings_.groupby(\"clusters\")[\"contribute_score\"].rank(method='first', ascending=False)\n",
        "        ratings_ = ratings_[(ratings_[\"rank\"] <= limit)&(ratings_[\"contribute_score\"]>0)]\n",
        "        timer.check(des = \"Chunk explode\")\n",
        "\n",
        "        self.shortlist = ratings_\n",
        "\n",
        "        timer.stop(des = \"Total\")\n",
        "\n",
        "    @staticmethod\n",
        "    def left_anti_user_item_join( left, right ):\n",
        "        \"\"\"Fast left anijoin 2 dataframe by one column\"\"\"\n",
        "        wu_key = left[userCol].astype('str')+\"&\"+left[itemCol].astype('str')\n",
        "        blacklist = right[userCol].astype('str')+\"&\"+right[itemCol].astype('str')\n",
        "\n",
        "        key_diff = set(wu_key).difference(blacklist)\n",
        "        where_diff = wu_key.isin(key_diff)\n",
        "        output = left[where_diff]\n",
        "\n",
        "        return output\n",
        "\n",
        "\n",
        "    def batch_get_recommend(self, warm_up= None, historical_ratings = None, top_k = 10, is_remove_interacted = True, \n",
        "        batch_size=1024, reduce_method=\"random\", using_rapids= False, cluster_num= 5):\n",
        "        \"\"\"\n",
        "        reduce_method: str, 'random' or 'mean'\n",
        "        \"\"\"\n",
        "        print(\"historical_ratings shape \", historical_ratings.shape)\n",
        "        timer.start()\n",
        "        if warm_up is None:\n",
        "            warm_up, _ = self.get_interaction_set( \n",
        "                         historical_ratings\n",
        "                        , max_item = max_item\n",
        "                        , top_k_item = top_k_item )\n",
        "\n",
        "        scores = self.minibatch_clustering(warm_up, batch_size=512)\n",
        "        wu = self.get_top_cluster( scores, warm_up, cluster_num= cluster_num)\n",
        "\n",
        "        wu = wu.explode([\"clusters\", \"scores\"]).reset_index()[[userCol, \"clusters\", \"scores\"]]\n",
        "        timer.check(des = \"Get cluster for user\")\n",
        "        print(\"wu shape \", wu.shape)\n",
        "        \n",
        "        user_num = wu[userCol].drop_duplicates().shape[0]\n",
        "        print(\"user_num \", user_num)\n",
        "\n",
        "        # cudf.from_pandas\n",
        "        if using_rapids:\n",
        "            wu = dd.from_pandas(wu)\n",
        "            historical_ratings = dd.from_pandas(historical_ratings.copy())\n",
        "\n",
        "        chunks = [wu[wu[userCol].isin(range(i,i+batch_size))] \n",
        "                  for i in range(0,user_num,batch_size)]\n",
        "\n",
        "        his_chunks = [historical_ratings[historical_ratings[userCol].isin(range(i,i+batch_size))] \n",
        "                        for i in range(0,user_num,batch_size)]\n",
        "       \n",
        "        shortlist = self.shortlist\n",
        "\n",
        "        def batch_join_process(chunk, his_chunk):\n",
        "            timer2 = TimeTrachker()\n",
        "            timer2.start()\n",
        "\n",
        "            wu = chunk.merge(shortlist, on=\"clusters\", how='inner')\n",
        "            print('''wu = chunk.merge(shortlist, on=\"clusters\", how='inner') : wu shape: ''', wu.shape)\n",
        "            wu[\"matched_score\"] = wu[\"scores\"]*wu[\"contribute_score\"]\n",
        "\n",
        "            if reduce_method==\"mean\":\n",
        "                wu = wu.groupby([userCol, itemCol]).agg({\"matched_score\":'mean'}).reset_index()\n",
        "            \n",
        "            if reduce_method==\"random\":\n",
        "                # using drop_duplicates for boost speed, may reduce accuracy.\n",
        "                wu = wu.drop_duplicates(subset=[\"userId\", \"movieId\"])\n",
        "\n",
        "            print('''after reduce wu shape: ''', wu.shape)\n",
        "            timer2.check(des = \"reduce\")\n",
        "\n",
        "            if is_remove_interacted:\n",
        "                wu = self.left_anti_user_item_join( wu, historical_ratings )\n",
        "\n",
        "            print('''after remove interacted wu shape: ''', wu.shape)\n",
        "            timer2.check(des = \"remove interacted item\")\n",
        "\n",
        "            wu[\"rank\"] = wu.groupby(userCol)[\"matched_score\"].rank(method='first', ascending=False)\n",
        "            wu = wu[wu[\"rank\"]<= top_k]\n",
        "\n",
        "            timer2.stop(des = \"all chunk processing time\")\n",
        "\n",
        "            return wu \n",
        "        \n",
        "        timer.check(des = \"Prepare to join\")\n",
        "        wus = Parallel(n_jobs = -1, backend= 'threading', verbose = 1)(\n",
        "                    delayed(batch_join_process)(chunk, his_chunk) for chunk, his_chunk in tqdm(zip(chunks, his_chunks)))\n",
        "        \n",
        "        gc.collect()\n",
        "\n",
        "        timer.check(des = \"Join\")\n",
        "\n",
        "        output = pd.concat(wus, axis=0)\n",
        "\n",
        "        timer.stop(des = \"Total\")\n",
        "        return output\n",
        "\n",
        "    def release_cache(self):\n",
        "        self.interaction_list = None \n",
        "        gc.collect()"
      ]
    },
    {
      "cell_type": "markdown",
      "metadata": {
        "id": "Sbp1tH7yUeI6"
      },
      "source": [
        "# Xây dựng encoder model\n",
        "Encoder =  interaction embedding + user feature embedding<br> \n",
        "interaction embedding = sum( interaction embedding các item i)<br> \n",
        "interaction embedding item i = rating x (embedding id sản phẩm + embedding item feature)<br>\n",
        "\n"
      ]
    },
    {
      "cell_type": "code",
      "execution_count": 12,
      "metadata": {
        "colab": {
          "base_uri": "https://localhost:8080/"
        },
        "id": "QxNyuo9-WJJG",
        "outputId": "a4b5f229-0948-48da-e342-d07c3240d7ea"
      },
      "outputs": [
        {
          "output_type": "stream",
          "name": "stdout",
          "text": [
            "CPU times: user 866 ms, sys: 570 ms, total: 1.44 s\n",
            "Wall time: 5.22 s\n"
          ]
        }
      ],
      "source": [
        "%%time\n",
        "# Vectorize (encode + padding) item list\n",
        "max_vocab_size = len(top_items) # nếu số item có <= top_k_item => lấy số lượng item max\n",
        "items_str = ' '.join([str(i) for i in top_items])\n",
        "itemStr = itemCol+\"_str\"\n",
        "\n",
        "vectorizer = layers.TextVectorization( max_tokens= top_k_item, split='whitespace', output_sequence_length= wu_size, name = 'vectorizer')\n",
        "vectorizer.adapt( [items_str] ) "
      ]
    },
    {
      "cell_type": "code",
      "execution_count": 13,
      "metadata": {
        "id": "1U7EQG6zWpi9"
      },
      "outputs": [],
      "source": [
        "class Broadcasting_Multiply(tf.keras.layers.Layer):\n",
        "    \"\"\"Nhân 2 layers khác shape với nhau, trong đó:\n",
        "    inputs=[layer1, layer2]\n",
        "    layer1.shape = (None, n_item, n_feature)\n",
        "    layer2.shape = (None, n_item)\n",
        "    (Chú ý đúng thứ tự)\n",
        "    \"\"\"\n",
        "\n",
        "    def call(self, inputs):\n",
        "        x, y = inputs\n",
        "        deno = tf.expand_dims(tf.cast(tf.math.count_nonzero(y, axis=1), tf.float32), -1)\n",
        "        #we add the extra dimension:\n",
        "        y = K.expand_dims(y, axis=-1)\n",
        "        #we replicate the elements\n",
        "        y = K.repeat_elements(y, rep=x.shape[2], axis=-1)\n",
        "\n",
        "        return x * y, deno"
      ]
    },
    {
      "cell_type": "code",
      "execution_count": 14,
      "metadata": {
        "id": "--fbIsGLXjPD"
      },
      "outputs": [],
      "source": [
        "# Xây dựng mạng\n",
        "embedding_size = 173\n",
        "reps_size = 132\n",
        "preference_vector_size = 43\n",
        "\n",
        "@tf.function\n",
        "def avg_layer(z):\n",
        "    t = K.sum(z[0], axis=1)/z[1]\n",
        "    t = tf.clip_by_value( t, -1, 1 )\n",
        "    t = tf.where(tf.math.is_nan(t), tf.zeros_like(t), t)\n",
        "    return t\n",
        "\n",
        "\n",
        "def interaction_embedding():\n",
        "\n",
        "    input_wi = layers.Input(shape=(1,), name='input_wi')\n",
        "    wi = vectorizer(input_wi)\n",
        "    wi = layers.Embedding(input_dim= max_vocab_size, output_dim= embedding_size, mask_zero= True, name='ei')(wi)\n",
        "    # wi = layers.Dense(embedding_size, activation='sigmoid', use_bias = False, name='di')(wi)\n",
        "    wi = layers.Dense(embedding_size, activation='relu', use_bias = False, name='di1')(wi)\n",
        "    wi = layers.Dense(embedding_size, activation='relu', use_bias = False, name='di2')(wi)\n",
        "    # wi = layers.Dense(embedding_size, activation='sigmoid', use_bias = False, name='di3')(wi)\n",
        "\n",
        "    wr = layers.Input(shape=(wu_size,), name='warm_up_ratings')\n",
        "\n",
        "    ireps = Broadcasting_Multiply(name='mul')([wi, wr])\n",
        "    uprofile = layers.Lambda(lambda z: avg_layer(z) )(ireps)\n",
        "\n",
        "    uprofile = layers.Dense( reps_size, activation='relu', name='du1')(uprofile)\n",
        "    uprofile = layers.Dense( reps_size, activation='relu', name='du2')(uprofile)\n",
        "    # uprofile = layers.Dense( reps_size, activation='relu', name='du3')(uprofile)\n",
        "    # uprofile = layers.BatchNormalization(name='norm')(uprofile)\n",
        "    uprofile = layers.LayerNormalization(name='norm')(uprofile)\n",
        "    # uprofile = layers.Dense( reps_size, activation='relu', name='du4')(uprofile)\n",
        "    uprofile = layers.Dense(preference_vector_size, activation='sigmoid', name='clustering')(uprofile)\n",
        "    \n",
        "    \n",
        "    model = tf.keras.Model(inputs= [input_wi, wr], outputs=[uprofile])\n",
        "    return model"
      ]
    },
    {
      "cell_type": "code",
      "execution_count": 15,
      "metadata": {
        "id": "a7EW-lg9Cfi5"
      },
      "outputs": [],
      "source": [
        "# # Example of layer interaction embedding step by step\n",
        "# input_wi = [\"15 25 65 20 84\",  # 5 items\n",
        "#             \"51 54 45 21 24 83 81 76 74 75 72 48 29 38\",# 14 items\n",
        "#             \" \", # 0 item\n",
        "#             ] \n",
        "\n",
        "# tvectorizer = layers.TextVectorization( max_tokens= 17, split='whitespace', output_sequence_length= 10)\n",
        "# tvectorizer.adapt( input_wi ) \n",
        "\n",
        "# wi = tvectorizer(input_wi)\n",
        "# print(\"afer TextVectorization layer \\n\",wi)\n",
        "# wi = layers.Embedding(input_dim= 17, output_dim= 4, mask_zero= True, name='ei')(wi)\n",
        "# print(\"afer Embedding layer \\n\",wi)\n",
        "# wi = layers.Dense(3, activation='sigmoid',  use_bias = False, name='di')(wi)\n",
        "\n",
        "# wr = np.array([[0.5, 0.1, -0.5, 1, 0.25, 0, 0, 0, 0, 0], [0.25, 0.15, 0.5, 1, 0.25, 0.5, 0.1, -0.9, 0.4, -0.3], [0,0,0,0,0,0,0,0,0,0]])\n",
        "\n",
        "# ireps = Broadcasting_Multiply(name='mul')([wi, wr])\n",
        "# print(\"afer Multiply layer \\n\",ireps)\n",
        "# uprofile = layers.Lambda(lambda z: avg_layer(z) )(ireps)\n",
        "# print(\"afer Average layer \\n\",uprofile)\n",
        "\n",
        "# uprofile = layers.Dense( reps_size, activation='relu', name='du2')(uprofile)\n",
        "# uprofile = layers.LayerNormalization(name='norm')(uprofile)\n",
        "# uprofile = layers.Dense(5, activation='sigmoid', name='clustering')(uprofile)\n",
        "# print(\"afer Sigmoid layer \\n\",uprofile)"
      ]
    },
    {
      "cell_type": "code",
      "execution_count": 16,
      "metadata": {
        "id": "cJMxOoxzXvr_"
      },
      "outputs": [],
      "source": [
        "# Kiểm tra tham số\n",
        "# interaction_embedding().summary()"
      ]
    },
    {
      "cell_type": "code",
      "execution_count": 17,
      "metadata": {
        "id": "PuAM8w01Xy93"
      },
      "outputs": [],
      "source": [
        "# tf.keras.utils.plot_model( interaction_embedding() ,show_shapes=True, show_dtype=True, show_layer_names=True )"
      ]
    },
    {
      "cell_type": "markdown",
      "metadata": {
        "id": "BISfMUNM37ug"
      },
      "source": [
        "# Evaluate model results"
      ]
    },
    {
      "cell_type": "code",
      "execution_count": 18,
      "metadata": {
        "id": "83VIKSPGNrN6"
      },
      "outputs": [],
      "source": [
        "def model_evaluate(model, movies, df):\n",
        "    dfu, ttop_items = get_interaction_set( df\n",
        "                    , max_item = max_item\n",
        "                    , top_k_item = top_k_item )\n",
        "    group_scores = model.encoder(model._preprocess( [dfu[itemCol], dfu[\"y\"]], padding_size = wu_size )).numpy()\n",
        "\n",
        "    print(\"SAMPLE INTERACTION EMBEDDING\")\n",
        "    print( np.max(group_scores), np.mean(group_scores), np.min(group_scores) )\n",
        "    print( group_scores[0:3] )\n",
        "\n",
        "    print(\"FEATURE PLOT\")\n",
        "    feature_plot( movies, df, group_scores)\n",
        "    \n",
        "    print(\"CLUSTER CHECKING\")\n",
        "    check_cluster(group_scores)\n",
        "    \n",
        "    print(\"SPECTROGRAM PLOT\")\n",
        "    plot_spectrogram(group_scores)\n",
        "\n",
        "def get_label(movies, df, is_encode = False):\n",
        "    movies[\"genres_list\"] = movies[\"genres\"].apply(lambda x: x.split(' '))\n",
        "    movie_genres = movies.explode(\"genres_list\")\n",
        "    gr = df.merge(movie_genres, on=\"movieId\").groupby([\"userId\", \"genres_list\"])[\"movieId\"].count().reset_index()\n",
        "    gr[\"rank\"] = gr.groupby(\"userId\")[\"movieId\"].rank(method='first', ascending=False)\n",
        "\n",
        "    labels = gr[gr[\"rank\"] ==1].set_index(\"userId\")\n",
        "    # labels[\"pred_max_ind\"] = np.argmax(group_scores, axis=1)\n",
        "\n",
        "    if is_encode:\n",
        "        label_enc = LabelEncoder()\n",
        "        labels[\"label\"] = label_enc.fit_transform(labels[\"genres_list\"])\n",
        "\n",
        "    return labels\n",
        "\n",
        "def feature_plot( movies, df, group_scores ):\n",
        "    tlabels = get_label(movies, df)\n",
        "\n",
        "    tsne = PCA(n_components=2, random_state=123)\n",
        "    # tsne = TSNE(n_components=2, random_state=123)\n",
        "    z = tsne.fit_transform(group_scores) \n",
        "\n",
        "    df = pd.DataFrame()\n",
        "    df[\"y\"] = tlabels[\"genres_list\"]\n",
        "    df[\"comp-1\"] = z[:,0]\n",
        "    df[\"comp-2\"] = z[:,1]\n",
        "\n",
        "    plt.rcParams[\"figure.figsize\"] = (8,8)\n",
        "    sns.scatterplot(x=\"comp-1\", y=\"comp-2\", hue=df.y.tolist(),\n",
        "                    palette=\"Paired\" ,#sns.color_palette(\"hls\", 3),\n",
        "                    data=df)#.set(title=\"Iris data T-SNE projection\") \n",
        "    plt.show()\n",
        "\n",
        "def check_cluster(group_scores):\n",
        "    # Kiểm tra số user trong mỗi cụm có bị vón cục\n",
        "    ugs= np.argmax(group_scores, axis=1)\n",
        "    for i in range(50):\n",
        "        print(i,': ', np.sum(ugs==i) )\n",
        "\n",
        "def plot_spectrogram(group_scores):\n",
        "    # Sort theo user_group + draw sigmoid/softmax layer\n",
        "    plt.rcParams[\"figure.figsize\"] = (10,10)\n",
        "    k =100\n",
        "    a = group_scores\n",
        "    ind = np.argmax(group_scores, axis=1)\n",
        "    plt.imshow( a[np.argsort(ind)][0:k] )\n",
        "    plt.show()\n"
      ]
    },
    {
      "cell_type": "code",
      "execution_count": 19,
      "metadata": {
        "id": "_cs4Ci70vrkA"
      },
      "outputs": [],
      "source": [
        "def model_plot(model, movies, df):\n",
        "    dfu, ttop_items = get_interaction_set( df\n",
        "                    , max_item = max_item\n",
        "                    , top_k_item = top_k_item )\n",
        "    group_scores = model.encoder(model._preprocess( [dfu[itemCol], dfu[\"y\"]], padding_size = wu_size )).numpy()\n",
        "    print(\"FEATURE PLOT\")\n",
        "    feature_plot( movies, df, group_scores)\n",
        "    "
      ]
    },
    {
      "cell_type": "markdown",
      "metadata": {
        "id": "xfUOMI8subTw"
      },
      "source": [
        "# Warm start user"
      ]
    },
    {
      "cell_type": "code",
      "execution_count": 20,
      "metadata": {
        "colab": {
          "base_uri": "https://localhost:8080/"
        },
        "id": "iQtBh9xFunkU",
        "outputId": "0c6f4f2d-a53b-4af9-e5af-a8feadb5e7fa"
      },
      "outputs": [
        {
          "output_type": "stream",
          "name": "stdout",
          "text": [
            "(32154, 4)\n",
            "CPU times: user 36.9 s, sys: 1.76 s, total: 38.7 s\n",
            "Wall time: 42.8 s\n"
          ]
        }
      ],
      "source": [
        "%%time\n",
        "u_train_from = 0\n",
        "u_train_to = u_train_from + 130000\n",
        "u_test = u_train_to + 5000\n",
        "\n",
        "def get_labeled_data(df):\n",
        "    interact_df, _ = get_interaction_set( \n",
        "                     df\n",
        "                    , max_item = max_item\n",
        "                    , top_k_item = top_k_item )\n",
        "    labels = get_label( movies, df, is_encode = True)\n",
        "    interact_df[\"label\"] = labels[\"label\"]\n",
        "    return interact_df[[\"movieId\",\"y\",\"label\"]]\n",
        "try:\n",
        "    train_warm\n",
        "except:\n",
        "    # if exists, do not rerun\n",
        "    train_warm =  get_labeled_data( train[(train[userCol]>u_train_from)&(train[userCol]<u_train_to)] )\n",
        "    train_warm[\"rating_num\"] = train_warm.apply(lambda x: len(x[\"y\"]), axis=1)\n",
        "    # pretrain with warm start user\n",
        "    train_warm = train_warm[train_warm[\"rating_num\"]>=100]\n",
        "\n",
        "print( train_warm.shape )"
      ]
    },
    {
      "cell_type": "code",
      "execution_count": 21,
      "metadata": {
        "id": "aGY_dv9cV3Br"
      },
      "outputs": [],
      "source": [
        "# x = train[[\"userId\", \"rating\"]].groupby(\"userId\").count()\n",
        "# x[\"rating_num_clip\"] = x[\"rating\"].clip(0, 700).apply(lambda x: int(x/20)*20)\n",
        "# x.groupby(\"rating_num_clip\").count().plot()"
      ]
    },
    {
      "cell_type": "code",
      "execution_count": 22,
      "metadata": {
        "id": "uFZiUT4FXHqn"
      },
      "outputs": [],
      "source": [
        "# x.groupby(\"rating_num_clip\").count()"
      ]
    },
    {
      "cell_type": "code",
      "execution_count": 23,
      "metadata": {
        "colab": {
          "base_uri": "https://localhost:8080/"
        },
        "id": "DE0hPo7UFNkV",
        "outputId": "b9c5b63b-302e-467b-dbe2-b9b008c0b769"
      },
      "outputs": [
        {
          "output_type": "execute_result",
          "data": {
            "text/plain": [
              "150"
            ]
          },
          "metadata": {},
          "execution_count": 23
        }
      ],
      "source": [
        "gc.collect()"
      ]
    },
    {
      "cell_type": "markdown",
      "metadata": {
        "id": "9wO4EX1_Z-h3"
      },
      "source": [
        "# supervised constrastive "
      ]
    },
    {
      "cell_type": "code",
      "execution_count": 24,
      "metadata": {
        "id": "hQ-pwUZafD__"
      },
      "outputs": [],
      "source": [
        "class SupervisedContrastiveLoss(tf.keras.losses.Loss):\n",
        "    def __init__(self, temperature=1, name=None):\n",
        "        super(SupervisedContrastiveLoss, self).__init__(name=name)\n",
        "        self.temperature = temperature\n",
        "\n",
        "    def __call__(self, labels, feature_vectors, sample_weight=None):\n",
        "        # Normalize feature vectors\n",
        "        feature_vectors_normalized = tf.math.l2_normalize(feature_vectors, axis=1)\n",
        "        # Compute logits\n",
        "        logits = tf.divide(\n",
        "            tf.matmul(\n",
        "                feature_vectors_normalized, tf.transpose(feature_vectors_normalized)\n",
        "            ),\n",
        "            self.temperature,\n",
        "        )\n",
        "        return tfa.losses.npairs_loss(tf.squeeze(labels), logits)"
      ]
    },
    {
      "cell_type": "code",
      "execution_count": 25,
      "metadata": {
        "id": "TbltflgfUmXf"
      },
      "outputs": [],
      "source": [
        "# Thực hiện training\n",
        "def _supervised_constrastive_train_step(self, inputs):\n",
        "    items_pd, ratings_pd, labels = inputs[\"movieId\"], inputs[\"y\"], inputs[\"label\"]\n",
        "    items, ratings = self._preprocess((items_pd, ratings_pd), wu_size)\n",
        "\n",
        "    with tf.GradientTape() as tape:\n",
        "        # Interaction embedding\n",
        "        vec = self.encoder([items, ratings])\n",
        "\n",
        "        average_loss = self.loss(labels, vec)\n",
        "\n",
        "    # Apply an optimization step\n",
        "    variables = self.trainable_variables \n",
        "    gradients = tape.gradient(average_loss, variables)\n",
        "    \n",
        "    # Gradient clipping\n",
        "    # gradients = [None if gradient is None else tf.clip_by_value(gradient, -0.1, 0.1)\n",
        "    #              for gradient in gradients]\n",
        "    self.optimizer.apply_gradients(zip(gradients, variables))\n",
        "\n",
        "    # Return a dict mapping metric names to current value\n",
        "    return {'batch_loss': average_loss}\n",
        "\n",
        "Efficient_Rec._supervised_constrastive_train_step = _supervised_constrastive_train_step"
      ]
    },
    {
      "cell_type": "code",
      "execution_count": 26,
      "metadata": {
        "id": "qSr05iptaPha"
      },
      "outputs": [],
      "source": [
        "# Thực hiện minibatch training\n",
        "def _spv_constrastive_train_minibatch_step(self, inputs, batch_size):\n",
        "    df = inputs.copy()\n",
        "    chunks = [df[i:i+batch_size] for i in range(0,df.shape[0],batch_size)]\n",
        "    losses = []\n",
        "    for chunk in chunks:\n",
        "        loss = self._supervised_constrastive_train_step(chunk)\n",
        "        losses.append(loss[\"batch_loss\"].numpy())\n",
        "        print(loss)\n",
        "        gc.collect()\n",
        "    return np.mean(losses)\n",
        "\n",
        "Efficient_Rec._spv_constrastive_train_minibatch_step = _spv_constrastive_train_minibatch_step"
      ]
    },
    {
      "cell_type": "code",
      "execution_count": 27,
      "metadata": {
        "id": "uBCoJlJMdB7y"
      },
      "outputs": [],
      "source": [
        "# Compile model\n",
        "model = Efficient_Rec( encoder = interaction_embedding(), \n",
        "                      wu_size = wu_size,\n",
        "                      use_tf_function=False)\n",
        "model.compile(\n",
        "    optimizer=tf.optimizers.Adam(learning_rate = 0.001),\n",
        "    loss= TripletSemiHardLoss() # SupervisedContrastiveLoss(temperature = 0.05),\n",
        ")"
      ]
    },
    {
      "cell_type": "code",
      "execution_count": null,
      "metadata": {
        "id": "It6_5yszGfK7"
      },
      "outputs": [],
      "source": [
        "# Load trained model\n",
        "latest = tf.train.latest_checkpoint(\"/content/gdrive/MyDrive/RECOMMENDER_STUDIES/data/\")\n",
        "model.encoder.load_weights(latest)\n",
        "test_set = train[(train[userCol]>15000)&(train[userCol]<20000)]\n",
        "model_plot(model, movies, test_set )"
      ]
    },
    {
      "cell_type": "code",
      "execution_count": 29,
      "metadata": {
        "id": "VoepslyXhaQx",
        "colab": {
          "base_uri": "https://localhost:8080/"
        },
        "outputId": "0a633253-d55a-4178-b41d-0d5ea0260a85"
      },
      "outputs": [
        {
          "output_type": "stream",
          "name": "stdout",
          "text": [
            "CPU times: user 3 µs, sys: 0 ns, total: 3 µs\n",
            "Wall time: 5.48 µs\n"
          ]
        }
      ],
      "source": [
        "%%time\n",
        "# Train new model\n",
        "# epochs= 6\n",
        "# test_set = train[(train[userCol]>15000)&(train[userCol]<20000)]\n",
        "# model_plot(model, movies, test_set )\n",
        "# for n in range(epochs):\n",
        "#   print(n, \"/\", epochs, \": \", model._spv_constrastive_train_minibatch_step(train_warm.sample(frac=1.), batch_size=512))\n",
        "#   model_plot(model, movies, test_set )\n",
        "#   gc.collect()"
      ]
    },
    {
      "cell_type": "code",
      "execution_count": 30,
      "metadata": {
        "id": "M9_P8ZBsFGJb"
      },
      "outputs": [],
      "source": [
        "model.encoder.save_weights(\"/content/gdrive/MyDrive/RECOMMENDER_STUDIES/data/encoder_v6\",save_format='tf')"
      ]
    },
    {
      "cell_type": "code",
      "execution_count": 31,
      "metadata": {
        "id": "ZZUCY20TSjFk"
      },
      "outputs": [],
      "source": [
        "# model_evaluate(model, movies, \n",
        "#                warm_up_mask[(warm_up_mask[userCol]>u_train_to)&(warm_up_mask[userCol]<=u_test)])"
      ]
    },
    {
      "cell_type": "markdown",
      "metadata": {
        "id": "CgfpZRoGF1KK"
      },
      "source": [
        "# Pick item pipeline"
      ]
    },
    {
      "cell_type": "code",
      "execution_count": 32,
      "metadata": {
        "id": "cwQnzbWCxd9u"
      },
      "outputs": [],
      "source": [
        "test_warm_up, test_mask = train_test_split(test, test_size= 0.5)"
      ]
    },
    {
      "cell_type": "code",
      "source": [
        "test_items = test.groupby(itemCol).count().sort_values(by=userCol, ascending=False).head(1000).index"
      ],
      "metadata": {
        "id": "qiobZsmFVxA8"
      },
      "execution_count": 33,
      "outputs": []
    },
    {
      "cell_type": "code",
      "execution_count": 34,
      "metadata": {
        "colab": {
          "base_uri": "https://localhost:8080/"
        },
        "id": "fQtrddWcEaoY",
        "outputId": "898f7b3b-b1a1-448a-c749-d6d90c022769"
      },
      "outputs": [
        {
          "output_type": "stream",
          "name": "stdout",
          "text": [
            "Get cluster duration:  3.9045166969299316\n",
            "Join interaction duration:  0.8713810443878174\n"
          ]
        },
        {
          "output_type": "stream",
          "name": "stderr",
          "text": [
            "  0%|          | 0/25 [00:00<?, ?it/s][Parallel(n_jobs=-1)]: Using backend LokyBackend with 2 concurrent workers.\n",
            "100%|██████████| 25/25 [00:18<00:00,  1.37it/s]\n",
            "[Parallel(n_jobs=-1)]: Done  25 out of  25 | elapsed:   20.3s finished\n"
          ]
        },
        {
          "output_type": "stream",
          "name": "stdout",
          "text": [
            "Chunk explode duration:  20.605602979660034\n",
            "Chunk explode duration:  0.01332545280456543\n",
            "Total duration:  25.3980815410614\n",
            "CPU times: user 8.9 s, sys: 605 ms, total: 9.5 s\n",
            "Wall time: 25.8 s\n"
          ]
        }
      ],
      "source": [
        "%%time \n",
        "# Item catalog of shortlist based in mesuable item in test (for evaluation process)\n",
        "model.get_shortlist( \n",
        "    ratings = train[ train[userCol].isin(train_warm.index) & train[itemCol].isin( test_items )],\n",
        "    interaction_list = train_warm,\n",
        "    limit = 50, \n",
        "    cluster_num = 5\n",
        ")"
      ]
    },
    {
      "cell_type": "code",
      "execution_count": 35,
      "metadata": {
        "id": "0EvrD1tOVkXD",
        "colab": {
          "base_uri": "https://localhost:8080/"
        },
        "outputId": "a5939d90-6d53-4067-adf0-a76e6f3872e0"
      },
      "outputs": [
        {
          "output_type": "execute_result",
          "data": {
            "text/plain": [
              "1232"
            ]
          },
          "metadata": {},
          "execution_count": 35
        }
      ],
      "source": [
        "gc.collect()"
      ]
    },
    {
      "cell_type": "code",
      "execution_count": 36,
      "metadata": {
        "id": "pO4O1LwBXrOl",
        "colab": {
          "base_uri": "https://localhost:8080/",
          "height": 419
        },
        "outputId": "b5c3d5aa-f720-46d0-fa36-491b04e0127c"
      },
      "outputs": [
        {
          "output_type": "execute_result",
          "data": {
            "text/plain": [
              "       clusters  movieId  contribute_score  rank\n",
              "27            0       50          0.716508  28.0\n",
              "100           0      296          0.732032  17.0\n",
              "103           0      306          0.743898   9.0\n",
              "104           0      307          0.717722  27.0\n",
              "109           0      318          0.798635   1.0\n",
              "...         ...      ...               ...   ...\n",
              "39240        42     7153          0.642912  48.0\n",
              "39268        42    27773          0.644806  45.0\n",
              "39272        42    30810          0.678977  17.0\n",
              "39304        42    48394          0.654859  31.0\n",
              "39324        42    58559          0.665237  25.0\n",
              "\n",
              "[2087 rows x 4 columns]"
            ],
            "text/html": [
              "\n",
              "  <div id=\"df-43116e6b-a4f1-4266-b1be-b8165df38f12\">\n",
              "    <div class=\"colab-df-container\">\n",
              "      <div>\n",
              "<style scoped>\n",
              "    .dataframe tbody tr th:only-of-type {\n",
              "        vertical-align: middle;\n",
              "    }\n",
              "\n",
              "    .dataframe tbody tr th {\n",
              "        vertical-align: top;\n",
              "    }\n",
              "\n",
              "    .dataframe thead th {\n",
              "        text-align: right;\n",
              "    }\n",
              "</style>\n",
              "<table border=\"1\" class=\"dataframe\">\n",
              "  <thead>\n",
              "    <tr style=\"text-align: right;\">\n",
              "      <th></th>\n",
              "      <th>clusters</th>\n",
              "      <th>movieId</th>\n",
              "      <th>contribute_score</th>\n",
              "      <th>rank</th>\n",
              "    </tr>\n",
              "  </thead>\n",
              "  <tbody>\n",
              "    <tr>\n",
              "      <th>27</th>\n",
              "      <td>0</td>\n",
              "      <td>50</td>\n",
              "      <td>0.716508</td>\n",
              "      <td>28.0</td>\n",
              "    </tr>\n",
              "    <tr>\n",
              "      <th>100</th>\n",
              "      <td>0</td>\n",
              "      <td>296</td>\n",
              "      <td>0.732032</td>\n",
              "      <td>17.0</td>\n",
              "    </tr>\n",
              "    <tr>\n",
              "      <th>103</th>\n",
              "      <td>0</td>\n",
              "      <td>306</td>\n",
              "      <td>0.743898</td>\n",
              "      <td>9.0</td>\n",
              "    </tr>\n",
              "    <tr>\n",
              "      <th>104</th>\n",
              "      <td>0</td>\n",
              "      <td>307</td>\n",
              "      <td>0.717722</td>\n",
              "      <td>27.0</td>\n",
              "    </tr>\n",
              "    <tr>\n",
              "      <th>109</th>\n",
              "      <td>0</td>\n",
              "      <td>318</td>\n",
              "      <td>0.798635</td>\n",
              "      <td>1.0</td>\n",
              "    </tr>\n",
              "    <tr>\n",
              "      <th>...</th>\n",
              "      <td>...</td>\n",
              "      <td>...</td>\n",
              "      <td>...</td>\n",
              "      <td>...</td>\n",
              "    </tr>\n",
              "    <tr>\n",
              "      <th>39240</th>\n",
              "      <td>42</td>\n",
              "      <td>7153</td>\n",
              "      <td>0.642912</td>\n",
              "      <td>48.0</td>\n",
              "    </tr>\n",
              "    <tr>\n",
              "      <th>39268</th>\n",
              "      <td>42</td>\n",
              "      <td>27773</td>\n",
              "      <td>0.644806</td>\n",
              "      <td>45.0</td>\n",
              "    </tr>\n",
              "    <tr>\n",
              "      <th>39272</th>\n",
              "      <td>42</td>\n",
              "      <td>30810</td>\n",
              "      <td>0.678977</td>\n",
              "      <td>17.0</td>\n",
              "    </tr>\n",
              "    <tr>\n",
              "      <th>39304</th>\n",
              "      <td>42</td>\n",
              "      <td>48394</td>\n",
              "      <td>0.654859</td>\n",
              "      <td>31.0</td>\n",
              "    </tr>\n",
              "    <tr>\n",
              "      <th>39324</th>\n",
              "      <td>42</td>\n",
              "      <td>58559</td>\n",
              "      <td>0.665237</td>\n",
              "      <td>25.0</td>\n",
              "    </tr>\n",
              "  </tbody>\n",
              "</table>\n",
              "<p>2087 rows × 4 columns</p>\n",
              "</div>\n",
              "      <button class=\"colab-df-convert\" onclick=\"convertToInteractive('df-43116e6b-a4f1-4266-b1be-b8165df38f12')\"\n",
              "              title=\"Convert this dataframe to an interactive table.\"\n",
              "              style=\"display:none;\">\n",
              "        \n",
              "  <svg xmlns=\"http://www.w3.org/2000/svg\" height=\"24px\"viewBox=\"0 0 24 24\"\n",
              "       width=\"24px\">\n",
              "    <path d=\"M0 0h24v24H0V0z\" fill=\"none\"/>\n",
              "    <path d=\"M18.56 5.44l.94 2.06.94-2.06 2.06-.94-2.06-.94-.94-2.06-.94 2.06-2.06.94zm-11 1L8.5 8.5l.94-2.06 2.06-.94-2.06-.94L8.5 2.5l-.94 2.06-2.06.94zm10 10l.94 2.06.94-2.06 2.06-.94-2.06-.94-.94-2.06-.94 2.06-2.06.94z\"/><path d=\"M17.41 7.96l-1.37-1.37c-.4-.4-.92-.59-1.43-.59-.52 0-1.04.2-1.43.59L10.3 9.45l-7.72 7.72c-.78.78-.78 2.05 0 2.83L4 21.41c.39.39.9.59 1.41.59.51 0 1.02-.2 1.41-.59l7.78-7.78 2.81-2.81c.8-.78.8-2.07 0-2.86zM5.41 20L4 18.59l7.72-7.72 1.47 1.35L5.41 20z\"/>\n",
              "  </svg>\n",
              "      </button>\n",
              "      \n",
              "  <style>\n",
              "    .colab-df-container {\n",
              "      display:flex;\n",
              "      flex-wrap:wrap;\n",
              "      gap: 12px;\n",
              "    }\n",
              "\n",
              "    .colab-df-convert {\n",
              "      background-color: #E8F0FE;\n",
              "      border: none;\n",
              "      border-radius: 50%;\n",
              "      cursor: pointer;\n",
              "      display: none;\n",
              "      fill: #1967D2;\n",
              "      height: 32px;\n",
              "      padding: 0 0 0 0;\n",
              "      width: 32px;\n",
              "    }\n",
              "\n",
              "    .colab-df-convert:hover {\n",
              "      background-color: #E2EBFA;\n",
              "      box-shadow: 0px 1px 2px rgba(60, 64, 67, 0.3), 0px 1px 3px 1px rgba(60, 64, 67, 0.15);\n",
              "      fill: #174EA6;\n",
              "    }\n",
              "\n",
              "    [theme=dark] .colab-df-convert {\n",
              "      background-color: #3B4455;\n",
              "      fill: #D2E3FC;\n",
              "    }\n",
              "\n",
              "    [theme=dark] .colab-df-convert:hover {\n",
              "      background-color: #434B5C;\n",
              "      box-shadow: 0px 1px 3px 1px rgba(0, 0, 0, 0.15);\n",
              "      filter: drop-shadow(0px 1px 2px rgba(0, 0, 0, 0.3));\n",
              "      fill: #FFFFFF;\n",
              "    }\n",
              "  </style>\n",
              "\n",
              "      <script>\n",
              "        const buttonEl =\n",
              "          document.querySelector('#df-43116e6b-a4f1-4266-b1be-b8165df38f12 button.colab-df-convert');\n",
              "        buttonEl.style.display =\n",
              "          google.colab.kernel.accessAllowed ? 'block' : 'none';\n",
              "\n",
              "        async function convertToInteractive(key) {\n",
              "          const element = document.querySelector('#df-43116e6b-a4f1-4266-b1be-b8165df38f12');\n",
              "          const dataTable =\n",
              "            await google.colab.kernel.invokeFunction('convertToInteractive',\n",
              "                                                     [key], {});\n",
              "          if (!dataTable) return;\n",
              "\n",
              "          const docLinkHtml = 'Like what you see? Visit the ' +\n",
              "            '<a target=\"_blank\" href=https://colab.research.google.com/notebooks/data_table.ipynb>data table notebook</a>'\n",
              "            + ' to learn more about interactive tables.';\n",
              "          element.innerHTML = '';\n",
              "          dataTable['output_type'] = 'display_data';\n",
              "          await google.colab.output.renderOutput(dataTable, element);\n",
              "          const docLink = document.createElement('div');\n",
              "          docLink.innerHTML = docLinkHtml;\n",
              "          element.appendChild(docLink);\n",
              "        }\n",
              "      </script>\n",
              "    </div>\n",
              "  </div>\n",
              "  "
            ]
          },
          "metadata": {},
          "execution_count": 36
        }
      ],
      "source": [
        "model.shortlist"
      ]
    },
    {
      "cell_type": "code",
      "execution_count": 37,
      "metadata": {
        "id": "a1MUU9bdHQAP",
        "colab": {
          "base_uri": "https://localhost:8080/"
        },
        "outputId": "ab0a35ef-9b12-43c5-b9cd-10acd8f3cd0a"
      },
      "outputs": [
        {
          "output_type": "stream",
          "name": "stdout",
          "text": [
            "historical_ratings shape  (3488421, 5)\n",
            "Get cluster for user duration:  18.35366415977478\n",
            "wu shape  (242365, 3)\n",
            "user_num  48473\n",
            "Prepare to join duration:  1.1198077201843262\n"
          ]
        },
        {
          "output_type": "stream",
          "name": "stderr",
          "text": [
            "\r0it [00:00, ?it/s]"
          ]
        },
        {
          "output_type": "stream",
          "name": "stdout",
          "text": [
            "wu = chunk.merge(shortlist, on=\"clusters\", how='inner') : wu shape:  (868437, 6)\n"
          ]
        },
        {
          "output_type": "stream",
          "name": "stderr",
          "text": [
            "[Parallel(n_jobs=-1)]: Using backend ThreadingBackend with 2 concurrent workers.\n"
          ]
        },
        {
          "output_type": "stream",
          "name": "stdout",
          "text": [
            "wu = chunk.merge(shortlist, on=\"clusters\", how='inner') : wu shape:  (910200, 6)\n",
            "after reduce wu shape:  (281542, 3)\n",
            "reduce duration:  98.5161292552948\n",
            "after reduce wu shape:  (292546, 3)\n",
            "reduce duration:  106.51985120773315\n",
            "after remove interacted wu shape:  (260659, 3)\n",
            "remove interacted item duration:  8.481445074081421\n"
          ]
        },
        {
          "output_type": "stream",
          "name": "stderr",
          "text": [
            "5it [01:51, 22.25s/it]"
          ]
        },
        {
          "output_type": "stream",
          "name": "stdout",
          "text": [
            "all chunk processing time duration:  111.22775745391846\n"
          ]
        },
        {
          "output_type": "stream",
          "name": "stderr",
          "text": [
            "\n"
          ]
        },
        {
          "output_type": "stream",
          "name": "stdout",
          "text": [
            "after remove interacted wu shape:  (271286, 3)\n",
            "remove interacted item duration:  5.949856519699097\n",
            "wu = chunk.merge(shortlist, on=\"clusters\", how='inner') : wu shape:  (926200, 6)\n",
            "all chunk processing time duration:  114.15825366973877\n",
            "wu = chunk.merge(shortlist, on=\"clusters\", how='inner') : wu shape:  (884500, 6)\n",
            "after reduce wu shape:  (284527, 3)\n",
            "reduce duration:  85.45140862464905\n",
            "after reduce wu shape:  (299370, 3)\n",
            "reduce duration:  88.77213168144226\n",
            "after remove interacted wu shape:  (264283, 3)\n",
            "remove interacted item duration:  11.44455885887146\n",
            "after remove interacted wu shape:  (277367, 3)\n",
            "remove interacted item duration:  11.188748598098755\n",
            "all chunk processing time duration:  97.0539026260376\n",
            "wu = chunk.merge(shortlist, on=\"clusters\", how='inner') : wu shape:  (904487, 6)\n",
            "all chunk processing time duration:  101.63033103942871\n",
            "after reduce wu shape:  (294062, 3)\n",
            "reduce duration:  41.64566159248352\n",
            "after remove interacted wu shape:  (273044, 3)\n",
            "remove interacted item duration:  5.709436893463135\n",
            "all chunk processing time duration:  47.436241149902344\n"
          ]
        },
        {
          "output_type": "stream",
          "name": "stderr",
          "text": [
            "[Parallel(n_jobs=-1)]: Done   5 out of   5 | elapsed:  4.3min finished\n"
          ]
        },
        {
          "output_type": "stream",
          "name": "stdout",
          "text": [
            "Join duration:  259.1402883529663\n",
            "Total duration:  278.6308798789978\n",
            "CPU times: user 4min 41s, sys: 18.2 s, total: 4min 59s\n",
            "Wall time: 4min 38s\n"
          ]
        }
      ],
      "source": [
        "%%time \n",
        "top_k = 50\n",
        "\n",
        "y_pred = model.batch_get_recommend(\n",
        "        historical_ratings= test_warm_up, \n",
        "        top_k = top_k, is_remove_interacted = True, \n",
        "        batch_size= 1024*10,\n",
        "        reduce_method=\"mean\", \n",
        "        cluster_num= 5, \n",
        "        using_rapids= False\n",
        "    )"
      ]
    },
    {
      "cell_type": "code",
      "execution_count": 38,
      "metadata": {
        "id": "wFw_92XSRg3a",
        "colab": {
          "base_uri": "https://localhost:8080/"
        },
        "outputId": "6981c3b2-f4a3-4212-bab6-81f89ae31705"
      },
      "outputs": [
        {
          "output_type": "execute_result",
          "data": {
            "text/plain": [
              "50"
            ]
          },
          "metadata": {},
          "execution_count": 38
        }
      ],
      "source": [
        "gc.collect()"
      ]
    },
    {
      "cell_type": "code",
      "source": [
        "y_pred"
      ],
      "metadata": {
        "colab": {
          "base_uri": "https://localhost:8080/",
          "height": 419
        },
        "id": "9uEbFU-UEgxQ",
        "outputId": "5e86d6fe-7a0b-4b63-eed0-054aef2dd578"
      },
      "execution_count": 39,
      "outputs": [
        {
          "output_type": "execute_result",
          "data": {
            "text/plain": [
              "        userId  movieId  matched_score  rank\n",
              "1           10       50       0.748056  41.0\n",
              "2           10      194       0.796426  18.0\n",
              "3           10      232       0.962821   7.0\n",
              "4           10      260       0.732365  50.0\n",
              "5           10      280       0.881090   8.0\n",
              "...        ...      ...            ...   ...\n",
              "294057   51198     6016       0.724854  18.0\n",
              "294058   51198     7153       0.727283  15.0\n",
              "294059   51198    44555       0.719642  28.0\n",
              "294060   51198    58559       0.721043  24.0\n",
              "294061   51198    79132       0.709064  48.0\n",
              "\n",
              "[887820 rows x 4 columns]"
            ],
            "text/html": [
              "\n",
              "  <div id=\"df-aba58f7e-a89a-420e-a1ca-de4c99b0665d\">\n",
              "    <div class=\"colab-df-container\">\n",
              "      <div>\n",
              "<style scoped>\n",
              "    .dataframe tbody tr th:only-of-type {\n",
              "        vertical-align: middle;\n",
              "    }\n",
              "\n",
              "    .dataframe tbody tr th {\n",
              "        vertical-align: top;\n",
              "    }\n",
              "\n",
              "    .dataframe thead th {\n",
              "        text-align: right;\n",
              "    }\n",
              "</style>\n",
              "<table border=\"1\" class=\"dataframe\">\n",
              "  <thead>\n",
              "    <tr style=\"text-align: right;\">\n",
              "      <th></th>\n",
              "      <th>userId</th>\n",
              "      <th>movieId</th>\n",
              "      <th>matched_score</th>\n",
              "      <th>rank</th>\n",
              "    </tr>\n",
              "  </thead>\n",
              "  <tbody>\n",
              "    <tr>\n",
              "      <th>1</th>\n",
              "      <td>10</td>\n",
              "      <td>50</td>\n",
              "      <td>0.748056</td>\n",
              "      <td>41.0</td>\n",
              "    </tr>\n",
              "    <tr>\n",
              "      <th>2</th>\n",
              "      <td>10</td>\n",
              "      <td>194</td>\n",
              "      <td>0.796426</td>\n",
              "      <td>18.0</td>\n",
              "    </tr>\n",
              "    <tr>\n",
              "      <th>3</th>\n",
              "      <td>10</td>\n",
              "      <td>232</td>\n",
              "      <td>0.962821</td>\n",
              "      <td>7.0</td>\n",
              "    </tr>\n",
              "    <tr>\n",
              "      <th>4</th>\n",
              "      <td>10</td>\n",
              "      <td>260</td>\n",
              "      <td>0.732365</td>\n",
              "      <td>50.0</td>\n",
              "    </tr>\n",
              "    <tr>\n",
              "      <th>5</th>\n",
              "      <td>10</td>\n",
              "      <td>280</td>\n",
              "      <td>0.881090</td>\n",
              "      <td>8.0</td>\n",
              "    </tr>\n",
              "    <tr>\n",
              "      <th>...</th>\n",
              "      <td>...</td>\n",
              "      <td>...</td>\n",
              "      <td>...</td>\n",
              "      <td>...</td>\n",
              "    </tr>\n",
              "    <tr>\n",
              "      <th>294057</th>\n",
              "      <td>51198</td>\n",
              "      <td>6016</td>\n",
              "      <td>0.724854</td>\n",
              "      <td>18.0</td>\n",
              "    </tr>\n",
              "    <tr>\n",
              "      <th>294058</th>\n",
              "      <td>51198</td>\n",
              "      <td>7153</td>\n",
              "      <td>0.727283</td>\n",
              "      <td>15.0</td>\n",
              "    </tr>\n",
              "    <tr>\n",
              "      <th>294059</th>\n",
              "      <td>51198</td>\n",
              "      <td>44555</td>\n",
              "      <td>0.719642</td>\n",
              "      <td>28.0</td>\n",
              "    </tr>\n",
              "    <tr>\n",
              "      <th>294060</th>\n",
              "      <td>51198</td>\n",
              "      <td>58559</td>\n",
              "      <td>0.721043</td>\n",
              "      <td>24.0</td>\n",
              "    </tr>\n",
              "    <tr>\n",
              "      <th>294061</th>\n",
              "      <td>51198</td>\n",
              "      <td>79132</td>\n",
              "      <td>0.709064</td>\n",
              "      <td>48.0</td>\n",
              "    </tr>\n",
              "  </tbody>\n",
              "</table>\n",
              "<p>887820 rows × 4 columns</p>\n",
              "</div>\n",
              "      <button class=\"colab-df-convert\" onclick=\"convertToInteractive('df-aba58f7e-a89a-420e-a1ca-de4c99b0665d')\"\n",
              "              title=\"Convert this dataframe to an interactive table.\"\n",
              "              style=\"display:none;\">\n",
              "        \n",
              "  <svg xmlns=\"http://www.w3.org/2000/svg\" height=\"24px\"viewBox=\"0 0 24 24\"\n",
              "       width=\"24px\">\n",
              "    <path d=\"M0 0h24v24H0V0z\" fill=\"none\"/>\n",
              "    <path d=\"M18.56 5.44l.94 2.06.94-2.06 2.06-.94-2.06-.94-.94-2.06-.94 2.06-2.06.94zm-11 1L8.5 8.5l.94-2.06 2.06-.94-2.06-.94L8.5 2.5l-.94 2.06-2.06.94zm10 10l.94 2.06.94-2.06 2.06-.94-2.06-.94-.94-2.06-.94 2.06-2.06.94z\"/><path d=\"M17.41 7.96l-1.37-1.37c-.4-.4-.92-.59-1.43-.59-.52 0-1.04.2-1.43.59L10.3 9.45l-7.72 7.72c-.78.78-.78 2.05 0 2.83L4 21.41c.39.39.9.59 1.41.59.51 0 1.02-.2 1.41-.59l7.78-7.78 2.81-2.81c.8-.78.8-2.07 0-2.86zM5.41 20L4 18.59l7.72-7.72 1.47 1.35L5.41 20z\"/>\n",
              "  </svg>\n",
              "      </button>\n",
              "      \n",
              "  <style>\n",
              "    .colab-df-container {\n",
              "      display:flex;\n",
              "      flex-wrap:wrap;\n",
              "      gap: 12px;\n",
              "    }\n",
              "\n",
              "    .colab-df-convert {\n",
              "      background-color: #E8F0FE;\n",
              "      border: none;\n",
              "      border-radius: 50%;\n",
              "      cursor: pointer;\n",
              "      display: none;\n",
              "      fill: #1967D2;\n",
              "      height: 32px;\n",
              "      padding: 0 0 0 0;\n",
              "      width: 32px;\n",
              "    }\n",
              "\n",
              "    .colab-df-convert:hover {\n",
              "      background-color: #E2EBFA;\n",
              "      box-shadow: 0px 1px 2px rgba(60, 64, 67, 0.3), 0px 1px 3px 1px rgba(60, 64, 67, 0.15);\n",
              "      fill: #174EA6;\n",
              "    }\n",
              "\n",
              "    [theme=dark] .colab-df-convert {\n",
              "      background-color: #3B4455;\n",
              "      fill: #D2E3FC;\n",
              "    }\n",
              "\n",
              "    [theme=dark] .colab-df-convert:hover {\n",
              "      background-color: #434B5C;\n",
              "      box-shadow: 0px 1px 3px 1px rgba(0, 0, 0, 0.15);\n",
              "      filter: drop-shadow(0px 1px 2px rgba(0, 0, 0, 0.3));\n",
              "      fill: #FFFFFF;\n",
              "    }\n",
              "  </style>\n",
              "\n",
              "      <script>\n",
              "        const buttonEl =\n",
              "          document.querySelector('#df-aba58f7e-a89a-420e-a1ca-de4c99b0665d button.colab-df-convert');\n",
              "        buttonEl.style.display =\n",
              "          google.colab.kernel.accessAllowed ? 'block' : 'none';\n",
              "\n",
              "        async function convertToInteractive(key) {\n",
              "          const element = document.querySelector('#df-aba58f7e-a89a-420e-a1ca-de4c99b0665d');\n",
              "          const dataTable =\n",
              "            await google.colab.kernel.invokeFunction('convertToInteractive',\n",
              "                                                     [key], {});\n",
              "          if (!dataTable) return;\n",
              "\n",
              "          const docLinkHtml = 'Like what you see? Visit the ' +\n",
              "            '<a target=\"_blank\" href=https://colab.research.google.com/notebooks/data_table.ipynb>data table notebook</a>'\n",
              "            + ' to learn more about interactive tables.';\n",
              "          element.innerHTML = '';\n",
              "          dataTable['output_type'] = 'display_data';\n",
              "          await google.colab.output.renderOutput(dataTable, element);\n",
              "          const docLink = document.createElement('div');\n",
              "          docLink.innerHTML = docLinkHtml;\n",
              "          element.appendChild(docLink);\n",
              "        }\n",
              "      </script>\n",
              "    </div>\n",
              "  </div>\n",
              "  "
            ]
          },
          "metadata": {},
          "execution_count": 39
        }
      ]
    },
    {
      "cell_type": "code",
      "execution_count": 40,
      "metadata": {
        "id": "c8yrKhc16vyM",
        "colab": {
          "base_uri": "https://localhost:8080/"
        },
        "outputId": "97b41b81-6e3f-4859-d970-de7ccfa5bf58"
      },
      "outputs": [
        {
          "output_type": "execute_result",
          "data": {
            "text/plain": [
              "49.38918558077437"
            ]
          },
          "metadata": {},
          "execution_count": 40
        }
      ],
      "source": [
        "y_pred.shape[0]/y_pred[userCol].drop_duplicates().shape[0]"
      ]
    },
    {
      "cell_type": "code",
      "execution_count": 41,
      "metadata": {
        "id": "_IRQdUmSRJkA"
      },
      "outputs": [],
      "source": [
        "y_true = test\n",
        "y_true[\"is_fav\"] = y_true[\"rating\"].apply(lambda x: 1 if x>2.5 else 0)"
      ]
    },
    {
      "cell_type": "code",
      "source": [
        "y_true"
      ],
      "metadata": {
        "id": "4sWTAK2-dYbT",
        "outputId": "51d395a9-3110-42af-9269-3e6b79f5e319",
        "colab": {
          "base_uri": "https://localhost:8080/",
          "height": 419
        }
      },
      "execution_count": 42,
      "outputs": [
        {
          "output_type": "execute_result",
          "data": {
            "text/plain": [
              "          userId  movieId  rating   timestamp    y  is_fav\n",
              "922           10        1     4.0   943497887  0.6       1\n",
              "923           10       11     4.0   943497660  0.6       1\n",
              "924           10       25     4.0   943497660  0.6       1\n",
              "925           10      260     4.0   943497376  0.6       1\n",
              "926           10      356     3.0   943497122  0.2       1\n",
              "...          ...      ...     ...         ...  ...     ...\n",
              "19999885  138492     8376     4.5  1115351058  0.8       1\n",
              "19999886  138492     8623     3.5  1115351368  0.4       1\n",
              "19999887  138492     8784     5.0  1115296793  1.0       1\n",
              "19999888  138492     8807     4.0  1115351064  0.6       1\n",
              "19999889  138492     8949     5.0  1115296786  1.0       1\n",
              "\n",
              "[6976842 rows x 6 columns]"
            ],
            "text/html": [
              "\n",
              "  <div id=\"df-9a9271ef-3d86-485d-a457-8ba61a2ed433\">\n",
              "    <div class=\"colab-df-container\">\n",
              "      <div>\n",
              "<style scoped>\n",
              "    .dataframe tbody tr th:only-of-type {\n",
              "        vertical-align: middle;\n",
              "    }\n",
              "\n",
              "    .dataframe tbody tr th {\n",
              "        vertical-align: top;\n",
              "    }\n",
              "\n",
              "    .dataframe thead th {\n",
              "        text-align: right;\n",
              "    }\n",
              "</style>\n",
              "<table border=\"1\" class=\"dataframe\">\n",
              "  <thead>\n",
              "    <tr style=\"text-align: right;\">\n",
              "      <th></th>\n",
              "      <th>userId</th>\n",
              "      <th>movieId</th>\n",
              "      <th>rating</th>\n",
              "      <th>timestamp</th>\n",
              "      <th>y</th>\n",
              "      <th>is_fav</th>\n",
              "    </tr>\n",
              "  </thead>\n",
              "  <tbody>\n",
              "    <tr>\n",
              "      <th>922</th>\n",
              "      <td>10</td>\n",
              "      <td>1</td>\n",
              "      <td>4.0</td>\n",
              "      <td>943497887</td>\n",
              "      <td>0.6</td>\n",
              "      <td>1</td>\n",
              "    </tr>\n",
              "    <tr>\n",
              "      <th>923</th>\n",
              "      <td>10</td>\n",
              "      <td>11</td>\n",
              "      <td>4.0</td>\n",
              "      <td>943497660</td>\n",
              "      <td>0.6</td>\n",
              "      <td>1</td>\n",
              "    </tr>\n",
              "    <tr>\n",
              "      <th>924</th>\n",
              "      <td>10</td>\n",
              "      <td>25</td>\n",
              "      <td>4.0</td>\n",
              "      <td>943497660</td>\n",
              "      <td>0.6</td>\n",
              "      <td>1</td>\n",
              "    </tr>\n",
              "    <tr>\n",
              "      <th>925</th>\n",
              "      <td>10</td>\n",
              "      <td>260</td>\n",
              "      <td>4.0</td>\n",
              "      <td>943497376</td>\n",
              "      <td>0.6</td>\n",
              "      <td>1</td>\n",
              "    </tr>\n",
              "    <tr>\n",
              "      <th>926</th>\n",
              "      <td>10</td>\n",
              "      <td>356</td>\n",
              "      <td>3.0</td>\n",
              "      <td>943497122</td>\n",
              "      <td>0.2</td>\n",
              "      <td>1</td>\n",
              "    </tr>\n",
              "    <tr>\n",
              "      <th>...</th>\n",
              "      <td>...</td>\n",
              "      <td>...</td>\n",
              "      <td>...</td>\n",
              "      <td>...</td>\n",
              "      <td>...</td>\n",
              "      <td>...</td>\n",
              "    </tr>\n",
              "    <tr>\n",
              "      <th>19999885</th>\n",
              "      <td>138492</td>\n",
              "      <td>8376</td>\n",
              "      <td>4.5</td>\n",
              "      <td>1115351058</td>\n",
              "      <td>0.8</td>\n",
              "      <td>1</td>\n",
              "    </tr>\n",
              "    <tr>\n",
              "      <th>19999886</th>\n",
              "      <td>138492</td>\n",
              "      <td>8623</td>\n",
              "      <td>3.5</td>\n",
              "      <td>1115351368</td>\n",
              "      <td>0.4</td>\n",
              "      <td>1</td>\n",
              "    </tr>\n",
              "    <tr>\n",
              "      <th>19999887</th>\n",
              "      <td>138492</td>\n",
              "      <td>8784</td>\n",
              "      <td>5.0</td>\n",
              "      <td>1115296793</td>\n",
              "      <td>1.0</td>\n",
              "      <td>1</td>\n",
              "    </tr>\n",
              "    <tr>\n",
              "      <th>19999888</th>\n",
              "      <td>138492</td>\n",
              "      <td>8807</td>\n",
              "      <td>4.0</td>\n",
              "      <td>1115351064</td>\n",
              "      <td>0.6</td>\n",
              "      <td>1</td>\n",
              "    </tr>\n",
              "    <tr>\n",
              "      <th>19999889</th>\n",
              "      <td>138492</td>\n",
              "      <td>8949</td>\n",
              "      <td>5.0</td>\n",
              "      <td>1115296786</td>\n",
              "      <td>1.0</td>\n",
              "      <td>1</td>\n",
              "    </tr>\n",
              "  </tbody>\n",
              "</table>\n",
              "<p>6976842 rows × 6 columns</p>\n",
              "</div>\n",
              "      <button class=\"colab-df-convert\" onclick=\"convertToInteractive('df-9a9271ef-3d86-485d-a457-8ba61a2ed433')\"\n",
              "              title=\"Convert this dataframe to an interactive table.\"\n",
              "              style=\"display:none;\">\n",
              "        \n",
              "  <svg xmlns=\"http://www.w3.org/2000/svg\" height=\"24px\"viewBox=\"0 0 24 24\"\n",
              "       width=\"24px\">\n",
              "    <path d=\"M0 0h24v24H0V0z\" fill=\"none\"/>\n",
              "    <path d=\"M18.56 5.44l.94 2.06.94-2.06 2.06-.94-2.06-.94-.94-2.06-.94 2.06-2.06.94zm-11 1L8.5 8.5l.94-2.06 2.06-.94-2.06-.94L8.5 2.5l-.94 2.06-2.06.94zm10 10l.94 2.06.94-2.06 2.06-.94-2.06-.94-.94-2.06-.94 2.06-2.06.94z\"/><path d=\"M17.41 7.96l-1.37-1.37c-.4-.4-.92-.59-1.43-.59-.52 0-1.04.2-1.43.59L10.3 9.45l-7.72 7.72c-.78.78-.78 2.05 0 2.83L4 21.41c.39.39.9.59 1.41.59.51 0 1.02-.2 1.41-.59l7.78-7.78 2.81-2.81c.8-.78.8-2.07 0-2.86zM5.41 20L4 18.59l7.72-7.72 1.47 1.35L5.41 20z\"/>\n",
              "  </svg>\n",
              "      </button>\n",
              "      \n",
              "  <style>\n",
              "    .colab-df-container {\n",
              "      display:flex;\n",
              "      flex-wrap:wrap;\n",
              "      gap: 12px;\n",
              "    }\n",
              "\n",
              "    .colab-df-convert {\n",
              "      background-color: #E8F0FE;\n",
              "      border: none;\n",
              "      border-radius: 50%;\n",
              "      cursor: pointer;\n",
              "      display: none;\n",
              "      fill: #1967D2;\n",
              "      height: 32px;\n",
              "      padding: 0 0 0 0;\n",
              "      width: 32px;\n",
              "    }\n",
              "\n",
              "    .colab-df-convert:hover {\n",
              "      background-color: #E2EBFA;\n",
              "      box-shadow: 0px 1px 2px rgba(60, 64, 67, 0.3), 0px 1px 3px 1px rgba(60, 64, 67, 0.15);\n",
              "      fill: #174EA6;\n",
              "    }\n",
              "\n",
              "    [theme=dark] .colab-df-convert {\n",
              "      background-color: #3B4455;\n",
              "      fill: #D2E3FC;\n",
              "    }\n",
              "\n",
              "    [theme=dark] .colab-df-convert:hover {\n",
              "      background-color: #434B5C;\n",
              "      box-shadow: 0px 1px 3px 1px rgba(0, 0, 0, 0.15);\n",
              "      filter: drop-shadow(0px 1px 2px rgba(0, 0, 0, 0.3));\n",
              "      fill: #FFFFFF;\n",
              "    }\n",
              "  </style>\n",
              "\n",
              "      <script>\n",
              "        const buttonEl =\n",
              "          document.querySelector('#df-9a9271ef-3d86-485d-a457-8ba61a2ed433 button.colab-df-convert');\n",
              "        buttonEl.style.display =\n",
              "          google.colab.kernel.accessAllowed ? 'block' : 'none';\n",
              "\n",
              "        async function convertToInteractive(key) {\n",
              "          const element = document.querySelector('#df-9a9271ef-3d86-485d-a457-8ba61a2ed433');\n",
              "          const dataTable =\n",
              "            await google.colab.kernel.invokeFunction('convertToInteractive',\n",
              "                                                     [key], {});\n",
              "          if (!dataTable) return;\n",
              "\n",
              "          const docLinkHtml = 'Like what you see? Visit the ' +\n",
              "            '<a target=\"_blank\" href=https://colab.research.google.com/notebooks/data_table.ipynb>data table notebook</a>'\n",
              "            + ' to learn more about interactive tables.';\n",
              "          element.innerHTML = '';\n",
              "          dataTable['output_type'] = 'display_data';\n",
              "          await google.colab.output.renderOutput(dataTable, element);\n",
              "          const docLink = document.createElement('div');\n",
              "          docLink.innerHTML = docLinkHtml;\n",
              "          element.appendChild(docLink);\n",
              "        }\n",
              "      </script>\n",
              "    </div>\n",
              "  </div>\n",
              "  "
            ]
          },
          "metadata": {},
          "execution_count": 42
        }
      ]
    },
    {
      "cell_type": "code",
      "execution_count": 43,
      "metadata": {
        "id": "MWcFUMZ0KoSm"
      },
      "outputs": [],
      "source": [
        "def evaluate_model(y_true, y_pred):\n",
        "    \"\"\"\n",
        "    y_true: dataframe: user_id, item_id, is_fav (1 true, 0 false)\n",
        "    y_pred: dataframe: user_id, item_id\n",
        "    return:\n",
        "    precision@k, recall@k\n",
        "    \"\"\"\n",
        "    y_pred2 = y_pred.copy()\n",
        "    y_pred2[\"is_rec\"] = 1\n",
        "    y_true2 = y_true.copy()\n",
        "\n",
        "    total1 = y_true2.merge(y_pred2, on=[userCol, itemCol], how = 'left')\n",
        "    total1[\"rec_fav\"] = total1[\"is_rec\"].fillna(0) * total1[\"is_fav\"]\n",
        "\n",
        "    # Precision\n",
        "    p = total1[\"rec_fav\"].sum() / total1[\"is_rec\"].sum()\n",
        "\n",
        "    # Recall\n",
        "    r = total1[\"rec_fav\"].sum() / total1[\"is_fav\"].sum()\n",
        "\n",
        "    print(\"Rec matched: \", total1[\"is_rec\"].sum())\n",
        "    print(\"All labels: \", total1[\"is_fav\"].sum())\n",
        "\n",
        "    return p, r"
      ]
    },
    {
      "cell_type": "code",
      "execution_count": 44,
      "metadata": {
        "id": "D9AtAbTSOVbe",
        "colab": {
          "base_uri": "https://localhost:8080/"
        },
        "outputId": "48faf56a-341f-4ae1-8fa3-0b6fc25f8ffb"
      },
      "outputs": [
        {
          "output_type": "stream",
          "name": "stdout",
          "text": [
            "Rec matched:  85905.0\n",
            "All labels:  5760712\n"
          ]
        }
      ],
      "source": [
        "precision, recall = evaluate_model(y_true, y_pred)"
      ]
    },
    {
      "cell_type": "code",
      "execution_count": 45,
      "metadata": {
        "id": "N2xZOMMPPcsk",
        "colab": {
          "base_uri": "https://localhost:8080/"
        },
        "outputId": "9e51048b-4b75-440f-fdcd-8dbfc9dcba61"
      },
      "outputs": [
        {
          "output_type": "stream",
          "name": "stdout",
          "text": [
            "Precision : 0.950130958617077\n"
          ]
        }
      ],
      "source": [
        "print(\"Precision :\", precision)"
      ]
    },
    {
      "cell_type": "code",
      "source": [
        "recall"
      ],
      "metadata": {
        "id": "rBz4wfdJQrx1",
        "outputId": "94f4cf4d-8664-433b-be8c-1ffb710c3a11",
        "colab": {
          "base_uri": "https://localhost:8080/"
        }
      },
      "execution_count": 46,
      "outputs": [
        {
          "output_type": "execute_result",
          "data": {
            "text/plain": [
              "0.014168561108418543"
            ]
          },
          "metadata": {},
          "execution_count": 46
        }
      ]
    },
    {
      "cell_type": "markdown",
      "source": [
        "## Evaluate based on rated item"
      ],
      "metadata": {
        "id": "jghjiVolllOL"
      }
    },
    {
      "cell_type": "code",
      "source": [
        "%%time\n",
        "def evaluate_model(model, y_true, warm_up= None, historical_ratings = None, top_k = 10, is_remove_interacted = True, \n",
        "    batch_size=1024*10, reduce_method=\"random\", cluster_num= 5):\n",
        "    \"\"\"\n",
        "    reduce_method: str, 'random' or 'mean'\n",
        "    \"\"\"\n",
        "    print(\"historical_ratings shape \", historical_ratings.shape)\n",
        "    timer.start()\n",
        "    if warm_up is None:\n",
        "        warm_up, _ = model.get_interaction_set( \n",
        "                     historical_ratings\n",
        "                    , max_item = max_item\n",
        "                    , top_k_item = top_k_item )\n",
        "\n",
        "    scores = model.minibatch_clustering(warm_up, batch_size=512)\n",
        "    wu = model.get_top_cluster( scores, warm_up, cluster_num= cluster_num)\n",
        "\n",
        "    wu = wu.explode([\"clusters\", \"scores\"]).reset_index()[[userCol, \"clusters\", \"scores\"]]\n",
        "    timer.check(des = \"Get cluster for user\")\n",
        "    print(\"wu shape \", wu.shape)\n",
        "    \n",
        "    user_num = wu[userCol].drop_duplicates().shape[0]\n",
        "    print(\"user_num \", user_num)\n",
        "\n",
        "    chunks = [wu[wu[userCol].isin(range(i,i+batch_size))] \n",
        "              for i in range(0,user_num,batch_size)]\n",
        "\n",
        "    his_chunks = [historical_ratings[historical_ratings[userCol].isin(range(i,i+batch_size))] \n",
        "                    for i in range(0,user_num,batch_size)]\n",
        "   \n",
        "    shortlist = model.shortlist\n",
        "\n",
        "    def batch_join_process(chunk, his_chunk):\n",
        "        timer2 = TimeTrachker()\n",
        "        timer2.start()\n",
        "\n",
        "        wu = chunk.merge(shortlist, on=\"clusters\", how='inner')\n",
        "        print('''wu = chunk.merge(shortlist, on=\"clusters\", how='inner') : wu shape: ''', wu.shape)\n",
        "        wu[\"matched_score\"] = wu[\"scores\"]*wu[\"contribute_score\"]\n",
        "\n",
        "        if reduce_method==\"mean\":\n",
        "            wu = wu.groupby([userCol, itemCol]).agg({\"matched_score\":'mean'}).reset_index()\n",
        "        \n",
        "        if reduce_method==\"random\":\n",
        "            # using drop_duplicates for boost speed, may reduce accuracy.\n",
        "            wu = wu.drop_duplicates(subset=[\"userId\", \"movieId\"])\n",
        "\n",
        "        print('''after reduce wu shape: ''', wu.shape)\n",
        "        timer2.check(des = \"reduce\")\n",
        "\n",
        "        if is_remove_interacted:\n",
        "            wu = model.left_anti_user_item_join( wu, historical_ratings )\n",
        "\n",
        "        # remove unrated item\n",
        "        wu = wu.merge(y_true, on= [userCol, itemCol], how='outer')\n",
        "        wu = wu[wu[\"y\"].notnull()]\n",
        "\n",
        "        print('''after remove interacted wu shape: ''', wu.shape)\n",
        "        timer2.check(des = \"remove interacted item\")\n",
        "\n",
        "        wu[\"rank\"] = wu.groupby(userCol)[\"matched_score\"].rank(method='first', ascending=False)\n",
        "        wu = wu[wu[\"rank\"]<= top_k]\n",
        "\n",
        "        timer2.stop(des = \"all chunk processing time\")\n",
        "\n",
        "        return wu \n",
        "    \n",
        "    timer.check(des = \"Prepare to join\")\n",
        "    wus = Parallel(n_jobs = -1, backend= 'threading', verbose = 1)(\n",
        "                delayed(batch_join_process)(chunk, his_chunk) for chunk, his_chunk in tqdm(zip(chunks, his_chunks)))\n",
        "    \n",
        "    gc.collect()\n",
        "\n",
        "    timer.check(des = \"Join\")\n",
        "\n",
        "    output = pd.concat(wus, axis=0)\n",
        "\n",
        "    timer.stop(des = \"Total\")\n",
        "    return output\n",
        "\n",
        "\n",
        "eval_tbl = evaluate_model(\n",
        "        model, y_true,\n",
        "        historical_ratings= test_warm_up, \n",
        "        top_k = top_k, is_remove_interacted = True, \n",
        "        batch_size= 1024*5,\n",
        "        reduce_method=\"random\", \n",
        "        cluster_num= 5\n",
        "    )"
      ],
      "metadata": {
        "id": "PdZlub9SltYL",
        "outputId": "878e68a4-c930-4ee4-dc61-267390c71f0a",
        "colab": {
          "base_uri": "https://localhost:8080/"
        }
      },
      "execution_count": 47,
      "outputs": [
        {
          "output_type": "stream",
          "name": "stdout",
          "text": [
            "historical_ratings shape  (3488421, 5)\n",
            "Get cluster for user duration:  17.52860140800476\n",
            "wu shape  (242365, 3)\n",
            "user_num  48473\n",
            "Prepare to join duration:  0.8781232833862305\n"
          ]
        },
        {
          "output_type": "stream",
          "name": "stderr",
          "text": [
            "\r0it [00:00, ?it/s][Parallel(n_jobs=-1)]: Using backend ThreadingBackend with 2 concurrent workers.\n"
          ]
        },
        {
          "output_type": "stream",
          "name": "stdout",
          "text": [
            "wu = chunk.merge(shortlist, on=\"clusters\", how='inner') : wu shape:  (432737, 6)\n",
            "wu = chunk.merge(shortlist, on=\"clusters\", how='inner') : wu shape:  (435700, 6)\n",
            "after reduce wu shape:  (138643, 7)\n",
            "reduce duration:  2.0556087493896484\n",
            "after reduce wu shape:  (142899, 7)\n",
            "reduce duration:  4.525472402572632\n",
            "after remove interacted wu shape:  (6976842, 11)\n",
            "remove interacted item duration:  16.745432138442993\n",
            "after remove interacted wu shape:  (6976842, 11)\n",
            "remove interacted item duration:  14.517069339752197\n"
          ]
        },
        {
          "output_type": "stream",
          "name": "stderr",
          "text": [
            "\r4it [00:32,  8.09s/it]"
          ]
        },
        {
          "output_type": "stream",
          "name": "stdout",
          "text": [
            "all chunk processing time duration:  26.066219806671143\n",
            "wu = chunk.merge(shortlist, on=\"clusters\", how='inner') : wu shape:  (460700, 6)\n",
            "all chunk processing time duration:  33.323891401290894\n",
            "wu = chunk.merge(shortlist, on=\"clusters\", how='inner') : wu shape:  (449500, 6)\n",
            "after reduce wu shape:  (147055, 7)\n",
            "reduce duration:  1.8388009071350098\n",
            "after reduce wu shape:  (145491, 7)\n",
            "reduce duration:  5.290325403213501\n",
            "after remove interacted wu shape:  (6976842, 11)\n",
            "remove interacted item duration:  17.11936044692993\n",
            "after remove interacted wu shape:  (6976842, 11)\n",
            "remove interacted item duration:  12.95199465751648\n",
            "all chunk processing time duration:  "
          ]
        },
        {
          "output_type": "stream",
          "name": "stderr",
          "text": [
            "\r6it [01:04, 11.49s/it]"
          ]
        },
        {
          "output_type": "stream",
          "name": "stdout",
          "text": [
            "26.110783100128174\n",
            "wu = chunk.merge(shortlist, on=\"clusters\", how='inner') : wu shape:  (465950, 6)\n",
            "all chunk processing time duration:  32.4640371799469\n",
            "wu = chunk.merge(shortlist, on=\"clusters\", how='inner') : wu shape:  (460250, 6)\n",
            "after reduce wu shape:  (151046, 7)\n",
            "reduce duration:  1.8618054389953613\n",
            "after reduce wu shape:  (148324, 7)\n",
            "reduce duration:  5.343752861022949\n",
            "after remove interacted wu shape: after remove interacted wu shape:  (6976842, 11)\n",
            "remove interacted item duration:  17.009716749191284\n",
            " (6976842, 11)\n",
            "remove interacted item duration:  12.567822217941284\n"
          ]
        },
        {
          "output_type": "stream",
          "name": "stderr",
          "text": [
            "\r8it [01:37, 13.21s/it]"
          ]
        },
        {
          "output_type": "stream",
          "name": "stdout",
          "text": [
            "all chunk processing time duration:  32.21333694458008\n",
            "all chunk processing time duration:  31.31591296195984\n",
            "wu = chunk.merge(shortlist, on=\"clusters\", how='inner') : wu shape:  (447500, 6)\n",
            "wu = chunk.merge(shortlist, on=\"clusters\", how='inner') : wu shape:  (437000, 6)\n",
            "after reduce wu shape: after reduce wu shape:  (139780, 7)\n",
            "reduce duration:  1.7101294994354248\n",
            " (144747, 7)\n",
            "reduce duration:  1.9431235790252686\n",
            "after remove interacted wu shape: after remove interacted wu shape:  (6976842, 11)\n",
            "remove interacted item duration:  16.952407836914062\n",
            " (6976842, 11)\n",
            "remove interacted item duration:  17.124051094055176\n"
          ]
        },
        {
          "output_type": "stream",
          "name": "stderr",
          "text": [
            "10it [02:09, 12.94s/it]"
          ]
        },
        {
          "output_type": "stream",
          "name": "stdout",
          "text": [
            "all chunk processing time duration:  32.260825395584106\n",
            "all chunk processing time duration:  32.39958357810974\n",
            "wu = chunk.merge(shortlist, on=\"clusters\", how='inner') : wu shape:  (450237, 6)\n"
          ]
        },
        {
          "output_type": "stream",
          "name": "stderr",
          "text": [
            "\n"
          ]
        },
        {
          "output_type": "stream",
          "name": "stdout",
          "text": [
            "wu = chunk.merge(shortlist, on=\"clusters\", how='inner') : wu shape:  (454250, 6)\n",
            "after reduce wu shape:  (146199, 7)\n",
            "reduce duration:  1.8055663108825684\n",
            "after reduce wu shape:  (147863, 7)\n",
            "reduce duration:  1.9275975227355957\n",
            "after remove interacted wu shape:  (6976842, 11)\n",
            "remove interacted item duration:  17.03400754928589\n",
            "after remove interacted wu shape:  (6976842, 11)\n",
            "remove interacted item duration:  17.2228524684906\n",
            "all chunk processing time duration:  25.956830501556396\n",
            "all chunk processing time duration:  32.590904235839844\n"
          ]
        },
        {
          "output_type": "stream",
          "name": "stderr",
          "text": [
            "[Parallel(n_jobs=-1)]: Done  10 out of  10 | elapsed:  2.7min finished\n"
          ]
        },
        {
          "output_type": "stream",
          "name": "stdout",
          "text": [
            "Join duration:  162.59311389923096\n",
            "Total duration:  181.03590393066406\n"
          ]
        }
      ]
    },
    {
      "cell_type": "code",
      "source": [
        "eval_tbl[eval_tbl[\"y\"] <0]"
      ],
      "metadata": {
        "id": "VvVKPp6Pnzhp",
        "outputId": "7f289e73-707a-47d8-c443-23d15a09e157",
        "colab": {
          "base_uri": "https://localhost:8080/",
          "height": 419
        }
      },
      "execution_count": 68,
      "outputs": [
        {
          "output_type": "execute_result",
          "data": {
            "text/plain": [
              "        userId clusters    scores  movieId  contribute_score  rank  \\\n",
              "664        138       31  0.997932     1196          0.741992   2.0   \n",
              "713        157       31  0.971372     1208          0.701784   4.0   \n",
              "885        208       31  0.997879     1234          0.710701  16.0   \n",
              "968        254       31  0.998296     5952          0.742070   4.0   \n",
              "971        254       31  0.998296     7153          0.756653   2.0   \n",
              "...        ...      ...       ...      ...               ...   ...   \n",
              "134563   48669       14  0.999471     3608          0.771999   5.0   \n",
              "135714   49684       35  0.996241     4878          0.752356   3.0   \n",
              "135952   50208       35  0.999524     2329          0.755301   1.0   \n",
              "137244   48669       15  0.996956      293          0.994608   1.0   \n",
              "137313   50820       15  0.999053      145          0.596765   1.0   \n",
              "\n",
              "        matched_score  rating     timestamp    y  is_fav  \n",
              "664          0.740457     1.0  1.046427e+09 -0.6     0.0  \n",
              "713          0.681694     2.0  9.678670e+08 -0.2     0.0  \n",
              "885          0.709193     2.0  9.417517e+08 -0.2     0.0  \n",
              "968          0.740806     2.0  1.205358e+09 -0.2     0.0  \n",
              "971          0.755364     2.0  1.205359e+09 -0.2     0.0  \n",
              "...               ...     ...           ...  ...     ...  \n",
              "134563       0.771590     0.5  1.310186e+09 -0.8     0.0  \n",
              "135714       0.749527     2.0  1.175497e+09 -0.2     0.0  \n",
              "135952       0.754941     1.5  1.132839e+09 -0.4     0.0  \n",
              "137244       0.991580     2.0  1.310187e+09 -0.2     0.0  \n",
              "137313       0.596199     1.0  1.111479e+09 -0.6     0.0  \n",
              "\n",
              "[4456 rows x 11 columns]"
            ],
            "text/html": [
              "\n",
              "  <div id=\"df-727568cb-885e-4fb0-b3e6-dc6ba2799f4a\">\n",
              "    <div class=\"colab-df-container\">\n",
              "      <div>\n",
              "<style scoped>\n",
              "    .dataframe tbody tr th:only-of-type {\n",
              "        vertical-align: middle;\n",
              "    }\n",
              "\n",
              "    .dataframe tbody tr th {\n",
              "        vertical-align: top;\n",
              "    }\n",
              "\n",
              "    .dataframe thead th {\n",
              "        text-align: right;\n",
              "    }\n",
              "</style>\n",
              "<table border=\"1\" class=\"dataframe\">\n",
              "  <thead>\n",
              "    <tr style=\"text-align: right;\">\n",
              "      <th></th>\n",
              "      <th>userId</th>\n",
              "      <th>clusters</th>\n",
              "      <th>scores</th>\n",
              "      <th>movieId</th>\n",
              "      <th>contribute_score</th>\n",
              "      <th>rank</th>\n",
              "      <th>matched_score</th>\n",
              "      <th>rating</th>\n",
              "      <th>timestamp</th>\n",
              "      <th>y</th>\n",
              "      <th>is_fav</th>\n",
              "    </tr>\n",
              "  </thead>\n",
              "  <tbody>\n",
              "    <tr>\n",
              "      <th>664</th>\n",
              "      <td>138</td>\n",
              "      <td>31</td>\n",
              "      <td>0.997932</td>\n",
              "      <td>1196</td>\n",
              "      <td>0.741992</td>\n",
              "      <td>2.0</td>\n",
              "      <td>0.740457</td>\n",
              "      <td>1.0</td>\n",
              "      <td>1.046427e+09</td>\n",
              "      <td>-0.6</td>\n",
              "      <td>0.0</td>\n",
              "    </tr>\n",
              "    <tr>\n",
              "      <th>713</th>\n",
              "      <td>157</td>\n",
              "      <td>31</td>\n",
              "      <td>0.971372</td>\n",
              "      <td>1208</td>\n",
              "      <td>0.701784</td>\n",
              "      <td>4.0</td>\n",
              "      <td>0.681694</td>\n",
              "      <td>2.0</td>\n",
              "      <td>9.678670e+08</td>\n",
              "      <td>-0.2</td>\n",
              "      <td>0.0</td>\n",
              "    </tr>\n",
              "    <tr>\n",
              "      <th>885</th>\n",
              "      <td>208</td>\n",
              "      <td>31</td>\n",
              "      <td>0.997879</td>\n",
              "      <td>1234</td>\n",
              "      <td>0.710701</td>\n",
              "      <td>16.0</td>\n",
              "      <td>0.709193</td>\n",
              "      <td>2.0</td>\n",
              "      <td>9.417517e+08</td>\n",
              "      <td>-0.2</td>\n",
              "      <td>0.0</td>\n",
              "    </tr>\n",
              "    <tr>\n",
              "      <th>968</th>\n",
              "      <td>254</td>\n",
              "      <td>31</td>\n",
              "      <td>0.998296</td>\n",
              "      <td>5952</td>\n",
              "      <td>0.742070</td>\n",
              "      <td>4.0</td>\n",
              "      <td>0.740806</td>\n",
              "      <td>2.0</td>\n",
              "      <td>1.205358e+09</td>\n",
              "      <td>-0.2</td>\n",
              "      <td>0.0</td>\n",
              "    </tr>\n",
              "    <tr>\n",
              "      <th>971</th>\n",
              "      <td>254</td>\n",
              "      <td>31</td>\n",
              "      <td>0.998296</td>\n",
              "      <td>7153</td>\n",
              "      <td>0.756653</td>\n",
              "      <td>2.0</td>\n",
              "      <td>0.755364</td>\n",
              "      <td>2.0</td>\n",
              "      <td>1.205359e+09</td>\n",
              "      <td>-0.2</td>\n",
              "      <td>0.0</td>\n",
              "    </tr>\n",
              "    <tr>\n",
              "      <th>...</th>\n",
              "      <td>...</td>\n",
              "      <td>...</td>\n",
              "      <td>...</td>\n",
              "      <td>...</td>\n",
              "      <td>...</td>\n",
              "      <td>...</td>\n",
              "      <td>...</td>\n",
              "      <td>...</td>\n",
              "      <td>...</td>\n",
              "      <td>...</td>\n",
              "      <td>...</td>\n",
              "    </tr>\n",
              "    <tr>\n",
              "      <th>134563</th>\n",
              "      <td>48669</td>\n",
              "      <td>14</td>\n",
              "      <td>0.999471</td>\n",
              "      <td>3608</td>\n",
              "      <td>0.771999</td>\n",
              "      <td>5.0</td>\n",
              "      <td>0.771590</td>\n",
              "      <td>0.5</td>\n",
              "      <td>1.310186e+09</td>\n",
              "      <td>-0.8</td>\n",
              "      <td>0.0</td>\n",
              "    </tr>\n",
              "    <tr>\n",
              "      <th>135714</th>\n",
              "      <td>49684</td>\n",
              "      <td>35</td>\n",
              "      <td>0.996241</td>\n",
              "      <td>4878</td>\n",
              "      <td>0.752356</td>\n",
              "      <td>3.0</td>\n",
              "      <td>0.749527</td>\n",
              "      <td>2.0</td>\n",
              "      <td>1.175497e+09</td>\n",
              "      <td>-0.2</td>\n",
              "      <td>0.0</td>\n",
              "    </tr>\n",
              "    <tr>\n",
              "      <th>135952</th>\n",
              "      <td>50208</td>\n",
              "      <td>35</td>\n",
              "      <td>0.999524</td>\n",
              "      <td>2329</td>\n",
              "      <td>0.755301</td>\n",
              "      <td>1.0</td>\n",
              "      <td>0.754941</td>\n",
              "      <td>1.5</td>\n",
              "      <td>1.132839e+09</td>\n",
              "      <td>-0.4</td>\n",
              "      <td>0.0</td>\n",
              "    </tr>\n",
              "    <tr>\n",
              "      <th>137244</th>\n",
              "      <td>48669</td>\n",
              "      <td>15</td>\n",
              "      <td>0.996956</td>\n",
              "      <td>293</td>\n",
              "      <td>0.994608</td>\n",
              "      <td>1.0</td>\n",
              "      <td>0.991580</td>\n",
              "      <td>2.0</td>\n",
              "      <td>1.310187e+09</td>\n",
              "      <td>-0.2</td>\n",
              "      <td>0.0</td>\n",
              "    </tr>\n",
              "    <tr>\n",
              "      <th>137313</th>\n",
              "      <td>50820</td>\n",
              "      <td>15</td>\n",
              "      <td>0.999053</td>\n",
              "      <td>145</td>\n",
              "      <td>0.596765</td>\n",
              "      <td>1.0</td>\n",
              "      <td>0.596199</td>\n",
              "      <td>1.0</td>\n",
              "      <td>1.111479e+09</td>\n",
              "      <td>-0.6</td>\n",
              "      <td>0.0</td>\n",
              "    </tr>\n",
              "  </tbody>\n",
              "</table>\n",
              "<p>4456 rows × 11 columns</p>\n",
              "</div>\n",
              "      <button class=\"colab-df-convert\" onclick=\"convertToInteractive('df-727568cb-885e-4fb0-b3e6-dc6ba2799f4a')\"\n",
              "              title=\"Convert this dataframe to an interactive table.\"\n",
              "              style=\"display:none;\">\n",
              "        \n",
              "  <svg xmlns=\"http://www.w3.org/2000/svg\" height=\"24px\"viewBox=\"0 0 24 24\"\n",
              "       width=\"24px\">\n",
              "    <path d=\"M0 0h24v24H0V0z\" fill=\"none\"/>\n",
              "    <path d=\"M18.56 5.44l.94 2.06.94-2.06 2.06-.94-2.06-.94-.94-2.06-.94 2.06-2.06.94zm-11 1L8.5 8.5l.94-2.06 2.06-.94-2.06-.94L8.5 2.5l-.94 2.06-2.06.94zm10 10l.94 2.06.94-2.06 2.06-.94-2.06-.94-.94-2.06-.94 2.06-2.06.94z\"/><path d=\"M17.41 7.96l-1.37-1.37c-.4-.4-.92-.59-1.43-.59-.52 0-1.04.2-1.43.59L10.3 9.45l-7.72 7.72c-.78.78-.78 2.05 0 2.83L4 21.41c.39.39.9.59 1.41.59.51 0 1.02-.2 1.41-.59l7.78-7.78 2.81-2.81c.8-.78.8-2.07 0-2.86zM5.41 20L4 18.59l7.72-7.72 1.47 1.35L5.41 20z\"/>\n",
              "  </svg>\n",
              "      </button>\n",
              "      \n",
              "  <style>\n",
              "    .colab-df-container {\n",
              "      display:flex;\n",
              "      flex-wrap:wrap;\n",
              "      gap: 12px;\n",
              "    }\n",
              "\n",
              "    .colab-df-convert {\n",
              "      background-color: #E8F0FE;\n",
              "      border: none;\n",
              "      border-radius: 50%;\n",
              "      cursor: pointer;\n",
              "      display: none;\n",
              "      fill: #1967D2;\n",
              "      height: 32px;\n",
              "      padding: 0 0 0 0;\n",
              "      width: 32px;\n",
              "    }\n",
              "\n",
              "    .colab-df-convert:hover {\n",
              "      background-color: #E2EBFA;\n",
              "      box-shadow: 0px 1px 2px rgba(60, 64, 67, 0.3), 0px 1px 3px 1px rgba(60, 64, 67, 0.15);\n",
              "      fill: #174EA6;\n",
              "    }\n",
              "\n",
              "    [theme=dark] .colab-df-convert {\n",
              "      background-color: #3B4455;\n",
              "      fill: #D2E3FC;\n",
              "    }\n",
              "\n",
              "    [theme=dark] .colab-df-convert:hover {\n",
              "      background-color: #434B5C;\n",
              "      box-shadow: 0px 1px 3px 1px rgba(0, 0, 0, 0.15);\n",
              "      filter: drop-shadow(0px 1px 2px rgba(0, 0, 0, 0.3));\n",
              "      fill: #FFFFFF;\n",
              "    }\n",
              "  </style>\n",
              "\n",
              "      <script>\n",
              "        const buttonEl =\n",
              "          document.querySelector('#df-727568cb-885e-4fb0-b3e6-dc6ba2799f4a button.colab-df-convert');\n",
              "        buttonEl.style.display =\n",
              "          google.colab.kernel.accessAllowed ? 'block' : 'none';\n",
              "\n",
              "        async function convertToInteractive(key) {\n",
              "          const element = document.querySelector('#df-727568cb-885e-4fb0-b3e6-dc6ba2799f4a');\n",
              "          const dataTable =\n",
              "            await google.colab.kernel.invokeFunction('convertToInteractive',\n",
              "                                                     [key], {});\n",
              "          if (!dataTable) return;\n",
              "\n",
              "          const docLinkHtml = 'Like what you see? Visit the ' +\n",
              "            '<a target=\"_blank\" href=https://colab.research.google.com/notebooks/data_table.ipynb>data table notebook</a>'\n",
              "            + ' to learn more about interactive tables.';\n",
              "          element.innerHTML = '';\n",
              "          dataTable['output_type'] = 'display_data';\n",
              "          await google.colab.output.renderOutput(dataTable, element);\n",
              "          const docLink = document.createElement('div');\n",
              "          docLink.innerHTML = docLinkHtml;\n",
              "          element.appendChild(docLink);\n",
              "        }\n",
              "      </script>\n",
              "    </div>\n",
              "  </div>\n",
              "  "
            ]
          },
          "metadata": {},
          "execution_count": 68
        }
      ]
    },
    {
      "cell_type": "code",
      "source": [
        "eval_tbl[\"matched_score\"] = eval_tbl[\"matched_score\"].astype('float')"
      ],
      "metadata": {
        "id": "KHyY576atlL7"
      },
      "execution_count": 66,
      "outputs": []
    },
    {
      "cell_type": "code",
      "source": [
        "eval_tbl[[\"matched_score\", \"y\"]].corr()"
      ],
      "metadata": {
        "id": "gjzBP5jPtAtT",
        "outputId": "bd429402-038f-4614-ff56-0805a6457ebe",
        "colab": {
          "base_uri": "https://localhost:8080/",
          "height": 111
        }
      },
      "execution_count": 67,
      "outputs": [
        {
          "output_type": "execute_result",
          "data": {
            "text/plain": [
              "               matched_score         y\n",
              "matched_score       1.000000  0.013638\n",
              "y                   0.013638  1.000000"
            ],
            "text/html": [
              "\n",
              "  <div id=\"df-5e293b62-4b72-4efc-8a91-d5a3a0aae946\">\n",
              "    <div class=\"colab-df-container\">\n",
              "      <div>\n",
              "<style scoped>\n",
              "    .dataframe tbody tr th:only-of-type {\n",
              "        vertical-align: middle;\n",
              "    }\n",
              "\n",
              "    .dataframe tbody tr th {\n",
              "        vertical-align: top;\n",
              "    }\n",
              "\n",
              "    .dataframe thead th {\n",
              "        text-align: right;\n",
              "    }\n",
              "</style>\n",
              "<table border=\"1\" class=\"dataframe\">\n",
              "  <thead>\n",
              "    <tr style=\"text-align: right;\">\n",
              "      <th></th>\n",
              "      <th>matched_score</th>\n",
              "      <th>y</th>\n",
              "    </tr>\n",
              "  </thead>\n",
              "  <tbody>\n",
              "    <tr>\n",
              "      <th>matched_score</th>\n",
              "      <td>1.000000</td>\n",
              "      <td>0.013638</td>\n",
              "    </tr>\n",
              "    <tr>\n",
              "      <th>y</th>\n",
              "      <td>0.013638</td>\n",
              "      <td>1.000000</td>\n",
              "    </tr>\n",
              "  </tbody>\n",
              "</table>\n",
              "</div>\n",
              "      <button class=\"colab-df-convert\" onclick=\"convertToInteractive('df-5e293b62-4b72-4efc-8a91-d5a3a0aae946')\"\n",
              "              title=\"Convert this dataframe to an interactive table.\"\n",
              "              style=\"display:none;\">\n",
              "        \n",
              "  <svg xmlns=\"http://www.w3.org/2000/svg\" height=\"24px\"viewBox=\"0 0 24 24\"\n",
              "       width=\"24px\">\n",
              "    <path d=\"M0 0h24v24H0V0z\" fill=\"none\"/>\n",
              "    <path d=\"M18.56 5.44l.94 2.06.94-2.06 2.06-.94-2.06-.94-.94-2.06-.94 2.06-2.06.94zm-11 1L8.5 8.5l.94-2.06 2.06-.94-2.06-.94L8.5 2.5l-.94 2.06-2.06.94zm10 10l.94 2.06.94-2.06 2.06-.94-2.06-.94-.94-2.06-.94 2.06-2.06.94z\"/><path d=\"M17.41 7.96l-1.37-1.37c-.4-.4-.92-.59-1.43-.59-.52 0-1.04.2-1.43.59L10.3 9.45l-7.72 7.72c-.78.78-.78 2.05 0 2.83L4 21.41c.39.39.9.59 1.41.59.51 0 1.02-.2 1.41-.59l7.78-7.78 2.81-2.81c.8-.78.8-2.07 0-2.86zM5.41 20L4 18.59l7.72-7.72 1.47 1.35L5.41 20z\"/>\n",
              "  </svg>\n",
              "      </button>\n",
              "      \n",
              "  <style>\n",
              "    .colab-df-container {\n",
              "      display:flex;\n",
              "      flex-wrap:wrap;\n",
              "      gap: 12px;\n",
              "    }\n",
              "\n",
              "    .colab-df-convert {\n",
              "      background-color: #E8F0FE;\n",
              "      border: none;\n",
              "      border-radius: 50%;\n",
              "      cursor: pointer;\n",
              "      display: none;\n",
              "      fill: #1967D2;\n",
              "      height: 32px;\n",
              "      padding: 0 0 0 0;\n",
              "      width: 32px;\n",
              "    }\n",
              "\n",
              "    .colab-df-convert:hover {\n",
              "      background-color: #E2EBFA;\n",
              "      box-shadow: 0px 1px 2px rgba(60, 64, 67, 0.3), 0px 1px 3px 1px rgba(60, 64, 67, 0.15);\n",
              "      fill: #174EA6;\n",
              "    }\n",
              "\n",
              "    [theme=dark] .colab-df-convert {\n",
              "      background-color: #3B4455;\n",
              "      fill: #D2E3FC;\n",
              "    }\n",
              "\n",
              "    [theme=dark] .colab-df-convert:hover {\n",
              "      background-color: #434B5C;\n",
              "      box-shadow: 0px 1px 3px 1px rgba(0, 0, 0, 0.15);\n",
              "      filter: drop-shadow(0px 1px 2px rgba(0, 0, 0, 0.3));\n",
              "      fill: #FFFFFF;\n",
              "    }\n",
              "  </style>\n",
              "\n",
              "      <script>\n",
              "        const buttonEl =\n",
              "          document.querySelector('#df-5e293b62-4b72-4efc-8a91-d5a3a0aae946 button.colab-df-convert');\n",
              "        buttonEl.style.display =\n",
              "          google.colab.kernel.accessAllowed ? 'block' : 'none';\n",
              "\n",
              "        async function convertToInteractive(key) {\n",
              "          const element = document.querySelector('#df-5e293b62-4b72-4efc-8a91-d5a3a0aae946');\n",
              "          const dataTable =\n",
              "            await google.colab.kernel.invokeFunction('convertToInteractive',\n",
              "                                                     [key], {});\n",
              "          if (!dataTable) return;\n",
              "\n",
              "          const docLinkHtml = 'Like what you see? Visit the ' +\n",
              "            '<a target=\"_blank\" href=https://colab.research.google.com/notebooks/data_table.ipynb>data table notebook</a>'\n",
              "            + ' to learn more about interactive tables.';\n",
              "          element.innerHTML = '';\n",
              "          dataTable['output_type'] = 'display_data';\n",
              "          await google.colab.output.renderOutput(dataTable, element);\n",
              "          const docLink = document.createElement('div');\n",
              "          docLink.innerHTML = docLinkHtml;\n",
              "          element.appendChild(docLink);\n",
              "        }\n",
              "      </script>\n",
              "    </div>\n",
              "  </div>\n",
              "  "
            ]
          },
          "metadata": {},
          "execution_count": 67
        }
      ]
    },
    {
      "cell_type": "markdown",
      "metadata": {
        "id": "IYIY1sccKoqF"
      },
      "source": [
        "# END HERE"
      ]
    },
    {
      "cell_type": "code",
      "execution_count": 49,
      "metadata": {
        "id": "z8mwDaKFKp4U",
        "colab": {
          "base_uri": "https://localhost:8080/",
          "height": 163
        },
        "outputId": "0a02fccb-5209-47ff-b999-38ab038f931b"
      },
      "outputs": [
        {
          "output_type": "error",
          "ename": "ZeroDivisionError",
          "evalue": "ignored",
          "traceback": [
            "\u001b[0;31m---------------------------------------------------------------------------\u001b[0m",
            "\u001b[0;31mZeroDivisionError\u001b[0m                         Traceback (most recent call last)",
            "\u001b[0;32m<ipython-input-49-9e1622b385b6>\u001b[0m in \u001b[0;36m<module>\u001b[0;34m()\u001b[0m\n\u001b[0;32m----> 1\u001b[0;31m \u001b[0;36m1\u001b[0m\u001b[0;34m/\u001b[0m\u001b[0;36m0\u001b[0m\u001b[0;34m\u001b[0m\u001b[0;34m\u001b[0m\u001b[0m\n\u001b[0m",
            "\u001b[0;31mZeroDivisionError\u001b[0m: division by zero"
          ]
        }
      ],
      "source": [
        "1/0"
      ]
    },
    {
      "cell_type": "code",
      "source": [
        "# Warm start evaluation"
      ],
      "metadata": {
        "id": "ijC09qXVaWsb"
      },
      "execution_count": null,
      "outputs": []
    },
    {
      "cell_type": "code",
      "execution_count": null,
      "metadata": {
        "id": "QPPnAXS9vBhG"
      },
      "outputs": [],
      "source": [
        "def evaluate_rs(y_true, y_pred, is_return_df = False):\n",
        "    \"\"\"\n",
        "    y_true: dataframe: user_id, item_id, y (rating normailised), only favorite item\n",
        "    y_pred: dataframe: user_id, item_id (just top k item)\n",
        "    return:\n",
        "    precision@k, recall@k\n",
        "    \"\"\"\n",
        "    total1 = y_true.merge(y_pred, on=[userCol, itemCol], how = 'outer', suffixes=('_t', '_p'))\n",
        "    total1['is_pt'] = total1.apply(lambda x: 0 if (np.isnan(x[\"y\"]) or np.isnan(x[\"rank\"]) ) else 1,axis=1)\n",
        "    total = total1.groupby(userCol).agg({\n",
        "        \"y\":'count',\n",
        "        \"rank\":'count',\n",
        "        \"is_pt\": 'sum'\n",
        "        })\n",
        "    total.columns = [\"true_num\", \"predict_num\", \"pred_true_num\"]\n",
        "    total[\"macro_p\"] = total[\"pred_true_num\"]/total[\"predict_num\"]\n",
        "    total[\"macro_r\"] = total[\"pred_true_num\"]/total[\"true_num\"]\n",
        "\n",
        "    total = total[total[\"predict_num\"]>0]\n",
        "\n",
        "    macro_p = total[total[\"predict_num\"]>0][\"macro_p\"].mean()\n",
        "    macro_r = total[total[\"true_num\"]>0][\"macro_r\"].mean()\n",
        "\n",
        "    micro_p = total[\"pred_true_num\"].sum()/total[\"predict_num\"].sum()\n",
        "    micro_r = total[\"pred_true_num\"].sum()/total[\"true_num\"].sum()\n",
        "\n",
        "    print(\"macro_p: \", macro_p, \"; macro_r :\", macro_r)\n",
        "    print(\"micro_p: \", micro_p, \"; micro_r :\", micro_r)\n",
        "\n",
        "    if is_return_df:\n",
        "        return (macro_p, macro_r, micro_p, micro_r), total\n",
        "\n",
        "    return macro_p, macro_r, micro_p, micro_r"
      ]
    },
    {
      "cell_type": "code",
      "execution_count": null,
      "metadata": {
        "id": "yZKN6iNvJQFj"
      },
      "outputs": [],
      "source": [
        "%%time\n",
        "eval_map = map_at_k(y_true, y_pred, col_user = userCol, col_item = itemCol ,col_prediction='rating', col_rating=\"rating\", k=top_k)\n",
        "eval_ndcg = ndcg_at_k(y_true, y_pred, col_user = userCol, col_item = itemCol ,col_prediction='rating', col_rating=\"rating\", k=top_k)\n",
        "eval_precision = precision_at_k(y_true, y_pred, col_user = userCol, col_item = itemCol ,col_prediction='rating', col_rating=\"rating\", k=top_k)\n",
        "eval_recall = recall_at_k(y_true, y_pred, col_user = userCol, col_item = itemCol, col_prediction='rating', col_rating=\"rating\", k=top_k)\n",
        "\n",
        "print('K = %f' % top_k)\n",
        "print(\n",
        "    \"MAP:\\t%f\" % eval_map,\n",
        "      \"NDCG:\\t%f\" % eval_ndcg,\n",
        "      \"Precision@K:\\t%f\" % eval_precision,\n",
        "      \"Recall@K:\\t%f\" % eval_recall, sep='\\n')"
      ]
    },
    {
      "cell_type": "code",
      "execution_count": null,
      "metadata": {
        "id": "i91nkjJq793s"
      },
      "outputs": [],
      "source": [
        "%%time\n",
        "eval_metrics, eval_df = evaluate_rs(y_true, y_pred, is_return_df= True)"
      ]
    }
  ],
  "metadata": {
    "accelerator": "GPU",
    "colab": {
      "collapsed_sections": [
        "17fHxkHoAQq6"
      ],
      "name": "v2.2_ML20M_sequence.ipynb",
      "provenance": [],
      "toc_visible": true
    },
    "kernelspec": {
      "display_name": "Python 3",
      "language": "python",
      "name": "python3"
    },
    "language_info": {
      "codemirror_mode": {
        "name": "ipython",
        "version": 3
      },
      "file_extension": ".py",
      "mimetype": "text/x-python",
      "name": "python",
      "nbconvert_exporter": "python",
      "pygments_lexer": "ipython3",
      "version": "3.7.4"
    }
  },
  "nbformat": 4,
  "nbformat_minor": 0
}