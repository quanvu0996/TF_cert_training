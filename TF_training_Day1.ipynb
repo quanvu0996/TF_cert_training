{
  "nbformat": 4,
  "nbformat_minor": 0,
  "metadata": {
    "colab": {
      "name": "TF training_Day1.ipynb",
      "provenance": []
    },
    "kernelspec": {
      "name": "python3",
      "display_name": "Python 3"
    },
    "language_info": {
      "name": "python"
    }
  },
  "cells": [
    {
      "cell_type": "markdown",
      "source": [
        "**LUYỆN TẬP THỰC HÀNH TENSORFLOW**\n",
        "\n",
        "[DAY 1] BASIC MODELING"
      ],
      "metadata": {
        "id": "IDtVVbFylG3y"
      }
    },
    {
      "cell_type": "markdown",
      "source": [
        "1. Linear regression\n",
        "\n",
        "Cho 2 mảng xs (biến độc lập) và ys (biến phụ thuộc) như dưới, sử dụng tensorflow hãy xây dựng một mô hình đơn giản thể hiện mối quan hệ của 2 biến này"
      ],
      "metadata": {
        "id": "ZFheJkvclfwy"
      }
    },
    {
      "cell_type": "code",
      "execution_count": null,
      "metadata": {
        "id": "1RwrL2LCk6d1"
      },
      "outputs": [],
      "source": [
        "xs = np.array([-1.0, 0.0, 1.0, 2.0, 3.0, 4.0], dtype=float)\n",
        "ys = np.array([0.0, 1.0, 2.0, 3.0, 4.0, 5.0], dtype=float)"
      ]
    },
    {
      "cell_type": "code",
      "source": [
        "# YOUR CODE HERE"
      ],
      "metadata": {
        "id": "QqqT296umXTA"
      },
      "execution_count": null,
      "outputs": []
    },
    {
      "cell_type": "markdown",
      "source": [
        "2. Fashion MNIST\n",
        "\n",
        "Xây dựng mô hình phân loại với bộ dữ liệu Fashion MNIST. <br>\n",
        "Chú ý: đầu vào ảnh 28x28, đầu ra: 10 nhãn phân loại"
      ],
      "metadata": {
        "id": "-fAziWyNl99U"
      }
    },
    {
      "cell_type": "code",
      "source": [
        "fashion_mnist = tf.keras.datasets.fashion_mnist"
      ],
      "metadata": {
        "id": "FTpirOr4mJQA"
      },
      "execution_count": null,
      "outputs": []
    },
    {
      "cell_type": "code",
      "source": [
        "# YOUR CODE HERE"
      ],
      "metadata": {
        "id": "EaCjeFDEmw7B"
      },
      "execution_count": null,
      "outputs": []
    }
  ]
}