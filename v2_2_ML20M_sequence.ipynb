{
  "cells": [
    {
      "cell_type": "markdown",
      "metadata": {
        "id": "view-in-github",
        "colab_type": "text"
      },
      "source": [
        "<a href=\"https://colab.research.google.com/github/quanvu0996/TF_cert_training/blob/main/v2_2_ML20M_sequence.ipynb\" target=\"_parent\"><img src=\"https://colab.research.google.com/assets/colab-badge.svg\" alt=\"Open In Colab\"/></a>"
      ]
    },
    {
      "cell_type": "code",
      "execution_count": 1,
      "metadata": {
        "colab": {
          "base_uri": "https://localhost:8080/"
        },
        "id": "zZQDJKGUAQqn",
        "outputId": "380d2b87-71c1-468c-a59c-dae689e40a57"
      },
      "outputs": [
        {
          "output_type": "stream",
          "name": "stdout",
          "text": [
            "20.2\n",
            "svmem(total=13617745920, available=12827746304, percent=5.8, used=525139968, free=11176034304, active=968376320, inactive=1280540672, buffers=107241472, cached=1809330176, shared=1224704, slab=128778240)\n",
            "5.8\n",
            "94.19874903937112\n"
          ]
        }
      ],
      "source": [
        "import psutil\n",
        "# gives a single float value\n",
        "print(psutil.cpu_percent())\n",
        "# gives an object with many fields\n",
        "print(psutil.virtual_memory())\n",
        "# you can convert that object to a dictionary print(dict(psutil.virtual_memory()._asdict()))\n",
        "# you can have the percentage of used RAM\n",
        "print(psutil.virtual_memory().percent)\n",
        "# you can calculate percentage of available memory\n",
        "print(psutil.virtual_memory().available * 100 / psutil.virtual_memory().total)"
      ]
    },
    {
      "cell_type": "code",
      "execution_count": 91,
      "metadata": {
        "id": "XS6UHXPVAQqs"
      },
      "outputs": [],
      "source": [
        "import pandas as pd\n",
        "import numpy as np\n",
        "import random\n",
        "from matplotlib import pyplot as plt\n",
        "import gc\n",
        "\n",
        "import tensorflow as tf\n",
        "from tensorflow.keras import layers\n",
        "import tensorflow.keras.backend as K\n",
        "from sklearn.model_selection import train_test_split"
      ]
    },
    {
      "cell_type": "code",
      "source": [
        "tf.__version__"
      ],
      "metadata": {
        "colab": {
          "base_uri": "https://localhost:8080/",
          "height": 35
        },
        "id": "Gv8gXemwD3UQ",
        "outputId": "743474ec-ac68-4b93-f4d5-6580b106e3c2"
      },
      "execution_count": 3,
      "outputs": [
        {
          "output_type": "execute_result",
          "data": {
            "text/plain": [
              "'2.8.0'"
            ],
            "application/vnd.google.colaboratory.intrinsic+json": {
              "type": "string"
            }
          },
          "metadata": {},
          "execution_count": 3
        }
      ]
    },
    {
      "cell_type": "code",
      "execution_count": 4,
      "metadata": {
        "id": "Crhty6fiAQqu"
      },
      "outputs": [],
      "source": [
        "itemCol = 'movieId'\n",
        "userCol = 'userId'"
      ]
    },
    {
      "cell_type": "code",
      "source": [
        "# DGX setup\n",
        "# fpath = \"./ml-20m\" \n",
        "\n",
        "#colab setup\n",
        "from google.colab import drive\n",
        "drive.mount('/content/gdrive')\n",
        "fpath = \"/content/gdrive/MyDrive/RECOMMENDER_STUDIES/data/ml-20m\""
      ],
      "metadata": {
        "id": "xOJJy441A0w0",
        "colab": {
          "base_uri": "https://localhost:8080/"
        },
        "outputId": "9bd8c337-20c6-4930-e3aa-fb1cd473a281"
      },
      "execution_count": 5,
      "outputs": [
        {
          "output_type": "stream",
          "name": "stdout",
          "text": [
            "Mounted at /content/gdrive\n"
          ]
        }
      ]
    },
    {
      "cell_type": "code",
      "source": [
        "# Loading data\n",
        "ratings = pd.read_csv(fpath+'/ratings.csv')\n",
        "\n",
        "ratings"
      ],
      "metadata": {
        "colab": {
          "base_uri": "https://localhost:8080/",
          "height": 419
        },
        "id": "jQck8YHxCPJ1",
        "outputId": "842f60f0-3b7c-4526-ed67-8d156f25653a"
      },
      "execution_count": 6,
      "outputs": [
        {
          "output_type": "execute_result",
          "data": {
            "text/plain": [
              "          userId  movieId  rating   timestamp\n",
              "0              1        2     3.5  1112486027\n",
              "1              1       29     3.5  1112484676\n",
              "2              1       32     3.5  1112484819\n",
              "3              1       47     3.5  1112484727\n",
              "4              1       50     3.5  1112484580\n",
              "...          ...      ...     ...         ...\n",
              "20000258  138493    68954     4.5  1258126920\n",
              "20000259  138493    69526     4.5  1259865108\n",
              "20000260  138493    69644     3.0  1260209457\n",
              "20000261  138493    70286     5.0  1258126944\n",
              "20000262  138493    71619     2.5  1255811136\n",
              "\n",
              "[20000263 rows x 4 columns]"
            ],
            "text/html": [
              "\n",
              "  <div id=\"df-12da28b0-6e80-4a75-8244-72e3863118a7\">\n",
              "    <div class=\"colab-df-container\">\n",
              "      <div>\n",
              "<style scoped>\n",
              "    .dataframe tbody tr th:only-of-type {\n",
              "        vertical-align: middle;\n",
              "    }\n",
              "\n",
              "    .dataframe tbody tr th {\n",
              "        vertical-align: top;\n",
              "    }\n",
              "\n",
              "    .dataframe thead th {\n",
              "        text-align: right;\n",
              "    }\n",
              "</style>\n",
              "<table border=\"1\" class=\"dataframe\">\n",
              "  <thead>\n",
              "    <tr style=\"text-align: right;\">\n",
              "      <th></th>\n",
              "      <th>userId</th>\n",
              "      <th>movieId</th>\n",
              "      <th>rating</th>\n",
              "      <th>timestamp</th>\n",
              "    </tr>\n",
              "  </thead>\n",
              "  <tbody>\n",
              "    <tr>\n",
              "      <th>0</th>\n",
              "      <td>1</td>\n",
              "      <td>2</td>\n",
              "      <td>3.5</td>\n",
              "      <td>1112486027</td>\n",
              "    </tr>\n",
              "    <tr>\n",
              "      <th>1</th>\n",
              "      <td>1</td>\n",
              "      <td>29</td>\n",
              "      <td>3.5</td>\n",
              "      <td>1112484676</td>\n",
              "    </tr>\n",
              "    <tr>\n",
              "      <th>2</th>\n",
              "      <td>1</td>\n",
              "      <td>32</td>\n",
              "      <td>3.5</td>\n",
              "      <td>1112484819</td>\n",
              "    </tr>\n",
              "    <tr>\n",
              "      <th>3</th>\n",
              "      <td>1</td>\n",
              "      <td>47</td>\n",
              "      <td>3.5</td>\n",
              "      <td>1112484727</td>\n",
              "    </tr>\n",
              "    <tr>\n",
              "      <th>4</th>\n",
              "      <td>1</td>\n",
              "      <td>50</td>\n",
              "      <td>3.5</td>\n",
              "      <td>1112484580</td>\n",
              "    </tr>\n",
              "    <tr>\n",
              "      <th>...</th>\n",
              "      <td>...</td>\n",
              "      <td>...</td>\n",
              "      <td>...</td>\n",
              "      <td>...</td>\n",
              "    </tr>\n",
              "    <tr>\n",
              "      <th>20000258</th>\n",
              "      <td>138493</td>\n",
              "      <td>68954</td>\n",
              "      <td>4.5</td>\n",
              "      <td>1258126920</td>\n",
              "    </tr>\n",
              "    <tr>\n",
              "      <th>20000259</th>\n",
              "      <td>138493</td>\n",
              "      <td>69526</td>\n",
              "      <td>4.5</td>\n",
              "      <td>1259865108</td>\n",
              "    </tr>\n",
              "    <tr>\n",
              "      <th>20000260</th>\n",
              "      <td>138493</td>\n",
              "      <td>69644</td>\n",
              "      <td>3.0</td>\n",
              "      <td>1260209457</td>\n",
              "    </tr>\n",
              "    <tr>\n",
              "      <th>20000261</th>\n",
              "      <td>138493</td>\n",
              "      <td>70286</td>\n",
              "      <td>5.0</td>\n",
              "      <td>1258126944</td>\n",
              "    </tr>\n",
              "    <tr>\n",
              "      <th>20000262</th>\n",
              "      <td>138493</td>\n",
              "      <td>71619</td>\n",
              "      <td>2.5</td>\n",
              "      <td>1255811136</td>\n",
              "    </tr>\n",
              "  </tbody>\n",
              "</table>\n",
              "<p>20000263 rows × 4 columns</p>\n",
              "</div>\n",
              "      <button class=\"colab-df-convert\" onclick=\"convertToInteractive('df-12da28b0-6e80-4a75-8244-72e3863118a7')\"\n",
              "              title=\"Convert this dataframe to an interactive table.\"\n",
              "              style=\"display:none;\">\n",
              "        \n",
              "  <svg xmlns=\"http://www.w3.org/2000/svg\" height=\"24px\"viewBox=\"0 0 24 24\"\n",
              "       width=\"24px\">\n",
              "    <path d=\"M0 0h24v24H0V0z\" fill=\"none\"/>\n",
              "    <path d=\"M18.56 5.44l.94 2.06.94-2.06 2.06-.94-2.06-.94-.94-2.06-.94 2.06-2.06.94zm-11 1L8.5 8.5l.94-2.06 2.06-.94-2.06-.94L8.5 2.5l-.94 2.06-2.06.94zm10 10l.94 2.06.94-2.06 2.06-.94-2.06-.94-.94-2.06-.94 2.06-2.06.94z\"/><path d=\"M17.41 7.96l-1.37-1.37c-.4-.4-.92-.59-1.43-.59-.52 0-1.04.2-1.43.59L10.3 9.45l-7.72 7.72c-.78.78-.78 2.05 0 2.83L4 21.41c.39.39.9.59 1.41.59.51 0 1.02-.2 1.41-.59l7.78-7.78 2.81-2.81c.8-.78.8-2.07 0-2.86zM5.41 20L4 18.59l7.72-7.72 1.47 1.35L5.41 20z\"/>\n",
              "  </svg>\n",
              "      </button>\n",
              "      \n",
              "  <style>\n",
              "    .colab-df-container {\n",
              "      display:flex;\n",
              "      flex-wrap:wrap;\n",
              "      gap: 12px;\n",
              "    }\n",
              "\n",
              "    .colab-df-convert {\n",
              "      background-color: #E8F0FE;\n",
              "      border: none;\n",
              "      border-radius: 50%;\n",
              "      cursor: pointer;\n",
              "      display: none;\n",
              "      fill: #1967D2;\n",
              "      height: 32px;\n",
              "      padding: 0 0 0 0;\n",
              "      width: 32px;\n",
              "    }\n",
              "\n",
              "    .colab-df-convert:hover {\n",
              "      background-color: #E2EBFA;\n",
              "      box-shadow: 0px 1px 2px rgba(60, 64, 67, 0.3), 0px 1px 3px 1px rgba(60, 64, 67, 0.15);\n",
              "      fill: #174EA6;\n",
              "    }\n",
              "\n",
              "    [theme=dark] .colab-df-convert {\n",
              "      background-color: #3B4455;\n",
              "      fill: #D2E3FC;\n",
              "    }\n",
              "\n",
              "    [theme=dark] .colab-df-convert:hover {\n",
              "      background-color: #434B5C;\n",
              "      box-shadow: 0px 1px 3px 1px rgba(0, 0, 0, 0.15);\n",
              "      filter: drop-shadow(0px 1px 2px rgba(0, 0, 0, 0.3));\n",
              "      fill: #FFFFFF;\n",
              "    }\n",
              "  </style>\n",
              "\n",
              "      <script>\n",
              "        const buttonEl =\n",
              "          document.querySelector('#df-12da28b0-6e80-4a75-8244-72e3863118a7 button.colab-df-convert');\n",
              "        buttonEl.style.display =\n",
              "          google.colab.kernel.accessAllowed ? 'block' : 'none';\n",
              "\n",
              "        async function convertToInteractive(key) {\n",
              "          const element = document.querySelector('#df-12da28b0-6e80-4a75-8244-72e3863118a7');\n",
              "          const dataTable =\n",
              "            await google.colab.kernel.invokeFunction('convertToInteractive',\n",
              "                                                     [key], {});\n",
              "          if (!dataTable) return;\n",
              "\n",
              "          const docLinkHtml = 'Like what you see? Visit the ' +\n",
              "            '<a target=\"_blank\" href=https://colab.research.google.com/notebooks/data_table.ipynb>data table notebook</a>'\n",
              "            + ' to learn more about interactive tables.';\n",
              "          element.innerHTML = '';\n",
              "          dataTable['output_type'] = 'display_data';\n",
              "          await google.colab.output.renderOutput(dataTable, element);\n",
              "          const docLink = document.createElement('div');\n",
              "          docLink.innerHTML = docLinkHtml;\n",
              "          element.appendChild(docLink);\n",
              "        }\n",
              "      </script>\n",
              "    </div>\n",
              "  </div>\n",
              "  "
            ]
          },
          "metadata": {},
          "execution_count": 6
        }
      ]
    },
    {
      "cell_type": "code",
      "source": [
        "# Normalize rating về dạng -1 -> 1 (-1 = ghét, 1 = thích)\n",
        "ratings[\"y\"] = ratings[\"rating\"]/2.5-1\n",
        "\n",
        "# Kiểm tra rating trong khoảng -1 -> 1\n",
        "ratings.groupby(\"y\")[\"y\"].count().plot(kind='bar')"
      ],
      "metadata": {
        "colab": {
          "base_uri": "https://localhost:8080/",
          "height": 419
        },
        "id": "BrwYHetxCiIw",
        "outputId": "8e168371-501d-4855-aa83-4ff91b820d3a"
      },
      "execution_count": 7,
      "outputs": [
        {
          "output_type": "execute_result",
          "data": {
            "text/plain": [
              "<matplotlib.axes._subplots.AxesSubplot at 0x7f397121e9d0>"
            ]
          },
          "metadata": {},
          "execution_count": 7
        },
        {
          "output_type": "display_data",
          "data": {
            "text/plain": [
              "<Figure size 432x288 with 1 Axes>"
            ],
            "image/png": "[encoded data removed]"
          },
          "metadata": {
            "needs_background": "light"
          }
        }
      ]
    },
    {
      "cell_type": "markdown",
      "source": [
        "# Model v2.2\n",
        "Gộp tất cả các bước tiền xử lý vào model "
      ],
      "metadata": {
        "id": "HfA78F8HRVJR"
      }
    },
    {
      "cell_type": "code",
      "source": [
        "# Chia dữ liệu thành các tập cho model clustering, nhãn recommendation và test\n",
        "#     warm_up_mask: ratings đã quan sát\n",
        "#     target: rating dùng để đánh giá kết quả recommend của module recommend cho từng người dùng\n",
        "#     test: đánh giá độc lập\n",
        "# TODO: chia tập dữ liệu theo user-wise => đánh giá với những user hoàn toàn mới thì model có học được không?\n",
        "# v2.1. gộp warm_up và mask thành 1\n",
        "def dataset_split(ratings):\n",
        "    train, test = train_test_split(ratings, test_size= 0.25)\n",
        "    warm_up_mask, target = train_test_split(train, test_size= 0.25)\n",
        "    return warm_up_mask, target, test\n",
        "\n",
        "warm_up_mask, target, test = dataset_split(ratings)"
      ],
      "metadata": {
        "id": "90sKne1ZRc5F"
      },
      "execution_count": 8,
      "outputs": []
    },
    {
      "cell_type": "code",
      "source": [
        "# Kiểm tra số lượng ratings\n",
        "warm_up_mask.shape[0], target.shape[0], test.shape[0]"
      ],
      "metadata": {
        "colab": {
          "base_uri": "https://localhost:8080/"
        },
        "id": "fiRtTNy1ScIa",
        "outputId": "5525847a-00fd-47d1-e183-abcb6ed1005a"
      },
      "execution_count": 9,
      "outputs": [
        {
          "output_type": "execute_result",
          "data": {
            "text/plain": [
              "(11250147, 3750050, 5000066)"
            ]
          },
          "metadata": {},
          "execution_count": 9
        }
      ]
    },
    {
      "cell_type": "code",
      "source": [
        "# v2.2: chỉ groupby, không padding\n",
        "def get_interaction_set(interaction, max_item = None, top_k_item = None):\n",
        "    \"\"\"\n",
        "    Input:\n",
        "        interaction: df[userCol, itemCol, y]: dữ liệu đầu vào\n",
        "        max_item: int: item num limit\n",
        "    Output:\n",
        "        df, itemCol: list, y: list, itemCol_str: string, userCol as index\n",
        "        list item sắp xếp theo giảm dần độ lớn rating\n",
        "    \"\"\"\n",
        "    items = ratings.groupby(itemCol).count().sort_values(by=userCol, ascending=False)\n",
        "    if top_k_item is not None:\n",
        "        top_items = items.head(top_k_item).index\n",
        "        interaction = interaction[interaction[itemCol].isin(top_items)]\n",
        "    else:\n",
        "        top_items = items.index\n",
        "\n",
        "    # Sắp xếp item theo thứ tự giảm dần rating (về sau cắt padding sẽ ưu tiên giữ lại item có rating cao)\n",
        "    rindex = interaction.groupby(userCol)[\"y\"].transform(lambda grp: grp.sort_values(ascending=False).index)\n",
        "    interaction = interaction.reindex(rindex)\n",
        "    \n",
        "    # Chuyển thành warm-up set theo từng user\n",
        "    interaction = interaction.groupby(\"userId\").agg({itemCol:list, \"y\":list})\n",
        "\n",
        "    # Giới hạn độ dài warm_up size\n",
        "    if max_item is not None:\n",
        "        interaction[itemCol] = interaction[itemCol].apply(lambda x: x[0:max_item])\n",
        "        interaction[\"y\"] = interaction[\"y\"].apply(lambda x: x[0:max_item])\n",
        "\n",
        "    return interaction, top_items\n",
        "\n",
        "top_k_item = 5000\n",
        "wu_size = 200\n",
        "mask_size = 50\n",
        "max_item = wu_size + mask_size\n",
        "\n",
        "interac_df, top_items = get_interaction_set(warm_up_mask[warm_up_mask[userCol]<1000]\n",
        "                    , max_item = max_item\n",
        "                    , top_k_item = top_k_item )\n",
        "interac_df"
      ],
      "metadata": {
        "colab": {
          "base_uri": "https://localhost:8080/",
          "height": 450
        },
        "id": "C3ukIA2SS00l",
        "outputId": "3b807c1f-04c7-446f-ac1d-832d278f5ab2"
      },
      "execution_count": 547,
      "outputs": [
        {
          "output_type": "execute_result",
          "data": {
            "text/plain": [
              "                                                  movieId  \\\n",
              "userId                                                      \n",
              "1       [7153, 4754, 1333, 1036, 4911, 1215, 1358, 217...   \n",
              "2       [1270, 2948, 3928, 1327, 1748, 62, 541, 589, 2...   \n",
              "3       [2009, 260, 1084, 2968, 316, 2117, 1213, 858, ...   \n",
              "4       [733, 454, 377, 594, 489, 356, 368, 480, 596, ...   \n",
              "5       [1210, 595, 1097, 780, 318, 594, 260, 1198, 45...   \n",
              "...                                                   ...   \n",
              "995     [4878, 1967, 31878, 3819, 6618, 1527, 1197, 89...   \n",
              "996     [110, 457, 527, 590, 380, 150, 597, 344, 539, ...   \n",
              "997     [4995, 4226, 1089, 7153, 55118, 4011, 3578, 54...   \n",
              "998     [1014, 534, 4499, 2966, 4995, 1035, 4537, 932,...   \n",
              "999     [260, 1073, 17, 648, 62, 780, 95, 653, 708, 78...   \n",
              "\n",
              "                                                        y  \n",
              "userId                                                     \n",
              "1       [1.0, 0.6000000000000001, 0.6000000000000001, ...  \n",
              "2       [1.0, 1.0, 1.0, 1.0, 1.0, 1.0, 1.0, 1.0, 1.0, ...  \n",
              "3       [1.0, 1.0, 1.0, 1.0, 1.0, 1.0, 1.0, 1.0, 1.0, ...  \n",
              "4       [1.0, 1.0, 0.6000000000000001, 0.6000000000000...  \n",
              "5       [1.0, 1.0, 1.0, 1.0, 1.0, 1.0, 1.0, 1.0, 1.0, ...  \n",
              "...                                                   ...  \n",
              "995     [1.0, 1.0, 0.8, 0.8, 0.8, 0.8, 0.8, 0.8, 0.8, ...  \n",
              "996     [1.0, 1.0, 1.0, 0.6000000000000001, 0.60000000...  \n",
              "997     [0.8, 0.8, 0.8, 0.8, 0.8, 0.8, 0.8, 0.8, 0.600...  \n",
              "998     [1.0, 1.0, 1.0, 1.0, 1.0, 1.0, 1.0, 1.0, 1.0, ...  \n",
              "999     [1.0, 1.0, 0.6000000000000001, 0.6000000000000...  \n",
              "\n",
              "[999 rows x 2 columns]"
            ],
            "text/html": [
              "\n",
              "  <div id=\"df-d3df7d08-d44d-4ccf-9c67-0098ddb6f332\">\n",
              "    <div class=\"colab-df-container\">\n",
              "      <div>\n",
              "<style scoped>\n",
              "    .dataframe tbody tr th:only-of-type {\n",
              "        vertical-align: middle;\n",
              "    }\n",
              "\n",
              "    .dataframe tbody tr th {\n",
              "        vertical-align: top;\n",
              "    }\n",
              "\n",
              "    .dataframe thead th {\n",
              "        text-align: right;\n",
              "    }\n",
              "</style>\n",
              "<table border=\"1\" class=\"dataframe\">\n",
              "  <thead>\n",
              "    <tr style=\"text-align: right;\">\n",
              "      <th></th>\n",
              "      <th>movieId</th>\n",
              "      <th>y</th>\n",
              "    </tr>\n",
              "    <tr>\n",
              "      <th>userId</th>\n",
              "      <th></th>\n",
              "      <th></th>\n",
              "    </tr>\n",
              "  </thead>\n",
              "  <tbody>\n",
              "    <tr>\n",
              "      <th>1</th>\n",
              "      <td>[7153, 4754, 1333, 1036, 4911, 1215, 1358, 217...</td>\n",
              "      <td>[1.0, 0.6000000000000001, 0.6000000000000001, ...</td>\n",
              "    </tr>\n",
              "    <tr>\n",
              "      <th>2</th>\n",
              "      <td>[1270, 2948, 3928, 1327, 1748, 62, 541, 589, 2...</td>\n",
              "      <td>[1.0, 1.0, 1.0, 1.0, 1.0, 1.0, 1.0, 1.0, 1.0, ...</td>\n",
              "    </tr>\n",
              "    <tr>\n",
              "      <th>3</th>\n",
              "      <td>[2009, 260, 1084, 2968, 316, 2117, 1213, 858, ...</td>\n",
              "      <td>[1.0, 1.0, 1.0, 1.0, 1.0, 1.0, 1.0, 1.0, 1.0, ...</td>\n",
              "    </tr>\n",
              "    <tr>\n",
              "      <th>4</th>\n",
              "      <td>[733, 454, 377, 594, 489, 356, 368, 480, 596, ...</td>\n",
              "      <td>[1.0, 1.0, 0.6000000000000001, 0.6000000000000...</td>\n",
              "    </tr>\n",
              "    <tr>\n",
              "      <th>5</th>\n",
              "      <td>[1210, 595, 1097, 780, 318, 594, 260, 1198, 45...</td>\n",
              "      <td>[1.0, 1.0, 1.0, 1.0, 1.0, 1.0, 1.0, 1.0, 1.0, ...</td>\n",
              "    </tr>\n",
              "    <tr>\n",
              "      <th>...</th>\n",
              "      <td>...</td>\n",
              "      <td>...</td>\n",
              "    </tr>\n",
              "    <tr>\n",
              "      <th>995</th>\n",
              "      <td>[4878, 1967, 31878, 3819, 6618, 1527, 1197, 89...</td>\n",
              "      <td>[1.0, 1.0, 0.8, 0.8, 0.8, 0.8, 0.8, 0.8, 0.8, ...</td>\n",
              "    </tr>\n",
              "    <tr>\n",
              "      <th>996</th>\n",
              "      <td>[110, 457, 527, 590, 380, 150, 597, 344, 539, ...</td>\n",
              "      <td>[1.0, 1.0, 1.0, 0.6000000000000001, 0.60000000...</td>\n",
              "    </tr>\n",
              "    <tr>\n",
              "      <th>997</th>\n",
              "      <td>[4995, 4226, 1089, 7153, 55118, 4011, 3578, 54...</td>\n",
              "      <td>[0.8, 0.8, 0.8, 0.8, 0.8, 0.8, 0.8, 0.8, 0.600...</td>\n",
              "    </tr>\n",
              "    <tr>\n",
              "      <th>998</th>\n",
              "      <td>[1014, 534, 4499, 2966, 4995, 1035, 4537, 932,...</td>\n",
              "      <td>[1.0, 1.0, 1.0, 1.0, 1.0, 1.0, 1.0, 1.0, 1.0, ...</td>\n",
              "    </tr>\n",
              "    <tr>\n",
              "      <th>999</th>\n",
              "      <td>[260, 1073, 17, 648, 62, 780, 95, 653, 708, 78...</td>\n",
              "      <td>[1.0, 1.0, 0.6000000000000001, 0.6000000000000...</td>\n",
              "    </tr>\n",
              "  </tbody>\n",
              "</table>\n",
              "<p>999 rows × 2 columns</p>\n",
              "</div>\n",
              "      <button class=\"colab-df-convert\" onclick=\"convertToInteractive('df-d3df7d08-d44d-4ccf-9c67-0098ddb6f332')\"\n",
              "              title=\"Convert this dataframe to an interactive table.\"\n",
              "              style=\"display:none;\">\n",
              "        \n",
              "  <svg xmlns=\"http://www.w3.org/2000/svg\" height=\"24px\"viewBox=\"0 0 24 24\"\n",
              "       width=\"24px\">\n",
              "    <path d=\"M0 0h24v24H0V0z\" fill=\"none\"/>\n",
              "    <path d=\"M18.56 5.44l.94 2.06.94-2.06 2.06-.94-2.06-.94-.94-2.06-.94 2.06-2.06.94zm-11 1L8.5 8.5l.94-2.06 2.06-.94-2.06-.94L8.5 2.5l-.94 2.06-2.06.94zm10 10l.94 2.06.94-2.06 2.06-.94-2.06-.94-.94-2.06-.94 2.06-2.06.94z\"/><path d=\"M17.41 7.96l-1.37-1.37c-.4-.4-.92-.59-1.43-.59-.52 0-1.04.2-1.43.59L10.3 9.45l-7.72 7.72c-.78.78-.78 2.05 0 2.83L4 21.41c.39.39.9.59 1.41.59.51 0 1.02-.2 1.41-.59l7.78-7.78 2.81-2.81c.8-.78.8-2.07 0-2.86zM5.41 20L4 18.59l7.72-7.72 1.47 1.35L5.41 20z\"/>\n",
              "  </svg>\n",
              "      </button>\n",
              "      \n",
              "  <style>\n",
              "    .colab-df-container {\n",
              "      display:flex;\n",
              "      flex-wrap:wrap;\n",
              "      gap: 12px;\n",
              "    }\n",
              "\n",
              "    .colab-df-convert {\n",
              "      background-color: #E8F0FE;\n",
              "      border: none;\n",
              "      border-radius: 50%;\n",
              "      cursor: pointer;\n",
              "      display: none;\n",
              "      fill: #1967D2;\n",
              "      height: 32px;\n",
              "      padding: 0 0 0 0;\n",
              "      width: 32px;\n",
              "    }\n",
              "\n",
              "    .colab-df-convert:hover {\n",
              "      background-color: #E2EBFA;\n",
              "      box-shadow: 0px 1px 2px rgba(60, 64, 67, 0.3), 0px 1px 3px 1px rgba(60, 64, 67, 0.15);\n",
              "      fill: #174EA6;\n",
              "    }\n",
              "\n",
              "    [theme=dark] .colab-df-convert {\n",
              "      background-color: #3B4455;\n",
              "      fill: #D2E3FC;\n",
              "    }\n",
              "\n",
              "    [theme=dark] .colab-df-convert:hover {\n",
              "      background-color: #434B5C;\n",
              "      box-shadow: 0px 1px 3px 1px rgba(0, 0, 0, 0.15);\n",
              "      filter: drop-shadow(0px 1px 2px rgba(0, 0, 0, 0.3));\n",
              "      fill: #FFFFFF;\n",
              "    }\n",
              "  </style>\n",
              "\n",
              "      <script>\n",
              "        const buttonEl =\n",
              "          document.querySelector('#df-d3df7d08-d44d-4ccf-9c67-0098ddb6f332 button.colab-df-convert');\n",
              "        buttonEl.style.display =\n",
              "          google.colab.kernel.accessAllowed ? 'block' : 'none';\n",
              "\n",
              "        async function convertToInteractive(key) {\n",
              "          const element = document.querySelector('#df-d3df7d08-d44d-4ccf-9c67-0098ddb6f332');\n",
              "          const dataTable =\n",
              "            await google.colab.kernel.invokeFunction('convertToInteractive',\n",
              "                                                     [key], {});\n",
              "          if (!dataTable) return;\n",
              "\n",
              "          const docLinkHtml = 'Like what you see? Visit the ' +\n",
              "            '<a target=\"_blank\" href=https://colab.research.google.com/notebooks/data_table.ipynb>data table notebook</a>'\n",
              "            + ' to learn more about interactive tables.';\n",
              "          element.innerHTML = '';\n",
              "          dataTable['output_type'] = 'display_data';\n",
              "          await google.colab.output.renderOutput(dataTable, element);\n",
              "          const docLink = document.createElement('div');\n",
              "          docLink.innerHTML = docLinkHtml;\n",
              "          element.appendChild(docLink);\n",
              "        }\n",
              "      </script>\n",
              "    </div>\n",
              "  </div>\n",
              "  "
            ]
          },
          "metadata": {},
          "execution_count": 547
        }
      ]
    },
    {
      "cell_type": "code",
      "source": [
        "np.min(top_items)"
      ],
      "metadata": {
        "colab": {
          "base_uri": "https://localhost:8080/"
        },
        "id": "pU2Tee0L9cxp",
        "outputId": "fe1e06da-757f-46e0-c0cb-7759197f2416"
      },
      "execution_count": 611,
      "outputs": [
        {
          "output_type": "execute_result",
          "data": {
            "text/plain": [
              "1"
            ]
          },
          "metadata": {},
          "execution_count": 611
        }
      ]
    },
    {
      "cell_type": "markdown",
      "source": [
        "### Xây dựng encoder model\n",
        "Encoder =  interaction embedding + user feature embedding<br> \n",
        "interaction embedding = sum( interaction embedding các item i)<br> \n",
        "interaction embedding item i = rating x (embedding id sản phẩm + embedding item feature)<br>\n",
        "\n"
      ],
      "metadata": {
        "id": "Sbp1tH7yUeI6"
      }
    },
    {
      "cell_type": "code",
      "source": [
        "%%time\n",
        "# Vectorize (encode + padding) item list\n",
        "max_vocab_size = len(top_items) # nếu số item có <= top_k_item => lấy số lượng item max\n",
        "items_str = ' '.join([str(i) for i in top_items])\n",
        "itemStr = itemCol+\"_str\"\n",
        "\n",
        "vectorizer = layers.TextVectorization( max_tokens= top_k_item, split='whitespace', output_sequence_length= wu_size, name = 'vectorizer')\n",
        "vectorizer.adapt( [items_str] ) "
      ],
      "metadata": {
        "colab": {
          "base_uri": "https://localhost:8080/"
        },
        "id": "QxNyuo9-WJJG",
        "outputId": "cc70ef67-37fe-4170-fa0d-eb086191563a"
      },
      "execution_count": 548,
      "outputs": [
        {
          "output_type": "stream",
          "name": "stdout",
          "text": [
            "CPU times: user 111 ms, sys: 3.98 ms, total: 115 ms\n",
            "Wall time: 115 ms\n"
          ]
        }
      ]
    },
    {
      "cell_type": "markdown",
      "source": [
        ""
      ],
      "metadata": {
        "id": "z-5jOm5yWrrw"
      }
    },
    {
      "cell_type": "code",
      "source": [
        "class Broadcasting_Multiply(tf.keras.layers.Layer):\n",
        "    \"\"\"Nhân 2 layers khác shape với nhau, trong đó:\n",
        "    inputs=[layer1, layer2]\n",
        "    layer1.shape = (None, n_item, n_feature)\n",
        "    layer2.shape = (None, n_item)\n",
        "    (Chú ý đúng thứ tự)\n",
        "    \"\"\"\n",
        "\n",
        "    def call(self, inputs):\n",
        "        x, y = inputs\n",
        "\n",
        "        #we add the extra dimension:\n",
        "        y = K.expand_dims(y, axis=-1)\n",
        "        #we replicate the elements\n",
        "        y = K.repeat_elements(y, rep=x.shape[2], axis=-1)\n",
        "\n",
        "        return x * y"
      ],
      "metadata": {
        "id": "1U7EQG6zWpi9"
      },
      "execution_count": 636,
      "outputs": []
    },
    {
      "cell_type": "code",
      "source": [
        "# Xây dựng mạng\n",
        "embedding_size = 200\n",
        "reps_size = 150\n",
        "cluster_num = 50\n",
        "\n",
        "def interaction_embedding():\n",
        "\n",
        "    input_wi = layers.Input(shape=(1,), name='input_wi')\n",
        "    wi = vectorizer(input_wi)\n",
        "    wi = layers.Embedding(input_dim= max_vocab_size, output_dim= embedding_size, mask_zero= True, name='ei')(wi)\n",
        "    wi = layers.Dense(embedding_size, activation='linear', name='di')(wi)\n",
        "\n",
        "    wr = layers.Input(shape=(wu_size,), name='warm_up_ratings')\n",
        "\n",
        "    ireps = Broadcasting_Multiply(name='mul')([wi, wr])\n",
        "    uprofile = layers.Lambda(lambda z: K.mean(z, axis=1), name='lambda')(ireps)\n",
        "\n",
        "    # uprofile = layers.LayerNormalization(name='norm')(uprofile)\n",
        "    uprofile = layers.Dense( reps_size, activation='linear', name='du')(uprofile)\n",
        "    uprofile = layers.Dense(cluster_num, activation='sigmoid', name='clustering')(uprofile)\n",
        "    \n",
        "    model = tf.keras.Model(inputs= [input_wi, wr], outputs=[uprofile])\n",
        "    return model\n",
        "\n",
        "encode_model = interaction_embedding()"
      ],
      "metadata": {
        "id": "--fbIsGLXjPD"
      },
      "execution_count": 637,
      "outputs": []
    },
    {
      "cell_type": "code",
      "source": [
        "# Kiểm tra tham số\n",
        "encode_model.summary()"
      ],
      "metadata": {
        "colab": {
          "base_uri": "https://localhost:8080/"
        },
        "id": "cJMxOoxzXvr_",
        "outputId": "d29a18fb-fbc0-49ca-b6da-33da043fea32"
      },
      "execution_count": 638,
      "outputs": [
        {
          "output_type": "stream",
          "name": "stdout",
          "text": [
            "Model: \"model_125\"\n",
            "__________________________________________________________________________________________________\n",
            " Layer (type)                   Output Shape         Param #     Connected to                     \n",
            "==================================================================================================\n",
            " input_wi (InputLayer)          [(None, 1)]          0           []                               \n",
            "                                                                                                  \n",
            " vectorizer (TextVectorization)  (None, 200)         0           ['input_wi[0][0]']               \n",
            "                                                                                                  \n",
            " ei (Embedding)                 (None, 200, 200)     1000000     ['vectorizer[2][0]']             \n",
            "                                                                                                  \n",
            " di (Dense)                     (None, 200, 200)     40200       ['ei[0][0]']                     \n",
            "                                                                                                  \n",
            " warm_up_ratings (InputLayer)   [(None, 200)]        0           []                               \n",
            "                                                                                                  \n",
            " mul (Broadcasting_Multiply)    (None, 200, 200)     0           ['di[0][0]',                     \n",
            "                                                                  'warm_up_ratings[0][0]']        \n",
            "                                                                                                  \n",
            " lambda (Lambda)                (None, 200)          0           ['mul[0][0]']                    \n",
            "                                                                                                  \n",
            " du (Dense)                     (None, 150)          30150       ['lambda[0][0]']                 \n",
            "                                                                                                  \n",
            " clustering (Dense)             (None, 50)           7550        ['du[0][0]']                     \n",
            "                                                                                                  \n",
            "==================================================================================================\n",
            "Total params: 1,077,900\n",
            "Trainable params: 1,077,900\n",
            "Non-trainable params: 0\n",
            "__________________________________________________________________________________________________\n"
          ]
        }
      ]
    },
    {
      "cell_type": "code",
      "source": [
        "# tf.keras.utils.plot_model( encode_model ,show_shapes=True, show_dtype=True, show_layer_names=True )"
      ],
      "metadata": {
        "id": "PuAM8w01Xy93"
      },
      "execution_count": 639,
      "outputs": []
    },
    {
      "cell_type": "markdown",
      "source": [
        "### Ground truth\n",
        "Nhận vào text (gồm các mã id sản phẩm) và ratings => chuyển thành vector theo từng user <br>\n",
        "Dựng ground trust onehot bằng trung bình rating onehot"
      ],
      "metadata": {
        "id": "t5vQ9PXoX-OJ"
      }
    },
    {
      "cell_type": "code",
      "source": [
        "%%time\n",
        "# Vectorize (encode + padding) item list\n",
        "maskvec = layers.TextVectorization( max_tokens=max_vocab_size, split='whitespace', output_sequence_length= mask_size, name = 'maskvec')\n",
        "maskvec.adapt( [items_str] ) "
      ],
      "metadata": {
        "colab": {
          "base_uri": "https://localhost:8080/"
        },
        "id": "8vPWr-67aOVS",
        "outputId": "991b3244-5713-4866-91e0-f7738b4d9576"
      },
      "execution_count": 640,
      "outputs": [
        {
          "output_type": "stream",
          "name": "stdout",
          "text": [
            "CPU times: user 132 ms, sys: 53 µs, total: 132 ms\n",
            "Wall time: 143 ms\n"
          ]
        }
      ]
    },
    {
      "cell_type": "code",
      "source": [
        "# Xây dựng mạng\n",
        "def eye_initializer(shape_list, dtype):\n",
        "    return tf.eye(max_vocab_size)\n",
        "\n",
        "def mask_label():\n",
        "\n",
        "    input_mi = layers.Input(shape=(1,), name='input_mask')\n",
        "    mi = maskvec(input_mi)\n",
        "    mi = layers.Embedding(input_dim= max_vocab_size, output_dim= max_vocab_size, embeddings_initializer = eye_initializer, trainable=False)(mi)\n",
        "\n",
        "    input_mr = layers.Input(shape=(mask_size,), name='mask_rating')\n",
        "\n",
        "    ireps = Broadcasting_Multiply()([mi, input_mr])\n",
        "    uprofile = layers.Lambda(lambda z: K.sum(z, axis=1), name='lambda')(ireps)\n",
        "    \n",
        "    model = tf.keras.Model(inputs= [input_mi, input_mr], outputs=[uprofile])\n",
        "    return model\n",
        "\n",
        "# Với bộ data không có user demographic thì ecoder = interaction_embedding, nếu có thì encoder = interaction_embedding concat user demo\n",
        "dencode_model = mask_label()"
      ],
      "metadata": {
        "id": "PuNTMa0xYDAK"
      },
      "execution_count": 641,
      "outputs": []
    },
    {
      "cell_type": "code",
      "source": [
        "# maskvec2 = layers.TextVectorization( max_tokens=6, split='whitespace', output_sequence_length= 5)\n",
        "\n",
        "# # model._preprocess( [interac_df[itemCol], interac_df[\"y\"]], padding_size = wu_size )\n",
        "# #input_mi = layers.Input(shape=(1,), name='input_mask')\n",
        "# def eye_initializer2(shape_list, dtype):\n",
        "#     return tf.eye(6)\n",
        "\n",
        "# input_mi = ['1 2 3 4']\n",
        "# input_mr = np.array([1, 0.6, -0.9, 0.2, 0])\n",
        "# maskvec2.adapt( input_mi) \n",
        "\n",
        "# mi = maskvec2(input_mi)\n",
        "# print(mi)\n",
        "# mi = layers.Embedding(input_dim= 6, output_dim= 6, embeddings_initializer = eye_initializer2, trainable=False)(mi)\n",
        "# print(mi)\n",
        "\n",
        "# ireps = Broadcasting_Multiply()([mi, input_mr])\n",
        "# print(ireps)\n",
        "\n",
        "# uprofile = layers.Lambda(lambda z: K.sum(z, axis=1), name='lambda')(ireps)\n",
        "# print(uprofile)\n"
      ],
      "metadata": {
        "id": "pWfDmMYQ8FSn"
      },
      "execution_count": 642,
      "outputs": []
    },
    {
      "cell_type": "code",
      "source": [
        "# Kiểm tra số lượng tham số, đảm bảo layer embedding không có trainable param\n",
        "dencode_model.summary()"
      ],
      "metadata": {
        "colab": {
          "base_uri": "https://localhost:8080/"
        },
        "id": "Z6ZLWt-Ga_qs",
        "outputId": "26a94938-dedb-416b-c549-060e45be048b"
      },
      "execution_count": 643,
      "outputs": [
        {
          "output_type": "stream",
          "name": "stdout",
          "text": [
            "Model: \"model_126\"\n",
            "__________________________________________________________________________________________________\n",
            " Layer (type)                   Output Shape         Param #     Connected to                     \n",
            "==================================================================================================\n",
            " input_mask (InputLayer)        [(None, 1)]          0           []                               \n",
            "                                                                                                  \n",
            " maskvec (TextVectorization)    (None, 50)           0           ['input_mask[0][0]']             \n",
            "                                                                                                  \n",
            " embedding_66 (Embedding)       (None, 50, 5000)     25000000    ['maskvec[0][0]']                \n",
            "                                                                                                  \n",
            " mask_rating (InputLayer)       [(None, 50)]         0           []                               \n",
            "                                                                                                  \n",
            " broadcasting__multiply_45 (Bro  (None, 50, 5000)    0           ['embedding_66[0][0]',           \n",
            " adcasting_Multiply)                                              'mask_rating[0][0]']            \n",
            "                                                                                                  \n",
            " lambda (Lambda)                (None, 5000)         0           ['broadcasting__multiply_45[0][0]\n",
            "                                                                 ']                               \n",
            "                                                                                                  \n",
            "==================================================================================================\n",
            "Total params: 25,000,000\n",
            "Trainable params: 0\n",
            "Non-trainable params: 25,000,000\n",
            "__________________________________________________________________________________________________\n"
          ]
        }
      ]
    },
    {
      "cell_type": "markdown",
      "source": [
        "### Mapping dims"
      ],
      "metadata": {
        "id": "bWKyminnbGyA"
      }
    },
    {
      "cell_type": "code",
      "source": [
        "# Mapping số chiều của clustering model với số chiều của label\n",
        "\n",
        "def get_reps_model():\n",
        "\n",
        "    input_reps = layers.Input(shape=(cluster_num), name='input_reps')\n",
        "    reps = layers.Dense(max_vocab_size, activation='tanh', name='representations')(input_reps)\n",
        "    \n",
        "    model = tf.keras.Model(inputs= [input_reps], outputs=[reps])\n",
        "    return model\n",
        "\n",
        "reps_model = get_reps_model()"
      ],
      "metadata": {
        "id": "l7gACm3jbIrM"
      },
      "execution_count": 688,
      "outputs": []
    },
    {
      "cell_type": "code",
      "source": [
        "# Check số lượng tham số \n",
        "reps_model.summary()"
      ],
      "metadata": {
        "colab": {
          "base_uri": "https://localhost:8080/"
        },
        "id": "OXV7OYa9bfxd",
        "outputId": "9ede1dea-9911-46af-98ee-54dcf190eb11"
      },
      "execution_count": 689,
      "outputs": [
        {
          "output_type": "stream",
          "name": "stdout",
          "text": [
            "Model: \"model_134\"\n",
            "_________________________________________________________________\n",
            " Layer (type)                Output Shape              Param #   \n",
            "=================================================================\n",
            " input_reps (InputLayer)     [(None, 50)]              0         \n",
            "                                                                 \n",
            " representations (Dense)     (None, 5000)              255000    \n",
            "                                                                 \n",
            "=================================================================\n",
            "Total params: 255,000\n",
            "Trainable params: 255,000\n",
            "Non-trainable params: 0\n",
            "_________________________________________________________________\n"
          ]
        }
      ]
    },
    {
      "cell_type": "code",
      "source": [
        "class Efficient_Rec(tf.keras.Model):\n",
        "  def __init__(self, encoder, decoder, reps, use_tf_function=False):\n",
        "    super().__init__()\n",
        "    self.use_tf_function = use_tf_function\n",
        "\n",
        "    # Build the encoder and decoder\n",
        "    # encoder = interaction_embedding()\n",
        "    # reps = get_reps_model()\n",
        "    # decoder = mask_label()\n",
        "\n",
        "    self.encoder = encoder\n",
        "    self.decoder = decoder\n",
        "    self.reps = reps\n",
        "\n",
        "  def train_step(self, inputs):\n",
        "    if self.use_tf_function:\n",
        "      return self._tf_train_step(inputs)\n",
        "    else:\n",
        "      return self._train_step(inputs)"
      ],
      "metadata": {
        "id": "XtrIkMaRbo6v"
      },
      "execution_count": 690,
      "outputs": []
    },
    {
      "cell_type": "code",
      "source": [
        "def _wu_mask_split(self, batch_inputs, mask_ratio = 0.25):\n",
        "    \"Chia ratings và items thành mask, warm up\"\n",
        "    input_items, input_ratings = batch_inputs[itemCol], batch_inputs[\"y\"]\n",
        "\n",
        "    def list_split(input, mask_ratio = 0.25, seed= 42):\n",
        "        return train_test_split(input[0:(wu_size+mask_size)], test_size= mask_ratio, random_state=seed)\n",
        "\n",
        "    seed = random.randint(1, 100)\n",
        "    items = input_items.apply(lambda x: list_split(x, mask_ratio, seed))\n",
        "    ratings = input_ratings.apply(lambda x: list_split(x, mask_ratio, seed))\n",
        "\n",
        "    wu_item_list = items.apply(lambda x: x[0])\n",
        "    mask_item_list = items.apply(lambda x: x[1])\n",
        "\n",
        "    wu_rating_list = ratings.apply(lambda x: x[0])\n",
        "    mask_rating_list = ratings.apply(lambda x: x[1])\n",
        "    return (wu_item_list, wu_rating_list), (mask_item_list, mask_rating_list)\n",
        "\n",
        "Efficient_Rec._wu_mask_split = _wu_mask_split"
      ],
      "metadata": {
        "id": "mZtGCHBnjcCg"
      },
      "execution_count": 691,
      "outputs": []
    },
    {
      "cell_type": "code",
      "source": [
        "def _preprocess(self, inputs, padding_size = 100):\n",
        "    \"\"\"\n",
        "    Padding về wu_size và mask_size, convert list of items => string of items\n",
        "    batch_inputs: df: itemStr, y\"\"\"\n",
        "\n",
        "    def padding_list(list_item, wu_size, value=0, is_padding=True):\n",
        "        series_item1 = list_item[0:wu_size]\n",
        "        if is_padding:\n",
        "            series_item1 = series_item1+[value]*(wu_size-len(series_item1))\n",
        "        return series_item1\n",
        "\n",
        "    items_list, ratings_list = inputs\n",
        "\n",
        "    items   = items_list.apply(lambda x: ' '.join(list([str(i) for i in x])))\n",
        "    ratings =   np.stack( ratings_list.apply(lambda x: padding_list( x, padding_size  ) ) )\n",
        "\n",
        "    return items, ratings\n",
        "\n",
        "Efficient_Rec._preprocess = _preprocess"
      ],
      "metadata": {
        "id": "OvIJP8m7bvaF"
      },
      "execution_count": 692,
      "outputs": []
    },
    {
      "cell_type": "code",
      "source": [
        "def _train_step(self, inputs):\n",
        "    warm_up, mask = self._wu_mask_split(inputs, mask_ratio = 0.25)\n",
        "    wu_items, wu_ratings = self._preprocess(warm_up, wu_size)\n",
        "    mask_item, mask_ratings = self._preprocess(mask, mask_size)\n",
        "\n",
        "    with tf.GradientTape() as tape:\n",
        "        # Encode the input\n",
        "        wu_vec = self.encoder([wu_items, wu_ratings])\n",
        "        y_pred = self.reps(wu_vec)\n",
        "\n",
        "        # Encde the output\n",
        "        mask_vec = self.decoder([mask_item, mask_ratings])\n",
        "\n",
        "        average_loss = self.loss(mask_vec, y_pred)\n",
        "\n",
        "    # Apply an optimization step\n",
        "    variables = self.trainable_variables \n",
        "    gradients = tape.gradient(average_loss, variables)\n",
        "    self.optimizer.apply_gradients(zip(gradients, variables))\n",
        "\n",
        "    # Return a dict mapping metric names to current value\n",
        "    return {'batch_loss': average_loss}\n",
        "\n",
        "Efficient_Rec._train_step = _train_step"
      ],
      "metadata": {
        "id": "gzoNOhtuhHlu"
      },
      "execution_count": 693,
      "outputs": []
    },
    {
      "cell_type": "code",
      "source": [
        "np.ones(0)"
      ],
      "metadata": {
        "colab": {
          "base_uri": "https://localhost:8080/"
        },
        "id": "H8pnyVZaxU0q",
        "outputId": "4cd5b814-9e04-4e89-ec9b-e43b62813180"
      },
      "execution_count": 694,
      "outputs": [
        {
          "output_type": "execute_result",
          "data": {
            "text/plain": [
              "array([], dtype=float64)"
            ]
          },
          "metadata": {},
          "execution_count": 694
        }
      ]
    },
    {
      "cell_type": "code",
      "source": [
        "def Focus2(alpha=0.01):\n",
        "    def cal_los(y_true, y_pred):\n",
        "        y_pred = tf.cast(y_pred, tf.float32)\n",
        "        y_true = tf.cast(y_true, tf.float32)\n",
        "\n",
        "        positive_true = y_true[y_true!=0]\n",
        "        positive_pred = y_pred[y_true!=0]\n",
        "        los1 = K.abs(positive_true-positive_pred )\n",
        "\n",
        "        zero_true = y_true[y_true==0]\n",
        "        zero_pred = y_pred[y_true==0]\n",
        "        los2 =alpha*  K.abs(zero_true-zero_pred )\n",
        "\n",
        "\n",
        "        return K.sum( tf.concat([los1, los2], axis=0) )/( positive_true.shape[0] + alpha * zero_true.shape[0])\n",
        "    return cal_los\n",
        "\n",
        "y_true = tf.constant([1,0.2,0.1,1])\n",
        "y_pred = tf.constant([1,0,5.2,1.005])\n",
        "\n",
        "Focus2(0.01)(y_true, y_pred)"
      ],
      "metadata": {
        "colab": {
          "base_uri": "https://localhost:8080/"
        },
        "id": "pgYmc_p_ht_Q",
        "outputId": "49f2896c-c1da-4566-bf23-54f62650b08f"
      },
      "execution_count": 695,
      "outputs": [
        {
          "output_type": "execute_result",
          "data": {
            "text/plain": [
              "<tf.Tensor: shape=(), dtype=float32, numpy=1.32625>"
            ]
          },
          "metadata": {},
          "execution_count": 695
        }
      ]
    },
    {
      "cell_type": "code",
      "source": [
        "# Xây dựng mạng\n",
        "embedding_size = 200\n",
        "reps_size = 150\n",
        "cluster_num = 50\n",
        "\n",
        "def interaction_embedding2():\n",
        "\n",
        "    input_wi = layers.Input(shape=(1,), name='input_wi')\n",
        "    wi = vectorizer(input_wi)\n",
        "    wi = layers.Embedding(input_dim= max_vocab_size, output_dim= embedding_size, mask_zero= False, name='ei')(wi)\n",
        "    wi = layers.Dense(embedding_size, activation='relu', name='di')(wi)\n",
        "\n",
        "    wr = layers.Input(shape=(wu_size,), name='warm_up_ratings')\n",
        "\n",
        "    ireps = Broadcasting_Multiply(name='mul')([wi, wr])\n",
        "    uprofile = layers.Lambda(lambda z: K.sum(z, axis=1), name='lambda')(ireps)\n",
        "\n",
        "    uprofile = layers.LayerNormalization(name='norm')(uprofile)\n",
        "    uprofile = layers.Dense( reps_size, activation='linear', name='du')(uprofile)\n",
        "    uprofile = layers.Dense(cluster_num, activation='softmax', name='clustering')(uprofile)\n",
        "    \n",
        "    model = tf.keras.Model(inputs= [input_wi, wr], outputs=[uprofile])\n",
        "    return model"
      ],
      "metadata": {
        "id": "WPrKlGwedvZx"
      },
      "execution_count": 696,
      "outputs": []
    },
    {
      "cell_type": "code",
      "source": [
        "    # encoder = interaction_embedding()\n",
        "    # reps = get_reps_model()\n",
        "    # decoder = mask_label()\n",
        "model = Efficient_Rec( encoder = interaction_embedding2(), \n",
        "                      reps = get_reps_model(),\n",
        "                      decoder = mask_label(),\n",
        "                      use_tf_function=False)\n",
        "\n",
        "# Configure the loss and optimizer\n",
        "model.compile(\n",
        "    optimizer=tf.optimizers.Adam(),\n",
        "    loss=Focus2(0.001),\n",
        ")"
      ],
      "metadata": {
        "id": "53ekTYluhxTG"
      },
      "execution_count": 697,
      "outputs": []
    },
    {
      "cell_type": "code",
      "source": [
        "%%time\n",
        "epochs= 20\n",
        "for n in range(epochs):\n",
        "  print(model.train_step( interac_df ))\n"
      ],
      "metadata": {
        "colab": {
          "base_uri": "https://localhost:8080/"
        },
        "id": "BmtVYa_9h1Jx",
        "outputId": "a600fe3e-027b-4d62-9bbd-f02afdbbce8f"
      },
      "execution_count": 698,
      "outputs": [
        {
          "output_type": "stream",
          "name": "stdout",
          "text": [
            "{'batch_loss': <tf.Tensor: shape=(), dtype=float32, numpy=0.42853314>}\n",
            "{'batch_loss': <tf.Tensor: shape=(), dtype=float32, numpy=0.42220563>}\n",
            "{'batch_loss': <tf.Tensor: shape=(), dtype=float32, numpy=0.42163187>}\n",
            "{'batch_loss': <tf.Tensor: shape=(), dtype=float32, numpy=0.41708377>}\n",
            "{'batch_loss': <tf.Tensor: shape=(), dtype=float32, numpy=0.4350061>}\n",
            "{'batch_loss': <tf.Tensor: shape=(), dtype=float32, numpy=0.4569272>}\n",
            "{'batch_loss': <tf.Tensor: shape=(), dtype=float32, numpy=0.4222769>}\n",
            "{'batch_loss': <tf.Tensor: shape=(), dtype=float32, numpy=0.4131265>}\n",
            "{'batch_loss': <tf.Tensor: shape=(), dtype=float32, numpy=0.40765402>}\n",
            "{'batch_loss': <tf.Tensor: shape=(), dtype=float32, numpy=0.41138548>}\n",
            "{'batch_loss': <tf.Tensor: shape=(), dtype=float32, numpy=0.39768186>}\n",
            "{'batch_loss': <tf.Tensor: shape=(), dtype=float32, numpy=0.41400954>}\n",
            "{'batch_loss': <tf.Tensor: shape=(), dtype=float32, numpy=0.42287555>}\n",
            "{'batch_loss': <tf.Tensor: shape=(), dtype=float32, numpy=0.42474815>}\n",
            "{'batch_loss': <tf.Tensor: shape=(), dtype=float32, numpy=0.40730026>}\n",
            "{'batch_loss': <tf.Tensor: shape=(), dtype=float32, numpy=0.40135568>}\n",
            "{'batch_loss': <tf.Tensor: shape=(), dtype=float32, numpy=0.42259273>}\n",
            "{'batch_loss': <tf.Tensor: shape=(), dtype=float32, numpy=0.41420788>}\n",
            "{'batch_loss': <tf.Tensor: shape=(), dtype=float32, numpy=0.4011279>}\n",
            "{'batch_loss': <tf.Tensor: shape=(), dtype=float32, numpy=0.41753444>}\n",
            "CPU times: user 2min 49s, sys: 4.91 s, total: 2min 54s\n",
            "Wall time: 1min 45s\n"
          ]
        }
      ]
    },
    {
      "cell_type": "code",
      "source": [
        "group_scores = model.encoder(model._preprocess( [interac_df[itemCol], interac_df[\"y\"]], padding_size = wu_size )).numpy()\n",
        "group_scores[0:3]"
      ],
      "metadata": {
        "colab": {
          "base_uri": "https://localhost:8080/"
        },
        "id": "l1b9ld8TfPd5",
        "outputId": "c761d08f-9e3b-4377-a138-0af38a78a169"
      },
      "execution_count": 699,
      "outputs": [
        {
          "output_type": "execute_result",
          "data": {
            "text/plain": [
              "array([[5.94005178e-05, 9.83612519e-03, 2.35599419e-03, 5.58734291e-06,\n",
              "        9.89547971e-06, 2.21633964e-05, 7.20382604e-06, 9.37385298e-03,\n",
              "        6.13850681e-03, 1.10923043e-02, 1.42589808e-01, 2.06876775e-05,\n",
              "        3.29070281e-06, 1.73628854e-03, 5.57249427e-01, 1.45240811e-05,\n",
              "        1.75075023e-04, 1.84261376e-06, 8.55074995e-06, 6.72038368e-05,\n",
              "        1.53256085e-04, 9.09933624e-06, 1.70427174e-05, 1.02183330e-05,\n",
              "        6.06482445e-06, 1.72361717e-04, 3.29438597e-04, 9.00087616e-06,\n",
              "        7.22053665e-05, 1.36917788e-05, 1.40633812e-04, 1.75411860e-05,\n",
              "        5.08566736e-05, 1.10955409e-06, 2.64873852e-05, 1.87536250e-04,\n",
              "        6.21338980e-03, 1.26824350e-04, 3.87630462e-06, 2.30945367e-02,\n",
              "        2.14743723e-05, 3.50728692e-06, 1.73107057e-03, 2.07937285e-01,\n",
              "        2.56014046e-05, 1.40229286e-05, 9.30521637e-05, 2.97761108e-05,\n",
              "        1.80494320e-02, 6.71946094e-04],\n",
              "       [3.95975279e-04, 1.00624599e-02, 3.75874341e-03, 9.13711847e-05,\n",
              "        4.12957190e-04, 1.06478328e-04, 2.77968575e-05, 2.41475198e-02,\n",
              "        6.28258148e-03, 2.35637259e-02, 1.68695152e-01, 2.61240406e-04,\n",
              "        3.07490445e-05, 1.93548035e-02, 3.44939321e-01, 1.91192914e-04,\n",
              "        1.43484734e-02, 1.08618669e-05, 3.82373983e-04, 8.15526117e-04,\n",
              "        5.18498663e-03, 2.45621864e-04, 1.05668197e-03, 2.03000323e-04,\n",
              "        7.33149063e-05, 6.12300006e-04, 6.83095679e-02, 5.38886961e-05,\n",
              "        3.23851884e-04, 4.90628707e-04, 8.45569302e-05, 2.51562800e-04,\n",
              "        9.78777898e-05, 1.04173323e-05, 6.36449331e-05, 8.42271140e-04,\n",
              "        2.58582942e-02, 1.29102118e-04, 8.37082116e-05, 5.25122844e-02,\n",
              "        2.40388501e-04, 6.26637702e-05, 2.34711338e-02, 1.59243286e-01,\n",
              "        4.14130889e-04, 3.98446427e-04, 1.90796200e-04, 2.46041280e-04,\n",
              "        3.92411314e-02, 2.12505064e-03],\n",
              "       [9.73811548e-05, 3.91804567e-03, 9.24083521e-04, 1.52000912e-05,\n",
              "        2.42021797e-05, 1.20886270e-05, 4.02743535e-06, 2.82156318e-02,\n",
              "        7.65734236e-04, 2.01007607e-03, 1.65094376e-01, 4.72492466e-05,\n",
              "        4.33634523e-06, 1.66990282e-03, 3.71109158e-01, 2.17110246e-05,\n",
              "        2.64155882e-04, 2.55085956e-06, 2.61094428e-05, 6.05463465e-05,\n",
              "        6.41350518e-04, 4.20823199e-06, 1.28591610e-05, 2.07949524e-05,\n",
              "        3.95949019e-06, 4.99233793e-05, 1.10147996e-02, 1.78440041e-05,\n",
              "        7.65562945e-05, 3.60256172e-06, 2.39978006e-04, 5.35036597e-05,\n",
              "        2.59939152e-05, 1.07955816e-06, 3.25265901e-05, 4.44489997e-05,\n",
              "        2.58363504e-02, 1.41888795e-05, 1.69504835e-06, 1.45913303e-01,\n",
              "        1.40133870e-05, 9.39029633e-06, 1.89544098e-03, 1.81986108e-01,\n",
              "        3.88029148e-05, 1.26185023e-05, 2.60622648e-04, 1.91983963e-05,\n",
              "        5.68850078e-02, 5.83269517e-04]], dtype=float32)"
            ]
          },
          "metadata": {},
          "execution_count": 699
        }
      ]
    },
    {
      "cell_type": "code",
      "source": [
        "group_scores.shape"
      ],
      "metadata": {
        "colab": {
          "base_uri": "https://localhost:8080/"
        },
        "id": "1LUQ50L20NGq",
        "outputId": "4ecc570e-14ef-4670-b333-38e72eedd657"
      },
      "execution_count": 700,
      "outputs": [
        {
          "output_type": "execute_result",
          "data": {
            "text/plain": [
              "(999, 50)"
            ]
          },
          "metadata": {},
          "execution_count": 700
        }
      ]
    },
    {
      "cell_type": "code",
      "source": [
        "ugs= np.argmax(group_scores, axis=1)\n",
        "for i in range(50):\n",
        "    print(i,': ', np.sum(ugs==i) )\n"
      ],
      "metadata": {
        "colab": {
          "base_uri": "https://localhost:8080/"
        },
        "id": "xYjS-3omFbQk",
        "outputId": "06931637-d730-4b43-e2e6-c486dc14d6e5"
      },
      "execution_count": 701,
      "outputs": [
        {
          "output_type": "stream",
          "name": "stdout",
          "text": [
            "0 :  0\n",
            "1 :  27\n",
            "2 :  4\n",
            "3 :  2\n",
            "4 :  1\n",
            "5 :  4\n",
            "6 :  2\n",
            "7 :  51\n",
            "8 :  0\n",
            "9 :  186\n",
            "10 :  168\n",
            "11 :  0\n",
            "12 :  2\n",
            "13 :  0\n",
            "14 :  212\n",
            "15 :  0\n",
            "16 :  0\n",
            "17 :  0\n",
            "18 :  1\n",
            "19 :  0\n",
            "20 :  0\n",
            "21 :  1\n",
            "22 :  2\n",
            "23 :  0\n",
            "24 :  1\n",
            "25 :  1\n",
            "26 :  2\n",
            "27 :  0\n",
            "28 :  0\n",
            "29 :  0\n",
            "30 :  2\n",
            "31 :  1\n",
            "32 :  0\n",
            "33 :  0\n",
            "34 :  1\n",
            "35 :  2\n",
            "36 :  23\n",
            "37 :  1\n",
            "38 :  0\n",
            "39 :  52\n",
            "40 :  1\n",
            "41 :  0\n",
            "42 :  18\n",
            "43 :  194\n",
            "44 :  0\n",
            "45 :  4\n",
            "46 :  0\n",
            "47 :  1\n",
            "48 :  31\n",
            "49 :  1\n"
          ]
        }
      ]
    },
    {
      "cell_type": "code",
      "source": [
        "# Sort theo user_group + draw sigmoid/softmax layer\n",
        "k =50\n",
        "a = group_scores\n",
        "ind = np.argmax(group_scores, axis=1)\n",
        "plt.imshow( a[np.argsort(ind)][0:k] )"
      ],
      "metadata": {
        "colab": {
          "base_uri": "https://localhost:8080/",
          "height": 284
        },
        "id": "YtHEaTQUk2oo",
        "outputId": "8f179b39-890e-4d7f-da6a-cd11c40d4862"
      },
      "execution_count": 702,
      "outputs": [
        {
          "output_type": "execute_result",
          "data": {
            "text/plain": [
              "<matplotlib.image.AxesImage at 0x7f3965171990>"
            ]
          },
          "metadata": {},
          "execution_count": 702
        },
        {
          "output_type": "display_data",
          "data": {
            "text/plain": [
              "<Figure size 432x288 with 1 Axes>"
            ],
            "image/png": "[encoded data removed]"
          },
          "metadata": {
            "needs_background": "light"
          }
        }
      ]
    },
    {
      "cell_type": "code",
      "source": [
        "np.argsort(a[1])"
      ],
      "metadata": {
        "colab": {
          "base_uri": "https://localhost:8080/"
        },
        "id": "d3IoG5-r4CM8",
        "outputId": "f8c6ad13-89d8-4ec6-e7c8-001a5da9393e"
      },
      "execution_count": 703,
      "outputs": [
        {
          "output_type": "execute_result",
          "data": {
            "text/plain": [
              "array([33, 17,  6, 12, 27, 41, 34, 24, 38, 30,  3, 32,  5, 37, 46, 15, 23,\n",
              "       40, 21, 47, 31, 11, 28, 18,  0, 45,  4, 44, 29, 25, 19, 35, 22, 49,\n",
              "        2, 20,  8,  1, 16, 13, 42,  9,  7, 36, 48, 39, 26, 43, 10, 14])"
            ]
          },
          "metadata": {},
          "execution_count": 703
        }
      ]
    },
    {
      "cell_type": "code",
      "source": [
        "[np.isin(np.argsort(a[1]), np.array([0,1,2]) )]"
      ],
      "metadata": {
        "colab": {
          "base_uri": "https://localhost:8080/"
        },
        "id": "GbNCgvoT2-Tn",
        "outputId": "9bccfeef-30ef-4228-b108-f3f0063e0256"
      },
      "execution_count": 704,
      "outputs": [
        {
          "output_type": "execute_result",
          "data": {
            "text/plain": [
              "[array([False, False, False, False, False, False, False, False, False,\n",
              "        False, False, False, False, False, False, False, False, False,\n",
              "        False, False, False, False, False, False,  True, False, False,\n",
              "        False, False, False, False, False, False, False,  True, False,\n",
              "        False,  True, False, False, False, False, False, False, False,\n",
              "        False, False, False, False, False])]"
            ]
          },
          "metadata": {},
          "execution_count": 704
        }
      ]
    },
    {
      "cell_type": "code",
      "source": [
        "# Vẽ theo user_group\n",
        "user_groups = [ 32 ]\n",
        "a = group_scores\n",
        "ind = np.argmax(group_scores, axis=1)\n",
        "plt.imshow( a[ np.isin( ind, user_groups)] )"
      ],
      "metadata": {
        "colab": {
          "base_uri": "https://localhost:8080/",
          "height": 123
        },
        "id": "q-9RC3kdsSF3",
        "outputId": "8eadd014-18f4-4cfb-d28d-001d6167bea5"
      },
      "execution_count": 705,
      "outputs": [
        {
          "output_type": "stream",
          "name": "stderr",
          "text": [
            "/usr/local/lib/python3.7/dist-packages/ipykernel_launcher.py:5: UserWarning: Attempting to set identical bottom == top == -0.5 results in singular transformations; automatically expanding.\n",
            "  \"\"\"\n"
          ]
        },
        {
          "output_type": "execute_result",
          "data": {
            "text/plain": [
              "<matplotlib.image.AxesImage at 0x7f39644e1850>"
            ]
          },
          "metadata": {},
          "execution_count": 705
        },
        {
          "output_type": "display_data",
          "data": {
            "text/plain": [
              "<Figure size 432x288 with 1 Axes>"
            ],
            "image/png": "[encoded data removed]"
          },
          "metadata": {
            "needs_background": "light"
          }
        }
      ]
    },
    {
      "cell_type": "code",
      "source": [
        "# Vẽ y_true của các user chung group\n",
        "y_true = model.decoder(model._preprocess( [interac_df[itemCol], interac_df[\"y\"]], padding_size = mask_size )).numpy()\n",
        "y_true_ugrs = y_true[ np.isin( ind, user_groups)]\n",
        "\n",
        "for i in range(y_true_ugrs.shape[0]):\n",
        "    y_true_i = y_true_ugrs[i].reshape((50,100))\n",
        "    print( np.max(y_true_i), np.min(y_true_i), np.mean(y_true_i)  )\n",
        "    plt.imshow( y_true_i)\n",
        "    plt.show()\n"
      ],
      "metadata": {
        "id": "qYKVC00ztNBk"
      },
      "execution_count": 706,
      "outputs": []
    },
    {
      "cell_type": "code",
      "source": [
        "plt.imshow(y_true[0].reshape(50, 100) )"
      ],
      "metadata": {
        "colab": {
          "base_uri": "https://localhost:8080/",
          "height": 235
        },
        "id": "jauMa8Z36HcA",
        "outputId": "7565fe18-4b9c-4d73-8acd-1fccad00cf41"
      },
      "execution_count": 707,
      "outputs": [
        {
          "output_type": "execute_result",
          "data": {
            "text/plain": [
              "<matplotlib.image.AxesImage at 0x7f39623c9b10>"
            ]
          },
          "metadata": {},
          "execution_count": 707
        },
        {
          "output_type": "display_data",
          "data": {
            "text/plain": [
              "<Figure size 432x288 with 1 Axes>"
            ],
            "image/png": "[encoded data removed]"
          },
          "metadata": {
            "needs_background": "light"
          }
        }
      ]
    },
    {
      "cell_type": "code",
      "source": [
        "y_true[0][y_true[0]!=0]"
      ],
      "metadata": {
        "colab": {
          "base_uri": "https://localhost:8080/"
        },
        "id": "5qzcwop86TNH",
        "outputId": "fdddb708-fcfd-448d-83c2-bd330340d036"
      },
      "execution_count": 708,
      "outputs": [
        {
          "output_type": "execute_result",
          "data": {
            "text/plain": [
              "array([0.6, 0.6, 0.6, 0.4, 1. , 0.6, 0.6, 0.6, 0.6, 0.6, 0.6, 0.6, 0.6,\n",
              "       0.6, 0.6, 0.6, 0.6, 0.6, 0.6, 0.6, 0.6, 0.6, 0.6, 0.6, 0.6, 0.6,\n",
              "       0.6, 0.6, 0.6, 0.6, 0.6, 0.6, 0.6, 0.6, 0.6, 0.6, 0.6, 0.6, 0.6,\n",
              "       0.6, 0.6, 0.6, 0.6, 0.6, 0.6, 0.6, 0.4, 0.6, 0.6, 0.6],\n",
              "      dtype=float32)"
            ]
          },
          "metadata": {},
          "execution_count": 708
        }
      ]
    },
    {
      "cell_type": "code",
      "source": [
        "# y_true = model.decoder(model._preprocess( [interac_df[itemCol], interac_df[\"y\"]], padding_size = mask_size )).numpy()[0:15]\n",
        "# for i in range(y_true.shape[0]):\n",
        "#     y_true_i = y_true[i].reshape((50,100))\n",
        "#     print( np.max(y_true_i), np.min(y_true_i), np.mean(y_true_i)  )\n",
        "#     plt.imshow( y_true_i)\n",
        "#     plt.show()"
      ],
      "metadata": {
        "id": "2pSAHptJVhVR"
      },
      "execution_count": 709,
      "outputs": []
    },
    {
      "cell_type": "code",
      "source": [
        "# for i in range(group_scores.shape[0]):\n",
        "#     plt.imshow( group_scores[i].numpy().reshape((5,10)) )\n",
        "#     plt.show()"
      ],
      "metadata": {
        "id": "XTSdLhkjUeCk"
      },
      "execution_count": 710,
      "outputs": []
    },
    {
      "cell_type": "code",
      "source": [
        "# plt.imshow(y_true)"
      ],
      "metadata": {
        "id": "eXN9E1upXW2D"
      },
      "execution_count": 711,
      "outputs": []
    },
    {
      "cell_type": "code",
      "source": [
        ""
      ],
      "metadata": {
        "id": "TbltflgfUmXf"
      },
      "execution_count": 711,
      "outputs": []
    },
    {
      "cell_type": "code",
      "source": [
        "gc.collect()"
      ],
      "metadata": {
        "colab": {
          "base_uri": "https://localhost:8080/"
        },
        "id": "WSAWNkXjGX7e",
        "outputId": "5791b95b-4ff9-466e-85ed-a6dd1db5e58e"
      },
      "execution_count": 712,
      "outputs": [
        {
          "output_type": "execute_result",
          "data": {
            "text/plain": [
              "668"
            ]
          },
          "metadata": {},
          "execution_count": 712
        }
      ]
    }
  ],
  "metadata": {
    "kernelspec": {
      "display_name": "Python 3",
      "language": "python",
      "name": "python3"
    },
    "language_info": {
      "codemirror_mode": {
        "name": "ipython",
        "version": 3
      },
      "file_extension": ".py",
      "mimetype": "text/x-python",
      "name": "python",
      "nbconvert_exporter": "python",
      "pygments_lexer": "ipython3",
      "version": "3.6.9"
    },
    "colab": {
      "name": "v2.2_ML20M_sequence.ipynb",
      "provenance": [],
      "collapsed_sections": [
        "17fHxkHoAQq6"
      ],
      "toc_visible": true,
      "include_colab_link": true
    }
  },
  "nbformat": 4,
  "nbformat_minor": 0
}