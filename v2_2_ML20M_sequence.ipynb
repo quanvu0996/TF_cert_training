{
  "cells": [
    {
      "cell_type": "markdown",
      "metadata": {
        "id": "view-in-github",
        "colab_type": "text"
      },
      "source": [
        "<a href=\"https://colab.research.google.com/github/quanvu0996/TF_cert_training/blob/main/v2_2_ML20M_sequence.ipynb\" target=\"_parent\"><img src=\"https://colab.research.google.com/assets/colab-badge.svg\" alt=\"Open In Colab\"/></a>"
      ]
    },
    {
      "cell_type": "code",
      "execution_count": 1,
      "metadata": {
        "colab": {
          "base_uri": "https://localhost:8080/"
        },
        "id": "zZQDJKGUAQqn",
        "outputId": "bf9a88ef-56e6-4e6d-c121-2f46cf4dfbe0"
      },
      "outputs": [
        {
          "output_type": "stream",
          "name": "stdout",
          "text": [
            "40.2\n",
            "svmem(total=13617745920, available=12300161024, percent=9.7, used=1107546112, free=10562232320, active=1364852736, inactive=1479884800, buffers=110354432, cached=1837613056, shared=1224704, slab=129978368)\n",
            "9.7\n",
            "90.32450081136483\n"
          ]
        }
      ],
      "source": [
        "import psutil\n",
        "# gives a single float value\n",
        "print(psutil.cpu_percent())\n",
        "# gives an object with many fields\n",
        "print(psutil.virtual_memory())\n",
        "# you can convert that object to a dictionary print(dict(psutil.virtual_memory()._asdict()))\n",
        "# you can have the percentage of used RAM\n",
        "print(psutil.virtual_memory().percent)\n",
        "# you can calculate percentage of available memory\n",
        "print(psutil.virtual_memory().available * 100 / psutil.virtual_memory().total)"
      ]
    },
    {
      "cell_type": "code",
      "execution_count": 2,
      "metadata": {
        "id": "XS6UHXPVAQqs"
      },
      "outputs": [],
      "source": [
        "import pandas as pd\n",
        "import numpy as np\n",
        "import random\n",
        "from matplotlib import pyplot as plt\n",
        "import gc\n",
        "\n",
        "import tensorflow as tf\n",
        "from tensorflow.keras import layers\n",
        "import tensorflow.keras.backend as K\n",
        "from sklearn.model_selection import train_test_split"
      ]
    },
    {
      "cell_type": "code",
      "source": [
        "tf.__version__"
      ],
      "metadata": {
        "colab": {
          "base_uri": "https://localhost:8080/",
          "height": 35
        },
        "id": "Gv8gXemwD3UQ",
        "outputId": "14a0edd9-caa0-4eaa-d35f-8746db6e6540"
      },
      "execution_count": 3,
      "outputs": [
        {
          "output_type": "execute_result",
          "data": {
            "text/plain": [
              "'2.8.0'"
            ],
            "application/vnd.google.colaboratory.intrinsic+json": {
              "type": "string"
            }
          },
          "metadata": {},
          "execution_count": 3
        }
      ]
    },
    {
      "cell_type": "code",
      "execution_count": 4,
      "metadata": {
        "id": "Crhty6fiAQqu"
      },
      "outputs": [],
      "source": [
        "itemCol = 'movieId'\n",
        "userCol = 'userId'"
      ]
    },
    {
      "cell_type": "code",
      "source": [
        "# DGX setup\n",
        "# fpath = \"./ml-20m\" \n",
        "\n",
        "#colab setup\n",
        "from google.colab import drive\n",
        "drive.mount('/content/gdrive')\n",
        "fpath = \"/content/gdrive/MyDrive/RECOMMENDER_STUDIES/data/ml-20m\""
      ],
      "metadata": {
        "id": "xOJJy441A0w0",
        "colab": {
          "base_uri": "https://localhost:8080/"
        },
        "outputId": "8400bf8d-ea85-43de-bca5-d556fa95a2d9"
      },
      "execution_count": 5,
      "outputs": [
        {
          "output_type": "stream",
          "name": "stdout",
          "text": [
            "Mounted at /content/gdrive\n"
          ]
        }
      ]
    },
    {
      "cell_type": "code",
      "source": [
        "# Loading data\n",
        "ratings = pd.read_csv(fpath+'/ratings.csv')\n",
        "\n",
        "ratings"
      ],
      "metadata": {
        "colab": {
          "base_uri": "https://localhost:8080/",
          "height": 419
        },
        "id": "jQck8YHxCPJ1",
        "outputId": "a9eab887-c6f3-475d-deaa-d74a67faf5af"
      },
      "execution_count": 6,
      "outputs": [
        {
          "output_type": "execute_result",
          "data": {
            "text/plain": [
              "          userId  movieId  rating   timestamp\n",
              "0              1        2     3.5  1112486027\n",
              "1              1       29     3.5  1112484676\n",
              "2              1       32     3.5  1112484819\n",
              "3              1       47     3.5  1112484727\n",
              "4              1       50     3.5  1112484580\n",
              "...          ...      ...     ...         ...\n",
              "20000258  138493    68954     4.5  1258126920\n",
              "20000259  138493    69526     4.5  1259865108\n",
              "20000260  138493    69644     3.0  1260209457\n",
              "20000261  138493    70286     5.0  1258126944\n",
              "20000262  138493    71619     2.5  1255811136\n",
              "\n",
              "[20000263 rows x 4 columns]"
            ],
            "text/html": [
              "\n",
              "  <div id=\"df-02144eb2-bedd-4c30-affa-dff9c4342885\">\n",
              "    <div class=\"colab-df-container\">\n",
              "      <div>\n",
              "<style scoped>\n",
              "    .dataframe tbody tr th:only-of-type {\n",
              "        vertical-align: middle;\n",
              "    }\n",
              "\n",
              "    .dataframe tbody tr th {\n",
              "        vertical-align: top;\n",
              "    }\n",
              "\n",
              "    .dataframe thead th {\n",
              "        text-align: right;\n",
              "    }\n",
              "</style>\n",
              "<table border=\"1\" class=\"dataframe\">\n",
              "  <thead>\n",
              "    <tr style=\"text-align: right;\">\n",
              "      <th></th>\n",
              "      <th>userId</th>\n",
              "      <th>movieId</th>\n",
              "      <th>rating</th>\n",
              "      <th>timestamp</th>\n",
              "    </tr>\n",
              "  </thead>\n",
              "  <tbody>\n",
              "    <tr>\n",
              "      <th>0</th>\n",
              "      <td>1</td>\n",
              "      <td>2</td>\n",
              "      <td>3.5</td>\n",
              "      <td>1112486027</td>\n",
              "    </tr>\n",
              "    <tr>\n",
              "      <th>1</th>\n",
              "      <td>1</td>\n",
              "      <td>29</td>\n",
              "      <td>3.5</td>\n",
              "      <td>1112484676</td>\n",
              "    </tr>\n",
              "    <tr>\n",
              "      <th>2</th>\n",
              "      <td>1</td>\n",
              "      <td>32</td>\n",
              "      <td>3.5</td>\n",
              "      <td>1112484819</td>\n",
              "    </tr>\n",
              "    <tr>\n",
              "      <th>3</th>\n",
              "      <td>1</td>\n",
              "      <td>47</td>\n",
              "      <td>3.5</td>\n",
              "      <td>1112484727</td>\n",
              "    </tr>\n",
              "    <tr>\n",
              "      <th>4</th>\n",
              "      <td>1</td>\n",
              "      <td>50</td>\n",
              "      <td>3.5</td>\n",
              "      <td>1112484580</td>\n",
              "    </tr>\n",
              "    <tr>\n",
              "      <th>...</th>\n",
              "      <td>...</td>\n",
              "      <td>...</td>\n",
              "      <td>...</td>\n",
              "      <td>...</td>\n",
              "    </tr>\n",
              "    <tr>\n",
              "      <th>20000258</th>\n",
              "      <td>138493</td>\n",
              "      <td>68954</td>\n",
              "      <td>4.5</td>\n",
              "      <td>1258126920</td>\n",
              "    </tr>\n",
              "    <tr>\n",
              "      <th>20000259</th>\n",
              "      <td>138493</td>\n",
              "      <td>69526</td>\n",
              "      <td>4.5</td>\n",
              "      <td>1259865108</td>\n",
              "    </tr>\n",
              "    <tr>\n",
              "      <th>20000260</th>\n",
              "      <td>138493</td>\n",
              "      <td>69644</td>\n",
              "      <td>3.0</td>\n",
              "      <td>1260209457</td>\n",
              "    </tr>\n",
              "    <tr>\n",
              "      <th>20000261</th>\n",
              "      <td>138493</td>\n",
              "      <td>70286</td>\n",
              "      <td>5.0</td>\n",
              "      <td>1258126944</td>\n",
              "    </tr>\n",
              "    <tr>\n",
              "      <th>20000262</th>\n",
              "      <td>138493</td>\n",
              "      <td>71619</td>\n",
              "      <td>2.5</td>\n",
              "      <td>1255811136</td>\n",
              "    </tr>\n",
              "  </tbody>\n",
              "</table>\n",
              "<p>20000263 rows × 4 columns</p>\n",
              "</div>\n",
              "      <button class=\"colab-df-convert\" onclick=\"convertToInteractive('df-02144eb2-bedd-4c30-affa-dff9c4342885')\"\n",
              "              title=\"Convert this dataframe to an interactive table.\"\n",
              "              style=\"display:none;\">\n",
              "        \n",
              "  <svg xmlns=\"http://www.w3.org/2000/svg\" height=\"24px\"viewBox=\"0 0 24 24\"\n",
              "       width=\"24px\">\n",
              "    <path d=\"M0 0h24v24H0V0z\" fill=\"none\"/>\n",
              "    <path d=\"M18.56 5.44l.94 2.06.94-2.06 2.06-.94-2.06-.94-.94-2.06-.94 2.06-2.06.94zm-11 1L8.5 8.5l.94-2.06 2.06-.94-2.06-.94L8.5 2.5l-.94 2.06-2.06.94zm10 10l.94 2.06.94-2.06 2.06-.94-2.06-.94-.94-2.06-.94 2.06-2.06.94z\"/><path d=\"M17.41 7.96l-1.37-1.37c-.4-.4-.92-.59-1.43-.59-.52 0-1.04.2-1.43.59L10.3 9.45l-7.72 7.72c-.78.78-.78 2.05 0 2.83L4 21.41c.39.39.9.59 1.41.59.51 0 1.02-.2 1.41-.59l7.78-7.78 2.81-2.81c.8-.78.8-2.07 0-2.86zM5.41 20L4 18.59l7.72-7.72 1.47 1.35L5.41 20z\"/>\n",
              "  </svg>\n",
              "      </button>\n",
              "      \n",
              "  <style>\n",
              "    .colab-df-container {\n",
              "      display:flex;\n",
              "      flex-wrap:wrap;\n",
              "      gap: 12px;\n",
              "    }\n",
              "\n",
              "    .colab-df-convert {\n",
              "      background-color: #E8F0FE;\n",
              "      border: none;\n",
              "      border-radius: 50%;\n",
              "      cursor: pointer;\n",
              "      display: none;\n",
              "      fill: #1967D2;\n",
              "      height: 32px;\n",
              "      padding: 0 0 0 0;\n",
              "      width: 32px;\n",
              "    }\n",
              "\n",
              "    .colab-df-convert:hover {\n",
              "      background-color: #E2EBFA;\n",
              "      box-shadow: 0px 1px 2px rgba(60, 64, 67, 0.3), 0px 1px 3px 1px rgba(60, 64, 67, 0.15);\n",
              "      fill: #174EA6;\n",
              "    }\n",
              "\n",
              "    [theme=dark] .colab-df-convert {\n",
              "      background-color: #3B4455;\n",
              "      fill: #D2E3FC;\n",
              "    }\n",
              "\n",
              "    [theme=dark] .colab-df-convert:hover {\n",
              "      background-color: #434B5C;\n",
              "      box-shadow: 0px 1px 3px 1px rgba(0, 0, 0, 0.15);\n",
              "      filter: drop-shadow(0px 1px 2px rgba(0, 0, 0, 0.3));\n",
              "      fill: #FFFFFF;\n",
              "    }\n",
              "  </style>\n",
              "\n",
              "      <script>\n",
              "        const buttonEl =\n",
              "          document.querySelector('#df-02144eb2-bedd-4c30-affa-dff9c4342885 button.colab-df-convert');\n",
              "        buttonEl.style.display =\n",
              "          google.colab.kernel.accessAllowed ? 'block' : 'none';\n",
              "\n",
              "        async function convertToInteractive(key) {\n",
              "          const element = document.querySelector('#df-02144eb2-bedd-4c30-affa-dff9c4342885');\n",
              "          const dataTable =\n",
              "            await google.colab.kernel.invokeFunction('convertToInteractive',\n",
              "                                                     [key], {});\n",
              "          if (!dataTable) return;\n",
              "\n",
              "          const docLinkHtml = 'Like what you see? Visit the ' +\n",
              "            '<a target=\"_blank\" href=https://colab.research.google.com/notebooks/data_table.ipynb>data table notebook</a>'\n",
              "            + ' to learn more about interactive tables.';\n",
              "          element.innerHTML = '';\n",
              "          dataTable['output_type'] = 'display_data';\n",
              "          await google.colab.output.renderOutput(dataTable, element);\n",
              "          const docLink = document.createElement('div');\n",
              "          docLink.innerHTML = docLinkHtml;\n",
              "          element.appendChild(docLink);\n",
              "        }\n",
              "      </script>\n",
              "    </div>\n",
              "  </div>\n",
              "  "
            ]
          },
          "metadata": {},
          "execution_count": 6
        }
      ]
    },
    {
      "cell_type": "code",
      "source": [
        "# Normalize rating về dạng -1 -> 1 (-1 = ghét, 1 = thích)\n",
        "ratings[\"y\"] = ratings[\"rating\"]/2.5-1\n",
        "\n",
        "# Kiểm tra rating trong khoảng -1 -> 1\n",
        "ratings.groupby(\"y\")[\"y\"].count().plot(kind='bar')"
      ],
      "metadata": {
        "colab": {
          "base_uri": "https://localhost:8080/",
          "height": 419
        },
        "id": "BrwYHetxCiIw",
        "outputId": "6761069b-8bd1-4a5e-e5e4-5e7f1fe2466f"
      },
      "execution_count": 8,
      "outputs": [
        {
          "output_type": "execute_result",
          "data": {
            "text/plain": [
              "<matplotlib.axes._subplots.AxesSubplot at 0x7f21c1dbb910>"
            ]
          },
          "metadata": {},
          "execution_count": 8
        },
        {
          "output_type": "display_data",
          "data": {
            "text/plain": [
              "<Figure size 432x288 with 1 Axes>"
            ],
            "image/png": "[encoded data removed]"
          },
          "metadata": {
            "needs_background": "light"
          }
        }
      ]
    },
    {
      "cell_type": "markdown",
      "source": [
        "# Model v2.2\n",
        "Gộp tất cả các bước tiền xử lý vào model "
      ],
      "metadata": {
        "id": "HfA78F8HRVJR"
      }
    },
    {
      "cell_type": "code",
      "source": [
        "# Chia dữ liệu thành các tập cho model clustering, nhãn recommendation và test\n",
        "#     warm_up_mask: ratings đã quan sát\n",
        "#     target: rating dùng để đánh giá kết quả recommend của module recommend cho từng người dùng\n",
        "#     test: đánh giá độc lập\n",
        "# TODO: chia tập dữ liệu theo user-wise => đánh giá với những user hoàn toàn mới thì model có học được không?\n",
        "# v2.1. gộp warm_up và mask thành 1\n",
        "def dataset_split(ratings):\n",
        "    train, test = train_test_split(ratings, test_size= 0.25)\n",
        "    warm_up_mask, target = train_test_split(train, test_size= 0.25)\n",
        "    return warm_up_mask, target, test\n",
        "\n",
        "warm_up_mask, target, test = dataset_split(ratings)"
      ],
      "metadata": {
        "id": "90sKne1ZRc5F"
      },
      "execution_count": 9,
      "outputs": []
    },
    {
      "cell_type": "code",
      "source": [
        "# Kiểm tra số lượng ratings\n",
        "warm_up_mask.shape[0], target.shape[0], test.shape[0]"
      ],
      "metadata": {
        "colab": {
          "base_uri": "https://localhost:8080/"
        },
        "id": "fiRtTNy1ScIa",
        "outputId": "6fde1789-84c8-4dfe-ef3c-907aaabeedf1"
      },
      "execution_count": 10,
      "outputs": [
        {
          "output_type": "execute_result",
          "data": {
            "text/plain": [
              "(11250147, 3750050, 5000066)"
            ]
          },
          "metadata": {},
          "execution_count": 10
        }
      ]
    },
    {
      "cell_type": "code",
      "source": [
        "# v2.2: chỉ groupby, không padding\n",
        "def get_interaction_set(interaction, max_item = None, top_k_item = None):\n",
        "    \"\"\"\n",
        "    Input:\n",
        "        interaction: df[userCol, itemCol, y]: dữ liệu đầu vào\n",
        "        max_item: int: item num limit\n",
        "    Output:\n",
        "        df, itemCol: list, y: list, itemCol_str: string, userCol as index\n",
        "        list item sắp xếp theo giảm dần độ lớn rating\n",
        "    \"\"\"\n",
        "    items = ratings.groupby(itemCol).count().sort_values(by=userCol, ascending=False)\n",
        "    if top_k_item is not None:\n",
        "        top_items = items.head(top_k_item).index\n",
        "        interaction = interaction[interaction[itemCol].isin(top_items)]\n",
        "    else:\n",
        "        top_items = items.index\n",
        "\n",
        "    # Sắp xếp item theo thứ tự giảm dần rating (về sau cắt padding sẽ ưu tiên giữ lại item có rating cao)\n",
        "    rindex = interaction.groupby(userCol)[\"y\"].transform(lambda grp: grp.sort_values(ascending=False).index)\n",
        "    interaction = interaction.reindex(rindex)\n",
        "    \n",
        "    # Chuyển thành warm-up set theo từng user\n",
        "    interaction = interaction.groupby(\"userId\").agg({itemCol:list, \"y\":list})\n",
        "\n",
        "    # Giới hạn độ dài warm_up size\n",
        "    if max_item is not None:\n",
        "        interaction[itemCol] = interaction[itemCol].apply(lambda x: x[0:max_item])\n",
        "        interaction[\"y\"] = interaction[\"y\"].apply(lambda x: x[0:max_item])\n",
        "\n",
        "    return interaction, top_items\n",
        "\n",
        "top_k_item = 5000\n",
        "wu_size = 200\n",
        "mask_size = 50\n",
        "max_item = wu_size + mask_size\n",
        "\n",
        "interac_df, top_items = get_interaction_set(warm_up_mask[warm_up_mask[userCol]<10]\n",
        "                    , max_item = max_item\n",
        "                    , top_k_item = top_k_item )\n",
        "interac_df"
      ],
      "metadata": {
        "colab": {
          "base_uri": "https://localhost:8080/",
          "height": 359
        },
        "id": "C3ukIA2SS00l",
        "outputId": "dda5d677-3f6b-4fcc-f465-3a82832976cc"
      },
      "execution_count": 41,
      "outputs": [
        {
          "output_type": "execute_result",
          "data": {
            "text/plain": [
              "                                                  movieId  \\\n",
              "userId                                                      \n",
              "1       [8636, 6093, 1097, 3081, 1090, 3153, 2288, 296...   \n",
              "2       [1214, 62, 266, 3928, 589, 924, 1259, 260, 124...   \n",
              "3       [1266, 1213, 2288, 2788, 2118, 1208, 1258, 279...   \n",
              "4       [454, 356, 480, 586, 594, 431, 377, 596, 589, ...   \n",
              "5       [832, 1035, 590, 780, 1196, 368, 720, 594, 508...   \n",
              "6       [62, 141, 1, 648, 708, 494, 719, 3, 135, 743, ...   \n",
              "7       [587, 4799, 3179, 589, 260, 2942, 750, 3578, 1...   \n",
              "8       [553, 288, 434, 356, 597, 648, 527, 593, 3, 34...   \n",
              "9       [4148, 3798, 1997, 858, 2959, 356, 4022, 1923,...   \n",
              "\n",
              "                                                        y  \n",
              "userId                                                     \n",
              "1       [0.8, 0.6000000000000001, 0.6000000000000001, ...  \n",
              "2       [1.0, 1.0, 1.0, 1.0, 1.0, 1.0, 1.0, 1.0, 1.0, ...  \n",
              "3       [1.0, 1.0, 1.0, 1.0, 1.0, 1.0, 1.0, 1.0, 1.0, ...  \n",
              "4       [1.0, 0.6000000000000001, 0.6000000000000001, ...  \n",
              "5       [1.0, 1.0, 1.0, 1.0, 1.0, 1.0, 1.0, 1.0, 1.0, ...  \n",
              "6       [1.0, 1.0, 1.0, 1.0, 0.6000000000000001, 0.600...  \n",
              "7       [1.0, 1.0, 1.0, 1.0, 1.0, 1.0, 1.0, 1.0, 1.0, ...  \n",
              "8       [1.0, 1.0, 1.0, 1.0, 1.0, 1.0, 1.0, 1.0, 1.0, ...  \n",
              "9       [1.0, 1.0, 1.0, 1.0, 1.0, 0.6000000000000001, ...  "
            ],
            "text/html": [
              "\n",
              "  <div id=\"df-3e4a12c4-5d3f-44b4-a832-e5aa1eec468f\">\n",
              "    <div class=\"colab-df-container\">\n",
              "      <div>\n",
              "<style scoped>\n",
              "    .dataframe tbody tr th:only-of-type {\n",
              "        vertical-align: middle;\n",
              "    }\n",
              "\n",
              "    .dataframe tbody tr th {\n",
              "        vertical-align: top;\n",
              "    }\n",
              "\n",
              "    .dataframe thead th {\n",
              "        text-align: right;\n",
              "    }\n",
              "</style>\n",
              "<table border=\"1\" class=\"dataframe\">\n",
              "  <thead>\n",
              "    <tr style=\"text-align: right;\">\n",
              "      <th></th>\n",
              "      <th>movieId</th>\n",
              "      <th>y</th>\n",
              "    </tr>\n",
              "    <tr>\n",
              "      <th>userId</th>\n",
              "      <th></th>\n",
              "      <th></th>\n",
              "    </tr>\n",
              "  </thead>\n",
              "  <tbody>\n",
              "    <tr>\n",
              "      <th>1</th>\n",
              "      <td>[8636, 6093, 1097, 3081, 1090, 3153, 2288, 296...</td>\n",
              "      <td>[0.8, 0.6000000000000001, 0.6000000000000001, ...</td>\n",
              "    </tr>\n",
              "    <tr>\n",
              "      <th>2</th>\n",
              "      <td>[1214, 62, 266, 3928, 589, 924, 1259, 260, 124...</td>\n",
              "      <td>[1.0, 1.0, 1.0, 1.0, 1.0, 1.0, 1.0, 1.0, 1.0, ...</td>\n",
              "    </tr>\n",
              "    <tr>\n",
              "      <th>3</th>\n",
              "      <td>[1266, 1213, 2288, 2788, 2118, 1208, 1258, 279...</td>\n",
              "      <td>[1.0, 1.0, 1.0, 1.0, 1.0, 1.0, 1.0, 1.0, 1.0, ...</td>\n",
              "    </tr>\n",
              "    <tr>\n",
              "      <th>4</th>\n",
              "      <td>[454, 356, 480, 586, 594, 431, 377, 596, 589, ...</td>\n",
              "      <td>[1.0, 0.6000000000000001, 0.6000000000000001, ...</td>\n",
              "    </tr>\n",
              "    <tr>\n",
              "      <th>5</th>\n",
              "      <td>[832, 1035, 590, 780, 1196, 368, 720, 594, 508...</td>\n",
              "      <td>[1.0, 1.0, 1.0, 1.0, 1.0, 1.0, 1.0, 1.0, 1.0, ...</td>\n",
              "    </tr>\n",
              "    <tr>\n",
              "      <th>6</th>\n",
              "      <td>[62, 141, 1, 648, 708, 494, 719, 3, 135, 743, ...</td>\n",
              "      <td>[1.0, 1.0, 1.0, 1.0, 0.6000000000000001, 0.600...</td>\n",
              "    </tr>\n",
              "    <tr>\n",
              "      <th>7</th>\n",
              "      <td>[587, 4799, 3179, 589, 260, 2942, 750, 3578, 1...</td>\n",
              "      <td>[1.0, 1.0, 1.0, 1.0, 1.0, 1.0, 1.0, 1.0, 1.0, ...</td>\n",
              "    </tr>\n",
              "    <tr>\n",
              "      <th>8</th>\n",
              "      <td>[553, 288, 434, 356, 597, 648, 527, 593, 3, 34...</td>\n",
              "      <td>[1.0, 1.0, 1.0, 1.0, 1.0, 1.0, 1.0, 1.0, 1.0, ...</td>\n",
              "    </tr>\n",
              "    <tr>\n",
              "      <th>9</th>\n",
              "      <td>[4148, 3798, 1997, 858, 2959, 356, 4022, 1923,...</td>\n",
              "      <td>[1.0, 1.0, 1.0, 1.0, 1.0, 0.6000000000000001, ...</td>\n",
              "    </tr>\n",
              "  </tbody>\n",
              "</table>\n",
              "</div>\n",
              "      <button class=\"colab-df-convert\" onclick=\"convertToInteractive('df-3e4a12c4-5d3f-44b4-a832-e5aa1eec468f')\"\n",
              "              title=\"Convert this dataframe to an interactive table.\"\n",
              "              style=\"display:none;\">\n",
              "        \n",
              "  <svg xmlns=\"http://www.w3.org/2000/svg\" height=\"24px\"viewBox=\"0 0 24 24\"\n",
              "       width=\"24px\">\n",
              "    <path d=\"M0 0h24v24H0V0z\" fill=\"none\"/>\n",
              "    <path d=\"M18.56 5.44l.94 2.06.94-2.06 2.06-.94-2.06-.94-.94-2.06-.94 2.06-2.06.94zm-11 1L8.5 8.5l.94-2.06 2.06-.94-2.06-.94L8.5 2.5l-.94 2.06-2.06.94zm10 10l.94 2.06.94-2.06 2.06-.94-2.06-.94-.94-2.06-.94 2.06-2.06.94z\"/><path d=\"M17.41 7.96l-1.37-1.37c-.4-.4-.92-.59-1.43-.59-.52 0-1.04.2-1.43.59L10.3 9.45l-7.72 7.72c-.78.78-.78 2.05 0 2.83L4 21.41c.39.39.9.59 1.41.59.51 0 1.02-.2 1.41-.59l7.78-7.78 2.81-2.81c.8-.78.8-2.07 0-2.86zM5.41 20L4 18.59l7.72-7.72 1.47 1.35L5.41 20z\"/>\n",
              "  </svg>\n",
              "      </button>\n",
              "      \n",
              "  <style>\n",
              "    .colab-df-container {\n",
              "      display:flex;\n",
              "      flex-wrap:wrap;\n",
              "      gap: 12px;\n",
              "    }\n",
              "\n",
              "    .colab-df-convert {\n",
              "      background-color: #E8F0FE;\n",
              "      border: none;\n",
              "      border-radius: 50%;\n",
              "      cursor: pointer;\n",
              "      display: none;\n",
              "      fill: #1967D2;\n",
              "      height: 32px;\n",
              "      padding: 0 0 0 0;\n",
              "      width: 32px;\n",
              "    }\n",
              "\n",
              "    .colab-df-convert:hover {\n",
              "      background-color: #E2EBFA;\n",
              "      box-shadow: 0px 1px 2px rgba(60, 64, 67, 0.3), 0px 1px 3px 1px rgba(60, 64, 67, 0.15);\n",
              "      fill: #174EA6;\n",
              "    }\n",
              "\n",
              "    [theme=dark] .colab-df-convert {\n",
              "      background-color: #3B4455;\n",
              "      fill: #D2E3FC;\n",
              "    }\n",
              "\n",
              "    [theme=dark] .colab-df-convert:hover {\n",
              "      background-color: #434B5C;\n",
              "      box-shadow: 0px 1px 3px 1px rgba(0, 0, 0, 0.15);\n",
              "      filter: drop-shadow(0px 1px 2px rgba(0, 0, 0, 0.3));\n",
              "      fill: #FFFFFF;\n",
              "    }\n",
              "  </style>\n",
              "\n",
              "      <script>\n",
              "        const buttonEl =\n",
              "          document.querySelector('#df-3e4a12c4-5d3f-44b4-a832-e5aa1eec468f button.colab-df-convert');\n",
              "        buttonEl.style.display =\n",
              "          google.colab.kernel.accessAllowed ? 'block' : 'none';\n",
              "\n",
              "        async function convertToInteractive(key) {\n",
              "          const element = document.querySelector('#df-3e4a12c4-5d3f-44b4-a832-e5aa1eec468f');\n",
              "          const dataTable =\n",
              "            await google.colab.kernel.invokeFunction('convertToInteractive',\n",
              "                                                     [key], {});\n",
              "          if (!dataTable) return;\n",
              "\n",
              "          const docLinkHtml = 'Like what you see? Visit the ' +\n",
              "            '<a target=\"_blank\" href=https://colab.research.google.com/notebooks/data_table.ipynb>data table notebook</a>'\n",
              "            + ' to learn more about interactive tables.';\n",
              "          element.innerHTML = '';\n",
              "          dataTable['output_type'] = 'display_data';\n",
              "          await google.colab.output.renderOutput(dataTable, element);\n",
              "          const docLink = document.createElement('div');\n",
              "          docLink.innerHTML = docLinkHtml;\n",
              "          element.appendChild(docLink);\n",
              "        }\n",
              "      </script>\n",
              "    </div>\n",
              "  </div>\n",
              "  "
            ]
          },
          "metadata": {},
          "execution_count": 41
        }
      ]
    },
    {
      "cell_type": "markdown",
      "source": [
        "### Class  model"
      ],
      "metadata": {
        "id": "HIfY6FeqKqQ4"
      }
    },
    {
      "cell_type": "code",
      "source": [
        "# Khởi tạo cấu hình: xác định encoder, decoder, mapping dims\n",
        "class Efficient_Rec(tf.keras.Model):\n",
        "  def __init__(self, encoder, decoder, reps, use_tf_function=False):\n",
        "    super().__init__()\n",
        "    self.use_tf_function = use_tf_function\n",
        "\n",
        "    self.encoder = encoder\n",
        "    self.decoder = decoder\n",
        "    self.reps = reps\n",
        "\n",
        "  def train_step(self, inputs):\n",
        "    if self.use_tf_function:\n",
        "      return self._tf_train_step(inputs)\n",
        "    else:\n",
        "      return self._train_step(inputs)"
      ],
      "metadata": {
        "id": "XtrIkMaRbo6v"
      },
      "execution_count": 42,
      "outputs": []
    },
    {
      "cell_type": "code",
      "source": [
        "def _wu_mask_split(self, batch_inputs, mask_ratio = 0.25):\n",
        "    \"Chia ratings và items thành mask, warm up\"\n",
        "    input_items, input_ratings = batch_inputs[itemCol], batch_inputs[\"y\"]\n",
        "\n",
        "    def list_split(input, mask_ratio = 0.25, seed= 42):\n",
        "        return train_test_split(input[0:(wu_size+mask_size)], test_size= mask_ratio, random_state=seed)\n",
        "\n",
        "    seed = random.randint(1, 100)\n",
        "    items = input_items.apply(lambda x: list_split(x, mask_ratio, seed))\n",
        "    ratings = input_ratings.apply(lambda x: list_split(x, mask_ratio, seed))\n",
        "\n",
        "    wu_item_list = items.apply(lambda x: x[0])\n",
        "    mask_item_list = items.apply(lambda x: x[1])\n",
        "\n",
        "    wu_rating_list = ratings.apply(lambda x: x[0])\n",
        "    mask_rating_list = ratings.apply(lambda x: x[1])\n",
        "    return (wu_item_list, wu_rating_list), (mask_item_list, mask_rating_list)\n",
        "\n",
        "Efficient_Rec._wu_mask_split = _wu_mask_split"
      ],
      "metadata": {
        "id": "mZtGCHBnjcCg"
      },
      "execution_count": 43,
      "outputs": []
    },
    {
      "cell_type": "code",
      "source": [
        "def _preprocess(self, inputs, padding_size = 100):\n",
        "    \"\"\"\n",
        "    Padding về wu_size và mask_size, convert list of items => string of items\n",
        "    batch_inputs: df: itemStr, y\"\"\"\n",
        "\n",
        "    def padding_list(list_item, wu_size, value=0, is_padding=True):\n",
        "        series_item1 = list_item[0:wu_size]\n",
        "        if is_padding:\n",
        "            series_item1 = series_item1+[value]*(wu_size-len(series_item1))\n",
        "        return series_item1\n",
        "\n",
        "    items_list, ratings_list = inputs\n",
        "\n",
        "    items   = items_list.apply(lambda x: ' '.join(list([str(i) for i in x])))\n",
        "    ratings =   np.stack( ratings_list.apply(lambda x: padding_list( x, padding_size  ) ) )\n",
        "\n",
        "    return items, ratings\n",
        "\n",
        "Efficient_Rec._preprocess = _preprocess"
      ],
      "metadata": {
        "id": "OvIJP8m7bvaF"
      },
      "execution_count": 44,
      "outputs": []
    },
    {
      "cell_type": "code",
      "source": [
        "# Thực hiện training\n",
        "def _train_step(self, inputs):\n",
        "    warm_up, mask = self._wu_mask_split(inputs, mask_ratio = 0.25)\n",
        "    wu_items, wu_ratings = self._preprocess(warm_up, wu_size)\n",
        "    mask_item, mask_ratings = self._preprocess(mask, mask_size)\n",
        "\n",
        "    with tf.GradientTape() as tape:\n",
        "        # Encode the input\n",
        "        wu_vec = self.encoder([wu_items, wu_ratings])\n",
        "        y_pred = self.reps(wu_vec)\n",
        "\n",
        "        # Encde the output\n",
        "        mask_vec = self.decoder([mask_item, mask_ratings])\n",
        "\n",
        "        average_loss = self.loss(mask_vec, y_pred)\n",
        "\n",
        "    # Apply an optimization step\n",
        "    variables = self.trainable_variables \n",
        "    gradients = tape.gradient(average_loss, variables)\n",
        "    self.optimizer.apply_gradients(zip(gradients, variables))\n",
        "\n",
        "    # Return a dict mapping metric names to current value\n",
        "    return {'batch_loss': average_loss}\n",
        "\n",
        "Efficient_Rec._train_step = _train_step"
      ],
      "metadata": {
        "id": "gzoNOhtuhHlu"
      },
      "execution_count": 45,
      "outputs": []
    },
    {
      "cell_type": "code",
      "source": [
        "# Thực hiện minibatch training\n",
        "def _batch_train_step(self, inputs, batch_size):\n",
        "    df = inputs.copy()\n",
        "    chunks = [df[i:i+batch_size] for i in range(0,df.shape[0],batch_size)]\n",
        "    for chunk in chunks:\n",
        "        self._train_step(chunk)\n",
        "\n",
        "Efficient_Rec._batch_train_step = _batch_train_step"
      ],
      "metadata": {
        "id": "HxyczAa_cLdY"
      },
      "execution_count": 46,
      "outputs": []
    },
    {
      "cell_type": "markdown",
      "source": [
        "### Xây dựng encoder model\n",
        "Encoder =  interaction embedding + user feature embedding<br> \n",
        "interaction embedding = sum( interaction embedding các item i)<br> \n",
        "interaction embedding item i = rating x (embedding id sản phẩm + embedding item feature)<br>\n",
        "\n"
      ],
      "metadata": {
        "id": "Sbp1tH7yUeI6"
      }
    },
    {
      "cell_type": "code",
      "source": [
        "%%time\n",
        "# Vectorize (encode + padding) item list\n",
        "max_vocab_size = len(top_items) # nếu số item có <= top_k_item => lấy số lượng item max\n",
        "items_str = ' '.join([str(i) for i in top_items])\n",
        "itemStr = itemCol+\"_str\"\n",
        "\n",
        "vectorizer = layers.TextVectorization( max_tokens= top_k_item, split='whitespace', output_sequence_length= wu_size, name = 'vectorizer')\n",
        "vectorizer.adapt( [items_str] ) "
      ],
      "metadata": {
        "colab": {
          "base_uri": "https://localhost:8080/"
        },
        "id": "QxNyuo9-WJJG",
        "outputId": "8ac7f624-18b4-4f53-de58-c4eb3285a140"
      },
      "execution_count": 47,
      "outputs": [
        {
          "output_type": "stream",
          "name": "stdout",
          "text": [
            "CPU times: user 162 ms, sys: 7.53 ms, total: 170 ms\n",
            "Wall time: 179 ms\n"
          ]
        }
      ]
    },
    {
      "cell_type": "code",
      "source": [
        "class Broadcasting_Multiply(tf.keras.layers.Layer):\n",
        "    \"\"\"Nhân 2 layers khác shape với nhau, trong đó:\n",
        "    inputs=[layer1, layer2]\n",
        "    layer1.shape = (None, n_item, n_feature)\n",
        "    layer2.shape = (None, n_item)\n",
        "    (Chú ý đúng thứ tự)\n",
        "    \"\"\"\n",
        "\n",
        "    def call(self, inputs):\n",
        "        x, y = inputs\n",
        "\n",
        "        #we add the extra dimension:\n",
        "        y = K.expand_dims(y, axis=-1)\n",
        "        #we replicate the elements\n",
        "        y = K.repeat_elements(y, rep=x.shape[2], axis=-1)\n",
        "\n",
        "        return x * y"
      ],
      "metadata": {
        "id": "1U7EQG6zWpi9"
      },
      "execution_count": 48,
      "outputs": []
    },
    {
      "cell_type": "code",
      "source": [
        "# Xây dựng mạng\n",
        "embedding_size = 200\n",
        "reps_size = 150\n",
        "cluster_num = 50\n",
        "\n",
        "def interaction_embedding():\n",
        "\n",
        "    input_wi = layers.Input(shape=(1,), name='input_wi')\n",
        "    wi = vectorizer(input_wi)\n",
        "    wi = layers.Embedding(input_dim= max_vocab_size, output_dim= embedding_size, mask_zero= True, name='ei')(wi)\n",
        "    wi = layers.Dense(embedding_size, activation='linear', name='di')(wi)\n",
        "\n",
        "    wr = layers.Input(shape=(wu_size,), name='warm_up_ratings')\n",
        "\n",
        "    ireps = Broadcasting_Multiply(name='mul')([wi, wr])\n",
        "    uprofile = layers.Lambda(lambda z: K.mean(z, axis=1), name='lambda')(ireps)\n",
        "\n",
        "    # uprofile = layers.LayerNormalization(name='norm')(uprofile)\n",
        "    uprofile = layers.Dense( reps_size, activation='linear', name='du')(uprofile)\n",
        "    uprofile = layers.Dense(cluster_num, activation='sigmoid', name='clustering')(uprofile)\n",
        "    \n",
        "    model = tf.keras.Model(inputs= [input_wi, wr], outputs=[uprofile])\n",
        "    return model\n",
        "\n",
        "encode_model = interaction_embedding()"
      ],
      "metadata": {
        "id": "--fbIsGLXjPD"
      },
      "execution_count": 49,
      "outputs": []
    },
    {
      "cell_type": "code",
      "source": [
        "# Kiểm tra tham số\n",
        "encode_model.summary()"
      ],
      "metadata": {
        "colab": {
          "base_uri": "https://localhost:8080/"
        },
        "id": "cJMxOoxzXvr_",
        "outputId": "b95fcf61-c45b-4206-9c5a-4a1164ee4b47"
      },
      "execution_count": 50,
      "outputs": [
        {
          "output_type": "stream",
          "name": "stdout",
          "text": [
            "Model: \"model_15\"\n",
            "__________________________________________________________________________________________________\n",
            " Layer (type)                   Output Shape         Param #     Connected to                     \n",
            "==================================================================================================\n",
            " input_wi (InputLayer)          [(None, 1)]          0           []                               \n",
            "                                                                                                  \n",
            " vectorizer (TextVectorization)  (None, 200)         0           ['input_wi[0][0]']               \n",
            "                                                                                                  \n",
            " ei (Embedding)                 (None, 200, 200)     1000000     ['vectorizer[0][0]']             \n",
            "                                                                                                  \n",
            " di (Dense)                     (None, 200, 200)     40200       ['ei[0][0]']                     \n",
            "                                                                                                  \n",
            " warm_up_ratings (InputLayer)   [(None, 200)]        0           []                               \n",
            "                                                                                                  \n",
            " mul (Broadcasting_Multiply)    (None, 200, 200)     0           ['di[0][0]',                     \n",
            "                                                                  'warm_up_ratings[0][0]']        \n",
            "                                                                                                  \n",
            " lambda (Lambda)                (None, 200)          0           ['mul[0][0]']                    \n",
            "                                                                                                  \n",
            " du (Dense)                     (None, 150)          30150       ['lambda[0][0]']                 \n",
            "                                                                                                  \n",
            " clustering (Dense)             (None, 50)           7550        ['du[0][0]']                     \n",
            "                                                                                                  \n",
            "==================================================================================================\n",
            "Total params: 1,077,900\n",
            "Trainable params: 1,077,900\n",
            "Non-trainable params: 0\n",
            "__________________________________________________________________________________________________\n"
          ]
        }
      ]
    },
    {
      "cell_type": "code",
      "source": [
        "# tf.keras.utils.plot_model( encode_model ,show_shapes=True, show_dtype=True, show_layer_names=True )"
      ],
      "metadata": {
        "id": "PuAM8w01Xy93"
      },
      "execution_count": 51,
      "outputs": []
    },
    {
      "cell_type": "markdown",
      "source": [
        "### Ground truth\n",
        "Nhận vào text (gồm các mã id sản phẩm) và ratings => chuyển thành vector theo từng user <br>\n",
        "Dựng ground trust onehot bằng trung bình rating onehot"
      ],
      "metadata": {
        "id": "t5vQ9PXoX-OJ"
      }
    },
    {
      "cell_type": "code",
      "source": [
        "%%time\n",
        "# Vectorize (encode + padding) item list\n",
        "maskvec = layers.TextVectorization( max_tokens=max_vocab_size, split='whitespace', output_sequence_length= mask_size, name = 'maskvec')\n",
        "maskvec.adapt( [items_str] ) "
      ],
      "metadata": {
        "colab": {
          "base_uri": "https://localhost:8080/"
        },
        "id": "8vPWr-67aOVS",
        "outputId": "f3bbebdb-fb2c-41ec-9464-9b1bb3822846"
      },
      "execution_count": 52,
      "outputs": [
        {
          "output_type": "stream",
          "name": "stdout",
          "text": [
            "CPU times: user 205 ms, sys: 8.83 ms, total: 214 ms\n",
            "Wall time: 230 ms\n"
          ]
        }
      ]
    },
    {
      "cell_type": "code",
      "source": [
        "# Xây dựng mạng\n",
        "def eye_initializer(shape_list, dtype):\n",
        "    return tf.eye(max_vocab_size)\n",
        "\n",
        "def mask_label():\n",
        "\n",
        "    input_mi = layers.Input(shape=(1,), name='input_mask')\n",
        "    mi = maskvec(input_mi)\n",
        "    mi = layers.Embedding(input_dim= max_vocab_size, output_dim= max_vocab_size, embeddings_initializer = eye_initializer, trainable=False)(mi)\n",
        "\n",
        "    input_mr = layers.Input(shape=(mask_size,), name='mask_rating')\n",
        "\n",
        "    ireps = Broadcasting_Multiply()([mi, input_mr])\n",
        "    uprofile = layers.Lambda(lambda z: K.sum(z, axis=1), name='lambda')(ireps)\n",
        "    \n",
        "    model = tf.keras.Model(inputs= [input_mi, input_mr], outputs=[uprofile])\n",
        "    return model\n",
        "\n",
        "# decoder chỉ có chức năng chuyển list of itemId => rating vector, can not trainable\n",
        "dencode_model = mask_label()"
      ],
      "metadata": {
        "id": "PuNTMa0xYDAK"
      },
      "execution_count": 53,
      "outputs": []
    },
    {
      "cell_type": "code",
      "source": [
        "# Kiểm tra số lượng tham số, đảm bảo layer embedding không có trainable param\n",
        "dencode_model.summary()"
      ],
      "metadata": {
        "colab": {
          "base_uri": "https://localhost:8080/"
        },
        "id": "Z6ZLWt-Ga_qs",
        "outputId": "ed5c1204-6848-40bc-bd50-6db8c3e6cb65"
      },
      "execution_count": 54,
      "outputs": [
        {
          "output_type": "stream",
          "name": "stdout",
          "text": [
            "Model: \"model_16\"\n",
            "__________________________________________________________________________________________________\n",
            " Layer (type)                   Output Shape         Param #     Connected to                     \n",
            "==================================================================================================\n",
            " input_mask (InputLayer)        [(None, 1)]          0           []                               \n",
            "                                                                                                  \n",
            " maskvec (TextVectorization)    (None, 50)           0           ['input_mask[0][0]']             \n",
            "                                                                                                  \n",
            " embedding_5 (Embedding)        (None, 50, 5000)     25000000    ['maskvec[0][0]']                \n",
            "                                                                                                  \n",
            " mask_rating (InputLayer)       [(None, 50)]         0           []                               \n",
            "                                                                                                  \n",
            " broadcasting__multiply_5 (Broa  (None, 50, 5000)    0           ['embedding_5[0][0]',            \n",
            " dcasting_Multiply)                                               'mask_rating[0][0]']            \n",
            "                                                                                                  \n",
            " lambda (Lambda)                (None, 5000)         0           ['broadcasting__multiply_5[0][0]'\n",
            "                                                                 ]                                \n",
            "                                                                                                  \n",
            "==================================================================================================\n",
            "Total params: 25,000,000\n",
            "Trainable params: 0\n",
            "Non-trainable params: 25,000,000\n",
            "__________________________________________________________________________________________________\n"
          ]
        }
      ]
    },
    {
      "cell_type": "markdown",
      "source": [
        "### Mapping dims"
      ],
      "metadata": {
        "id": "bWKyminnbGyA"
      }
    },
    {
      "cell_type": "code",
      "source": [
        "# Mapping số chiều của clustering model với số chiều của label\n",
        "\n",
        "def get_reps_model():\n",
        "\n",
        "    input_reps = layers.Input(shape=(cluster_num), name='input_reps')\n",
        "    reps = layers.Dense(max_vocab_size, activation='linear', name='representations')(input_reps)\n",
        "    \n",
        "    model = tf.keras.Model(inputs= [input_reps], outputs=[reps])\n",
        "    return model\n",
        "\n",
        "reps_model = get_reps_model()"
      ],
      "metadata": {
        "id": "l7gACm3jbIrM"
      },
      "execution_count": 55,
      "outputs": []
    },
    {
      "cell_type": "code",
      "source": [
        "# Check số lượng tham số \n",
        "reps_model.summary()"
      ],
      "metadata": {
        "colab": {
          "base_uri": "https://localhost:8080/"
        },
        "id": "OXV7OYa9bfxd",
        "outputId": "a98295c2-debe-4273-b3a0-fccc8c58ddc8"
      },
      "execution_count": 56,
      "outputs": [
        {
          "output_type": "stream",
          "name": "stdout",
          "text": [
            "Model: \"model_17\"\n",
            "_________________________________________________________________\n",
            " Layer (type)                Output Shape              Param #   \n",
            "=================================================================\n",
            " input_reps (InputLayer)     [(None, 50)]              0         \n",
            "                                                                 \n",
            " representations (Dense)     (None, 5000)              255000    \n",
            "                                                                 \n",
            "=================================================================\n",
            "Total params: 255,000\n",
            "Trainable params: 255,000\n",
            "Non-trainable params: 0\n",
            "_________________________________________________________________\n"
          ]
        }
      ]
    },
    {
      "cell_type": "code",
      "source": [
        "def Focus2(alpha=0.01):\n",
        "    def cal_los(y_true, y_pred):\n",
        "        y_pred = tf.cast(y_pred, tf.float32)\n",
        "        y_true = tf.cast(y_true, tf.float32)\n",
        "\n",
        "        positive_true = y_true[y_true!=0]\n",
        "        positive_pred = y_pred[y_true!=0]\n",
        "        los1 = K.abs(positive_true-positive_pred )\n",
        "\n",
        "        zero_true = y_true[y_true==0]\n",
        "        zero_pred = y_pred[y_true==0]\n",
        "        los2 =alpha*  K.abs(zero_true-zero_pred )\n",
        "\n",
        "\n",
        "        return K.sum( tf.concat([los1, los2], axis=0) )/( positive_true.shape[0] + alpha * zero_true.shape[0])\n",
        "    return cal_los\n",
        "\n",
        "y_true = tf.constant([1,0.2,0.1,1])\n",
        "y_pred = tf.constant([1,0,5.2,1.005])\n",
        "\n",
        "Focus2(0.01)(y_true, y_pred)"
      ],
      "metadata": {
        "colab": {
          "base_uri": "https://localhost:8080/"
        },
        "id": "pgYmc_p_ht_Q",
        "outputId": "dc6f15b9-2259-427f-df34-803da80d88e2"
      },
      "execution_count": 57,
      "outputs": [
        {
          "output_type": "execute_result",
          "data": {
            "text/plain": [
              "<tf.Tensor: shape=(), dtype=float32, numpy=1.32625>"
            ]
          },
          "metadata": {},
          "execution_count": 57
        }
      ]
    },
    {
      "cell_type": "markdown",
      "source": [
        "### Tối ưu tham số"
      ],
      "metadata": {
        "id": "tFbft_zYLDdE"
      }
    },
    {
      "cell_type": "code",
      "source": [
        "\n",
        "# input_wi = [\"1 2 5 3\"]\n",
        "\n",
        "# test_vectorizer = layers.TextVectorization( max_tokens=6, split='whitespace', output_sequence_length= 5, name = 'maskvec')\n",
        "# test_vectorizer.adapt( [input_wi] ) \n",
        "# wi = test_vectorizer(input_wi)\n",
        "# print(wi)\n",
        "# wi = layers.Embedding(input_dim= 6, output_dim= 5, mask_zero= False, name='ei')(wi)\n",
        "# print(wi)\n",
        "# wi = layers.Dense(5, activation='relu', name='di')(wi)\n",
        "# print(wi)\n",
        "# wr = np.array([0.1, 0.2, 0.5, 1, 0])\n",
        "\n",
        "# ireps = Broadcasting_Multiply(name='mul')([wi, wr])\n",
        "# print(ireps)\n",
        "# uprofile = layers.Lambda(lambda z: K.sum(z, axis=1), name='lambda')(ireps)\n",
        "# print(uprofile)\n",
        "# uprofile = layers.LayerNormalization(name='norm')(uprofile)\n",
        "# print(uprofile)\n",
        "# uprofile = layers.Dense( 4, activation='linear', name='du1')(uprofile)\n",
        "# print(uprofile)\n",
        "# uprofile = layers.Dense( 4, activation='relu', name='du2')(uprofile)\n",
        "# print(uprofile)\n",
        "# # uprofile = layers.Dense( reps_size, activation='relu', name='du3')(uprofile)\n",
        "# # uprofile = layers.Dense(cluster_num, activation='sigmoid', name='clustering')(uprofile)"
      ],
      "metadata": {
        "id": "EnBEcssCvr5K"
      },
      "execution_count": 58,
      "outputs": []
    },
    {
      "cell_type": "code",
      "source": [
        "# Xây dựng mạng\n",
        "embedding_size = 200\n",
        "reps_size = 150\n",
        "cluster_num = 50\n",
        "\n",
        "def interaction_embedding2():\n",
        "\n",
        "    input_wi = layers.Input(shape=(1,), name='input_wi')\n",
        "    wi = vectorizer(input_wi)\n",
        "    wi = layers.Embedding(input_dim= max_vocab_size, output_dim= embedding_size, mask_zero= False, name='ei')(wi)\n",
        "    wi = layers.Dense(embedding_size, activation='relu', name='di')(wi)\n",
        "\n",
        "    wr = layers.Input(shape=(wu_size,), name='warm_up_ratings')\n",
        "\n",
        "    ireps = Broadcasting_Multiply(name='mul')([wi, wr])\n",
        "    uprofile = layers.Lambda(lambda z: K.sum(z, axis=1), name='lambda')(ireps)\n",
        "\n",
        "    uprofile = layers.LayerNormalization(name='norm')(uprofile)\n",
        "    uprofile = layers.Dense( reps_size, activation='linear', name='du1')(uprofile)\n",
        "    uprofile = layers.Dense( reps_size, activation='relu', name='du2')(uprofile)\n",
        "    uprofile = layers.Dense( reps_size, activation='relu', name='du3')(uprofile)\n",
        "    uprofile = layers.Dense(cluster_num, activation='sigmoid', name='clustering')(uprofile)\n",
        "    \n",
        "    model = tf.keras.Model(inputs= [input_wi, wr], outputs=[uprofile])\n",
        "    return model"
      ],
      "metadata": {
        "id": "WPrKlGwedvZx"
      },
      "execution_count": 59,
      "outputs": []
    },
    {
      "cell_type": "code",
      "source": [
        "# model = Efficient_Rec( encoder = interaction_embedding2(), \n",
        "#                       reps = get_reps_model(),\n",
        "#                       decoder = mask_label(),\n",
        "#                       use_tf_function=False)\n",
        "\n",
        "# # Configure the loss and optimizer\n",
        "# model.compile(\n",
        "#     optimizer=tf.optimizers.Adam(),\n",
        "#     loss=Focus2(0.0065),\n",
        "# )"
      ],
      "metadata": {
        "id": "53ekTYluhxTG"
      },
      "execution_count": 60,
      "outputs": []
    },
    {
      "cell_type": "markdown",
      "source": [
        "### Constrastive model"
      ],
      "metadata": {
        "id": "pQokgKdL33ux"
      }
    },
    {
      "cell_type": "code",
      "source": [
        "# Thực hiện training\n",
        "# TODO: sửa lại shift thành np.roll\n",
        "def _constrastive_train_step(self, inputs):\n",
        "    warm_up, mask = self._wu_mask_split(inputs.sample(frac=1), mask_ratio = 0.25)\n",
        "    wu_items, wu_ratings = self._preprocess(warm_up, wu_size)\n",
        "    mask_item, mask_ratings = self._preprocess(mask, wu_size)\n",
        "\n",
        "    negative_items = wu_items.shift(1, axis=0, fill_value=[' ']) #np.roll( wu_items, shift= 1, axis=0)\n",
        "    negative_ratings =  np.roll( wu_ratings, shift= 1, axis=0)\n",
        "\n",
        "    with tf.GradientTape() as tape:\n",
        "        # Interaction embedding\n",
        "        wu_vec = self.encoder([wu_items, wu_ratings])\n",
        "        mask_vec = self.encoder([mask_item, mask_ratings])\n",
        "        negative_vec = self.encoder([negative_items, negative_ratings])\n",
        "\n",
        "\n",
        "        average_loss = self.loss(wu_vec, mask_vec, negative_vec)\n",
        "\n",
        "    # Apply an optimization step\n",
        "    variables = self.trainable_variables \n",
        "    gradients = tape.gradient(average_loss, variables)\n",
        "    self.optimizer.apply_gradients(zip(gradients, variables))\n",
        "\n",
        "    # Return a dict mapping metric names to current value\n",
        "    return {'batch_loss': average_loss}\n",
        "\n",
        "Efficient_Rec._constrastive_train_step = _constrastive_train_step"
      ],
      "metadata": {
        "id": "vuBMn3DD0BaM"
      },
      "execution_count": 109,
      "outputs": []
    },
    {
      "cell_type": "code",
      "source": [
        "def constrastive_loss(margin=0.01):\n",
        "    def compute_loss(wu_vec, mask_vec, negative_vec):\n",
        "        ap_distance =  tf.linalg.norm(wu_vec - mask_vec, axis=1)\n",
        "        an_distance =  tf.linalg.norm(wu_vec - negative_vec, axis=1)\n",
        "        # Computing the Triplet Loss by subtracting both distances and\n",
        "        # making sure we don't get a negative value.\n",
        "        loss = ap_distance - an_distance\n",
        "        loss = tf.maximum(loss + margin, 0.0)\n",
        "        return tf.reduce_sum(loss)\n",
        "    return compute_loss\n",
        "\n",
        "\n",
        "# Compile model\n",
        "model = Efficient_Rec( encoder = interaction_embedding2(), \n",
        "                      reps = get_reps_model(),\n",
        "                      decoder = mask_label(),\n",
        "                      use_tf_function=False)\n",
        "\n",
        "# Configure the loss and optimizer\n",
        "model.compile(\n",
        "    optimizer=tf.optimizers.Adam(),\n",
        "    loss=constrastive_loss(margin= 0.05),\n",
        ")"
      ],
      "metadata": {
        "id": "D5W_j9I7z5Qn"
      },
      "execution_count": 110,
      "outputs": []
    },
    {
      "cell_type": "code",
      "source": [
        "%%time\n",
        "epochs= 20\n",
        "for n in range(epochs):\n",
        "  print(n, \"/\", epochs, \": \", model._constrastive_train_step( interac_df ))\n"
      ],
      "metadata": {
        "colab": {
          "base_uri": "https://localhost:8080/"
        },
        "id": "YEJoow5P1Hnt",
        "outputId": "bf8448c0-b8f7-4db0-efa8-1b0cf4c0e8d2"
      },
      "execution_count": 111,
      "outputs": [
        {
          "output_type": "stream",
          "name": "stdout",
          "text": [
            "WARNING:tensorflow:Gradients do not exist for variables ['representations/kernel:0', 'representations/bias:0'] when minimizing the loss. If you're using `model.compile()`, did you forget to provide a `loss`argument?\n",
            "0 / 20 :  {'batch_loss': <tf.Tensor: shape=(), dtype=float32, numpy=0.24041945>}\n",
            "WARNING:tensorflow:Gradients do not exist for variables ['representations/kernel:0', 'representations/bias:0'] when minimizing the loss. If you're using `model.compile()`, did you forget to provide a `loss`argument?\n",
            "1 / 20 :  {'batch_loss': <tf.Tensor: shape=(), dtype=float32, numpy=0.089649126>}\n",
            "WARNING:tensorflow:Gradients do not exist for variables ['representations/kernel:0', 'representations/bias:0'] when minimizing the loss. If you're using `model.compile()`, did you forget to provide a `loss`argument?\n",
            "2 / 20 :  {'batch_loss': <tf.Tensor: shape=(), dtype=float32, numpy=0.12404393>}\n",
            "WARNING:tensorflow:Gradients do not exist for variables ['representations/kernel:0', 'representations/bias:0'] when minimizing the loss. If you're using `model.compile()`, did you forget to provide a `loss`argument?\n",
            "3 / 20 :  {'batch_loss': <tf.Tensor: shape=(), dtype=float32, numpy=0.018367816>}\n",
            "WARNING:tensorflow:Gradients do not exist for variables ['representations/kernel:0', 'representations/bias:0'] when minimizing the loss. If you're using `model.compile()`, did you forget to provide a `loss`argument?\n",
            "4 / 20 :  {'batch_loss': <tf.Tensor: shape=(), dtype=float32, numpy=0.048499156>}\n",
            "WARNING:tensorflow:Gradients do not exist for variables ['representations/kernel:0', 'representations/bias:0'] when minimizing the loss. If you're using `model.compile()`, did you forget to provide a `loss`argument?\n",
            "5 / 20 :  {'batch_loss': <tf.Tensor: shape=(), dtype=float32, numpy=0.20469944>}\n",
            "WARNING:tensorflow:Gradients do not exist for variables ['representations/kernel:0', 'representations/bias:0'] when minimizing the loss. If you're using `model.compile()`, did you forget to provide a `loss`argument?\n",
            "6 / 20 :  {'batch_loss': <tf.Tensor: shape=(), dtype=float32, numpy=0.0>}\n",
            "WARNING:tensorflow:Gradients do not exist for variables ['representations/kernel:0', 'representations/bias:0'] when minimizing the loss. If you're using `model.compile()`, did you forget to provide a `loss`argument?\n",
            "7 / 20 :  {'batch_loss': <tf.Tensor: shape=(), dtype=float32, numpy=0.0>}\n",
            "WARNING:tensorflow:Gradients do not exist for variables ['representations/kernel:0', 'representations/bias:0'] when minimizing the loss. If you're using `model.compile()`, did you forget to provide a `loss`argument?\n",
            "8 / 20 :  {'batch_loss': <tf.Tensor: shape=(), dtype=float32, numpy=0.0>}\n",
            "WARNING:tensorflow:Gradients do not exist for variables ['representations/kernel:0', 'representations/bias:0'] when minimizing the loss. If you're using `model.compile()`, did you forget to provide a `loss`argument?\n",
            "9 / 20 :  {'batch_loss': <tf.Tensor: shape=(), dtype=float32, numpy=0.0>}\n",
            "WARNING:tensorflow:Gradients do not exist for variables ['representations/kernel:0', 'representations/bias:0'] when minimizing the loss. If you're using `model.compile()`, did you forget to provide a `loss`argument?\n",
            "10 / 20 :  {'batch_loss': <tf.Tensor: shape=(), dtype=float32, numpy=0.68074834>}\n",
            "WARNING:tensorflow:Gradients do not exist for variables ['representations/kernel:0', 'representations/bias:0'] when minimizing the loss. If you're using `model.compile()`, did you forget to provide a `loss`argument?\n",
            "11 / 20 :  {'batch_loss': <tf.Tensor: shape=(), dtype=float32, numpy=0.0>}\n",
            "WARNING:tensorflow:Gradients do not exist for variables ['representations/kernel:0', 'representations/bias:0'] when minimizing the loss. If you're using `model.compile()`, did you forget to provide a `loss`argument?\n",
            "12 / 20 :  {'batch_loss': <tf.Tensor: shape=(), dtype=float32, numpy=0.0>}\n",
            "WARNING:tensorflow:Gradients do not exist for variables ['representations/kernel:0', 'representations/bias:0'] when minimizing the loss. If you're using `model.compile()`, did you forget to provide a `loss`argument?\n",
            "13 / 20 :  {'batch_loss': <tf.Tensor: shape=(), dtype=float32, numpy=0.0>}\n",
            "WARNING:tensorflow:Gradients do not exist for variables ['representations/kernel:0', 'representations/bias:0'] when minimizing the loss. If you're using `model.compile()`, did you forget to provide a `loss`argument?\n",
            "14 / 20 :  {'batch_loss': <tf.Tensor: shape=(), dtype=float32, numpy=0.0>}\n",
            "WARNING:tensorflow:Gradients do not exist for variables ['representations/kernel:0', 'representations/bias:0'] when minimizing the loss. If you're using `model.compile()`, did you forget to provide a `loss`argument?\n",
            "15 / 20 :  {'batch_loss': <tf.Tensor: shape=(), dtype=float32, numpy=0.0>}\n",
            "WARNING:tensorflow:Gradients do not exist for variables ['representations/kernel:0', 'representations/bias:0'] when minimizing the loss. If you're using `model.compile()`, did you forget to provide a `loss`argument?\n",
            "16 / 20 :  {'batch_loss': <tf.Tensor: shape=(), dtype=float32, numpy=0.0>}\n",
            "WARNING:tensorflow:Gradients do not exist for variables ['representations/kernel:0', 'representations/bias:0'] when minimizing the loss. If you're using `model.compile()`, did you forget to provide a `loss`argument?\n",
            "17 / 20 :  {'batch_loss': <tf.Tensor: shape=(), dtype=float32, numpy=0.0>}\n",
            "WARNING:tensorflow:Gradients do not exist for variables ['representations/kernel:0', 'representations/bias:0'] when minimizing the loss. If you're using `model.compile()`, did you forget to provide a `loss`argument?\n",
            "18 / 20 :  {'batch_loss': <tf.Tensor: shape=(), dtype=float32, numpy=0.0>}\n",
            "WARNING:tensorflow:Gradients do not exist for variables ['representations/kernel:0', 'representations/bias:0'] when minimizing the loss. If you're using `model.compile()`, did you forget to provide a `loss`argument?\n",
            "19 / 20 :  {'batch_loss': <tf.Tensor: shape=(), dtype=float32, numpy=0.0>}\n",
            "CPU times: user 4.78 s, sys: 212 ms, total: 4.99 s\n",
            "Wall time: 4.78 s\n"
          ]
        }
      ]
    },
    {
      "cell_type": "code",
      "source": [
        "interac_df[\"movieId\"].apply(lambda x:' '.join([str(i) for i in x])).values.shape"
      ],
      "metadata": {
        "colab": {
          "base_uri": "https://localhost:8080/"
        },
        "id": "GWUwLXvm4xuX",
        "outputId": "b6b9b892-2340-420b-b2a0-8021625fd70d"
      },
      "execution_count": 105,
      "outputs": [
        {
          "output_type": "execute_result",
          "data": {
            "text/plain": [
              "(9,)"
            ]
          },
          "metadata": {},
          "execution_count": 105
        }
      ]
    },
    {
      "cell_type": "code",
      "source": [
        "np.expand_dims(np.roll(interac_df[\"movieId\"].apply(lambda x:' '.join([str(i) for i in x])), 1), -1)"
      ],
      "metadata": {
        "colab": {
          "base_uri": "https://localhost:8080/"
        },
        "id": "_sq1qj0D4TY2",
        "outputId": "f6b94b0d-45f4-4e9b-ab5a-e92290fcf306"
      },
      "execution_count": 102,
      "outputs": [
        {
          "output_type": "execute_result",
          "data": {
            "text/plain": [
              "array([['4148 3798 1997 858 2959 356 4022 1923 4369 2840 2688 2279 1911 1219 4509 2683 3857 2719 2722 4519 3785 4030'],\n",
              "       ['8636 6093 1097 3081 1090 3153 2288 296 1258 223 7757 5026 1214 1387 4306 2118 1036 2762 3479 4754 7438 151 2542 5039 7454 2143 4911 5540 1200 4571 8961 2959 1240 2944 1278 1215 6754 1967 2174 1259 5816 589 4980 6755 1136 593 1009 1848 5679 2194 2692 1584 1262 1994 3476 3438 2664 1246 4226 367 7164 1217 7247 2 2644 47 4720 1291 1193 2648 1997 4446 3037 7001 1222 3997 6807 1350 337 3932 2761 1304 1201 7482'],\n",
              "       ['1214 62 266 3928 589 924 1259 260 1249 1748 1196 3926 110 3173 3 3753 3555 1673 2951 3917 3565 1965 3918 2858 469 1986 891 1969 1972'],\n",
              "       ['1266 1213 2288 2788 2118 1208 1258 2791 1257 1909 1097 1375 1356 2529 2571 1222 1221 2448 329 1198 1247 2968 2150 2985 457 2918 2117 3039 904 2076 5060 1276 316 3033 2872 1240 1060 490 1073 1230 1196 2710 1676 2046 260 50 1199 3070 2329 2615 1272 2668 2105 1376 1345 1079 1921 2949 2034 1917 1103 1125 2532 2640 610 2455 3072 1882 1193 2947 1544 919 1307 3142 1094 2722 2311 788 2054 160 1179 905 780 2662 440 1225 2857 2533 2012 2053 2574 2657 1288 173 512 1188 2676'],\n",
              "       ['454 356 480 586 594 431 377 596 589 370 10 367 329 519 380 440 420 165 6'],\n",
              "       ['832 1035 590 780 1196 368 720 594 508 454 1079 595 1210 531 440 457 1080 1036 1393 364 318 736 141 587 110 480 370 350 529 475 316 593 608 367 788 235 1073 104 140'],\n",
              "       ['62 141 1 648 708 494 719 3 135 743 762 733 1073'],\n",
              "       ['587 4799 3179 589 260 2942 750 3578 1256 4963 2028 1077 1196 4545 2018 2628 2463 3408 1777 2987 1544 3671 1449 4308 2405 2881 3194 11 3524 2390 2403 3977 4019 3699 4339 2993 3932 1270 2671 597 2716 1265 1357 4993 590 2011 2529 1017 908 899 3363 348 356 920 3911 2080 3959 3086 4994 440 1253 4643 3987 2908 3510 1911 1259 2125 1230 3235 3108 4310 2701 880 2642 924 2311 316 3156 3926 5009 2333 351 2861 4270 377 4995 3994 2316 1183 1101 2683 1894 2396 928 271 3844 2367 3185 736 4023 362 2346 1343 2633 2723 2858 355 4700 3354 3684 2108 952 1393 4361 2013 852 2535 2722 1882 3244 2546 4736 2950 1020 932 4018 2384 2916 1617 2112 2081 3074 1580 788 3062 3103 3798 3081 3175 3754 4370 105 3824 2657 17 2770 3004 15 2734 4639 2968 1095 4848 806'],\n",
              "       ['553 288 434 356 597 648 527 593 3 349 590 253 377 10 21 357 1 48 350 610 292 364 372 207 500 539 592 442 454 551 552 508 173 276 329 168 231 595 588 39 6 165 344 338 316 19 172']],\n",
              "      dtype=object)"
            ]
          },
          "metadata": {},
          "execution_count": 102
        }
      ]
    },
    {
      "cell_type": "markdown",
      "source": [
        "// END constrastive model"
      ],
      "metadata": {
        "id": "BISfMUNM37ug"
      }
    },
    {
      "cell_type": "code",
      "source": [
        "# %%time\n",
        "# epochs= 20\n",
        "# for n in range(epochs):\n",
        "#   print(n, \"/\", epochs, \": \", model.train_step( interac_df ))\n"
      ],
      "metadata": {
        "id": "BmtVYa_9h1Jx"
      },
      "execution_count": null,
      "outputs": []
    },
    {
      "cell_type": "code",
      "source": [
        "group_scores = model.encoder(model._preprocess( [interac_df[itemCol], interac_df[\"y\"]], padding_size = wu_size )).numpy()\n",
        "group_scores[0:3]"
      ],
      "metadata": {
        "id": "l1b9ld8TfPd5"
      },
      "execution_count": null,
      "outputs": []
    },
    {
      "cell_type": "code",
      "source": [
        "group_scores.shape"
      ],
      "metadata": {
        "id": "1LUQ50L20NGq"
      },
      "execution_count": null,
      "outputs": []
    },
    {
      "cell_type": "code",
      "source": [
        "ugs= np.argmax(group_scores, axis=1)\n",
        "for i in range(50):\n",
        "    print(i,': ', np.sum(ugs==i) )\n"
      ],
      "metadata": {
        "id": "xYjS-3omFbQk"
      },
      "execution_count": null,
      "outputs": []
    },
    {
      "cell_type": "code",
      "source": [
        "# Sort theo user_group + draw sigmoid/softmax layer\n",
        "k =70\n",
        "a = group_scores\n",
        "ind = np.argmax(group_scores, axis=1)\n",
        "plt.imshow( a[np.argsort(ind)][0:k] )"
      ],
      "metadata": {
        "id": "YtHEaTQUk2oo"
      },
      "execution_count": null,
      "outputs": []
    },
    {
      "cell_type": "code",
      "source": [
        "# np.argsort(a[1])"
      ],
      "metadata": {
        "id": "d3IoG5-r4CM8"
      },
      "execution_count": null,
      "outputs": []
    },
    {
      "cell_type": "code",
      "source": [
        "# [np.isin(np.argsort(a[1]), np.array([0,1,2]) )]"
      ],
      "metadata": {
        "id": "GbNCgvoT2-Tn"
      },
      "execution_count": null,
      "outputs": []
    },
    {
      "cell_type": "code",
      "source": [
        "# Vẽ theo user_group\n",
        "# user_groups = [ 32 ]\n",
        "# a = group_scores\n",
        "# ind = np.argmax(group_scores, axis=1)\n",
        "# plt.imshow( a[ np.isin( ind, user_groups)] )"
      ],
      "metadata": {
        "id": "q-9RC3kdsSF3"
      },
      "execution_count": null,
      "outputs": []
    },
    {
      "cell_type": "code",
      "source": [
        "# Vẽ y_true của các user chung group\n",
        "# y_true = model.decoder(model._preprocess( [interac_df[itemCol], interac_df[\"y\"]], padding_size = mask_size )).numpy()\n",
        "# y_true_ugrs = y_true[ np.isin( ind, user_groups)]\n",
        "\n",
        "# for i in range(y_true_ugrs.shape[0]):\n",
        "#     y_true_i = y_true_ugrs[i].reshape((50,100))\n",
        "#     print( np.max(y_true_i), np.min(y_true_i), np.mean(y_true_i)  )\n",
        "#     plt.imshow( y_true_i)\n",
        "#     plt.show()\n"
      ],
      "metadata": {
        "id": "qYKVC00ztNBk"
      },
      "execution_count": null,
      "outputs": []
    },
    {
      "cell_type": "code",
      "source": [
        "# plt.imshow(y_true[0].reshape(50, 100) )"
      ],
      "metadata": {
        "id": "jauMa8Z36HcA"
      },
      "execution_count": null,
      "outputs": []
    },
    {
      "cell_type": "code",
      "source": [
        "# y_true[0][y_true[0]!=0]"
      ],
      "metadata": {
        "id": "5qzcwop86TNH"
      },
      "execution_count": null,
      "outputs": []
    },
    {
      "cell_type": "code",
      "source": [
        "# y_true = model.decoder(model._preprocess( [interac_df[itemCol], interac_df[\"y\"]], padding_size = mask_size )).numpy()[0:15]\n",
        "# for i in range(y_true.shape[0]):\n",
        "#     y_true_i = y_true[i].reshape((50,100))\n",
        "#     print( np.max(y_true_i), np.min(y_true_i), np.mean(y_true_i)  )\n",
        "#     plt.imshow( y_true_i)\n",
        "#     plt.show()"
      ],
      "metadata": {
        "id": "2pSAHptJVhVR"
      },
      "execution_count": null,
      "outputs": []
    },
    {
      "cell_type": "code",
      "source": [
        "# for i in range(group_scores.shape[0]):\n",
        "#     plt.imshow( group_scores[i].numpy().reshape((5,10)) )\n",
        "#     plt.show()"
      ],
      "metadata": {
        "id": "XTSdLhkjUeCk"
      },
      "execution_count": null,
      "outputs": []
    },
    {
      "cell_type": "code",
      "source": [
        "# plt.imshow(y_true)"
      ],
      "metadata": {
        "id": "eXN9E1upXW2D"
      },
      "execution_count": null,
      "outputs": []
    },
    {
      "cell_type": "code",
      "source": [
        ""
      ],
      "metadata": {
        "id": "TbltflgfUmXf"
      },
      "execution_count": null,
      "outputs": []
    },
    {
      "cell_type": "code",
      "source": [
        "gc.collect()"
      ],
      "metadata": {
        "id": "WSAWNkXjGX7e"
      },
      "execution_count": null,
      "outputs": []
    }
  ],
  "metadata": {
    "kernelspec": {
      "display_name": "Python 3",
      "language": "python",
      "name": "python3"
    },
    "language_info": {
      "codemirror_mode": {
        "name": "ipython",
        "version": 3
      },
      "file_extension": ".py",
      "mimetype": "text/x-python",
      "name": "python",
      "nbconvert_exporter": "python",
      "pygments_lexer": "ipython3",
      "version": "3.6.9"
    },
    "colab": {
      "name": "v2.2_ML20M_sequence.ipynb",
      "provenance": [],
      "collapsed_sections": [
        "17fHxkHoAQq6"
      ],
      "toc_visible": true,
      "include_colab_link": true
    }
  },
  "nbformat": 4,
  "nbformat_minor": 0
}