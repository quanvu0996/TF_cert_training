{
  "cells": [
    {
      "cell_type": "markdown",
      "metadata": {
        "id": "view-in-github",
        "colab_type": "text"
      },
      "source": [
        "<a href=\"https://colab.research.google.com/github/quanvu0996/TF_cert_training/blob/main/ML20M_sequence.ipynb\" target=\"_parent\"><img src=\"https://colab.research.google.com/assets/colab-badge.svg\" alt=\"Open In Colab\"/></a>"
      ]
    },
    {
      "cell_type": "code",
      "execution_count": 2,
      "metadata": {
        "colab": {
          "base_uri": "https://localhost:8080/"
        },
        "id": "zZQDJKGUAQqn",
        "outputId": "8d93c66e-d368-45bc-dffb-7918d4ce8173"
      },
      "outputs": [
        {
          "output_type": "stream",
          "name": "stdout",
          "text": [
            "23.0\n",
            "svmem(total=13617737728, available=11884650496, percent=12.7, used=1549189120, free=10118561792, active=1892966400, inactive=1392902144, buffers=110166016, cached=1839820800, shared=1224704, slab=132153344)\n",
            "12.7\n",
            "87.27331024714533\n"
          ]
        }
      ],
      "source": [
        "import psutil\n",
        "# gives a single float value\n",
        "print(psutil.cpu_percent())\n",
        "# gives an object with many fields\n",
        "print(psutil.virtual_memory())\n",
        "# you can convert that object to a dictionary print(dict(psutil.virtual_memory()._asdict()))\n",
        "# you can have the percentage of used RAM\n",
        "print(psutil.virtual_memory().percent)\n",
        "# you can calculate percentage of available memory\n",
        "print(psutil.virtual_memory().available * 100 / psutil.virtual_memory().total)"
      ]
    },
    {
      "cell_type": "code",
      "execution_count": 3,
      "metadata": {
        "id": "XS6UHXPVAQqs"
      },
      "outputs": [],
      "source": [
        "import pandas as pd\n",
        "import numpy as np\n",
        "import random\n",
        "import tensorflow as tf\n",
        "from tensorflow.keras import layers\n",
        "import tensorflow.keras.backend as K\n",
        "from sklearn.model_selection import train_test_split"
      ]
    },
    {
      "cell_type": "code",
      "source": [
        "tf.__version__"
      ],
      "metadata": {
        "colab": {
          "base_uri": "https://localhost:8080/",
          "height": 35
        },
        "id": "Gv8gXemwD3UQ",
        "outputId": "eedad4b3-15c2-4213-fdfb-8d35bab04610"
      },
      "execution_count": 4,
      "outputs": [
        {
          "output_type": "execute_result",
          "data": {
            "text/plain": [
              "'2.8.0'"
            ],
            "application/vnd.google.colaboratory.intrinsic+json": {
              "type": "string"
            }
          },
          "metadata": {},
          "execution_count": 4
        }
      ]
    },
    {
      "cell_type": "code",
      "execution_count": 5,
      "metadata": {
        "colab": {
          "base_uri": "https://localhost:8080/"
        },
        "id": "ptdyl-P4AQqt",
        "outputId": "7cec4dd7-2edc-446c-98ae-be5835b83691"
      },
      "outputs": [
        {
          "output_type": "execute_result",
          "data": {
            "text/plain": [
              "147"
            ]
          },
          "metadata": {},
          "execution_count": 5
        }
      ],
      "source": [
        "import gc\n",
        "gc.collect()"
      ]
    },
    {
      "cell_type": "code",
      "execution_count": 6,
      "metadata": {
        "id": "Crhty6fiAQqu"
      },
      "outputs": [],
      "source": [
        "itemCol = 'movieId'\n",
        "userCol = 'userId'"
      ]
    },
    {
      "cell_type": "code",
      "source": [
        "# DGX setup\n",
        "# fpath = \"./ml-20m\" \n",
        "\n",
        "#colab setup\n",
        "from google.colab import drive\n",
        "drive.mount('/content/gdrive')\n",
        "fpath = \"/content/gdrive/MyDrive/RECOMMENDER_STUDIES/data/ml-20m\""
      ],
      "metadata": {
        "id": "xOJJy441A0w0",
        "colab": {
          "base_uri": "https://localhost:8080/"
        },
        "outputId": "b9d19e2a-59c3-4b12-e7b6-ed9637c255cc"
      },
      "execution_count": 7,
      "outputs": [
        {
          "output_type": "stream",
          "name": "stdout",
          "text": [
            "Mounted at /content/gdrive\n"
          ]
        }
      ]
    },
    {
      "cell_type": "code",
      "execution_count": 8,
      "metadata": {
        "id": "vmZw50onAQq1"
      },
      "outputs": [],
      "source": [
        "ratings = pd.read_csv(fpath+'/ratings.csv')"
      ]
    },
    {
      "cell_type": "code",
      "source": [
        "ratings"
      ],
      "metadata": {
        "colab": {
          "base_uri": "https://localhost:8080/",
          "height": 419
        },
        "id": "jQck8YHxCPJ1",
        "outputId": "02a0c0f5-58a8-462c-ba83-c4114f868d8d"
      },
      "execution_count": 9,
      "outputs": [
        {
          "output_type": "execute_result",
          "data": {
            "text/plain": [
              "          userId  movieId  rating   timestamp\n",
              "0              1        2     3.5  1112486027\n",
              "1              1       29     3.5  1112484676\n",
              "2              1       32     3.5  1112484819\n",
              "3              1       47     3.5  1112484727\n",
              "4              1       50     3.5  1112484580\n",
              "...          ...      ...     ...         ...\n",
              "20000258  138493    68954     4.5  1258126920\n",
              "20000259  138493    69526     4.5  1259865108\n",
              "20000260  138493    69644     3.0  1260209457\n",
              "20000261  138493    70286     5.0  1258126944\n",
              "20000262  138493    71619     2.5  1255811136\n",
              "\n",
              "[20000263 rows x 4 columns]"
            ],
            "text/html": [
              "\n",
              "  <div id=\"df-0cd5ca35-aa5b-480e-b03f-202a79020d59\">\n",
              "    <div class=\"colab-df-container\">\n",
              "      <div>\n",
              "<style scoped>\n",
              "    .dataframe tbody tr th:only-of-type {\n",
              "        vertical-align: middle;\n",
              "    }\n",
              "\n",
              "    .dataframe tbody tr th {\n",
              "        vertical-align: top;\n",
              "    }\n",
              "\n",
              "    .dataframe thead th {\n",
              "        text-align: right;\n",
              "    }\n",
              "</style>\n",
              "<table border=\"1\" class=\"dataframe\">\n",
              "  <thead>\n",
              "    <tr style=\"text-align: right;\">\n",
              "      <th></th>\n",
              "      <th>userId</th>\n",
              "      <th>movieId</th>\n",
              "      <th>rating</th>\n",
              "      <th>timestamp</th>\n",
              "    </tr>\n",
              "  </thead>\n",
              "  <tbody>\n",
              "    <tr>\n",
              "      <th>0</th>\n",
              "      <td>1</td>\n",
              "      <td>2</td>\n",
              "      <td>3.5</td>\n",
              "      <td>1112486027</td>\n",
              "    </tr>\n",
              "    <tr>\n",
              "      <th>1</th>\n",
              "      <td>1</td>\n",
              "      <td>29</td>\n",
              "      <td>3.5</td>\n",
              "      <td>1112484676</td>\n",
              "    </tr>\n",
              "    <tr>\n",
              "      <th>2</th>\n",
              "      <td>1</td>\n",
              "      <td>32</td>\n",
              "      <td>3.5</td>\n",
              "      <td>1112484819</td>\n",
              "    </tr>\n",
              "    <tr>\n",
              "      <th>3</th>\n",
              "      <td>1</td>\n",
              "      <td>47</td>\n",
              "      <td>3.5</td>\n",
              "      <td>1112484727</td>\n",
              "    </tr>\n",
              "    <tr>\n",
              "      <th>4</th>\n",
              "      <td>1</td>\n",
              "      <td>50</td>\n",
              "      <td>3.5</td>\n",
              "      <td>1112484580</td>\n",
              "    </tr>\n",
              "    <tr>\n",
              "      <th>...</th>\n",
              "      <td>...</td>\n",
              "      <td>...</td>\n",
              "      <td>...</td>\n",
              "      <td>...</td>\n",
              "    </tr>\n",
              "    <tr>\n",
              "      <th>20000258</th>\n",
              "      <td>138493</td>\n",
              "      <td>68954</td>\n",
              "      <td>4.5</td>\n",
              "      <td>1258126920</td>\n",
              "    </tr>\n",
              "    <tr>\n",
              "      <th>20000259</th>\n",
              "      <td>138493</td>\n",
              "      <td>69526</td>\n",
              "      <td>4.5</td>\n",
              "      <td>1259865108</td>\n",
              "    </tr>\n",
              "    <tr>\n",
              "      <th>20000260</th>\n",
              "      <td>138493</td>\n",
              "      <td>69644</td>\n",
              "      <td>3.0</td>\n",
              "      <td>1260209457</td>\n",
              "    </tr>\n",
              "    <tr>\n",
              "      <th>20000261</th>\n",
              "      <td>138493</td>\n",
              "      <td>70286</td>\n",
              "      <td>5.0</td>\n",
              "      <td>1258126944</td>\n",
              "    </tr>\n",
              "    <tr>\n",
              "      <th>20000262</th>\n",
              "      <td>138493</td>\n",
              "      <td>71619</td>\n",
              "      <td>2.5</td>\n",
              "      <td>1255811136</td>\n",
              "    </tr>\n",
              "  </tbody>\n",
              "</table>\n",
              "<p>20000263 rows × 4 columns</p>\n",
              "</div>\n",
              "      <button class=\"colab-df-convert\" onclick=\"convertToInteractive('df-0cd5ca35-aa5b-480e-b03f-202a79020d59')\"\n",
              "              title=\"Convert this dataframe to an interactive table.\"\n",
              "              style=\"display:none;\">\n",
              "        \n",
              "  <svg xmlns=\"http://www.w3.org/2000/svg\" height=\"24px\"viewBox=\"0 0 24 24\"\n",
              "       width=\"24px\">\n",
              "    <path d=\"M0 0h24v24H0V0z\" fill=\"none\"/>\n",
              "    <path d=\"M18.56 5.44l.94 2.06.94-2.06 2.06-.94-2.06-.94-.94-2.06-.94 2.06-2.06.94zm-11 1L8.5 8.5l.94-2.06 2.06-.94-2.06-.94L8.5 2.5l-.94 2.06-2.06.94zm10 10l.94 2.06.94-2.06 2.06-.94-2.06-.94-.94-2.06-.94 2.06-2.06.94z\"/><path d=\"M17.41 7.96l-1.37-1.37c-.4-.4-.92-.59-1.43-.59-.52 0-1.04.2-1.43.59L10.3 9.45l-7.72 7.72c-.78.78-.78 2.05 0 2.83L4 21.41c.39.39.9.59 1.41.59.51 0 1.02-.2 1.41-.59l7.78-7.78 2.81-2.81c.8-.78.8-2.07 0-2.86zM5.41 20L4 18.59l7.72-7.72 1.47 1.35L5.41 20z\"/>\n",
              "  </svg>\n",
              "      </button>\n",
              "      \n",
              "  <style>\n",
              "    .colab-df-container {\n",
              "      display:flex;\n",
              "      flex-wrap:wrap;\n",
              "      gap: 12px;\n",
              "    }\n",
              "\n",
              "    .colab-df-convert {\n",
              "      background-color: #E8F0FE;\n",
              "      border: none;\n",
              "      border-radius: 50%;\n",
              "      cursor: pointer;\n",
              "      display: none;\n",
              "      fill: #1967D2;\n",
              "      height: 32px;\n",
              "      padding: 0 0 0 0;\n",
              "      width: 32px;\n",
              "    }\n",
              "\n",
              "    .colab-df-convert:hover {\n",
              "      background-color: #E2EBFA;\n",
              "      box-shadow: 0px 1px 2px rgba(60, 64, 67, 0.3), 0px 1px 3px 1px rgba(60, 64, 67, 0.15);\n",
              "      fill: #174EA6;\n",
              "    }\n",
              "\n",
              "    [theme=dark] .colab-df-convert {\n",
              "      background-color: #3B4455;\n",
              "      fill: #D2E3FC;\n",
              "    }\n",
              "\n",
              "    [theme=dark] .colab-df-convert:hover {\n",
              "      background-color: #434B5C;\n",
              "      box-shadow: 0px 1px 3px 1px rgba(0, 0, 0, 0.15);\n",
              "      filter: drop-shadow(0px 1px 2px rgba(0, 0, 0, 0.3));\n",
              "      fill: #FFFFFF;\n",
              "    }\n",
              "  </style>\n",
              "\n",
              "      <script>\n",
              "        const buttonEl =\n",
              "          document.querySelector('#df-0cd5ca35-aa5b-480e-b03f-202a79020d59 button.colab-df-convert');\n",
              "        buttonEl.style.display =\n",
              "          google.colab.kernel.accessAllowed ? 'block' : 'none';\n",
              "\n",
              "        async function convertToInteractive(key) {\n",
              "          const element = document.querySelector('#df-0cd5ca35-aa5b-480e-b03f-202a79020d59');\n",
              "          const dataTable =\n",
              "            await google.colab.kernel.invokeFunction('convertToInteractive',\n",
              "                                                     [key], {});\n",
              "          if (!dataTable) return;\n",
              "\n",
              "          const docLinkHtml = 'Like what you see? Visit the ' +\n",
              "            '<a target=\"_blank\" href=https://colab.research.google.com/notebooks/data_table.ipynb>data table notebook</a>'\n",
              "            + ' to learn more about interactive tables.';\n",
              "          element.innerHTML = '';\n",
              "          dataTable['output_type'] = 'display_data';\n",
              "          await google.colab.output.renderOutput(dataTable, element);\n",
              "          const docLink = document.createElement('div');\n",
              "          docLink.innerHTML = docLinkHtml;\n",
              "          element.appendChild(docLink);\n",
              "        }\n",
              "      </script>\n",
              "    </div>\n",
              "  </div>\n",
              "  "
            ]
          },
          "metadata": {},
          "execution_count": 9
        }
      ]
    },
    {
      "cell_type": "code",
      "source": [
        "# Normalize rating về dạng -1 -> 1 (-1 = ghét, 1 = thích)\n",
        "ratings[\"y\"] = ratings[\"rating\"]/2.5-1"
      ],
      "metadata": {
        "id": "yIVvSPnCCWYb"
      },
      "execution_count": 10,
      "outputs": []
    },
    {
      "cell_type": "code",
      "source": [
        "ratings.groupby(\"y\")[\"y\"].count().plot(kind='bar')"
      ],
      "metadata": {
        "colab": {
          "base_uri": "https://localhost:8080/",
          "height": 419
        },
        "id": "BrwYHetxCiIw",
        "outputId": "14e1fba9-a8cd-42ab-eb0e-cc9bea0e9224"
      },
      "execution_count": 11,
      "outputs": [
        {
          "output_type": "execute_result",
          "data": {
            "text/plain": [
              "<matplotlib.axes._subplots.AxesSubplot at 0x7f8e441f6ad0>"
            ]
          },
          "metadata": {},
          "execution_count": 11
        },
        {
          "output_type": "display_data",
          "data": {
            "text/plain": [
              "<Figure size 432x288 with 1 Axes>"
            ],
            "image/png": "[encoded data removed]"
          },
          "metadata": {
            "needs_background": "light"
          }
        }
      ]
    },
    {
      "cell_type": "code",
      "execution_count": 12,
      "metadata": {
        "id": "Ww24pDXRAQq2"
      },
      "outputs": [],
      "source": [
        "# Chia dữ liệu thành các tập cho model clustering, nhãn recommendation và test\n",
        "#     Warm_up: các rating đã quan sát được từ người dùng (với các case predict)\n",
        "#     Mask: rating bị che đi để model học phân cụm\n",
        "#     target: rating dùng để đánh giá kết quả recommend của module recommend cho từng người dùng\n",
        "# TODO: chia tập dữ liệu theo user-wise => đánh giá với những user hoàn toàn mới thì model có học được không?\n",
        "# v2.1. gộp warm_up và mask thành 1\n",
        "def dataset_split(ratings):\n",
        "    train, test = train_test_split(ratings, test_size= 0.25)\n",
        "    warm_up_mask, target = train_test_split(train, test_size= 0.25)\n",
        "    return warm_up_mask, target, test\n",
        "\n",
        "warm_up_mask, target, test = dataset_split(ratings)"
      ]
    },
    {
      "cell_type": "code",
      "source": [
        "warm_up_mask.shape[0], target.shape[0], test.shape[0]"
      ],
      "metadata": {
        "colab": {
          "base_uri": "https://localhost:8080/"
        },
        "id": "528-yZ2pCsL-",
        "outputId": "aa0abb25-c8aa-480b-ed03-5ea59ce1e173"
      },
      "execution_count": 13,
      "outputs": [
        {
          "output_type": "execute_result",
          "data": {
            "text/plain": [
              "(11250147, 3750050, 5000066)"
            ]
          },
          "metadata": {},
          "execution_count": 13
        }
      ]
    },
    {
      "cell_type": "markdown",
      "source": [
        "### CLUSTERING MODEL\n",
        "input: vocab of warm up item <br>\n",
        "ouput: vocab of masked item"
      ],
      "metadata": {
        "id": "z7V3OS6CDN8l"
      }
    },
    {
      "cell_type": "code",
      "source": [
        "#TODO: bổ sung feature của item và feature của user => dựng hybrid model"
      ],
      "metadata": {
        "id": "jXRW4mJJDPvh"
      },
      "execution_count": 14,
      "outputs": []
    },
    {
      "cell_type": "code",
      "source": [
        "# only keep top k popular item\n",
        "# TODO: lấy top k item ntn?\n",
        "# k= 1000\n",
        "# top_items = ratings.groupby(itemCol).count().sort_values(by=userCol, ascending=False).head(k).index\n",
        "# top_items"
      ],
      "metadata": {
        "id": "rFrWxjK_DMcF"
      },
      "execution_count": 15,
      "outputs": []
    },
    {
      "cell_type": "code",
      "source": [
        "# Tổng hợp warm-up thành mảng theo user: mỗi user gồm chuỗi text danh sách mã item đã tương tác + ma trận rating\n",
        "# def padding_series(series_item, wu_size, value=0, is_padding=True):\n",
        "#     series_item1 = series_item.apply(lambda x: x[0:wu_size])\n",
        "#     if is_padding:\n",
        "#         series_item1 = series_item1.apply(lambda x: x+[value]*(wu_size-len(x)))\n",
        "#     return series_item1\n",
        "\n",
        "def padding_list(list_item, wu_size, value=0, is_padding=True):\n",
        "    series_item1 = list_item[0:wu_size]\n",
        "    if is_padding:\n",
        "        series_item1 = series_item1+[value]*(wu_size-len(series_item1))\n",
        "    return series_item1\n",
        "\n",
        "def to_arr(series):\n",
        "    x = series.apply(lambda x: np.array(x)).values\n",
        "    return np.stack(x)\n",
        "\n",
        "# v2.1: áp dụng padding cho ratings\n",
        "def warm_up_str(warm_up, wu_size = 100, mask_size = 100, user_index=None):\n",
        "    if user_index is not None:\n",
        "        warm_up = warm_up[warm_up[userCol].isin(user_index)]\n",
        "\n",
        "    # Sắp xếp item theo thứ tự giảm dần rating (về sau cắt padding sẽ ưu tiên giữ lại item có rating cao)\n",
        "    rindex = warm_up.groupby(userCol)[\"y\"].transform(lambda grp: grp.sort_values(ascending=False).index)\n",
        "    warm_up = warm_up.reindex(rindex)\n",
        "    \n",
        "    # Chuyển thành warm-up set theo từng user\n",
        "    warm_up = warm_up.groupby(\"userId\").agg({itemCol:list, \"y\":list})\n",
        "\n",
        "    # # Giới hạn độ dài warm_up size\n",
        "    # warm_up[itemCol] = warm_up[itemCol].apply(lambda x: x[0:wu_size])\n",
        "    # warm_up[\"y\"] = warm_up[\"y\"].apply(lambda x: x[0:wu_size])\n",
        "\n",
        "    # # Chuyển danh sách item về string để tái sử dụng layer xử lý text\n",
        "    # warm_up[itemCol] = warm_up[itemCol].apply( lambda x: ' '.join(list([str(i) for i in x])))\n",
        "\n",
        "    warm_up[itemCol] = warm_up[itemCol].apply(lambda x: train_test_split(x[0:(wu_size+mask_size)], test_size=0.25, random_state=42))\n",
        "    warm_up[\"y\"] = warm_up[\"y\"].apply(lambda x: train_test_split(x[0:(wu_size+mask_size)], test_size=0.25, random_state=42))\n",
        "\n",
        "    warm_up[\"warm_up_items\"] = warm_up[itemCol].apply(lambda x:' '.join(list([str(i) for i in x[0]])))\n",
        "    warm_up[\"warm_up_ratings\"] = warm_up[\"y\"].apply(lambda x: padding_list(x[0], wu_size ) )\n",
        "\n",
        "    warm_up[\"masked_items\"] = warm_up[itemCol].apply(lambda x:' '.join(list([str(i) for i in x[1]])))\n",
        "    warm_up[\"masked_ratings\"] = warm_up[\"y\"].apply(lambda x: padding_list(x[1], mask_size ) )\n",
        "\n",
        "    return warm_up\n",
        "\n",
        "output_sequence_length= 100\n",
        "mask_size = 100\n",
        "\n",
        "wu_df = warm_up_str(warm_up_mask[warm_up_mask[userCol].isin([1,12,5, 11])]\n",
        "                    , wu_size = output_sequence_length\n",
        "                    , mask_size = 100)\n",
        "wu_df"
      ],
      "metadata": {
        "colab": {
          "base_uri": "https://localhost:8080/",
          "height": 304
        },
        "id": "VhIZb8RHtlxv",
        "outputId": "6ca5c547-c446-4e4c-ad9b-2062c358071e"
      },
      "execution_count": 16,
      "outputs": [
        {
          "output_type": "execute_result",
          "data": {
            "text/plain": [
              "                                                  movieId  \\\n",
              "userId                                                      \n",
              "1       [[4896, 4467, 3997, 5171, 1089, 653, 5039, 228...   \n",
              "5       [[1136, 377, 1036, 1097, 380, 1079, 60, 1196, ...   \n",
              "11      [[1097, 30812, 5459, 3438, 5266, 2600, 7022, 4...   \n",
              "12      [[590, 17, 589, 595, 3, 480, 7, 648, 1, 653, 5...   \n",
              "\n",
              "                                                        y  \\\n",
              "userId                                                      \n",
              "1       [[0.6000000000000001, 0.6000000000000001, 0.39...   \n",
              "5       [[1.0, 1.0, 1.0, 1.0, 1.0, 1.0, 0.199999999999...   \n",
              "11      [[0.8, 0.6000000000000001, 1.0, 0.8, 0.8, 1.0,...   \n",
              "12      [[0.19999999999999996, 0.19999999999999996, 0....   \n",
              "\n",
              "                                            warm_up_items  \\\n",
              "userId                                                      \n",
              "1       4896 4467 3997 5171 1089 653 5039 2288 2253 83...   \n",
              "5       1136 377 1036 1097 380 1079 60 1196 282 1080 3...   \n",
              "11      1097 30812 5459 3438 5266 2600 7022 49278 5151...   \n",
              "12      590 17 589 595 3 480 7 648 1 653 5 260 380 736...   \n",
              "\n",
              "                                          warm_up_ratings  \\\n",
              "userId                                                      \n",
              "1       [0.6000000000000001, 0.6000000000000001, 0.399...   \n",
              "5       [1.0, 1.0, 1.0, 1.0, 1.0, 1.0, 0.1999999999999...   \n",
              "11      [0.8, 0.6000000000000001, 1.0, 0.8, 0.8, 1.0, ...   \n",
              "12      [0.19999999999999996, 0.19999999999999996, 0.6...   \n",
              "\n",
              "                                             masked_items  \\\n",
              "userId                                                      \n",
              "1       1750 1259 3030 3081 7482 593 1261 2872 293 715...   \n",
              "5                631 608 590 141 235 376 594 587 529 1393   \n",
              "11      48516 6365 64997 54995 7173 1876 4226 3980 828...   \n",
              "12                                  527 494 784 36 95 104   \n",
              "\n",
              "                                           masked_ratings  \n",
              "userId                                                     \n",
              "1       [0.3999999999999999, 0.6000000000000001, 0.199...  \n",
              "5       [0.19999999999999996, 0.19999999999999996, 1.0...  \n",
              "11      [0.8, 1.0, 1.0, 0.6000000000000001, 0.8, 0.8, ...  \n",
              "12      [0.6000000000000001, 0.19999999999999996, 0.60...  "
            ],
            "text/html": [
              "\n",
              "  <div id=\"df-f8a547bb-127f-487b-9202-dbdd870a3aff\">\n",
              "    <div class=\"colab-df-container\">\n",
              "      <div>\n",
              "<style scoped>\n",
              "    .dataframe tbody tr th:only-of-type {\n",
              "        vertical-align: middle;\n",
              "    }\n",
              "\n",
              "    .dataframe tbody tr th {\n",
              "        vertical-align: top;\n",
              "    }\n",
              "\n",
              "    .dataframe thead th {\n",
              "        text-align: right;\n",
              "    }\n",
              "</style>\n",
              "<table border=\"1\" class=\"dataframe\">\n",
              "  <thead>\n",
              "    <tr style=\"text-align: right;\">\n",
              "      <th></th>\n",
              "      <th>movieId</th>\n",
              "      <th>y</th>\n",
              "      <th>warm_up_items</th>\n",
              "      <th>warm_up_ratings</th>\n",
              "      <th>masked_items</th>\n",
              "      <th>masked_ratings</th>\n",
              "    </tr>\n",
              "    <tr>\n",
              "      <th>userId</th>\n",
              "      <th></th>\n",
              "      <th></th>\n",
              "      <th></th>\n",
              "      <th></th>\n",
              "      <th></th>\n",
              "      <th></th>\n",
              "    </tr>\n",
              "  </thead>\n",
              "  <tbody>\n",
              "    <tr>\n",
              "      <th>1</th>\n",
              "      <td>[[4896, 4467, 3997, 5171, 1089, 653, 5039, 228...</td>\n",
              "      <td>[[0.6000000000000001, 0.6000000000000001, 0.39...</td>\n",
              "      <td>4896 4467 3997 5171 1089 653 5039 2288 2253 83...</td>\n",
              "      <td>[0.6000000000000001, 0.6000000000000001, 0.399...</td>\n",
              "      <td>1750 1259 3030 3081 7482 593 1261 2872 293 715...</td>\n",
              "      <td>[0.3999999999999999, 0.6000000000000001, 0.199...</td>\n",
              "    </tr>\n",
              "    <tr>\n",
              "      <th>5</th>\n",
              "      <td>[[1136, 377, 1036, 1097, 380, 1079, 60, 1196, ...</td>\n",
              "      <td>[[1.0, 1.0, 1.0, 1.0, 1.0, 1.0, 0.199999999999...</td>\n",
              "      <td>1136 377 1036 1097 380 1079 60 1196 282 1080 3...</td>\n",
              "      <td>[1.0, 1.0, 1.0, 1.0, 1.0, 1.0, 0.1999999999999...</td>\n",
              "      <td>631 608 590 141 235 376 594 587 529 1393</td>\n",
              "      <td>[0.19999999999999996, 0.19999999999999996, 1.0...</td>\n",
              "    </tr>\n",
              "    <tr>\n",
              "      <th>11</th>\n",
              "      <td>[[1097, 30812, 5459, 3438, 5266, 2600, 7022, 4...</td>\n",
              "      <td>[[0.8, 0.6000000000000001, 1.0, 0.8, 0.8, 1.0,...</td>\n",
              "      <td>1097 30812 5459 3438 5266 2600 7022 49278 5151...</td>\n",
              "      <td>[0.8, 0.6000000000000001, 1.0, 0.8, 0.8, 1.0, ...</td>\n",
              "      <td>48516 6365 64997 54995 7173 1876 4226 3980 828...</td>\n",
              "      <td>[0.8, 1.0, 1.0, 0.6000000000000001, 0.8, 0.8, ...</td>\n",
              "    </tr>\n",
              "    <tr>\n",
              "      <th>12</th>\n",
              "      <td>[[590, 17, 589, 595, 3, 480, 7, 648, 1, 653, 5...</td>\n",
              "      <td>[[0.19999999999999996, 0.19999999999999996, 0....</td>\n",
              "      <td>590 17 589 595 3 480 7 648 1 653 5 260 380 736...</td>\n",
              "      <td>[0.19999999999999996, 0.19999999999999996, 0.6...</td>\n",
              "      <td>527 494 784 36 95 104</td>\n",
              "      <td>[0.6000000000000001, 0.19999999999999996, 0.60...</td>\n",
              "    </tr>\n",
              "  </tbody>\n",
              "</table>\n",
              "</div>\n",
              "      <button class=\"colab-df-convert\" onclick=\"convertToInteractive('df-f8a547bb-127f-487b-9202-dbdd870a3aff')\"\n",
              "              title=\"Convert this dataframe to an interactive table.\"\n",
              "              style=\"display:none;\">\n",
              "        \n",
              "  <svg xmlns=\"http://www.w3.org/2000/svg\" height=\"24px\"viewBox=\"0 0 24 24\"\n",
              "       width=\"24px\">\n",
              "    <path d=\"M0 0h24v24H0V0z\" fill=\"none\"/>\n",
              "    <path d=\"M18.56 5.44l.94 2.06.94-2.06 2.06-.94-2.06-.94-.94-2.06-.94 2.06-2.06.94zm-11 1L8.5 8.5l.94-2.06 2.06-.94-2.06-.94L8.5 2.5l-.94 2.06-2.06.94zm10 10l.94 2.06.94-2.06 2.06-.94-2.06-.94-.94-2.06-.94 2.06-2.06.94z\"/><path d=\"M17.41 7.96l-1.37-1.37c-.4-.4-.92-.59-1.43-.59-.52 0-1.04.2-1.43.59L10.3 9.45l-7.72 7.72c-.78.78-.78 2.05 0 2.83L4 21.41c.39.39.9.59 1.41.59.51 0 1.02-.2 1.41-.59l7.78-7.78 2.81-2.81c.8-.78.8-2.07 0-2.86zM5.41 20L4 18.59l7.72-7.72 1.47 1.35L5.41 20z\"/>\n",
              "  </svg>\n",
              "      </button>\n",
              "      \n",
              "  <style>\n",
              "    .colab-df-container {\n",
              "      display:flex;\n",
              "      flex-wrap:wrap;\n",
              "      gap: 12px;\n",
              "    }\n",
              "\n",
              "    .colab-df-convert {\n",
              "      background-color: #E8F0FE;\n",
              "      border: none;\n",
              "      border-radius: 50%;\n",
              "      cursor: pointer;\n",
              "      display: none;\n",
              "      fill: #1967D2;\n",
              "      height: 32px;\n",
              "      padding: 0 0 0 0;\n",
              "      width: 32px;\n",
              "    }\n",
              "\n",
              "    .colab-df-convert:hover {\n",
              "      background-color: #E2EBFA;\n",
              "      box-shadow: 0px 1px 2px rgba(60, 64, 67, 0.3), 0px 1px 3px 1px rgba(60, 64, 67, 0.15);\n",
              "      fill: #174EA6;\n",
              "    }\n",
              "\n",
              "    [theme=dark] .colab-df-convert {\n",
              "      background-color: #3B4455;\n",
              "      fill: #D2E3FC;\n",
              "    }\n",
              "\n",
              "    [theme=dark] .colab-df-convert:hover {\n",
              "      background-color: #434B5C;\n",
              "      box-shadow: 0px 1px 3px 1px rgba(0, 0, 0, 0.15);\n",
              "      filter: drop-shadow(0px 1px 2px rgba(0, 0, 0, 0.3));\n",
              "      fill: #FFFFFF;\n",
              "    }\n",
              "  </style>\n",
              "\n",
              "      <script>\n",
              "        const buttonEl =\n",
              "          document.querySelector('#df-f8a547bb-127f-487b-9202-dbdd870a3aff button.colab-df-convert');\n",
              "        buttonEl.style.display =\n",
              "          google.colab.kernel.accessAllowed ? 'block' : 'none';\n",
              "\n",
              "        async function convertToInteractive(key) {\n",
              "          const element = document.querySelector('#df-f8a547bb-127f-487b-9202-dbdd870a3aff');\n",
              "          const dataTable =\n",
              "            await google.colab.kernel.invokeFunction('convertToInteractive',\n",
              "                                                     [key], {});\n",
              "          if (!dataTable) return;\n",
              "\n",
              "          const docLinkHtml = 'Like what you see? Visit the ' +\n",
              "            '<a target=\"_blank\" href=https://colab.research.google.com/notebooks/data_table.ipynb>data table notebook</a>'\n",
              "            + ' to learn more about interactive tables.';\n",
              "          element.innerHTML = '';\n",
              "          dataTable['output_type'] = 'display_data';\n",
              "          await google.colab.output.renderOutput(dataTable, element);\n",
              "          const docLink = document.createElement('div');\n",
              "          docLink.innerHTML = docLinkHtml;\n",
              "          element.appendChild(docLink);\n",
              "        }\n",
              "      </script>\n",
              "    </div>\n",
              "  </div>\n",
              "  "
            ]
          },
          "metadata": {},
          "execution_count": 16
        }
      ]
    },
    {
      "cell_type": "markdown",
      "source": [
        "* Warm_up_items và mask_items chuyển về dạng text => sẽ sử dụng TextVectorizer để encode (tokenizer) và padding (bao gồm cả việc giới hạn độ dài chuỗi cho khớp với độ dài của ratings)\n",
        "* Với warm_up_ratings và mask_ratings chưa tìm ra cách dựng layer như TextVectorization => chạy padding thủ công tiền xử lý thành array trước"
      ],
      "metadata": {
        "id": "oCXJBoFH4R7l"
      }
    },
    {
      "cell_type": "code",
      "source": [
        "# Shape (n_user, wu_size)\n",
        "warm_up_ratings = np.stack(wu_df[\"warm_up_ratings\"])\n",
        "\n",
        "# Shape (n_user, mask_size)\n",
        "masked_ratings = np.stack(wu_df[\"masked_ratings\"])"
      ],
      "metadata": {
        "id": "fEsBPHLM3hOL"
      },
      "execution_count": 17,
      "outputs": []
    },
    {
      "cell_type": "code",
      "source": [
        "warm_up_ratings.shape , masked_ratings.shape"
      ],
      "metadata": {
        "colab": {
          "base_uri": "https://localhost:8080/"
        },
        "id": "0DUqW7K93q2Z",
        "outputId": "43bc7729-4e58-4ef9-9e36-eb2a8746937a"
      },
      "execution_count": 18,
      "outputs": [
        {
          "output_type": "execute_result",
          "data": {
            "text/plain": [
              "((4, 100), (4, 100))"
            ]
          },
          "metadata": {},
          "execution_count": 18
        }
      ]
    },
    {
      "cell_type": "code",
      "source": [
        "wu_df.apply(lambda x: len(x[\"masked_items\"].split(\" \")), axis=1)"
      ],
      "metadata": {
        "colab": {
          "base_uri": "https://localhost:8080/"
        },
        "id": "AgY3iPfL6JvV",
        "outputId": "bbd90071-5aa5-460c-9d17-d7de088ef0dd"
      },
      "execution_count": 19,
      "outputs": [
        {
          "output_type": "execute_result",
          "data": {
            "text/plain": [
              "userId\n",
              "1     25\n",
              "5     10\n",
              "11    50\n",
              "12     6\n",
              "dtype: int64"
            ]
          },
          "metadata": {},
          "execution_count": 19
        }
      ]
    },
    {
      "cell_type": "markdown",
      "source": [
        "### Xây dựng encoder model\n",
        "Encoder =  interaction embedding + user feature embedding<br> \n",
        "interaction embedding = sum( interaction embedding các item i)<br> \n",
        "interaction embedding item i = rating x (embedding id sản phẩm + embedding item feature)<br>\n",
        "\n"
      ],
      "metadata": {
        "id": "kYXWV3kU7AYq"
      }
    },
    {
      "cell_type": "code",
      "source": [
        "max_vocab_size = 5000\n",
        "\n",
        "vectorizer = layers.TextVectorization( max_tokens=max_vocab_size, split='whitespace', output_sequence_length= output_sequence_length, name = 'vectorizer')\n",
        "vectorizer.adapt( wu_df[\"warm_up_items\"] )\n",
        "\n",
        "vectorizer(wu_df[\"warm_up_items\"]).shape"
      ],
      "metadata": {
        "colab": {
          "base_uri": "https://localhost:8080/"
        },
        "id": "ube3LFiiD0zm",
        "outputId": "1cede7a5-e32f-4732-decb-08dbca3ad1e6"
      },
      "execution_count": 265,
      "outputs": [
        {
          "output_type": "execute_result",
          "data": {
            "text/plain": [
              "TensorShape([4, 100])"
            ]
          },
          "metadata": {},
          "execution_count": 265
        }
      ]
    },
    {
      "cell_type": "markdown",
      "source": [
        "#### Interaction model\n",
        "Nhận vào text (gồm các mã id sản phẩm) và ratings => chuyển thành vector theo từng user <br>\n",
        "Nếu không có user demographic thì interaction embedding là encoder model"
      ],
      "metadata": {
        "id": "eLg81qkLCaiL"
      }
    },
    {
      "cell_type": "code",
      "source": [
        "class Broadcasting_Multiply(tf.keras.layers.Layer):\n",
        "    \"\"\"Nhân 2 layers khác shape với nhau, trong đó:\n",
        "    inputs=[layer1, layer2]\n",
        "    layer1.shape = (None, n_user, n_item, n_feature)\n",
        "    layer2.shape = (None, n_user, n_item)\n",
        "    (Chú ý đúng thứ tự)\n",
        "    \"\"\"\n",
        "\n",
        "    def call(self, inputs):\n",
        "        x, y = inputs\n",
        "\n",
        "        #we add the extra dimension:\n",
        "        y = K.expand_dims(y, axis=-1)\n",
        "        #we replicate the elements\n",
        "        y = K.repeat_elements(y, rep=x.shape[2], axis=-1)\n",
        "\n",
        "        return x * y"
      ],
      "metadata": {
        "id": "84kadv6LX1oL"
      },
      "execution_count": 294,
      "outputs": []
    },
    {
      "cell_type": "code",
      "source": [
        "# Xây dựng mạng\n",
        "wu_size = 100\n",
        "embedding_size = 200\n",
        "reps_size = 150\n",
        "\n",
        "def interaction_embedding():\n",
        "\n",
        "    input_wi = layers.Input(shape=(1,), name='input_wi')\n",
        "    wi = vectorizer(input_wi)\n",
        "    wi = layers.Embedding(input_dim= max_vocab_size, output_dim= embedding_size, mask_zero= True, name='ei')(wi)\n",
        "    wi = layers.Dense(embedding_size, activation='relu', name='di')(wi)\n",
        "\n",
        "    wr = layers.Input(shape=(100,), name='warm_up_ratings')\n",
        "\n",
        "    ireps = Broadcasting_Multiply(name='mul')([wi, wr])\n",
        "    uprofile = layers.Lambda(lambda z: K.sum(z, axis=1), name='lambda')(ireps)\n",
        "\n",
        "    ureps = layers.LayerNormalization(name='norm')(uprofile)\n",
        "    ureps = layers.Dense( reps_size, activation='relu', name='du')(ureps)\n",
        "    \n",
        "    model = tf.keras.Model(inputs= [input_wi, wr], outputs=[ureps])\n",
        "    return model\n",
        "\n",
        "encode_model = interaction_embedding()"
      ],
      "metadata": {
        "id": "_IqLiF_c7AAK"
      },
      "execution_count": 295,
      "outputs": []
    },
    {
      "cell_type": "code",
      "source": [
        "encode_model.summary()"
      ],
      "metadata": {
        "colab": {
          "base_uri": "https://localhost:8080/"
        },
        "id": "o6DHXqLMBUNL",
        "outputId": "2dc86c11-9e88-46eb-bee0-eb70bde8450e"
      },
      "execution_count": 296,
      "outputs": [
        {
          "output_type": "stream",
          "name": "stdout",
          "text": [
            "Model: \"model_81\"\n",
            "__________________________________________________________________________________________________\n",
            " Layer (type)                   Output Shape         Param #     Connected to                     \n",
            "==================================================================================================\n",
            " input_wi (InputLayer)          [(None, 1)]          0           []                               \n",
            "                                                                                                  \n",
            " vectorizer (TextVectorization)  (None, 100)         0           ['input_wi[0][0]']               \n",
            "                                                                                                  \n",
            " ei (Embedding)                 (None, 100, 200)     1000000     ['vectorizer[8][0]']             \n",
            "                                                                                                  \n",
            " di (Dense)                     (None, 100, 200)     40200       ['ei[0][0]']                     \n",
            "                                                                                                  \n",
            " warm_up_ratings (InputLayer)   [(None, 100)]        0           []                               \n",
            "                                                                                                  \n",
            " mul (Broadcasting_Multiply)    (None, 100, 200)     0           ['di[0][0]',                     \n",
            "                                                                  'warm_up_ratings[0][0]']        \n",
            "                                                                                                  \n",
            " lambda (Lambda)                (None, 200)          0           ['mul[0][0]']                    \n",
            "                                                                                                  \n",
            " norm (LayerNormalization)      (None, 200)          400         ['lambda[0][0]']                 \n",
            "                                                                                                  \n",
            " du (Dense)                     (None, 150)          30150       ['norm[0][0]']                   \n",
            "                                                                                                  \n",
            "==================================================================================================\n",
            "Total params: 1,070,750\n",
            "Trainable params: 1,070,750\n",
            "Non-trainable params: 0\n",
            "__________________________________________________________________________________________________\n"
          ]
        }
      ]
    },
    {
      "cell_type": "code",
      "source": [
        "tf.keras.utils.plot_model( encode_model ,show_shapes=True, show_dtype=True, show_layer_names=True )"
      ],
      "metadata": {
        "colab": {
          "base_uri": "https://localhost:8080/",
          "height": 1000
        },
        "id": "7CEq4GRmFfKq",
        "outputId": "457dc574-500a-415f-bcb5-dcf39373bf66"
      },
      "execution_count": 297,
      "outputs": [
        {
          "output_type": "execute_result",
          "data": {
            "text/plain": [
              "<IPython.core.display.Image object>"
            ],
            "image/png": "[encoded data removed]"
          },
          "metadata": {},
          "execution_count": 297
        }
      ]
    },
    {
      "cell_type": "markdown",
      "source": [
        "#### Decoder model\n",
        "Nhận vào text (gồm các mã id sản phẩm) và ratings => chuyển thành vector theo từng user <br>\n",
        "Sử dụng chính interaction embedding encoder để chuyển mask interaction thành vector => thu được y_true, cho model \n"
      ],
      "metadata": {
        "id": "EDNNs5lYPp6D"
      }
    },
    {
      "cell_type": "code",
      "source": [
        "# Xây dựng mạng\n",
        "def eye_initializer(shape_list, dtype):\n",
        "    return tf.eye(max_vocab_size)\n",
        "\n",
        "cluster_num = 50\n",
        "\n",
        "def mask_label():\n",
        "\n",
        "    input_mi = layers.Input(shape=(1,), name='input_mask')\n",
        "    mi = encode_model.get_layer('vectorizer')(input_mi)\n",
        "    mi = layers.Embedding(input_dim= max_vocab_size, output_dim= max_vocab_size, embeddings_initializer = eye_initializer, trainable=False)(mi)\n",
        "\n",
        "    input_mr = layers.Input(shape=(mask_size,), name='mask_rating')\n",
        "\n",
        "    ireps = Broadcasting_Multiply()([mi, input_mr])\n",
        "    uprofile = layers.Lambda(lambda z: K.sum(z, axis=1), name='lambda')(ireps)\n",
        "    ureps = layers.LayerNormalization(name='norm')(uprofile)\n",
        "\n",
        "    ureps = layers.Dense(cluster_num, activation='relu')(ureps)\n",
        "\n",
        "    \n",
        "    \n",
        "    model = tf.keras.Model(inputs= [input_mi, input_mr], outputs=[ureps])\n",
        "    return model\n",
        "\n",
        "dencode_model = mask_label()"
      ],
      "metadata": {
        "id": "0n1JzyOAPzdS"
      },
      "execution_count": 298,
      "outputs": []
    },
    {
      "cell_type": "markdown",
      "source": [
        "Layer Embedding trong mạng decode chỉ có tác dụng onehot => trainable params nhỏ hơn total params"
      ],
      "metadata": {
        "id": "KSUReTFbjPFx"
      }
    },
    {
      "cell_type": "code",
      "source": [
        "dencode_model.summary()"
      ],
      "metadata": {
        "colab": {
          "base_uri": "https://localhost:8080/"
        },
        "id": "SCFVkHu-ao56",
        "outputId": "5b78a284-2f5d-417f-cdcf-19f370928317"
      },
      "execution_count": 299,
      "outputs": [
        {
          "output_type": "stream",
          "name": "stdout",
          "text": [
            "Model: \"model_82\"\n",
            "__________________________________________________________________________________________________\n",
            " Layer (type)                   Output Shape         Param #     Connected to                     \n",
            "==================================================================================================\n",
            " input_mask (InputLayer)        [(None, 1)]          0           []                               \n",
            "                                                                                                  \n",
            " vectorizer (TextVectorization)  (None, 100)         0           ['input_mask[0][0]']             \n",
            "                                                                                                  \n",
            " embedding_71 (Embedding)       (None, 100, 5000)    25000000    ['vectorizer[9][0]']             \n",
            "                                                                                                  \n",
            " mask_rating (InputLayer)       [(None, 100)]        0           []                               \n",
            "                                                                                                  \n",
            " broadcasting__multiply_24 (Bro  (None, 100, 5000)   0           ['embedding_71[0][0]',           \n",
            " adcasting_Multiply)                                              'mask_rating[0][0]']            \n",
            "                                                                                                  \n",
            " lambda (Lambda)                (None, 5000)         0           ['broadcasting__multiply_24[0][0]\n",
            "                                                                 ']                               \n",
            "                                                                                                  \n",
            " norm (LayerNormalization)      (None, 5000)         10000       ['lambda[0][0]']                 \n",
            "                                                                                                  \n",
            " dense_21 (Dense)               (None, 50)           250050      ['norm[0][0]']                   \n",
            "                                                                                                  \n",
            "==================================================================================================\n",
            "Total params: 25,260,050\n",
            "Trainable params: 260,050\n",
            "Non-trainable params: 25,000,000\n",
            "__________________________________________________________________________________________________\n"
          ]
        }
      ]
    },
    {
      "cell_type": "code",
      "source": [
        "tf.keras.utils.plot_model( dencode_model ,show_shapes=True, show_dtype=True, show_layer_names=True )"
      ],
      "metadata": {
        "colab": {
          "base_uri": "https://localhost:8080/",
          "height": 969
        },
        "id": "X9r53lAvZqV7",
        "outputId": "1fb3905e-7d0e-440e-8dff-8b47f9b63281"
      },
      "execution_count": 300,
      "outputs": [
        {
          "output_type": "execute_result",
          "data": {
            "text/plain": [
              "<IPython.core.display.Image object>"
            ],
            "image/png": "[encoded data removed]"
          },
          "metadata": {},
          "execution_count": 300
        }
      ]
    },
    {
      "cell_type": "markdown",
      "source": [
        "Clustering model"
      ],
      "metadata": {
        "id": "SslVnOi8bfZo"
      }
    },
    {
      "cell_type": "code",
      "source": [
        "cluster_num = 50\n",
        "\n",
        "def get_clustering_model():\n",
        "\n",
        "    input_clustering = layers.Input(shape=(reps_size), name='input_clustering')\n",
        "    wi = layers.Dense(cluster_num, activation='sigmoid', name='clustering')(input_clustering)\n",
        "    \n",
        "    model = tf.keras.Model(inputs= [input_clustering], outputs=[wi])\n",
        "    return model\n",
        "\n",
        "clustering_model = get_clustering_model()"
      ],
      "metadata": {
        "id": "xN4PzMP2bg6g"
      },
      "execution_count": 301,
      "outputs": []
    },
    {
      "cell_type": "code",
      "source": [
        "class Efficient_Rec(tf.keras.Model):\n",
        "  def __init__(self, use_tf_function=False):\n",
        "    super().__init__()\n",
        "    self.use_tf_function = use_tf_function\n",
        "    \n",
        "    # Build the encoder and decoder\n",
        "    encoder = interaction_embedding()\n",
        "    clustering = get_clustering_model()\n",
        "    decoder = mask_label()\n",
        "\n",
        "    self.encoder = encoder\n",
        "    self.decoder = decoder\n",
        "    self.clustering = clustering\n",
        "\n",
        "  def train_step(self, inputs):\n",
        "    if self.use_tf_function:\n",
        "      return self._tf_train_step(inputs)\n",
        "    else:\n",
        "      return self._train_step(inputs)"
      ],
      "metadata": {
        "id": "gnOZpn-jcI7J"
      },
      "execution_count": 302,
      "outputs": []
    },
    {
      "cell_type": "markdown",
      "source": [
        "Tiền xử lý:\n",
        "1. Nhận vào một batch gồm items (n_user, ) và ratings (n_user, )\n",
        "2. Tách items thành warm_up items và mask items, tương ứng tách ratings thành warm_up ratings và mask ratings\n",
        "3. Chạy Vectorizer chuyển items và ratings về dạng list có cùng chiều\n",
        "4. Chuyển list item đã mã hóa thành vector"
      ],
      "metadata": {
        "id": "HKYf5ky71Sr5"
      }
    },
    {
      "cell_type": "code",
      "source": [
        "# TODO: dựng preprocess function để xử lý tách warm_up, mask\n",
        "# def _preprocess(self, input_items, input_ratings):\n",
        "#   self.shape_checker(input_text, ('batch',))\n",
        "#   self.shape_checker(target_text, ('batch',))\n",
        "\n",
        "#   # Convert the text to token IDs\n",
        "#   input_tokens = self.input_text_processor(input_text)\n",
        "#   target_tokens = self.output_text_processor(target_text)\n",
        "#   self.shape_checker(input_tokens, ('batch', 's'))\n",
        "#   self.shape_checker(target_tokens, ('batch', 't'))\n",
        "\n",
        "#   # Convert IDs to masks.\n",
        "#   input_mask = input_tokens != 0\n",
        "#   self.shape_checker(input_mask, ('batch', 's'))\n",
        "\n",
        "#   target_mask = target_tokens != 0\n",
        "#   self.shape_checker(target_mask, ('batch', 't'))\n",
        "\n",
        "#   return input_tokens, input_mask, target_tokens, target_mask\n",
        "# Efficient_Rec._preprocess = _preprocess"
      ],
      "metadata": {
        "id": "lA7Tdglm1R8g"
      },
      "execution_count": 303,
      "outputs": []
    },
    {
      "cell_type": "code",
      "source": [
        "def _train_step(self, inputs):\n",
        "  wu_items, wu_ratings, mask_item, mask_ratings = inputs  \n",
        "\n",
        "  with tf.GradientTape() as tape:\n",
        "    # Encode the input\n",
        "    wu_vec = self.encoder([wu_items, wu_ratings])\n",
        "    cluster_output = self.clustering(wu_vec)\n",
        "\n",
        "    # Encde the output\n",
        "    mask_vec = self.decoder([mask_item, mask_ratings])\n",
        "\n",
        "    average_loss = self.loss(mask_vec, cluster_output)\n",
        "\n",
        "  # Apply an optimization step\n",
        "  variables = self.trainable_variables \n",
        "  gradients = tape.gradient(average_loss, variables)\n",
        "  self.optimizer.apply_gradients(zip(gradients, variables))\n",
        "\n",
        "  # Return a dict mapping metric names to current value\n",
        "  return {'batch_loss': average_loss}\n",
        "\n",
        "Efficient_Rec._train_step = _train_step"
      ],
      "metadata": {
        "id": "iVV7xLM52q3Z"
      },
      "execution_count": 304,
      "outputs": []
    },
    {
      "cell_type": "code",
      "source": [
        "# @tf.function()\n",
        "# def _tf_train_step(self, inputs):\n",
        "#   return self._train_step(inputs)\n",
        "\n",
        "# Efficient_Rec._tf_train_step = _tf_train_step"
      ],
      "metadata": {
        "id": "cnzl5Wa-9ue8"
      },
      "execution_count": 305,
      "outputs": []
    },
    {
      "cell_type": "code",
      "source": [
        "model = Efficient_Rec( use_tf_function=False)\n",
        "\n",
        "# Configure the loss and optimizer\n",
        "model.compile(\n",
        "    optimizer=tf.optimizers.Adam(),\n",
        "    loss=tf.keras.losses.MeanAbsoluteError(),\n",
        ")"
      ],
      "metadata": {
        "id": "Pe2nBCmr89Nt"
      },
      "execution_count": 306,
      "outputs": []
    },
    {
      "cell_type": "code",
      "source": [
        "%%time\n",
        "epochs= 20\n",
        "for n in range(epochs):\n",
        "  print(model.train_step([wu_df[\"warm_up_items\"], warm_up_ratings, wu_df[\"masked_items\"], masked_ratings]))\n"
      ],
      "metadata": {
        "colab": {
          "base_uri": "https://localhost:8080/"
        },
        "id": "Nzb7hTQw9M9X",
        "outputId": "f6aac007-ffac-45ce-fc39-22960060e991"
      },
      "execution_count": 307,
      "outputs": [
        {
          "output_type": "stream",
          "name": "stdout",
          "text": [
            "{'batch_loss': <tf.Tensor: shape=(), dtype=float32, numpy=0.60773975>}\n",
            "{'batch_loss': <tf.Tensor: shape=(), dtype=float32, numpy=0.42520684>}\n",
            "{'batch_loss': <tf.Tensor: shape=(), dtype=float32, numpy=0.33137748>}\n",
            "{'batch_loss': <tf.Tensor: shape=(), dtype=float32, numpy=0.26642942>}\n",
            "{'batch_loss': <tf.Tensor: shape=(), dtype=float32, numpy=0.21544254>}\n",
            "{'batch_loss': <tf.Tensor: shape=(), dtype=float32, numpy=0.17649633>}\n",
            "{'batch_loss': <tf.Tensor: shape=(), dtype=float32, numpy=0.14241852>}\n",
            "{'batch_loss': <tf.Tensor: shape=(), dtype=float32, numpy=0.12120415>}\n",
            "{'batch_loss': <tf.Tensor: shape=(), dtype=float32, numpy=0.11713575>}\n",
            "{'batch_loss': <tf.Tensor: shape=(), dtype=float32, numpy=0.11333427>}\n",
            "{'batch_loss': <tf.Tensor: shape=(), dtype=float32, numpy=0.10118905>}\n",
            "{'batch_loss': <tf.Tensor: shape=(), dtype=float32, numpy=0.08475473>}\n",
            "{'batch_loss': <tf.Tensor: shape=(), dtype=float32, numpy=0.071438506>}\n",
            "{'batch_loss': <tf.Tensor: shape=(), dtype=float32, numpy=0.061297737>}\n",
            "{'batch_loss': <tf.Tensor: shape=(), dtype=float32, numpy=0.05516836>}\n",
            "{'batch_loss': <tf.Tensor: shape=(), dtype=float32, numpy=0.049491446>}\n",
            "{'batch_loss': <tf.Tensor: shape=(), dtype=float32, numpy=0.04372009>}\n",
            "{'batch_loss': <tf.Tensor: shape=(), dtype=float32, numpy=0.041582573>}\n",
            "{'batch_loss': <tf.Tensor: shape=(), dtype=float32, numpy=0.039061062>}\n",
            "{'batch_loss': <tf.Tensor: shape=(), dtype=float32, numpy=0.03610125>}\n",
            "CPU times: user 2.66 s, sys: 96.3 ms, total: 2.75 s\n",
            "Wall time: 2.19 s\n"
          ]
        }
      ]
    },
    {
      "cell_type": "code",
      "source": [
        "cluster_score = model.clustering(model.encoder([wu_df[\"warm_up_items\"], warm_up_ratings]))\n",
        "best_cluster = np.argpartition(cluster_score, kth=1, axis=1)\n",
        "best_cluster"
      ],
      "metadata": {
        "colab": {
          "base_uri": "https://localhost:8080/"
        },
        "id": "1kI8RrT5B5vk",
        "outputId": "64ede70a-7a5d-4358-bf81-3b5efb9b64c6"
      },
      "execution_count": 327,
      "outputs": [
        {
          "output_type": "execute_result",
          "data": {
            "text/plain": [
              "array([[13, 45,  2,  3,  4,  5,  6,  7,  8,  9, 10, 11, 12,  0, 14, 15,\n",
              "        16, 17, 18, 19, 20, 21, 22, 23, 24, 25, 26, 27, 28, 29, 30, 31,\n",
              "        32, 33, 34, 35, 36, 37, 38, 39, 40, 41, 42, 43, 44,  1, 46, 47,\n",
              "        48, 49],\n",
              "       [13, 45,  2,  3,  4,  5,  6,  7,  8,  9, 10, 11, 12,  0, 14, 15,\n",
              "        16, 17, 18, 19, 20, 21, 22, 23, 24, 25, 26, 27, 28, 29, 30, 31,\n",
              "        32, 33, 34, 35, 36, 37, 38, 39, 40, 41, 42, 43, 44,  1, 46, 47,\n",
              "        48, 49],\n",
              "       [13, 45,  2,  3,  4,  5,  6,  7,  8,  9, 10, 11, 12,  0, 14, 15,\n",
              "        16, 17, 18, 19, 20, 21, 22, 23, 24, 25, 26, 27, 28, 29, 30, 31,\n",
              "        32, 33, 34, 35, 36, 37, 38, 39, 40, 41, 42, 43, 44,  1, 46, 47,\n",
              "        48, 49],\n",
              "       [45, 13,  2,  3,  4,  5,  6,  7,  8,  9, 10, 11, 12,  1, 14, 15,\n",
              "        16, 17, 18, 19, 20, 21, 22, 23, 24, 25, 26, 27, 28, 29, 30, 31,\n",
              "        32, 33, 34, 35, 36, 37, 38, 39, 40, 41, 42, 43, 44,  0, 46, 47,\n",
              "        48, 49]])"
            ]
          },
          "metadata": {},
          "execution_count": 327
        }
      ]
    },
    {
      "cell_type": "code",
      "source": [
        "best_cluster.shape"
      ],
      "metadata": {
        "colab": {
          "base_uri": "https://localhost:8080/"
        },
        "id": "0X1yE6kSpeWQ",
        "outputId": "d4c833f6-0129-482f-9799-4f095df992bb"
      },
      "execution_count": 328,
      "outputs": [
        {
          "output_type": "execute_result",
          "data": {
            "text/plain": [
              "(4, 50)"
            ]
          },
          "metadata": {},
          "execution_count": 328
        }
      ]
    },
    {
      "cell_type": "markdown",
      "source": [
        "# Code cũ v1.0\n",
        "Cố gắng dựng padding layer: bao gồm bước padding, xử lý ratings trong model => không cần tiền xử lý"
      ],
      "metadata": {
        "id": "1lAxM_XDKLP4"
      }
    },
    {
      "cell_type": "code",
      "source": [
        "def padding(sequence, output_sequence_length):\n",
        "    if len(sequence) > output_sequence_length:\n",
        "        sequence = sequence[:output_sequence_length]\n",
        "    t = tf.constant(sequence, dtype=np.float32)\n",
        "    p = tf.zeros(output_sequence_length-t.shape[0])\n",
        "    return K.concatenate([t, p], axis=0)\n",
        "\n",
        "class PaddingLayers(keras.engine.base_preprocessing_layer.PreprocessingLayer):\n",
        "    def __init__(self, output_sequence_length, **kwargs):\n",
        "        super().__init__(**kwargs)\n",
        "        self.output_sequence_length = output_sequence_length\n",
        "\n",
        "    def compute_output_shape(self, input_shape):\n",
        "        return tf.TensorShape([self.output_sequence_length])\n",
        "\n",
        "    def compute_output_signature(self, input_spec):\n",
        "        output_shape = self.compute_output_shape(input_spec.shape.as_list())\n",
        "        output_dtype = tf.float32\n",
        "        return tf.TensorSpec(shape=output_shape, dtype=output_dtype)\n",
        "\n",
        "    def call(self, inputs):\n",
        "        ts = []\n",
        "        for s in inputs:\n",
        "            ts.append(padding(s, self.output_sequence_length))\n",
        "\n",
        "        return tf.stack(ts, axis=0)\n",
        "\n",
        "# Test layer\n",
        "paddinglayer = PaddingLayers(output_sequence_length= output_sequence_length)\n",
        "paddinglayer(wu_df[\"warm_up_ratings\"]).shape"
      ],
      "metadata": {
        "colab": {
          "base_uri": "https://localhost:8080/"
        },
        "id": "iPSn0_Wj8UN2",
        "outputId": "2b2855fa-c4f6-45c9-f01e-72e3cc58d0de"
      },
      "execution_count": 70,
      "outputs": [
        {
          "output_type": "execute_result",
          "data": {
            "text/plain": [
              "TensorShape([4, 100])"
            ]
          },
          "metadata": {},
          "execution_count": 70
        }
      ]
    },
    {
      "cell_type": "code",
      "source": [
        "output_sequence_length"
      ],
      "metadata": {
        "colab": {
          "base_uri": "https://localhost:8080/"
        },
        "id": "5CsGu7DAKADg",
        "outputId": "e57c2e26-f137-4d61-99e5-873358032d4f"
      },
      "execution_count": 72,
      "outputs": [
        {
          "output_type": "execute_result",
          "data": {
            "text/plain": [
              "100"
            ]
          },
          "metadata": {},
          "execution_count": 72
        }
      ]
    },
    {
      "cell_type": "code",
      "source": [
        "# Xây dựng mạng\n",
        "wu_size = 100\n",
        "embedding_size = 100\n",
        "cluster_num = 50\n",
        "\n",
        "\n",
        "def get_model():\n",
        "\n",
        "    input_wi = layers.Input(shape=(1,), name='input_wi')\n",
        "    wi = vectorizer(input_wi)\n",
        "    wi = layers.Embedding(input_dim=output_sequence_length, output_dim= embedding_size, mask_zero= True, name='ei')(wi)\n",
        "    wi = layers.Dense(embedding_size, activation='relu', name='di')(wi)\n",
        "\n",
        "    input_wr = layers.Input(shape=(1,), name='input_wr')\n",
        "    wr = PaddingLayers(output_sequence_length= output_sequence_length)(input_wr)\n",
        "\n",
        "    ireps = layers.Multiply(name='mul')([wi, wr])\n",
        "    uprofile = layers.Lambda(lambda z: K.sum(z, axis=1), name='lambda')(ireps)\n",
        "\n",
        "    ureps = layers.LayerNormalization(name='norm')(uprofile)\n",
        "    ureps = layers.Dense(int(wu_size/2), activation='relu', name='du')(ureps)\n",
        "    clusters = layers.Dense(cluster_num, activation= 'sigmoid', name='clustering')(ureps)\n",
        "    mask = layers.Dense(corrector_size)(clusters)\n",
        "    \n",
        "    model = tf.keras.Model(inputs= [input_wi, input_wr], outputs=[wi])\n",
        "    return model\n",
        "\n",
        "model = get_model()"
      ],
      "metadata": {
        "colab": {
          "base_uri": "https://localhost:8080/",
          "height": 799
        },
        "id": "BaNiNavay8U6",
        "outputId": "d63735a2-24fa-4636-89ca-d5e8b7f88f0c"
      },
      "execution_count": 71,
      "outputs": [
        {
          "output_type": "error",
          "ename": "TypeError",
          "evalue": "ignored",
          "traceback": [
            "\u001b[0;31m---------------------------------------------------------------------------\u001b[0m",
            "\u001b[0;31mTypeError\u001b[0m                                 Traceback (most recent call last)",
            "\u001b[0;32m<ipython-input-71-90615dddab4f>\u001b[0m in \u001b[0;36m<module>\u001b[0;34m()\u001b[0m\n\u001b[1;32m     26\u001b[0m     \u001b[0;32mreturn\u001b[0m \u001b[0mmodel\u001b[0m\u001b[0;34m\u001b[0m\u001b[0;34m\u001b[0m\u001b[0m\n\u001b[1;32m     27\u001b[0m \u001b[0;34m\u001b[0m\u001b[0m\n\u001b[0;32m---> 28\u001b[0;31m \u001b[0mmodel\u001b[0m \u001b[0;34m=\u001b[0m \u001b[0mget_model\u001b[0m\u001b[0;34m(\u001b[0m\u001b[0;34m)\u001b[0m\u001b[0;34m\u001b[0m\u001b[0;34m\u001b[0m\u001b[0m\n\u001b[0m",
            "\u001b[0;32m<ipython-input-71-90615dddab4f>\u001b[0m in \u001b[0;36mget_model\u001b[0;34m()\u001b[0m\n\u001b[1;32m     13\u001b[0m \u001b[0;34m\u001b[0m\u001b[0m\n\u001b[1;32m     14\u001b[0m     \u001b[0minput_wr\u001b[0m \u001b[0;34m=\u001b[0m \u001b[0mlayers\u001b[0m\u001b[0;34m.\u001b[0m\u001b[0mInput\u001b[0m\u001b[0;34m(\u001b[0m\u001b[0mshape\u001b[0m\u001b[0;34m=\u001b[0m\u001b[0;34m(\u001b[0m\u001b[0;36m1\u001b[0m\u001b[0;34m,\u001b[0m\u001b[0;34m)\u001b[0m\u001b[0;34m,\u001b[0m \u001b[0mname\u001b[0m\u001b[0;34m=\u001b[0m\u001b[0;34m'input_wr'\u001b[0m\u001b[0;34m)\u001b[0m\u001b[0;34m\u001b[0m\u001b[0;34m\u001b[0m\u001b[0m\n\u001b[0;32m---> 15\u001b[0;31m     \u001b[0mwr\u001b[0m \u001b[0;34m=\u001b[0m \u001b[0mPaddingLayers\u001b[0m\u001b[0;34m(\u001b[0m\u001b[0moutput_sequence_length\u001b[0m\u001b[0;34m=\u001b[0m \u001b[0moutput_sequence_length\u001b[0m\u001b[0;34m)\u001b[0m\u001b[0;34m(\u001b[0m\u001b[0minput_wr\u001b[0m\u001b[0;34m)\u001b[0m\u001b[0;34m\u001b[0m\u001b[0;34m\u001b[0m\u001b[0m\n\u001b[0m\u001b[1;32m     16\u001b[0m \u001b[0;34m\u001b[0m\u001b[0m\n\u001b[1;32m     17\u001b[0m     \u001b[0mireps\u001b[0m \u001b[0;34m=\u001b[0m \u001b[0mlayers\u001b[0m\u001b[0;34m.\u001b[0m\u001b[0mMultiply\u001b[0m\u001b[0;34m(\u001b[0m\u001b[0mname\u001b[0m\u001b[0;34m=\u001b[0m\u001b[0;34m'mul'\u001b[0m\u001b[0;34m)\u001b[0m\u001b[0;34m(\u001b[0m\u001b[0;34m[\u001b[0m\u001b[0mwi\u001b[0m\u001b[0;34m,\u001b[0m \u001b[0mwr\u001b[0m\u001b[0;34m]\u001b[0m\u001b[0;34m)\u001b[0m\u001b[0;34m\u001b[0m\u001b[0;34m\u001b[0m\u001b[0m\n",
            "\u001b[0;32m/usr/local/lib/python3.7/dist-packages/keras/utils/traceback_utils.py\u001b[0m in \u001b[0;36merror_handler\u001b[0;34m(*args, **kwargs)\u001b[0m\n\u001b[1;32m     65\u001b[0m     \u001b[0;32mexcept\u001b[0m \u001b[0mException\u001b[0m \u001b[0;32mas\u001b[0m \u001b[0me\u001b[0m\u001b[0;34m:\u001b[0m  \u001b[0;31m# pylint: disable=broad-except\u001b[0m\u001b[0;34m\u001b[0m\u001b[0;34m\u001b[0m\u001b[0m\n\u001b[1;32m     66\u001b[0m       \u001b[0mfiltered_tb\u001b[0m \u001b[0;34m=\u001b[0m \u001b[0m_process_traceback_frames\u001b[0m\u001b[0;34m(\u001b[0m\u001b[0me\u001b[0m\u001b[0;34m.\u001b[0m\u001b[0m__traceback__\u001b[0m\u001b[0;34m)\u001b[0m\u001b[0;34m\u001b[0m\u001b[0;34m\u001b[0m\u001b[0m\n\u001b[0;32m---> 67\u001b[0;31m       \u001b[0;32mraise\u001b[0m \u001b[0me\u001b[0m\u001b[0;34m.\u001b[0m\u001b[0mwith_traceback\u001b[0m\u001b[0;34m(\u001b[0m\u001b[0mfiltered_tb\u001b[0m\u001b[0;34m)\u001b[0m \u001b[0;32mfrom\u001b[0m \u001b[0;32mNone\u001b[0m\u001b[0;34m\u001b[0m\u001b[0;34m\u001b[0m\u001b[0m\n\u001b[0m\u001b[1;32m     68\u001b[0m     \u001b[0;32mfinally\u001b[0m\u001b[0;34m:\u001b[0m\u001b[0;34m\u001b[0m\u001b[0;34m\u001b[0m\u001b[0m\n\u001b[1;32m     69\u001b[0m       \u001b[0;32mdel\u001b[0m \u001b[0mfiltered_tb\u001b[0m\u001b[0;34m\u001b[0m\u001b[0;34m\u001b[0m\u001b[0m\n",
            "\u001b[0;32m/usr/local/lib/python3.7/dist-packages/tensorflow/python/autograph/impl/api.py\u001b[0m in \u001b[0;36mwrapper\u001b[0;34m(*args, **kwargs)\u001b[0m\n\u001b[1;32m    690\u001b[0m       \u001b[0;32mexcept\u001b[0m \u001b[0mException\u001b[0m \u001b[0;32mas\u001b[0m \u001b[0me\u001b[0m\u001b[0;34m:\u001b[0m  \u001b[0;31m# pylint:disable=broad-except\u001b[0m\u001b[0;34m\u001b[0m\u001b[0;34m\u001b[0m\u001b[0m\n\u001b[1;32m    691\u001b[0m         \u001b[0;32mif\u001b[0m \u001b[0mhasattr\u001b[0m\u001b[0;34m(\u001b[0m\u001b[0me\u001b[0m\u001b[0;34m,\u001b[0m \u001b[0;34m'ag_error_metadata'\u001b[0m\u001b[0;34m)\u001b[0m\u001b[0;34m:\u001b[0m\u001b[0;34m\u001b[0m\u001b[0;34m\u001b[0m\u001b[0m\n\u001b[0;32m--> 692\u001b[0;31m           \u001b[0;32mraise\u001b[0m \u001b[0me\u001b[0m\u001b[0;34m.\u001b[0m\u001b[0mag_error_metadata\u001b[0m\u001b[0;34m.\u001b[0m\u001b[0mto_exception\u001b[0m\u001b[0;34m(\u001b[0m\u001b[0me\u001b[0m\u001b[0;34m)\u001b[0m\u001b[0;34m\u001b[0m\u001b[0;34m\u001b[0m\u001b[0m\n\u001b[0m\u001b[1;32m    693\u001b[0m         \u001b[0;32melse\u001b[0m\u001b[0;34m:\u001b[0m\u001b[0;34m\u001b[0m\u001b[0;34m\u001b[0m\u001b[0m\n\u001b[1;32m    694\u001b[0m           \u001b[0;32mraise\u001b[0m\u001b[0;34m\u001b[0m\u001b[0;34m\u001b[0m\u001b[0m\n",
            "\u001b[0;31mTypeError\u001b[0m: Exception encountered when calling layer \"padding_layers_8\" (type PaddingLayers).\n\nin user code:\n\n    File \"<ipython-input-67-0c18350470e1>\", line 24, in call  *\n        ts.append(padding(s, self.output_sequence_length))\n    File \"<ipython-input-67-0c18350470e1>\", line 4, in padding  *\n        t = tf.constant(sequence, dtype=np.float32)\n\n    TypeError: Expected float32, but got Tensor(\"padding_layers_8/while/TensorArrayV2Read/TensorListGetItem:0\", shape=(1,), dtype=float32) of type 'Tensor'.\n\n\nCall arguments received:\n  • inputs=tf.Tensor(shape=(None, 1), dtype=float32)"
          ]
        }
      ]
    },
    {
      "cell_type": "code",
      "source": [
        "wi"
      ],
      "metadata": {
        "colab": {
          "base_uri": "https://localhost:8080/"
        },
        "id": "D-BVBF2y-aQ7",
        "outputId": "558f20b1-e933-4d25-8288-d678167768e1"
      },
      "execution_count": 264,
      "outputs": [
        {
          "output_type": "execute_result",
          "data": {
            "text/plain": [
              "<KerasTensor: shape=(None, 100, 100) dtype=float32 (created by layer 'di')>"
            ]
          },
          "metadata": {},
          "execution_count": 264
        }
      ]
    },
    {
      "cell_type": "code",
      "source": [
        "vectorizer(wu_df[\"warm_up_items\"].values[0:1])"
      ],
      "metadata": {
        "colab": {
          "base_uri": "https://localhost:8080/"
        },
        "id": "G9bJJZnR-gUb",
        "outputId": "4d84f656-218c-4ea1-a5af-916653efd89f"
      },
      "execution_count": 231,
      "outputs": [
        {
          "output_type": "execute_result",
          "data": {
            "text/plain": [
              "<tf.Tensor: shape=(1, 100), dtype=int64, numpy=\n",
              "array([[231, 216,   6,   8, 161, 193, 194, 225,  72, 131, 167, 181, 203,\n",
              "         36, 182, 217,  12, 219,  81, 165, 180, 130,  27, 172, 201, 211,\n",
              "         97,   4, 171,  33, 190,  17, 169,  77, 151, 235, 226,  44, 160,\n",
              "         93, 229, 173, 192, 202,   9, 152,  37,  66,   0,   0,   0,   0,\n",
              "          0,   0,   0,   0,   0,   0,   0,   0,   0,   0,   0,   0,   0,\n",
              "          0,   0,   0,   0,   0,   0,   0,   0,   0,   0,   0,   0,   0,\n",
              "          0,   0,   0,   0,   0,   0,   0,   0,   0,   0,   0,   0,   0,\n",
              "          0,   0,   0,   0,   0,   0,   0,   0,   0]])>"
            ]
          },
          "metadata": {},
          "execution_count": 231
        }
      ]
    },
    {
      "cell_type": "markdown",
      "source": [
        "# << OLD CODE>>"
      ],
      "metadata": {
        "id": "JYXgLg2MDJis"
      }
    },
    {
      "cell_type": "code",
      "source": [
        "class Encoder(tf.keras.layers.Layer):\n",
        "  def __init__(self, input_vocab_size, embedding_dim, enc_units):\n",
        "    super(Encoder, self).__init__()\n",
        "    self.enc_units = enc_units\n",
        "    self.input_vocab_size = input_vocab_size\n",
        "\n",
        "    # The embedding layer converts tokens to vectors\n",
        "    self.embedding = tf.keras.layers.Embedding(self.input_vocab_size,\n",
        "                                               embedding_dim)\n",
        "\n",
        "    # The GRU RNN layer processes those vectors sequentially.\n",
        "    self.gru = tf.keras.layers.GRU(self.enc_units,\n",
        "                                   # Return the sequence and state\n",
        "                                   return_sequences=True,\n",
        "                                   return_state=True,\n",
        "                                   recurrent_initializer='glorot_uniform')\n",
        "\n",
        "  def call(self, inputs, state=None):\n",
        "    tokens, weights = inputs\n",
        "\n",
        "    # 2. The embedding layer looks up the embedding for each token.\n",
        "    vectors = self.embedding(tokens)\n",
        "    shape_checker(vectors, ('batch', 's', 'embed_dim'))\n",
        "\n",
        "    # 3. The GRU processes the embedding sequence.\n",
        "    #    output shape: (batch, s, enc_units)\n",
        "    #    state shape: (batch, enc_units)\n",
        "    output, state = self.gru(vectors, initial_state=state)\n",
        "    shape_checker(output, ('batch', 's', 'enc_units'))\n",
        "    shape_checker(state, ('batch', 'enc_units'))\n",
        "\n",
        "    \n",
        "\n",
        "    # 4. Returns the new sequence and its state.\n",
        "    return output, state"
      ],
      "metadata": {
        "colab": {
          "base_uri": "https://localhost:8080/"
        },
        "id": "zn-qZzme-mra",
        "outputId": "d48f0144-7169-454f-9a66-75ef514d4353"
      },
      "execution_count": 227,
      "outputs": [
        {
          "output_type": "execute_result",
          "data": {
            "text/plain": [
              "userId\n",
              "1     1198 1387 589 2959 31696 2193 2140 1222 5797 4...\n",
              "5     1042 380 140 62 457 589 1080 1035 608 11 104 3...\n",
              "11    1917 31555 968 52287 51666 2291 595 6016 56949...\n",
              "12      208 494 590 17 786 36 5 364 648 784 733 780 788\n",
              "Name: warm_up_items, dtype: object"
            ]
          },
          "metadata": {},
          "execution_count": 227
        }
      ]
    },
    {
      "cell_type": "code",
      "source": [
        "%%time\n",
        "# Tổng hợp warm-up thành mảng theo user: mỗi user gồm một ma trận item_id + rating của item đó\n",
        "# TODO: v2: sửa lại chỉ concat warmup lại thành chuỗi cách nhau bởi dấu cách => sử dụng textvectorizer (không phải encode + padding)\n",
        "\n",
        "def padding_list(series_item, wu_size, value=0, is_padding=True):\n",
        "    series_item1 = series_item.apply(lambda x: x[0:wu_size])\n",
        "    if is_padding:\n",
        "        series_item1 = series_item1.apply(lambda x: x+[value]*(wu_size-len(x)))\n",
        "    return series_item1\n",
        "\n",
        "def to_arr(series):\n",
        "    x = series.apply(lambda x: np.array(x)).values\n",
        "    return np.stack(x)\n",
        "    \n",
        "def warmup_arr(warm_up, wu_size = 100, user_index=None, items = None, is_padding = True):\n",
        "    if user_index is not None:\n",
        "        warm_up = warm_up[warm_up[\"userId\"].isin(user_index)]\n",
        "\n",
        "    if items is not None:\n",
        "        warm_up = warm_up[warm_up[itemCol].isin(items)]\n",
        "\n",
        "    \n",
        "    # Sắp xếp item theo thứ tự giảm dần rating (về sau cắt padding sẽ ưu tiên giữ lại item có rating cao)\n",
        "    rindex = warm_up.groupby(\"userId\")[\"y\"].transform(lambda grp: grp.sort_values(ascending=False).index)\n",
        "    warm_up = warm_up.reindex(rindex)\n",
        "    \n",
        "    # Chuyển thành warm-up set theo từng user\n",
        "    warm_up = warm_up.groupby(\"userId\").agg({itemCol:list, \"y\":list})\n",
        "    \n",
        "    # Cắt và padding để có chung độ dài\n",
        "    warm_up[\"movieId_pad\"] = padding_list(warm_up[itemCol], wu_size, is_padding=is_padding)\n",
        "    warm_up[\"rating_pad\"] = padding_list(warm_up[\"y\"], wu_size, is_padding=is_padding)\n",
        "    \n",
        "#     warm_up[\"length\"] = warm_up[\"movieId_pad\"].apply(lambda x: len(x))\n",
        "    if user_index is not None:\n",
        "        warm_up = warm_up.reindex(user_index)\n",
        "    \n",
        "    if not is_padding:\n",
        "        return warm_up#warm_up[\"movieId_pad\"], warm_up[\"rating_pad\"], warm_up.index\n",
        "    \n",
        "    # Chuyển về array\n",
        "    items_arr = to_arr(warm_up[\"movieId_pad\"])\n",
        "    ratings = to_arr(warm_up[\"rating_pad\"])\n",
        "    user_index = warm_up.index\n",
        "    \n",
        "    return items_arr, ratings, user_index\n",
        "\n",
        "# item_arr, rating_arr, user_index = warmup_arr(warm_up[warm_up[\"userId\"].isin([11, 12, 103, 16, 20])])\n",
        "item_arr, rating_arr, user_index = warmup_arr(warm_up, wu_size=100, items=top_items)"
      ],
      "metadata": {
        "colab": {
          "base_uri": "https://localhost:8080/"
        },
        "id": "npeWqM17Dpki",
        "outputId": "07dee3f1-1407-4a62-98fa-4deea958401f"
      },
      "execution_count": 19,
      "outputs": [
        {
          "output_type": "stream",
          "name": "stdout",
          "text": [
            "done 1\n",
            "done 2\n"
          ]
        }
      ]
    },
    {
      "cell_type": "code",
      "execution_count": 15,
      "metadata": {
        "id": "xUIePjHtAQq3",
        "colab": {
          "base_uri": "https://localhost:8080/",
          "height": 493
        },
        "outputId": "ce49fbb5-3783-4fa1-8e0e-9157730f0059"
      },
      "outputs": [
        {
          "output_type": "error",
          "ename": "KeyError",
          "evalue": "ignored",
          "traceback": [
            "\u001b[0;31m---------------------------------------------------------------------------\u001b[0m",
            "\u001b[0;31mKeyError\u001b[0m                                  Traceback (most recent call last)",
            "\u001b[0;32m/usr/local/lib/python3.7/dist-packages/pandas/core/indexes/base.py\u001b[0m in \u001b[0;36mget_loc\u001b[0;34m(self, key, method, tolerance)\u001b[0m\n\u001b[1;32m   3360\u001b[0m             \u001b[0;32mtry\u001b[0m\u001b[0;34m:\u001b[0m\u001b[0;34m\u001b[0m\u001b[0;34m\u001b[0m\u001b[0m\n\u001b[0;32m-> 3361\u001b[0;31m                 \u001b[0;32mreturn\u001b[0m \u001b[0mself\u001b[0m\u001b[0;34m.\u001b[0m\u001b[0m_engine\u001b[0m\u001b[0;34m.\u001b[0m\u001b[0mget_loc\u001b[0m\u001b[0;34m(\u001b[0m\u001b[0mcasted_key\u001b[0m\u001b[0;34m)\u001b[0m\u001b[0;34m\u001b[0m\u001b[0;34m\u001b[0m\u001b[0m\n\u001b[0m\u001b[1;32m   3362\u001b[0m             \u001b[0;32mexcept\u001b[0m \u001b[0mKeyError\u001b[0m \u001b[0;32mas\u001b[0m \u001b[0merr\u001b[0m\u001b[0;34m:\u001b[0m\u001b[0;34m\u001b[0m\u001b[0;34m\u001b[0m\u001b[0m\n",
            "\u001b[0;32m/usr/local/lib/python3.7/dist-packages/pandas/_libs/index.pyx\u001b[0m in \u001b[0;36mpandas._libs.index.IndexEngine.get_loc\u001b[0;34m()\u001b[0m\n",
            "\u001b[0;32m/usr/local/lib/python3.7/dist-packages/pandas/_libs/index.pyx\u001b[0m in \u001b[0;36mpandas._libs.index.IndexEngine.get_loc\u001b[0;34m()\u001b[0m\n",
            "\u001b[0;32mpandas/_libs/hashtable_class_helper.pxi\u001b[0m in \u001b[0;36mpandas._libs.hashtable.PyObjectHashTable.get_item\u001b[0;34m()\u001b[0m\n",
            "\u001b[0;32mpandas/_libs/hashtable_class_helper.pxi\u001b[0m in \u001b[0;36mpandas._libs.hashtable.PyObjectHashTable.get_item\u001b[0;34m()\u001b[0m\n",
            "\u001b[0;31mKeyError\u001b[0m: 'i'",
            "\nThe above exception was the direct cause of the following exception:\n",
            "\u001b[0;31mKeyError\u001b[0m                                  Traceback (most recent call last)",
            "\u001b[0;32m<ipython-input-15-c296a9fa3dad>\u001b[0m in \u001b[0;36m<module>\u001b[0;34m()\u001b[0m\n\u001b[1;32m     43\u001b[0m \u001b[0;34m\u001b[0m\u001b[0m\n\u001b[1;32m     44\u001b[0m \u001b[0;31m# item_arr, rating_arr, user_index = warmup_arr(warm_up[warm_up[\"userId\"].isin([11, 12, 103, 16, 20])])\u001b[0m\u001b[0;34m\u001b[0m\u001b[0;34m\u001b[0m\u001b[0;34m\u001b[0m\u001b[0m\n\u001b[0;32m---> 45\u001b[0;31m \u001b[0mitem_arr\u001b[0m\u001b[0;34m,\u001b[0m \u001b[0mrating_arr\u001b[0m\u001b[0;34m,\u001b[0m \u001b[0muser_index\u001b[0m \u001b[0;34m=\u001b[0m \u001b[0mwarmup_arr\u001b[0m\u001b[0;34m(\u001b[0m\u001b[0mwarm_up\u001b[0m\u001b[0;34m,\u001b[0m \u001b[0mitems\u001b[0m\u001b[0;34m=\u001b[0m\u001b[0mtop_items\u001b[0m\u001b[0;34m)\u001b[0m\u001b[0;34m\u001b[0m\u001b[0;34m\u001b[0m\u001b[0m\n\u001b[0m",
            "\u001b[0;32m<ipython-input-15-c296a9fa3dad>\u001b[0m in \u001b[0;36mwarmup_arr\u001b[0;34m(warm_up, wu_size, user_index, items, is_padding)\u001b[0m\n\u001b[1;32m     15\u001b[0m         \u001b[0mwarm_up\u001b[0m \u001b[0;34m=\u001b[0m \u001b[0mwarm_up\u001b[0m\u001b[0;34m[\u001b[0m\u001b[0mwarm_up\u001b[0m\u001b[0;34m[\u001b[0m\u001b[0;34m\"userId\"\u001b[0m\u001b[0;34m]\u001b[0m\u001b[0;34m.\u001b[0m\u001b[0misin\u001b[0m\u001b[0;34m(\u001b[0m\u001b[0muser_index\u001b[0m\u001b[0;34m)\u001b[0m\u001b[0;34m]\u001b[0m\u001b[0;34m\u001b[0m\u001b[0;34m\u001b[0m\u001b[0m\n\u001b[1;32m     16\u001b[0m     \u001b[0;32mif\u001b[0m \u001b[0mitems\u001b[0m \u001b[0;32mis\u001b[0m \u001b[0;32mnot\u001b[0m \u001b[0;32mNone\u001b[0m\u001b[0;34m:\u001b[0m\u001b[0;34m\u001b[0m\u001b[0;34m\u001b[0m\u001b[0m\n\u001b[0;32m---> 17\u001b[0;31m         \u001b[0mwarm_up\u001b[0m \u001b[0;34m=\u001b[0m \u001b[0mwarm_up\u001b[0m\u001b[0;34m[\u001b[0m\u001b[0mwarm_up\u001b[0m\u001b[0;34m[\u001b[0m\u001b[0;34m\"i\"\u001b[0m\u001b[0;34m]\u001b[0m\u001b[0;34m.\u001b[0m\u001b[0misin\u001b[0m\u001b[0;34m(\u001b[0m\u001b[0mitems\u001b[0m\u001b[0;34m)\u001b[0m\u001b[0;34m]\u001b[0m\u001b[0;34m\u001b[0m\u001b[0;34m\u001b[0m\u001b[0m\n\u001b[0m\u001b[1;32m     18\u001b[0m \u001b[0;34m\u001b[0m\u001b[0m\n\u001b[1;32m     19\u001b[0m     \u001b[0;31m# Sắp xếp item theo thứ tự giảm dần rating (về sau cắt padding sẽ ưu tiên giữ lại item có rating cao)\u001b[0m\u001b[0;34m\u001b[0m\u001b[0;34m\u001b[0m\u001b[0;34m\u001b[0m\u001b[0m\n",
            "\u001b[0;32m/usr/local/lib/python3.7/dist-packages/pandas/core/frame.py\u001b[0m in \u001b[0;36m__getitem__\u001b[0;34m(self, key)\u001b[0m\n\u001b[1;32m   3456\u001b[0m             \u001b[0;32mif\u001b[0m \u001b[0mself\u001b[0m\u001b[0;34m.\u001b[0m\u001b[0mcolumns\u001b[0m\u001b[0;34m.\u001b[0m\u001b[0mnlevels\u001b[0m \u001b[0;34m>\u001b[0m \u001b[0;36m1\u001b[0m\u001b[0;34m:\u001b[0m\u001b[0;34m\u001b[0m\u001b[0;34m\u001b[0m\u001b[0m\n\u001b[1;32m   3457\u001b[0m                 \u001b[0;32mreturn\u001b[0m \u001b[0mself\u001b[0m\u001b[0;34m.\u001b[0m\u001b[0m_getitem_multilevel\u001b[0m\u001b[0;34m(\u001b[0m\u001b[0mkey\u001b[0m\u001b[0;34m)\u001b[0m\u001b[0;34m\u001b[0m\u001b[0;34m\u001b[0m\u001b[0m\n\u001b[0;32m-> 3458\u001b[0;31m             \u001b[0mindexer\u001b[0m \u001b[0;34m=\u001b[0m \u001b[0mself\u001b[0m\u001b[0;34m.\u001b[0m\u001b[0mcolumns\u001b[0m\u001b[0;34m.\u001b[0m\u001b[0mget_loc\u001b[0m\u001b[0;34m(\u001b[0m\u001b[0mkey\u001b[0m\u001b[0;34m)\u001b[0m\u001b[0;34m\u001b[0m\u001b[0;34m\u001b[0m\u001b[0m\n\u001b[0m\u001b[1;32m   3459\u001b[0m             \u001b[0;32mif\u001b[0m \u001b[0mis_integer\u001b[0m\u001b[0;34m(\u001b[0m\u001b[0mindexer\u001b[0m\u001b[0;34m)\u001b[0m\u001b[0;34m:\u001b[0m\u001b[0;34m\u001b[0m\u001b[0;34m\u001b[0m\u001b[0m\n\u001b[1;32m   3460\u001b[0m                 \u001b[0mindexer\u001b[0m \u001b[0;34m=\u001b[0m \u001b[0;34m[\u001b[0m\u001b[0mindexer\u001b[0m\u001b[0;34m]\u001b[0m\u001b[0;34m\u001b[0m\u001b[0;34m\u001b[0m\u001b[0m\n",
            "\u001b[0;32m/usr/local/lib/python3.7/dist-packages/pandas/core/indexes/base.py\u001b[0m in \u001b[0;36mget_loc\u001b[0;34m(self, key, method, tolerance)\u001b[0m\n\u001b[1;32m   3361\u001b[0m                 \u001b[0;32mreturn\u001b[0m \u001b[0mself\u001b[0m\u001b[0;34m.\u001b[0m\u001b[0m_engine\u001b[0m\u001b[0;34m.\u001b[0m\u001b[0mget_loc\u001b[0m\u001b[0;34m(\u001b[0m\u001b[0mcasted_key\u001b[0m\u001b[0;34m)\u001b[0m\u001b[0;34m\u001b[0m\u001b[0;34m\u001b[0m\u001b[0m\n\u001b[1;32m   3362\u001b[0m             \u001b[0;32mexcept\u001b[0m \u001b[0mKeyError\u001b[0m \u001b[0;32mas\u001b[0m \u001b[0merr\u001b[0m\u001b[0;34m:\u001b[0m\u001b[0;34m\u001b[0m\u001b[0;34m\u001b[0m\u001b[0m\n\u001b[0;32m-> 3363\u001b[0;31m                 \u001b[0;32mraise\u001b[0m \u001b[0mKeyError\u001b[0m\u001b[0;34m(\u001b[0m\u001b[0mkey\u001b[0m\u001b[0;34m)\u001b[0m \u001b[0;32mfrom\u001b[0m \u001b[0merr\u001b[0m\u001b[0;34m\u001b[0m\u001b[0;34m\u001b[0m\u001b[0m\n\u001b[0m\u001b[1;32m   3364\u001b[0m \u001b[0;34m\u001b[0m\u001b[0m\n\u001b[1;32m   3365\u001b[0m         \u001b[0;32mif\u001b[0m \u001b[0mis_scalar\u001b[0m\u001b[0;34m(\u001b[0m\u001b[0mkey\u001b[0m\u001b[0;34m)\u001b[0m \u001b[0;32mand\u001b[0m \u001b[0misna\u001b[0m\u001b[0;34m(\u001b[0m\u001b[0mkey\u001b[0m\u001b[0;34m)\u001b[0m \u001b[0;32mand\u001b[0m \u001b[0;32mnot\u001b[0m \u001b[0mself\u001b[0m\u001b[0;34m.\u001b[0m\u001b[0mhasnans\u001b[0m\u001b[0;34m:\u001b[0m\u001b[0;34m\u001b[0m\u001b[0;34m\u001b[0m\u001b[0m\n",
            "\u001b[0;31mKeyError\u001b[0m: 'i'"
          ]
        }
      ],
      "source": [
        "# Tổng hợp warm-up thành mảng theo user: mỗi user gồm một ma trận item_id + rating của item đó\n",
        "\n",
        "def padding_list(series_item, wu_size, value=0, is_padding=True):\n",
        "    series_item1 = series_item.apply(lambda x: x[0:wu_size])\n",
        "    if is_padding:\n",
        "        series_item1 = series_item1.apply(lambda x: x+[value]*(wu_size-len(x)))\n",
        "    return series_item1\n",
        "\n",
        "def to_arr(series):\n",
        "    x = series.apply(lambda x: np.array(x)).values\n",
        "    return np.stack(x)\n",
        "    \n",
        "def warmup_arr(warm_up, wu_size = 100, user_index=None, items = None, is_padding = True):\n",
        "    if user_index is not None:\n",
        "        warm_up = warm_up[warm_up[\"userId\"].isin(user_index)]\n",
        "    if items is not None:\n",
        "        warm_up = warm_up[warm_up[\"i\"].isin(items)]\n",
        "    \n",
        "    # Sắp xếp item theo thứ tự giảm dần rating (về sau cắt padding sẽ ưu tiên giữ lại item có rating cao)\n",
        "    rindex = warm_up.groupby(\"userId\")[\"y\"].transform(lambda grp: grp.sort_values(ascending=False).index)\n",
        "    warm_up = warm_up.reindex(rindex)\n",
        "    \n",
        "    # Chuyển thành warm-up set theo từng user\n",
        "    warm_up = warm_up.groupby(\"userId\").agg({\"i\":list, \"y\":list})\n",
        "    \n",
        "    # Cắt và padding để có chung độ dài\n",
        "    warm_up[\"movieId_pad\"] = padding_list(warm_up[\"i\"], wu_size, is_padding=is_padding)\n",
        "    warm_up[\"rating_pad\"] = padding_list(warm_up[\"y\"], wu_size, is_padding=is_padding)\n",
        "    \n",
        "#     warm_up[\"length\"] = warm_up[\"movieId_pad\"].apply(lambda x: len(x))\n",
        "    if user_index is not None:\n",
        "        warm_up = warm_up.reindex(user_index)\n",
        "    \n",
        "    if not is_padding:\n",
        "        return warm_up#warm_up[\"movieId_pad\"], warm_up[\"rating_pad\"], warm_up.index\n",
        "    \n",
        "    # Chuyển về array\n",
        "    items_arr = to_arr(warm_up[\"movieId_pad\"])\n",
        "    ratings = to_arr(warm_up[\"rating_pad\"])\n",
        "    user_index = warm_up.index\n",
        "    \n",
        "    return items_arr, ratings, user_index\n",
        "\n",
        "# item_arr, rating_arr, user_index = warmup_arr(warm_up[warm_up[\"userId\"].isin([11, 12, 103, 16, 20])])\n",
        "item_arr, rating_arr, user_index = warmup_arr(warm_up, items=top_items)"
      ]
    },
    {
      "cell_type": "code",
      "execution_count": null,
      "metadata": {
        "id": "v5vmsnexAQq3"
      },
      "outputs": [],
      "source": [
        "def sequence_to_vect(items, ratings, size):\n",
        "    vect = np.zeros([size], dtype=np.float16)\n",
        "    if items == items:\n",
        "        vect[items] = ratings\n",
        "    return vect\n",
        "            "
      ]
    },
    {
      "cell_type": "code",
      "execution_count": null,
      "metadata": {
        "id": "05e0JNBWAQq4"
      },
      "outputs": [],
      "source": [
        "def get_corrector(corrector, user_index, corrector_size):\n",
        "    corr_df = warmup_arr( corrector, user_index = user_index, is_padding=False)\n",
        "    corr_df[\"vect\"] = corr_df.apply(lambda x: sequence_to_vect(x[\"movieId_pad\"], x[\"rating_pad\"], corrector_size)\n",
        "                                    , axis=1)\n",
        "    return to_arr(corr_df[\"vect\"]), corr_df.index\n",
        "\n",
        "corrector_size = k+1\n",
        "corrector_arr, corr_index = get_corrector(corrector, user_index, corrector_size)"
      ]
    },
    {
      "cell_type": "code",
      "execution_count": null,
      "metadata": {
        "colab": {
          "base_uri": "https://localhost:8080/"
        },
        "id": "jtlrIKeLAQq4",
        "outputId": "7693f8d0-7d20-42ae-9d55-d7d5aaf43b14"
      },
      "outputs": [
        {
          "output_type": "execute_result",
          "data": {
            "text/plain": [
              "True"
            ]
          },
          "metadata": {},
          "execution_count": 43
        }
      ],
      "source": [
        "# Kiểm tra data đầu vào và đầu ra khớp nhau\n",
        "corr_index.shape == user_index.shape"
      ]
    },
    {
      "cell_type": "code",
      "source": [
        "gc.collect()"
      ],
      "metadata": {
        "colab": {
          "base_uri": "https://localhost:8080/"
        },
        "id": "2HeR2LC9CKM2",
        "outputId": "771e6d34-b809-476b-ca7d-f023bdd4f9b0"
      },
      "execution_count": null,
      "outputs": [
        {
          "output_type": "execute_result",
          "data": {
            "text/plain": [
              "399"
            ]
          },
          "metadata": {},
          "execution_count": 44
        }
      ]
    },
    {
      "cell_type": "code",
      "execution_count": null,
      "metadata": {
        "colab": {
          "base_uri": "https://localhost:8080/"
        },
        "id": "cMbbRqjtAQq4",
        "outputId": "bb05277f-9582-4037-e2db-5f8be069c841"
      },
      "outputs": [
        {
          "output_type": "execute_result",
          "data": {
            "text/plain": [
              "<tf.Tensor: shape=(), dtype=float32, numpy=0.07760624>"
            ]
          },
          "metadata": {},
          "execution_count": 91
        }
      ],
      "source": [
        "def Focus2(alpha=0.01):\n",
        "    def cal_los(y_true, y_pred):\n",
        "        y_pred = tf.cast(y_pred, tf.float32)\n",
        "        y_true = tf.cast(y_true, tf.float32)\n",
        "\n",
        "        positive_true = y_true[y_true!=0]\n",
        "        positive_pred = y_pred[y_true!=0]\n",
        "        los1 = K.square(positive_true-positive_pred )\n",
        "\n",
        "        zero_true = y_true[y_true==0]\n",
        "        zero_pred = y_pred[y_true==0]\n",
        "        los2 =alpha*  K.square(zero_true-zero_pred )\n",
        "\n",
        "\n",
        "        return K.mean( tf.concat([los1, los2], axis=0) )\n",
        "    return cal_los\n",
        "\n",
        "y_true = tf.constant([1,0.2,0,1])\n",
        "y_pred = tf.constant([1,0,5.2,1.005])\n",
        "\n",
        "Focus2(0.01)(y_true, y_pred)"
      ]
    },
    {
      "cell_type": "code",
      "source": [
        "# def Focus2(alpha=0.01):\n",
        "#     def cal_los(y_true, y_pred):\n",
        "#         y_pred = tf.cast(y_pred, tf.float32)\n",
        "#         y_true = tf.cast(y_true, tf.float32)\n",
        "\n",
        "#         positive_true = y_true[y_true!=0]\n",
        "#         positive_pred = y_pred[y_true!=0]\n",
        "#         los1 = K.square(positive_true-positive_pred )\n",
        "#         w1 = tf.ones(positive_true.shape[0])\n",
        "\n",
        "#         zero_true = y_true[y_true==0]\n",
        "#         zero_pred = y_pred[y_true==0]\n",
        "#         los2 = alpha*  K.square(zero_true-zero_pred )\n",
        "#         w2 = alpha* tf.ones(zero_true.shape[0])\n",
        "\n",
        "#         return K.sum(tf.multiply( tf.concat([los1, los2], axis=0), tf.concat([w1, w2], axis=0) ))\n",
        "#     return cal_los\n",
        "\n",
        "# y_true = tf.constant([1,0.2,0.4,1])\n",
        "# y_pred = tf.constant([1,0.2,0.4,1.1])\n",
        "\n",
        "# Focus2(0.001)(y_true, y_pred)"
      ],
      "metadata": {
        "colab": {
          "base_uri": "https://localhost:8080/"
        },
        "id": "sMwSMDEvQwMQ",
        "outputId": "00c28117-2b89-4abe-fc40-eea6ac326979"
      },
      "execution_count": null,
      "outputs": [
        {
          "output_type": "execute_result",
          "data": {
            "text/plain": [
              "<tf.Tensor: shape=(), dtype=float32, numpy=0.010000004>"
            ]
          },
          "metadata": {},
          "execution_count": 88
        }
      ]
    },
    {
      "cell_type": "code",
      "execution_count": null,
      "metadata": {
        "id": "Nt4pp6NDAQq5"
      },
      "outputs": [],
      "source": [
        "# Xây dựng mạng\n",
        "# def single_itemId(i,input_dim, embedding_size):\n",
        "#     x = layers.Input(name='input'+i )\n",
        "#     x = layers.Embedding(input_dim=input_dim, output_dim= embedding_size, mask_zero= True)(x)\n",
        "#     return x\n",
        "wu_size = 100\n",
        "embedding_size = 100\n",
        "input_dim = item_num\n",
        "cluster_num = 50\n",
        "\n",
        "def get_model():\n",
        "\n",
        "    input_wi = layers.Input(shape=(wu_size), name='warmup_item')\n",
        "    wi = layers.Embedding(input_dim=input_dim, output_dim= embedding_size, mask_zero= True, name='ei')(input_wi)\n",
        "    wi = layers.Dense(embedding_size, activation='relu', name='di')(wi)\n",
        "\n",
        "    wr = layers.Input(shape=(wu_size), name='warmup_rating')\n",
        "\n",
        "    ireps = layers.Multiply(name='mul')([wi, wr])\n",
        "    uprofile = layers.Lambda(lambda z: K.sum(z, axis=1), name='lambda')(ireps)\n",
        "\n",
        "    ureps = layers.LayerNormalization(name='norm')(uprofile)\n",
        "    ureps = layers.Dense(int(wu_size/2), activation='relu', name='du')(ureps)\n",
        "    clusters = layers.Dense(cluster_num, activation= 'sigmoid', name='clustering')(ureps)\n",
        "    correctors = layers.Dense(corrector_size)(clusters)\n",
        "    \n",
        "    model = tf.keras.Model(inputs= [input_wi, wr], outputs=[correctors])\n",
        "    return model\n",
        "\n",
        "model = get_model()"
      ]
    },
    {
      "cell_type": "code",
      "execution_count": null,
      "metadata": {
        "id": "kB-X6xTkAQq5"
      },
      "outputs": [],
      "source": [
        "model.compile( optimizer='adam', loss= Focus2(1e-5) )"
      ]
    },
    {
      "cell_type": "code",
      "execution_count": null,
      "metadata": {
        "colab": {
          "base_uri": "https://localhost:8080/"
        },
        "id": "UzKl8ntPAQq5",
        "outputId": "7ea970c6-10d8-4497-fe35-2f4ab38c7859"
      },
      "outputs": [
        {
          "output_type": "stream",
          "name": "stdout",
          "text": [
            "Model: \"model_4\"\n",
            "__________________________________________________________________________________________________\n",
            " Layer (type)                   Output Shape         Param #     Connected to                     \n",
            "==================================================================================================\n",
            " warmup_item (InputLayer)       [(None, 100)]        0           []                               \n",
            "                                                                                                  \n",
            " ei (Embedding)                 (None, 100, 100)     100000      ['warmup_item[0][0]']            \n",
            "                                                                                                  \n",
            " di (Dense)                     (None, 100, 100)     10100       ['ei[0][0]']                     \n",
            "                                                                                                  \n",
            " warmup_rating (InputLayer)     [(None, 100)]        0           []                               \n",
            "                                                                                                  \n",
            " mul (Multiply)                 (None, 100, 100)     0           ['di[0][0]',                     \n",
            "                                                                  'warmup_rating[0][0]']          \n",
            "                                                                                                  \n",
            " lambda (Lambda)                (None, 100)          0           ['mul[0][0]']                    \n",
            "                                                                                                  \n",
            " norm (LayerNormalization)      (None, 100)          200         ['lambda[0][0]']                 \n",
            "                                                                                                  \n",
            " du (Dense)                     (None, 50)           5050        ['norm[0][0]']                   \n",
            "                                                                                                  \n",
            " clustering (Dense)             (None, 50)           2550        ['du[0][0]']                     \n",
            "                                                                                                  \n",
            " dense_16 (Dense)               (None, 1001)         51051       ['clustering[0][0]']             \n",
            "                                                                                                  \n",
            "==================================================================================================\n",
            "Total params: 168,951\n",
            "Trainable params: 168,951\n",
            "Non-trainable params: 0\n",
            "__________________________________________________________________________________________________\n"
          ]
        }
      ],
      "source": [
        "model.summary()"
      ]
    },
    {
      "cell_type": "code",
      "execution_count": null,
      "metadata": {
        "colab": {
          "base_uri": "https://localhost:8080/"
        },
        "id": "Vq3zkQA2AQq5",
        "outputId": "d248a8ca-faeb-4b26-8632-99617789bbba"
      },
      "outputs": [
        {
          "output_type": "stream",
          "name": "stdout",
          "text": [
            "Epoch 1/5\n",
            "261/261 [==============================] - 38s 142ms/step - loss: 8.0480e-04\n",
            "Epoch 2/5\n",
            "261/261 [==============================] - 38s 147ms/step - loss: 4.6183e-04\n",
            "Epoch 3/5\n",
            "261/261 [==============================] - 38s 145ms/step - loss: 4.4639e-04\n",
            "Epoch 4/5\n",
            "261/261 [==============================] - 38s 147ms/step - loss: 4.4143e-04\n",
            "Epoch 5/5\n",
            "261/261 [==============================] - 38s 144ms/step - loss: 4.3835e-04\n"
          ]
        },
        {
          "output_type": "execute_result",
          "data": {
            "text/plain": [
              "<keras.callbacks.History at 0x7f8a0b5f1c10>"
            ]
          },
          "metadata": {},
          "execution_count": 106
        }
      ],
      "source": [
        "model.fit(x=[item_arr, rating_arr], y=corrector_arr, epochs=5, batch_size=512)"
      ]
    },
    {
      "cell_type": "code",
      "source": [
        "input_wi = model.get_layer('warmup_item')\n",
        "wi = model.get_layer('ei')(input_wi)"
      ],
      "metadata": {
        "colab": {
          "base_uri": "https://localhost:8080/",
          "height": 425
        },
        "id": "covGlepvW1qQ",
        "outputId": "c5c21aab-8f61-4ffc-d1f4-244309365fb8"
      },
      "execution_count": null,
      "outputs": [
        {
          "output_type": "error",
          "ename": "AttributeError",
          "evalue": "ignored",
          "traceback": [
            "\u001b[0;31m---------------------------------------------------------------------------\u001b[0m",
            "\u001b[0;31mAttributeError\u001b[0m                            Traceback (most recent call last)",
            "\u001b[0;32m<ipython-input-116-b1788559992e>\u001b[0m in \u001b[0;36m<module>\u001b[0;34m()\u001b[0m\n\u001b[1;32m      1\u001b[0m \u001b[0minput_wi\u001b[0m \u001b[0;34m=\u001b[0m \u001b[0mmodel\u001b[0m\u001b[0;34m.\u001b[0m\u001b[0mget_layer\u001b[0m\u001b[0;34m(\u001b[0m\u001b[0;34m'warmup_item'\u001b[0m\u001b[0;34m)\u001b[0m\u001b[0;34m\u001b[0m\u001b[0;34m\u001b[0m\u001b[0m\n\u001b[0;32m----> 2\u001b[0;31m \u001b[0mwi\u001b[0m \u001b[0;34m=\u001b[0m \u001b[0mmodel\u001b[0m\u001b[0;34m.\u001b[0m\u001b[0mget_layer\u001b[0m\u001b[0;34m(\u001b[0m\u001b[0;34m'ei'\u001b[0m\u001b[0;34m)\u001b[0m\u001b[0;34m(\u001b[0m\u001b[0minput_wi\u001b[0m\u001b[0;34m)\u001b[0m\u001b[0;34m\u001b[0m\u001b[0;34m\u001b[0m\u001b[0m\n\u001b[0m",
            "\u001b[0;32m/usr/local/lib/python3.7/dist-packages/keras/utils/traceback_utils.py\u001b[0m in \u001b[0;36merror_handler\u001b[0;34m(*args, **kwargs)\u001b[0m\n\u001b[1;32m     65\u001b[0m     \u001b[0;32mexcept\u001b[0m \u001b[0mException\u001b[0m \u001b[0;32mas\u001b[0m \u001b[0me\u001b[0m\u001b[0;34m:\u001b[0m  \u001b[0;31m# pylint: disable=broad-except\u001b[0m\u001b[0;34m\u001b[0m\u001b[0;34m\u001b[0m\u001b[0m\n\u001b[1;32m     66\u001b[0m       \u001b[0mfiltered_tb\u001b[0m \u001b[0;34m=\u001b[0m \u001b[0m_process_traceback_frames\u001b[0m\u001b[0;34m(\u001b[0m\u001b[0me\u001b[0m\u001b[0;34m.\u001b[0m\u001b[0m__traceback__\u001b[0m\u001b[0;34m)\u001b[0m\u001b[0;34m\u001b[0m\u001b[0;34m\u001b[0m\u001b[0m\n\u001b[0;32m---> 67\u001b[0;31m       \u001b[0;32mraise\u001b[0m \u001b[0me\u001b[0m\u001b[0;34m.\u001b[0m\u001b[0mwith_traceback\u001b[0m\u001b[0;34m(\u001b[0m\u001b[0mfiltered_tb\u001b[0m\u001b[0;34m)\u001b[0m \u001b[0;32mfrom\u001b[0m \u001b[0;32mNone\u001b[0m\u001b[0;34m\u001b[0m\u001b[0;34m\u001b[0m\u001b[0m\n\u001b[0m\u001b[1;32m     68\u001b[0m     \u001b[0;32mfinally\u001b[0m\u001b[0;34m:\u001b[0m\u001b[0;34m\u001b[0m\u001b[0;34m\u001b[0m\u001b[0m\n\u001b[1;32m     69\u001b[0m       \u001b[0;32mdel\u001b[0m \u001b[0mfiltered_tb\u001b[0m\u001b[0;34m\u001b[0m\u001b[0;34m\u001b[0m\u001b[0m\n",
            "\u001b[0;32m/usr/local/lib/python3.7/dist-packages/keras/backend.py\u001b[0m in \u001b[0;36mdtype\u001b[0;34m(x)\u001b[0m\n\u001b[1;32m   1533\u001b[0m \u001b[0;34m\u001b[0m\u001b[0m\n\u001b[1;32m   1534\u001b[0m   \"\"\"\n\u001b[0;32m-> 1535\u001b[0;31m   \u001b[0;32mreturn\u001b[0m \u001b[0mx\u001b[0m\u001b[0;34m.\u001b[0m\u001b[0mdtype\u001b[0m\u001b[0;34m.\u001b[0m\u001b[0mbase_dtype\u001b[0m\u001b[0;34m.\u001b[0m\u001b[0mname\u001b[0m\u001b[0;34m\u001b[0m\u001b[0;34m\u001b[0m\u001b[0m\n\u001b[0m\u001b[1;32m   1536\u001b[0m \u001b[0;34m\u001b[0m\u001b[0m\n\u001b[1;32m   1537\u001b[0m \u001b[0;34m\u001b[0m\u001b[0m\n",
            "\u001b[0;31mAttributeError\u001b[0m: Exception encountered when calling layer \"ei\" (type Embedding).\n\n'str' object has no attribute 'base_dtype'\n\nCall arguments received:\n  • inputs=<keras.engine.input_layer.InputLayer object at 0x7f8a0bbcacd0>"
          ]
        }
      ]
    },
    {
      "cell_type": "code",
      "source": [
        "def get_cluster_model(model):\n",
        "    input_wi = model.get_layer('warmup_item')\n",
        "    wi = model.get_layer('ei')(input_wi)\n",
        "    wi = model.get_layer('di')(wi)\n",
        "\n",
        "    wr = model.get_layer('warmup_rating')\n",
        "\n",
        "    ireps = model.get_layer('mul')([wi, wr])\n",
        "    uprofile = model.get_layer('lambda')(ireps)\n",
        "\n",
        "    ureps = model.get_layer('norm')(uprofile)\n",
        "    ureps = model.get_layer('du')(ureps)\n",
        "    clusters = model.get_layer('clustering')(ureps)\n",
        "\n",
        "    cluster_model = tf.keras.Model(inputs= [input_wi, wr], outputs=[clusters])\n",
        "    return cluster_model\n",
        "\n",
        "cluster_model = get_cluster_model(model)"
      ],
      "metadata": {
        "colab": {
          "base_uri": "https://localhost:8080/",
          "height": 442
        },
        "id": "JcoFakXWU3NP",
        "outputId": "adf80528-7d46-455f-845c-26277baf70a8"
      },
      "execution_count": null,
      "outputs": [
        {
          "output_type": "error",
          "ename": "AttributeError",
          "evalue": "ignored",
          "traceback": [
            "\u001b[0;31m---------------------------------------------------------------------------\u001b[0m",
            "\u001b[0;31mAttributeError\u001b[0m                            Traceback (most recent call last)",
            "\u001b[0;32m<ipython-input-111-8baee4b17894>\u001b[0m in \u001b[0;36m<module>\u001b[0;34m()\u001b[0m\n\u001b[1;32m     16\u001b[0m     \u001b[0;32mreturn\u001b[0m \u001b[0mcluster_model\u001b[0m\u001b[0;34m\u001b[0m\u001b[0;34m\u001b[0m\u001b[0m\n\u001b[1;32m     17\u001b[0m \u001b[0;34m\u001b[0m\u001b[0m\n\u001b[0;32m---> 18\u001b[0;31m \u001b[0mcluster_model\u001b[0m \u001b[0;34m=\u001b[0m \u001b[0mget_cluster_model\u001b[0m\u001b[0;34m(\u001b[0m\u001b[0mmodel\u001b[0m\u001b[0;34m)\u001b[0m\u001b[0;34m\u001b[0m\u001b[0;34m\u001b[0m\u001b[0m\n\u001b[0m",
            "\u001b[0;32m<ipython-input-111-8baee4b17894>\u001b[0m in \u001b[0;36mget_cluster_model\u001b[0;34m(model)\u001b[0m\n\u001b[1;32m      1\u001b[0m \u001b[0;32mdef\u001b[0m \u001b[0mget_cluster_model\u001b[0m\u001b[0;34m(\u001b[0m\u001b[0mmodel\u001b[0m\u001b[0;34m)\u001b[0m\u001b[0;34m:\u001b[0m\u001b[0;34m\u001b[0m\u001b[0;34m\u001b[0m\u001b[0m\n\u001b[1;32m      2\u001b[0m     \u001b[0minput_wi\u001b[0m \u001b[0;34m=\u001b[0m \u001b[0mmodel\u001b[0m\u001b[0;34m.\u001b[0m\u001b[0mget_layer\u001b[0m\u001b[0;34m(\u001b[0m\u001b[0;34m'warmup_item'\u001b[0m\u001b[0;34m)\u001b[0m\u001b[0;34m\u001b[0m\u001b[0;34m\u001b[0m\u001b[0m\n\u001b[0;32m----> 3\u001b[0;31m     \u001b[0mwi\u001b[0m \u001b[0;34m=\u001b[0m \u001b[0mmodel\u001b[0m\u001b[0;34m.\u001b[0m\u001b[0mget_layer\u001b[0m\u001b[0;34m(\u001b[0m\u001b[0;34m'ei'\u001b[0m\u001b[0;34m)\u001b[0m\u001b[0;34m(\u001b[0m\u001b[0minput_wi\u001b[0m\u001b[0;34m)\u001b[0m\u001b[0;34m\u001b[0m\u001b[0;34m\u001b[0m\u001b[0m\n\u001b[0m\u001b[1;32m      4\u001b[0m     \u001b[0mwi\u001b[0m \u001b[0;34m=\u001b[0m \u001b[0mmodel\u001b[0m\u001b[0;34m.\u001b[0m\u001b[0mget_layer\u001b[0m\u001b[0;34m(\u001b[0m\u001b[0;34m'di'\u001b[0m\u001b[0;34m)\u001b[0m\u001b[0;34m(\u001b[0m\u001b[0mwi\u001b[0m\u001b[0;34m)\u001b[0m\u001b[0;34m\u001b[0m\u001b[0;34m\u001b[0m\u001b[0m\n\u001b[1;32m      5\u001b[0m \u001b[0;34m\u001b[0m\u001b[0m\n",
            "\u001b[0;32m/usr/local/lib/python3.7/dist-packages/keras/utils/traceback_utils.py\u001b[0m in \u001b[0;36merror_handler\u001b[0;34m(*args, **kwargs)\u001b[0m\n\u001b[1;32m     65\u001b[0m     \u001b[0;32mexcept\u001b[0m \u001b[0mException\u001b[0m \u001b[0;32mas\u001b[0m \u001b[0me\u001b[0m\u001b[0;34m:\u001b[0m  \u001b[0;31m# pylint: disable=broad-except\u001b[0m\u001b[0;34m\u001b[0m\u001b[0;34m\u001b[0m\u001b[0m\n\u001b[1;32m     66\u001b[0m       \u001b[0mfiltered_tb\u001b[0m \u001b[0;34m=\u001b[0m \u001b[0m_process_traceback_frames\u001b[0m\u001b[0;34m(\u001b[0m\u001b[0me\u001b[0m\u001b[0;34m.\u001b[0m\u001b[0m__traceback__\u001b[0m\u001b[0;34m)\u001b[0m\u001b[0;34m\u001b[0m\u001b[0;34m\u001b[0m\u001b[0m\n\u001b[0;32m---> 67\u001b[0;31m       \u001b[0;32mraise\u001b[0m \u001b[0me\u001b[0m\u001b[0;34m.\u001b[0m\u001b[0mwith_traceback\u001b[0m\u001b[0;34m(\u001b[0m\u001b[0mfiltered_tb\u001b[0m\u001b[0;34m)\u001b[0m \u001b[0;32mfrom\u001b[0m \u001b[0;32mNone\u001b[0m\u001b[0;34m\u001b[0m\u001b[0;34m\u001b[0m\u001b[0m\n\u001b[0m\u001b[1;32m     68\u001b[0m     \u001b[0;32mfinally\u001b[0m\u001b[0;34m:\u001b[0m\u001b[0;34m\u001b[0m\u001b[0;34m\u001b[0m\u001b[0m\n\u001b[1;32m     69\u001b[0m       \u001b[0;32mdel\u001b[0m \u001b[0mfiltered_tb\u001b[0m\u001b[0;34m\u001b[0m\u001b[0;34m\u001b[0m\u001b[0m\n",
            "\u001b[0;32m/usr/local/lib/python3.7/dist-packages/keras/backend.py\u001b[0m in \u001b[0;36mdtype\u001b[0;34m(x)\u001b[0m\n\u001b[1;32m   1533\u001b[0m \u001b[0;34m\u001b[0m\u001b[0m\n\u001b[1;32m   1534\u001b[0m   \"\"\"\n\u001b[0;32m-> 1535\u001b[0;31m   \u001b[0;32mreturn\u001b[0m \u001b[0mx\u001b[0m\u001b[0;34m.\u001b[0m\u001b[0mdtype\u001b[0m\u001b[0;34m.\u001b[0m\u001b[0mbase_dtype\u001b[0m\u001b[0;34m.\u001b[0m\u001b[0mname\u001b[0m\u001b[0;34m\u001b[0m\u001b[0;34m\u001b[0m\u001b[0m\n\u001b[0m\u001b[1;32m   1536\u001b[0m \u001b[0;34m\u001b[0m\u001b[0m\n\u001b[1;32m   1537\u001b[0m \u001b[0;34m\u001b[0m\u001b[0m\n",
            "\u001b[0;31mAttributeError\u001b[0m: Exception encountered when calling layer \"ei\" (type Embedding).\n\n'str' object has no attribute 'base_dtype'\n\nCall arguments received:\n  • inputs=<keras.engine.input_layer.InputLayer object at 0x7f8a0bbcacd0>"
          ]
        }
      ]
    },
    {
      "cell_type": "code",
      "execution_count": null,
      "metadata": {
        "colab": {
          "base_uri": "https://localhost:8080/"
        },
        "id": "L7q0CqKgAQq5",
        "outputId": "f9d031c0-6d71-40ab-871a-3fe4e937605e"
      },
      "outputs": [
        {
          "output_type": "execute_result",
          "data": {
            "text/plain": [
              "array([0.9, 0.8, 0.8, 0.8, 0.8, 0.7, 0.7, 0.7, 0.6, 0. , 0. , 0. , 0. ,\n",
              "       0. , 0. , 0. , 0. , 0. , 0. , 0. , 0. , 0. , 0. , 0. , 0. , 0. ,\n",
              "       0. , 0. , 0. , 0. , 0. , 0. , 0. , 0. , 0. , 0. , 0. , 0. , 0. ,\n",
              "       0. , 0. , 0. , 0. , 0. , 0. , 0. , 0. , 0. , 0. , 0. , 0. , 0. ,\n",
              "       0. , 0. , 0. , 0. , 0. , 0. , 0. , 0. , 0. , 0. , 0. , 0. , 0. ,\n",
              "       0. , 0. , 0. , 0. , 0. , 0. , 0. , 0. , 0. , 0. , 0. , 0. , 0. ,\n",
              "       0. , 0. , 0. , 0. , 0. , 0. , 0. , 0. , 0. , 0. , 0. , 0. , 0. ,\n",
              "       0. , 0. , 0. , 0. , 0. , 0. , 0. , 0. , 0. ])"
            ]
          },
          "metadata": {},
          "execution_count": 107
        }
      ],
      "source": [
        "rating_arr[0]"
      ]
    },
    {
      "cell_type": "code",
      "execution_count": null,
      "metadata": {
        "colab": {
          "base_uri": "https://localhost:8080/"
        },
        "id": "xfCwXiuHAQq5",
        "outputId": "2b4f1044-f19c-46d8-f5d9-9cf9dbff6a2f"
      },
      "outputs": [
        {
          "output_type": "execute_result",
          "data": {
            "text/plain": [
              "(133338, 1001)"
            ]
          },
          "metadata": {},
          "execution_count": 108
        }
      ],
      "source": [
        "corrector_arr.shape"
      ]
    },
    {
      "cell_type": "markdown",
      "metadata": {
        "id": "17fHxkHoAQq6"
      },
      "source": [
        "### OLD VERSION (deep co-clustering)"
      ]
    },
    {
      "cell_type": "code",
      "execution_count": null,
      "metadata": {
        "id": "QIOF21-KAQq7"
      },
      "outputs": [],
      "source": [
        "# ts_corrector = tf.sparse.SparseTensor( \n",
        "#     indices= np.concatenate([np.expand_dims(corrector[\"i\"].values, -1), np.ones((2812537, 1))], axis=1),\n",
        "#     values = corrector[\"y\"], \n",
        "#     dense_shape= (corrector.shape[0],item_num) )"
      ]
    },
    {
      "cell_type": "code",
      "execution_count": null,
      "metadata": {
        "id": "RjEcXY0aAQq7"
      },
      "outputs": [],
      "source": [
        "def user_wise_split(df, userCol, itemCol, test_size=0.25):\n",
        "    all_user = df[userCol].drop_duplicates()\n",
        "    train_user, test_user = train_test_split(all_user, test_size=test_size)\n",
        "\n",
        "    train_ratings = df[df[itemCol].isin(train_user)]\n",
        "    test_ratings = df[df[itemCol].isin(test_user)]\n",
        "    return train_ratings, test_ratings\n",
        "\n",
        "train_val, test = train_test_split(ratings, test_size= 0.25)\n",
        "train, valid = user_wise_split(train_val,userCol, itemCol, test_size=0.25 )\n",
        "train.head()"
      ]
    },
    {
      "cell_type": "code",
      "execution_count": null,
      "metadata": {
        "id": "fuAKQrowAQq7"
      },
      "outputs": [],
      "source": [
        "train[\"y\"] = train[\"rating\"]/5\n",
        "u_encoder = sklearn.preprocessing.LabelEncoder()\n",
        "i_encoder = sklearn.preprocessing.LabelEncoder()\n",
        "\n",
        "train[\"u\"] = u_encoder.fit_transform(train[[userCol]])\n",
        "train[\"i\"] = i_encoder.fit_transform(train[[itemCol]])"
      ]
    },
    {
      "cell_type": "code",
      "execution_count": null,
      "metadata": {
        "id": "IrBTiQTMAQq7"
      },
      "outputs": [],
      "source": [
        "u_num = ratings[userCol].drop_duplicates().count()\n",
        "i_num = ratings[itemCol].drop_duplicates().count()\n",
        "\n",
        "u_embedding_size = 50\n",
        "i_embedding_size = 100\n",
        "\n",
        "u_clusters = 100\n",
        "i_clusters = 50\n",
        "\n",
        "embedding_size = 100\n",
        "\n",
        "# user\n",
        "u_input = layers.Input(shape=(1,), name=\"input_u\")\n",
        "u = layers.Embedding( input_dim= u_num, output_dim= u_embedding_size, name=\"embedding_u\")(u_input)\n",
        "u = layers.Dense( u_clusters, activation= 'sigmoid', name=\"sigmoid_u\" )(u)\n",
        "u = layers.Dense( embedding_size, activation= 'relu', name=\"resize_u\" )(u)\n",
        "u = layers.Reshape( target_shape=(embedding_size,), name=\"reshape_u\")(u)\n",
        "\n",
        "# item\n",
        "i_input = layers.Input(shape=(1,), name=\"input_i\")\n",
        "i = layers.Embedding( input_dim= i_num, output_dim= i_embedding_size, name=\"embedding_i\")(i_input)\n",
        "i = layers.Dense( i_clusters, activation= 'sigmoid', name=\"sigmoid_i\" )(i)\n",
        "i = layers.Dense( embedding_size, activation= 'relu', name=\"resize_i\")(i)\n",
        "i = layers.Reshape( target_shape=(embedding_size,), name=\"reshape_i\")(i)\n",
        "\n",
        "dot = layers.Dot(normalize= True, axes=1, name=\"dot\")([u, i])\n",
        "out = layers.Dense( units=1, activation='linear', name=\"out\")(dot)\n",
        "\n",
        "# compile\n",
        "model = tf.keras.models.Model(inputs= [u_input, i_input], outputs= out )\n",
        "model.compile(optimizer='adam', loss='mean_absolute_error', metrics=['mean_absolute_percentage_error'])\n",
        "model.summary()"
      ]
    },
    {
      "cell_type": "code",
      "execution_count": null,
      "metadata": {
        "id": "qgxOhRweAQq8"
      },
      "outputs": [],
      "source": [
        "train"
      ]
    },
    {
      "cell_type": "code",
      "execution_count": null,
      "metadata": {
        "id": "oCDErRr7AQq8"
      },
      "outputs": [],
      "source": [
        "# train\n",
        "training = model.fit(x=[train[\"u\"], train[\"i\"]], y=train[\"y\"], \n",
        "                     epochs=3, batch_size=1024*10, shuffle=True, verbose=1, validation_split=0.3)"
      ]
    },
    {
      "cell_type": "code",
      "execution_count": null,
      "metadata": {
        "id": "zBc31VPuAQq8"
      },
      "outputs": [],
      "source": [
        "# user clustering\n",
        "uCluster = tf.keras.Sequential([\n",
        "    model.get_layer(\"input_u\"), \n",
        "    model.get_layer(\"embedding_u\"), \n",
        "    model.get_layer(\"sigmoid_u\"), \n",
        "    ]\n",
        ")\n",
        "\n",
        "# user clustering\n",
        "iCluster = tf.keras.Sequential([\n",
        "    model.get_layer(\"input_i\"), \n",
        "    model.get_layer(\"embedding_i\"), \n",
        "    model.get_layer(\"sigmoid_i\"), \n",
        "    ]\n",
        ")"
      ]
    },
    {
      "cell_type": "code",
      "execution_count": null,
      "metadata": {
        "id": "ysjUFFjsAQq8"
      },
      "outputs": [],
      "source": [
        "np.argmax( uCluster(np.array([98818, 36868]))[1][0] )"
      ]
    },
    {
      "cell_type": "code",
      "execution_count": null,
      "metadata": {
        "id": "I1y4UFEEAQq8"
      },
      "outputs": [],
      "source": [
        "np.argmax( iCluster(np.array([1360, 1009])).numpy().reshape(2,50) , axis=1)"
      ]
    },
    {
      "cell_type": "code",
      "execution_count": null,
      "metadata": {
        "id": "VVzy2CNxAQq8"
      },
      "outputs": [],
      "source": [
        "iCluster(np.array([1360, 1009]))"
      ]
    },
    {
      "cell_type": "code",
      "execution_count": null,
      "metadata": {
        "id": "flxyj_nQAQq8"
      },
      "outputs": [],
      "source": [
        ""
      ]
    }
  ],
  "metadata": {
    "kernelspec": {
      "display_name": "Python 3",
      "language": "python",
      "name": "python3"
    },
    "language_info": {
      "codemirror_mode": {
        "name": "ipython",
        "version": 3
      },
      "file_extension": ".py",
      "mimetype": "text/x-python",
      "name": "python",
      "nbconvert_exporter": "python",
      "pygments_lexer": "ipython3",
      "version": "3.6.9"
    },
    "colab": {
      "name": "ML20M_sequence.ipynb",
      "provenance": [],
      "collapsed_sections": [
        "17fHxkHoAQq6"
      ],
      "include_colab_link": true
    }
  },
  "nbformat": 4,
  "nbformat_minor": 0
}