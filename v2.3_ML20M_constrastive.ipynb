{
  "cells": [
    {
      "cell_type": "markdown",
      "metadata": {
        "id": "view-in-github",
        "colab_type": "text"
      },
      "source": [
        "<a href=\"https://colab.research.google.com/github/quanvu0996/TF_cert_training/blob/main/v2.3_ML20M_constrastive.ipynb\" target=\"_parent\"><img src=\"https://colab.research.google.com/assets/colab-badge.svg\" alt=\"Open In Colab\"/></a>"
      ]
    },
    {
      "cell_type": "code",
      "execution_count": null,
      "metadata": {
        "colab": {
          "base_uri": "https://localhost:8080/"
        },
        "id": "zZQDJKGUAQqn",
        "outputId": "3e393cc4-2111-44bf-9178-15b481334e09"
      },
      "outputs": [
        {
          "metadata": {
            "tags": null
          },
          "name": "stdout",
          "output_type": "stream",
          "text": [
            "44.0\n",
            "svmem(total=13617745920, available=12829159424, percent=5.8, used=528007168, free=11176890368, active=924078080, inactive=1322885120, buffers=108404736, cached=1804443648, shared=1224704, slab=129069056)\n",
            "5.8\n",
            "94.20533620882831\n"
          ]
        }
      ],
      "source": [
        "import psutil\n",
        "# gives a single float value\n",
        "print(psutil.cpu_percent())\n",
        "# gives an object with many fields\n",
        "print(psutil.virtual_memory())\n",
        "# you can convert that object to a dictionary print(dict(psutil.virtual_memory()._asdict()))\n",
        "# you can have the percentage of used RAM\n",
        "print(psutil.virtual_memory().percent)\n",
        "# you can calculate percentage of available memory\n",
        "print(psutil.virtual_memory().available * 100 / psutil.virtual_memory().total)"
      ]
    },
    {
      "cell_type": "code",
      "execution_count": 1,
      "metadata": {
        "id": "XS6UHXPVAQqs"
      },
      "outputs": [],
      "source": [
        "import pandas as pd\n",
        "import numpy as np\n",
        "import random\n",
        "from matplotlib import pyplot as plt\n",
        "import gc\n",
        "\n",
        "import tensorflow as tf\n",
        "from tensorflow.keras import layers\n",
        "import tensorflow.keras.backend as K\n",
        "from sklearn.model_selection import train_test_split"
      ]
    },
    {
      "cell_type": "code",
      "source": [
        "tf.__version__"
      ],
      "metadata": {
        "colab": {
          "base_uri": "https://localhost:8080/",
          "height": 35
        },
        "id": "Gv8gXemwD3UQ",
        "outputId": "96bbbcb4-5fe0-4bfe-f94c-e293f3a36568"
      },
      "execution_count": 2,
      "outputs": [
        {
          "output_type": "execute_result",
          "data": {
            "text/plain": [
              "'2.8.0'"
            ],
            "application/vnd.google.colaboratory.intrinsic+json": {
              "type": "string"
            }
          },
          "metadata": {},
          "execution_count": 2
        }
      ]
    },
    {
      "cell_type": "code",
      "execution_count": 3,
      "metadata": {
        "id": "Crhty6fiAQqu"
      },
      "outputs": [],
      "source": [
        "itemCol = 'movieId'\n",
        "userCol = 'userId'"
      ]
    },
    {
      "cell_type": "code",
      "source": [
        "# DGX setup\n",
        "# fpath = \"./ml-20m\" \n",
        "\n",
        "#colab setup\n",
        "from google.colab import drive\n",
        "drive.mount('/content/gdrive')\n",
        "fpath = \"/content/gdrive/MyDrive/RECOMMENDER_STUDIES/data/ml-20m\""
      ],
      "metadata": {
        "id": "xOJJy441A0w0",
        "colab": {
          "base_uri": "https://localhost:8080/"
        },
        "outputId": "a504afa1-5713-49b2-c130-32dffaa7bdc2"
      },
      "execution_count": 4,
      "outputs": [
        {
          "output_type": "stream",
          "name": "stdout",
          "text": [
            "Mounted at /content/gdrive\n"
          ]
        }
      ]
    },
    {
      "cell_type": "code",
      "source": [
        "# Loading data\n",
        "ratings = pd.read_csv(fpath+'/ratings.csv')\n",
        "\n",
        "ratings"
      ],
      "metadata": {
        "colab": {
          "base_uri": "https://localhost:8080/",
          "height": 419
        },
        "id": "jQck8YHxCPJ1",
        "outputId": "0e04bcba-5455-451b-de5c-62950ad247f5"
      },
      "execution_count": 5,
      "outputs": [
        {
          "output_type": "execute_result",
          "data": {
            "text/plain": [
              "          userId  movieId  rating   timestamp\n",
              "0              1        2     3.5  1112486027\n",
              "1              1       29     3.5  1112484676\n",
              "2              1       32     3.5  1112484819\n",
              "3              1       47     3.5  1112484727\n",
              "4              1       50     3.5  1112484580\n",
              "...          ...      ...     ...         ...\n",
              "20000258  138493    68954     4.5  1258126920\n",
              "20000259  138493    69526     4.5  1259865108\n",
              "20000260  138493    69644     3.0  1260209457\n",
              "20000261  138493    70286     5.0  1258126944\n",
              "20000262  138493    71619     2.5  1255811136\n",
              "\n",
              "[20000263 rows x 4 columns]"
            ],
            "text/html": [
              "\n",
              "  <div id=\"df-ae6c8cc7-d955-471a-abe3-3d7cd866905f\">\n",
              "    <div class=\"colab-df-container\">\n",
              "      <div>\n",
              "<style scoped>\n",
              "    .dataframe tbody tr th:only-of-type {\n",
              "        vertical-align: middle;\n",
              "    }\n",
              "\n",
              "    .dataframe tbody tr th {\n",
              "        vertical-align: top;\n",
              "    }\n",
              "\n",
              "    .dataframe thead th {\n",
              "        text-align: right;\n",
              "    }\n",
              "</style>\n",
              "<table border=\"1\" class=\"dataframe\">\n",
              "  <thead>\n",
              "    <tr style=\"text-align: right;\">\n",
              "      <th></th>\n",
              "      <th>userId</th>\n",
              "      <th>movieId</th>\n",
              "      <th>rating</th>\n",
              "      <th>timestamp</th>\n",
              "    </tr>\n",
              "  </thead>\n",
              "  <tbody>\n",
              "    <tr>\n",
              "      <th>0</th>\n",
              "      <td>1</td>\n",
              "      <td>2</td>\n",
              "      <td>3.5</td>\n",
              "      <td>1112486027</td>\n",
              "    </tr>\n",
              "    <tr>\n",
              "      <th>1</th>\n",
              "      <td>1</td>\n",
              "      <td>29</td>\n",
              "      <td>3.5</td>\n",
              "      <td>1112484676</td>\n",
              "    </tr>\n",
              "    <tr>\n",
              "      <th>2</th>\n",
              "      <td>1</td>\n",
              "      <td>32</td>\n",
              "      <td>3.5</td>\n",
              "      <td>1112484819</td>\n",
              "    </tr>\n",
              "    <tr>\n",
              "      <th>3</th>\n",
              "      <td>1</td>\n",
              "      <td>47</td>\n",
              "      <td>3.5</td>\n",
              "      <td>1112484727</td>\n",
              "    </tr>\n",
              "    <tr>\n",
              "      <th>4</th>\n",
              "      <td>1</td>\n",
              "      <td>50</td>\n",
              "      <td>3.5</td>\n",
              "      <td>1112484580</td>\n",
              "    </tr>\n",
              "    <tr>\n",
              "      <th>...</th>\n",
              "      <td>...</td>\n",
              "      <td>...</td>\n",
              "      <td>...</td>\n",
              "      <td>...</td>\n",
              "    </tr>\n",
              "    <tr>\n",
              "      <th>20000258</th>\n",
              "      <td>138493</td>\n",
              "      <td>68954</td>\n",
              "      <td>4.5</td>\n",
              "      <td>1258126920</td>\n",
              "    </tr>\n",
              "    <tr>\n",
              "      <th>20000259</th>\n",
              "      <td>138493</td>\n",
              "      <td>69526</td>\n",
              "      <td>4.5</td>\n",
              "      <td>1259865108</td>\n",
              "    </tr>\n",
              "    <tr>\n",
              "      <th>20000260</th>\n",
              "      <td>138493</td>\n",
              "      <td>69644</td>\n",
              "      <td>3.0</td>\n",
              "      <td>1260209457</td>\n",
              "    </tr>\n",
              "    <tr>\n",
              "      <th>20000261</th>\n",
              "      <td>138493</td>\n",
              "      <td>70286</td>\n",
              "      <td>5.0</td>\n",
              "      <td>1258126944</td>\n",
              "    </tr>\n",
              "    <tr>\n",
              "      <th>20000262</th>\n",
              "      <td>138493</td>\n",
              "      <td>71619</td>\n",
              "      <td>2.5</td>\n",
              "      <td>1255811136</td>\n",
              "    </tr>\n",
              "  </tbody>\n",
              "</table>\n",
              "<p>20000263 rows × 4 columns</p>\n",
              "</div>\n",
              "      <button class=\"colab-df-convert\" onclick=\"convertToInteractive('df-ae6c8cc7-d955-471a-abe3-3d7cd866905f')\"\n",
              "              title=\"Convert this dataframe to an interactive table.\"\n",
              "              style=\"display:none;\">\n",
              "        \n",
              "  <svg xmlns=\"http://www.w3.org/2000/svg\" height=\"24px\"viewBox=\"0 0 24 24\"\n",
              "       width=\"24px\">\n",
              "    <path d=\"M0 0h24v24H0V0z\" fill=\"none\"/>\n",
              "    <path d=\"M18.56 5.44l.94 2.06.94-2.06 2.06-.94-2.06-.94-.94-2.06-.94 2.06-2.06.94zm-11 1L8.5 8.5l.94-2.06 2.06-.94-2.06-.94L8.5 2.5l-.94 2.06-2.06.94zm10 10l.94 2.06.94-2.06 2.06-.94-2.06-.94-.94-2.06-.94 2.06-2.06.94z\"/><path d=\"M17.41 7.96l-1.37-1.37c-.4-.4-.92-.59-1.43-.59-.52 0-1.04.2-1.43.59L10.3 9.45l-7.72 7.72c-.78.78-.78 2.05 0 2.83L4 21.41c.39.39.9.59 1.41.59.51 0 1.02-.2 1.41-.59l7.78-7.78 2.81-2.81c.8-.78.8-2.07 0-2.86zM5.41 20L4 18.59l7.72-7.72 1.47 1.35L5.41 20z\"/>\n",
              "  </svg>\n",
              "      </button>\n",
              "      \n",
              "  <style>\n",
              "    .colab-df-container {\n",
              "      display:flex;\n",
              "      flex-wrap:wrap;\n",
              "      gap: 12px;\n",
              "    }\n",
              "\n",
              "    .colab-df-convert {\n",
              "      background-color: #E8F0FE;\n",
              "      border: none;\n",
              "      border-radius: 50%;\n",
              "      cursor: pointer;\n",
              "      display: none;\n",
              "      fill: #1967D2;\n",
              "      height: 32px;\n",
              "      padding: 0 0 0 0;\n",
              "      width: 32px;\n",
              "    }\n",
              "\n",
              "    .colab-df-convert:hover {\n",
              "      background-color: #E2EBFA;\n",
              "      box-shadow: 0px 1px 2px rgba(60, 64, 67, 0.3), 0px 1px 3px 1px rgba(60, 64, 67, 0.15);\n",
              "      fill: #174EA6;\n",
              "    }\n",
              "\n",
              "    [theme=dark] .colab-df-convert {\n",
              "      background-color: #3B4455;\n",
              "      fill: #D2E3FC;\n",
              "    }\n",
              "\n",
              "    [theme=dark] .colab-df-convert:hover {\n",
              "      background-color: #434B5C;\n",
              "      box-shadow: 0px 1px 3px 1px rgba(0, 0, 0, 0.15);\n",
              "      filter: drop-shadow(0px 1px 2px rgba(0, 0, 0, 0.3));\n",
              "      fill: #FFFFFF;\n",
              "    }\n",
              "  </style>\n",
              "\n",
              "      <script>\n",
              "        const buttonEl =\n",
              "          document.querySelector('#df-ae6c8cc7-d955-471a-abe3-3d7cd866905f button.colab-df-convert');\n",
              "        buttonEl.style.display =\n",
              "          google.colab.kernel.accessAllowed ? 'block' : 'none';\n",
              "\n",
              "        async function convertToInteractive(key) {\n",
              "          const element = document.querySelector('#df-ae6c8cc7-d955-471a-abe3-3d7cd866905f');\n",
              "          const dataTable =\n",
              "            await google.colab.kernel.invokeFunction('convertToInteractive',\n",
              "                                                     [key], {});\n",
              "          if (!dataTable) return;\n",
              "\n",
              "          const docLinkHtml = 'Like what you see? Visit the ' +\n",
              "            '<a target=\"_blank\" href=https://colab.research.google.com/notebooks/data_table.ipynb>data table notebook</a>'\n",
              "            + ' to learn more about interactive tables.';\n",
              "          element.innerHTML = '';\n",
              "          dataTable['output_type'] = 'display_data';\n",
              "          await google.colab.output.renderOutput(dataTable, element);\n",
              "          const docLink = document.createElement('div');\n",
              "          docLink.innerHTML = docLinkHtml;\n",
              "          element.appendChild(docLink);\n",
              "        }\n",
              "      </script>\n",
              "    </div>\n",
              "  </div>\n",
              "  "
            ]
          },
          "metadata": {},
          "execution_count": 5
        }
      ]
    },
    {
      "cell_type": "code",
      "source": [
        "# Normalize rating về dạng -1 -> 1 (-1 = ghét, 1 = thích)\n",
        "ratings[\"y\"] = ratings[\"rating\"]/2.5-1\n",
        "\n",
        "# Kiểm tra rating trong khoảng -1 -> 1\n",
        "ratings.groupby(\"y\")[\"y\"].count().plot(kind='bar')"
      ],
      "metadata": {
        "colab": {
          "base_uri": "https://localhost:8080/",
          "height": 419
        },
        "id": "BrwYHetxCiIw",
        "outputId": "8595c9fb-8153-41a0-f019-0879f95da2ea"
      },
      "execution_count": 6,
      "outputs": [
        {
          "output_type": "execute_result",
          "data": {
            "text/plain": [
              "<matplotlib.axes._subplots.AxesSubplot at 0x7fbfdbdd37d0>"
            ]
          },
          "metadata": {},
          "execution_count": 6
        },
        {
          "output_type": "display_data",
          "data": {
            "text/plain": [
              "<Figure size 432x288 with 1 Axes>"
            ],
            "image/png": "[encoded data removed]"
          },
          "metadata": {
            "needs_background": "light"
          }
        }
      ]
    },
    {
      "cell_type": "markdown",
      "source": [
        "# Model v2.3\n",
        "Sử dụng constrastive loss thay cho onehot"
      ],
      "metadata": {
        "id": "HfA78F8HRVJR"
      }
    },
    {
      "cell_type": "code",
      "source": [
        "# Chia dữ liệu thành các tập cho model clustering, nhãn recommendation và test\n",
        "#     warm_up_mask: ratings đã quan sát\n",
        "#     target: rating dùng để đánh giá kết quả recommend của module recommend cho từng người dùng\n",
        "#     test: đánh giá độc lập\n",
        "# TODO: chia tập dữ liệu theo user-wise => đánh giá với những user hoàn toàn mới thì model có học được không?\n",
        "# v2.1. gộp warm_up và mask thành 1\n",
        "def dataset_split(ratings):\n",
        "    train, test = train_test_split(ratings, test_size= 0.25)\n",
        "    warm_up_mask, target = train_test_split(train, test_size= 0.25)\n",
        "    return warm_up_mask, target, test\n",
        "\n",
        "warm_up_mask, target, test = dataset_split(ratings)"
      ],
      "metadata": {
        "id": "90sKne1ZRc5F"
      },
      "execution_count": 7,
      "outputs": []
    },
    {
      "cell_type": "code",
      "source": [
        "# Kiểm tra số lượng ratings\n",
        "warm_up_mask.shape[0], target.shape[0], test.shape[0]"
      ],
      "metadata": {
        "colab": {
          "base_uri": "https://localhost:8080/"
        },
        "id": "fiRtTNy1ScIa",
        "outputId": "3f7df6ff-2817-484f-85c9-c8e6853954b5"
      },
      "execution_count": 8,
      "outputs": [
        {
          "output_type": "execute_result",
          "data": {
            "text/plain": [
              "(11250147, 3750050, 5000066)"
            ]
          },
          "metadata": {},
          "execution_count": 8
        }
      ]
    },
    {
      "cell_type": "code",
      "source": [
        "# v2.2: chỉ groupby, không padding\n",
        "def get_interaction_set(interaction, max_item = None, top_k_item = None):\n",
        "    \"\"\"\n",
        "    Input:\n",
        "        interaction: df[userCol, itemCol, y]: dữ liệu đầu vào\n",
        "        max_item: int: item num limit\n",
        "    Output:\n",
        "        df, itemCol: list, y: list, itemCol_str: string, userCol as index\n",
        "        list item sắp xếp theo giảm dần độ lớn rating\n",
        "    \"\"\"\n",
        "    items = ratings.groupby(itemCol).count().sort_values(by=userCol, ascending=False)\n",
        "    if top_k_item is not None:\n",
        "        top_items = items.head(top_k_item).index\n",
        "        interaction = interaction[interaction[itemCol].isin(top_items)]\n",
        "    else:\n",
        "        top_items = items.index\n",
        "\n",
        "    # Sắp xếp item theo thứ tự giảm dần rating (về sau cắt padding sẽ ưu tiên giữ lại item có rating cao)\n",
        "    rindex = interaction.groupby(userCol)[\"y\"].transform(lambda grp: grp.sort_values(ascending=False).index)\n",
        "    interaction = interaction.reindex(rindex)\n",
        "    \n",
        "    # Chuyển thành warm-up set theo từng user\n",
        "    interaction = interaction.groupby(\"userId\").agg({itemCol:list, \"y\":list})\n",
        "\n",
        "    # Giới hạn độ dài warm_up size\n",
        "    if max_item is not None:\n",
        "        interaction[itemCol] = interaction[itemCol].apply(lambda x: x[0:max_item])\n",
        "        interaction[\"y\"] = interaction[\"y\"].apply(lambda x: x[0:max_item])\n",
        "\n",
        "    return interaction, top_items\n",
        "\n",
        "top_k_item = 5000\n",
        "wu_size = 200\n",
        "mask_size = 50\n",
        "max_item = wu_size + mask_size\n",
        "\n",
        "interac_df, top_items = get_interaction_set(warm_up_mask[warm_up_mask[userCol]<100]\n",
        "                    , max_item = max_item\n",
        "                    , top_k_item = top_k_item )\n",
        "interac_df"
      ],
      "metadata": {
        "colab": {
          "base_uri": "https://localhost:8080/",
          "height": 450
        },
        "id": "C3ukIA2SS00l",
        "outputId": "2c4798d8-b6d3-4958-acb3-a4373a1b37f7"
      },
      "execution_count": 9,
      "outputs": [
        {
          "output_type": "execute_result",
          "data": {
            "text/plain": [
              "                                                  movieId  \\\n",
              "userId                                                      \n",
              "1       [4993, 8507, 5952, 1196, 8636, 3996, 4911, 214...   \n",
              "2       [70, 2948, 480, 3928, 1974, 1249, 1327, 924, 3...   \n",
              "3       [1276, 1258, 3033, 1206, 2985, 2448, 2788, 183...   \n",
              "4       [733, 589, 520, 480, 370, 586, 356, 10, 431, 3...   \n",
              "5       [141, 594, 595, 1393, 11, 588, 150, 457, 720, ...   \n",
              "...                                                   ...   \n",
              "95      [46, 32, 475, 232, 446, 265, 497, 594, 262, 10...   \n",
              "96      [5445, 541, 76093, 66934, 48394, 44195, 8961, ...   \n",
              "97      [3897, 2997, 356, 3114, 2321, 3072, 1747, 500,...   \n",
              "98      [81834, 79132, 81845, 1748, 8368, 69844, 5952,...   \n",
              "99      [4226, 2959, 593, 5004, 5110, 27773, 51255, 47...   \n",
              "\n",
              "                                                        y  \n",
              "userId                                                     \n",
              "1       [1.0, 1.0, 1.0, 0.8, 0.8, 0.6000000000000001, ...  \n",
              "2       [1.0, 1.0, 1.0, 1.0, 1.0, 1.0, 1.0, 1.0, 1.0, ...  \n",
              "3       [1.0, 1.0, 1.0, 1.0, 1.0, 1.0, 1.0, 1.0, 1.0, ...  \n",
              "4       [1.0, 0.6000000000000001, 0.6000000000000001, ...  \n",
              "5       [1.0, 1.0, 1.0, 1.0, 1.0, 1.0, 1.0, 1.0, 1.0, ...  \n",
              "...                                                   ...  \n",
              "95      [0.6000000000000001, 0.6000000000000001, 0.600...  \n",
              "96      [1.0, 1.0, 1.0, 1.0, 1.0, 1.0, 1.0, 0.8, 0.8, ...  \n",
              "97      [1.0, 1.0, 1.0, 1.0, 0.6000000000000001, 0.600...  \n",
              "98      [1.0, 1.0, 1.0, 1.0, 1.0, 1.0, 1.0, 1.0, 1.0, ...  \n",
              "99      [1.0, 1.0, 1.0, 1.0, 1.0, 0.8, 0.8, 0.8, 0.8, ...  \n",
              "\n",
              "[99 rows x 2 columns]"
            ],
            "text/html": [
              "\n",
              "  <div id=\"df-e565dbb9-eeff-4acd-bd1a-59f9242bb0c3\">\n",
              "    <div class=\"colab-df-container\">\n",
              "      <div>\n",
              "<style scoped>\n",
              "    .dataframe tbody tr th:only-of-type {\n",
              "        vertical-align: middle;\n",
              "    }\n",
              "\n",
              "    .dataframe tbody tr th {\n",
              "        vertical-align: top;\n",
              "    }\n",
              "\n",
              "    .dataframe thead th {\n",
              "        text-align: right;\n",
              "    }\n",
              "</style>\n",
              "<table border=\"1\" class=\"dataframe\">\n",
              "  <thead>\n",
              "    <tr style=\"text-align: right;\">\n",
              "      <th></th>\n",
              "      <th>movieId</th>\n",
              "      <th>y</th>\n",
              "    </tr>\n",
              "    <tr>\n",
              "      <th>userId</th>\n",
              "      <th></th>\n",
              "      <th></th>\n",
              "    </tr>\n",
              "  </thead>\n",
              "  <tbody>\n",
              "    <tr>\n",
              "      <th>1</th>\n",
              "      <td>[4993, 8507, 5952, 1196, 8636, 3996, 4911, 214...</td>\n",
              "      <td>[1.0, 1.0, 1.0, 0.8, 0.8, 0.6000000000000001, ...</td>\n",
              "    </tr>\n",
              "    <tr>\n",
              "      <th>2</th>\n",
              "      <td>[70, 2948, 480, 3928, 1974, 1249, 1327, 924, 3...</td>\n",
              "      <td>[1.0, 1.0, 1.0, 1.0, 1.0, 1.0, 1.0, 1.0, 1.0, ...</td>\n",
              "    </tr>\n",
              "    <tr>\n",
              "      <th>3</th>\n",
              "      <td>[1276, 1258, 3033, 1206, 2985, 2448, 2788, 183...</td>\n",
              "      <td>[1.0, 1.0, 1.0, 1.0, 1.0, 1.0, 1.0, 1.0, 1.0, ...</td>\n",
              "    </tr>\n",
              "    <tr>\n",
              "      <th>4</th>\n",
              "      <td>[733, 589, 520, 480, 370, 586, 356, 10, 431, 3...</td>\n",
              "      <td>[1.0, 0.6000000000000001, 0.6000000000000001, ...</td>\n",
              "    </tr>\n",
              "    <tr>\n",
              "      <th>5</th>\n",
              "      <td>[141, 594, 595, 1393, 11, 588, 150, 457, 720, ...</td>\n",
              "      <td>[1.0, 1.0, 1.0, 1.0, 1.0, 1.0, 1.0, 1.0, 1.0, ...</td>\n",
              "    </tr>\n",
              "    <tr>\n",
              "      <th>...</th>\n",
              "      <td>...</td>\n",
              "      <td>...</td>\n",
              "    </tr>\n",
              "    <tr>\n",
              "      <th>95</th>\n",
              "      <td>[46, 32, 475, 232, 446, 265, 497, 594, 262, 10...</td>\n",
              "      <td>[0.6000000000000001, 0.6000000000000001, 0.600...</td>\n",
              "    </tr>\n",
              "    <tr>\n",
              "      <th>96</th>\n",
              "      <td>[5445, 541, 76093, 66934, 48394, 44195, 8961, ...</td>\n",
              "      <td>[1.0, 1.0, 1.0, 1.0, 1.0, 1.0, 1.0, 0.8, 0.8, ...</td>\n",
              "    </tr>\n",
              "    <tr>\n",
              "      <th>97</th>\n",
              "      <td>[3897, 2997, 356, 3114, 2321, 3072, 1747, 500,...</td>\n",
              "      <td>[1.0, 1.0, 1.0, 1.0, 0.6000000000000001, 0.600...</td>\n",
              "    </tr>\n",
              "    <tr>\n",
              "      <th>98</th>\n",
              "      <td>[81834, 79132, 81845, 1748, 8368, 69844, 5952,...</td>\n",
              "      <td>[1.0, 1.0, 1.0, 1.0, 1.0, 1.0, 1.0, 1.0, 1.0, ...</td>\n",
              "    </tr>\n",
              "    <tr>\n",
              "      <th>99</th>\n",
              "      <td>[4226, 2959, 593, 5004, 5110, 27773, 51255, 47...</td>\n",
              "      <td>[1.0, 1.0, 1.0, 1.0, 1.0, 0.8, 0.8, 0.8, 0.8, ...</td>\n",
              "    </tr>\n",
              "  </tbody>\n",
              "</table>\n",
              "<p>99 rows × 2 columns</p>\n",
              "</div>\n",
              "      <button class=\"colab-df-convert\" onclick=\"convertToInteractive('df-e565dbb9-eeff-4acd-bd1a-59f9242bb0c3')\"\n",
              "              title=\"Convert this dataframe to an interactive table.\"\n",
              "              style=\"display:none;\">\n",
              "        \n",
              "  <svg xmlns=\"http://www.w3.org/2000/svg\" height=\"24px\"viewBox=\"0 0 24 24\"\n",
              "       width=\"24px\">\n",
              "    <path d=\"M0 0h24v24H0V0z\" fill=\"none\"/>\n",
              "    <path d=\"M18.56 5.44l.94 2.06.94-2.06 2.06-.94-2.06-.94-.94-2.06-.94 2.06-2.06.94zm-11 1L8.5 8.5l.94-2.06 2.06-.94-2.06-.94L8.5 2.5l-.94 2.06-2.06.94zm10 10l.94 2.06.94-2.06 2.06-.94-2.06-.94-.94-2.06-.94 2.06-2.06.94z\"/><path d=\"M17.41 7.96l-1.37-1.37c-.4-.4-.92-.59-1.43-.59-.52 0-1.04.2-1.43.59L10.3 9.45l-7.72 7.72c-.78.78-.78 2.05 0 2.83L4 21.41c.39.39.9.59 1.41.59.51 0 1.02-.2 1.41-.59l7.78-7.78 2.81-2.81c.8-.78.8-2.07 0-2.86zM5.41 20L4 18.59l7.72-7.72 1.47 1.35L5.41 20z\"/>\n",
              "  </svg>\n",
              "      </button>\n",
              "      \n",
              "  <style>\n",
              "    .colab-df-container {\n",
              "      display:flex;\n",
              "      flex-wrap:wrap;\n",
              "      gap: 12px;\n",
              "    }\n",
              "\n",
              "    .colab-df-convert {\n",
              "      background-color: #E8F0FE;\n",
              "      border: none;\n",
              "      border-radius: 50%;\n",
              "      cursor: pointer;\n",
              "      display: none;\n",
              "      fill: #1967D2;\n",
              "      height: 32px;\n",
              "      padding: 0 0 0 0;\n",
              "      width: 32px;\n",
              "    }\n",
              "\n",
              "    .colab-df-convert:hover {\n",
              "      background-color: #E2EBFA;\n",
              "      box-shadow: 0px 1px 2px rgba(60, 64, 67, 0.3), 0px 1px 3px 1px rgba(60, 64, 67, 0.15);\n",
              "      fill: #174EA6;\n",
              "    }\n",
              "\n",
              "    [theme=dark] .colab-df-convert {\n",
              "      background-color: #3B4455;\n",
              "      fill: #D2E3FC;\n",
              "    }\n",
              "\n",
              "    [theme=dark] .colab-df-convert:hover {\n",
              "      background-color: #434B5C;\n",
              "      box-shadow: 0px 1px 3px 1px rgba(0, 0, 0, 0.15);\n",
              "      filter: drop-shadow(0px 1px 2px rgba(0, 0, 0, 0.3));\n",
              "      fill: #FFFFFF;\n",
              "    }\n",
              "  </style>\n",
              "\n",
              "      <script>\n",
              "        const buttonEl =\n",
              "          document.querySelector('#df-e565dbb9-eeff-4acd-bd1a-59f9242bb0c3 button.colab-df-convert');\n",
              "        buttonEl.style.display =\n",
              "          google.colab.kernel.accessAllowed ? 'block' : 'none';\n",
              "\n",
              "        async function convertToInteractive(key) {\n",
              "          const element = document.querySelector('#df-e565dbb9-eeff-4acd-bd1a-59f9242bb0c3');\n",
              "          const dataTable =\n",
              "            await google.colab.kernel.invokeFunction('convertToInteractive',\n",
              "                                                     [key], {});\n",
              "          if (!dataTable) return;\n",
              "\n",
              "          const docLinkHtml = 'Like what you see? Visit the ' +\n",
              "            '<a target=\"_blank\" href=https://colab.research.google.com/notebooks/data_table.ipynb>data table notebook</a>'\n",
              "            + ' to learn more about interactive tables.';\n",
              "          element.innerHTML = '';\n",
              "          dataTable['output_type'] = 'display_data';\n",
              "          await google.colab.output.renderOutput(dataTable, element);\n",
              "          const docLink = document.createElement('div');\n",
              "          docLink.innerHTML = docLinkHtml;\n",
              "          element.appendChild(docLink);\n",
              "        }\n",
              "      </script>\n",
              "    </div>\n",
              "  </div>\n",
              "  "
            ]
          },
          "metadata": {},
          "execution_count": 9
        }
      ]
    },
    {
      "cell_type": "markdown",
      "source": [
        "### Class  model"
      ],
      "metadata": {
        "id": "HIfY6FeqKqQ4"
      }
    },
    {
      "cell_type": "code",
      "source": [
        "# Khởi tạo cấu hình: xác định encoder, decoder, mapping dims\n",
        "class Efficient_Rec(tf.keras.Model):\n",
        "  def __init__(self, encoder, decoder, reps, use_tf_function=False):\n",
        "    super().__init__()\n",
        "    self.use_tf_function = use_tf_function\n",
        "\n",
        "    self.encoder = encoder\n",
        "    self.decoder = decoder\n",
        "    self.reps = reps\n",
        "\n",
        "  def train_step(self, inputs):\n",
        "    if self.use_tf_function:\n",
        "      return self._tf_train_step(inputs)\n",
        "    else:\n",
        "      return self._train_step(inputs)"
      ],
      "metadata": {
        "id": "XtrIkMaRbo6v"
      },
      "execution_count": 10,
      "outputs": []
    },
    {
      "cell_type": "code",
      "source": [
        "def _wu_mask_split(self, batch_inputs, mask_ratio = 0.25):\n",
        "    \"Chia ratings và items thành mask, warm up\"\n",
        "    input_items, input_ratings = batch_inputs[itemCol], batch_inputs[\"y\"]\n",
        "\n",
        "    def list_split(input, mask_ratio = 0.25, seed= 42):\n",
        "        return train_test_split(input[0:(wu_size+mask_size)], test_size= mask_ratio, random_state=seed)\n",
        "\n",
        "    seed = random.randint(1, 100)\n",
        "    items = input_items.apply(lambda x: list_split(x, mask_ratio, seed))\n",
        "    ratings = input_ratings.apply(lambda x: list_split(x, mask_ratio, seed))\n",
        "\n",
        "    wu_item_list = items.apply(lambda x: x[0])\n",
        "    mask_item_list = items.apply(lambda x: x[1])\n",
        "\n",
        "    wu_rating_list = ratings.apply(lambda x: x[0])\n",
        "    mask_rating_list = ratings.apply(lambda x: x[1])\n",
        "    return (wu_item_list, wu_rating_list), (mask_item_list, mask_rating_list)\n",
        "\n",
        "Efficient_Rec._wu_mask_split = _wu_mask_split"
      ],
      "metadata": {
        "id": "mZtGCHBnjcCg"
      },
      "execution_count": 11,
      "outputs": []
    },
    {
      "cell_type": "code",
      "source": [
        "def _preprocess(self, inputs, padding_size = 100):\n",
        "    \"\"\"\n",
        "    Padding về wu_size và mask_size, convert list of items => string of items\n",
        "    batch_inputs: df: itemStr, y\"\"\"\n",
        "\n",
        "    def padding_list(list_item, wu_size, value=0, is_padding=True):\n",
        "        series_item1 = list_item[0:wu_size]\n",
        "        if is_padding:\n",
        "            series_item1 = series_item1+[value]*(wu_size-len(series_item1))\n",
        "        return series_item1\n",
        "\n",
        "    items_list, ratings_list = inputs\n",
        "\n",
        "    items   = items_list.apply(lambda x: ' '.join(list([str(i) for i in x])))\n",
        "    ratings =   np.stack( ratings_list.apply(lambda x: padding_list( x, padding_size  ) ) )\n",
        "\n",
        "    return items, ratings\n",
        "\n",
        "Efficient_Rec._preprocess = _preprocess"
      ],
      "metadata": {
        "id": "OvIJP8m7bvaF"
      },
      "execution_count": 12,
      "outputs": []
    },
    {
      "cell_type": "code",
      "source": [
        "# Thực hiện training\n",
        "def _train_step(self, inputs):\n",
        "    warm_up, mask = self._wu_mask_split(inputs, mask_ratio = 0.25)\n",
        "    wu_items, wu_ratings = self._preprocess(warm_up, wu_size)\n",
        "    mask_item, mask_ratings = self._preprocess(mask, mask_size)\n",
        "\n",
        "    with tf.GradientTape() as tape:\n",
        "        # Encode the input\n",
        "        wu_vec = self.encoder([wu_items, wu_ratings])\n",
        "        y_pred = self.reps(wu_vec)\n",
        "\n",
        "        # Encde the output\n",
        "        mask_vec = self.decoder([mask_item, mask_ratings])\n",
        "\n",
        "        average_loss = self.loss(mask_vec, y_pred)\n",
        "\n",
        "    # Apply an optimization step\n",
        "    variables = self.trainable_variables \n",
        "    gradients = tape.gradient(average_loss, variables)\n",
        "    self.optimizer.apply_gradients(zip(gradients, variables))\n",
        "\n",
        "    # Return a dict mapping metric names to current value\n",
        "    return {'batch_loss': average_loss}\n",
        "\n",
        "Efficient_Rec._train_step = _train_step"
      ],
      "metadata": {
        "id": "gzoNOhtuhHlu"
      },
      "execution_count": 13,
      "outputs": []
    },
    {
      "cell_type": "code",
      "source": [
        "# Thực hiện minibatch training\n",
        "def _batch_train_step(self, inputs, batch_size):\n",
        "    df = inputs.copy()\n",
        "    chunks = [df[i:i+batch_size] for i in range(0,df.shape[0],batch_size)]\n",
        "    for chunk in chunks:\n",
        "        self._train_step(chunk)\n",
        "\n",
        "Efficient_Rec._batch_train_step = _batch_train_step"
      ],
      "metadata": {
        "id": "HxyczAa_cLdY"
      },
      "execution_count": 14,
      "outputs": []
    },
    {
      "cell_type": "code",
      "source": [
        "# Thực hiện training\n",
        "# TODO: sửa lại pd shift thành np.roll\n",
        "def _constrastive_train_step(self, inputs):\n",
        "    warm_up, mask = self._wu_mask_split(inputs.sample(frac=1), mask_ratio = 0.25)\n",
        "    wu_items, wu_ratings = self._preprocess(warm_up, wu_size)\n",
        "    mask_item, mask_ratings = self._preprocess(mask, wu_size)\n",
        "\n",
        "    negative_items = wu_items.shift(1, axis=0, fill_value=['0 ']) #np.roll( wu_items, shift= 1, axis=0)\n",
        "    negative_ratings =  np.roll( wu_ratings, shift= 1, axis=0)\n",
        "\n",
        "    with tf.GradientTape() as tape:\n",
        "        # Interaction embedding\n",
        "        wu_vec = self.encoder([wu_items, wu_ratings])\n",
        "        mask_vec = self.encoder([mask_item, mask_ratings])\n",
        "        negative_vec = self.encoder([negative_items, negative_ratings])\n",
        "\n",
        "\n",
        "        average_loss = self.loss(wu_vec, mask_vec, negative_vec)\n",
        "\n",
        "    # Apply an optimization step\n",
        "    variables = self.trainable_variables \n",
        "    gradients = tape.gradient(average_loss, variables)\n",
        "    self.optimizer.apply_gradients(zip(gradients, variables))\n",
        "\n",
        "    # Return a dict mapping metric names to current value\n",
        "    return {'batch_loss': average_loss}\n",
        "\n",
        "Efficient_Rec._constrastive_train_step = _constrastive_train_step"
      ],
      "metadata": {
        "id": "vuBMn3DD0BaM"
      },
      "execution_count": 15,
      "outputs": []
    },
    {
      "cell_type": "markdown",
      "source": [
        "### Xây dựng encoder model\n",
        "Encoder =  interaction embedding + user feature embedding<br> \n",
        "interaction embedding = sum( interaction embedding các item i)<br> \n",
        "interaction embedding item i = rating x (embedding id sản phẩm + embedding item feature)<br>\n",
        "\n"
      ],
      "metadata": {
        "id": "Sbp1tH7yUeI6"
      }
    },
    {
      "cell_type": "code",
      "source": [
        "%%time\n",
        "# Vectorize (encode + padding) item list\n",
        "max_vocab_size = len(top_items) # nếu số item có <= top_k_item => lấy số lượng item max\n",
        "items_str = ' '.join([str(i) for i in top_items])\n",
        "itemStr = itemCol+\"_str\"\n",
        "\n",
        "vectorizer = layers.TextVectorization( max_tokens= top_k_item, split='whitespace', output_sequence_length= wu_size, name = 'vectorizer')\n",
        "vectorizer.adapt( [items_str] ) "
      ],
      "metadata": {
        "colab": {
          "base_uri": "https://localhost:8080/"
        },
        "id": "QxNyuo9-WJJG",
        "outputId": "ce30cb83-4ec7-4228-97ac-a6c8e08cea8f"
      },
      "execution_count": 16,
      "outputs": [
        {
          "output_type": "stream",
          "name": "stdout",
          "text": [
            "CPU times: user 182 ms, sys: 27.9 ms, total: 210 ms\n",
            "Wall time: 510 ms\n"
          ]
        }
      ]
    },
    {
      "cell_type": "code",
      "source": [
        "class Broadcasting_Multiply(tf.keras.layers.Layer):\n",
        "    \"\"\"Nhân 2 layers khác shape với nhau, trong đó:\n",
        "    inputs=[layer1, layer2]\n",
        "    layer1.shape = (None, n_item, n_feature)\n",
        "    layer2.shape = (None, n_item)\n",
        "    (Chú ý đúng thứ tự)\n",
        "    \"\"\"\n",
        "\n",
        "    def call(self, inputs):\n",
        "        x, y = inputs\n",
        "\n",
        "        #we add the extra dimension:\n",
        "        y = K.expand_dims(y, axis=-1)\n",
        "        #we replicate the elements\n",
        "        y = K.repeat_elements(y, rep=x.shape[2], axis=-1)\n",
        "\n",
        "        return x * y"
      ],
      "metadata": {
        "id": "1U7EQG6zWpi9"
      },
      "execution_count": 17,
      "outputs": []
    },
    {
      "cell_type": "code",
      "source": [
        "# Xây dựng mạng\n",
        "embedding_size = 173\n",
        "reps_size = 132\n",
        "cluster_num = 43\n",
        "\n",
        "def interaction_embedding2():\n",
        "\n",
        "    input_wi = layers.Input(shape=(1,), name='input_wi')\n",
        "    wi = vectorizer(input_wi)\n",
        "    wi = layers.Embedding(input_dim= max_vocab_size, output_dim= embedding_size, mask_zero= False, name='ei')(wi)\n",
        "    wi = layers.Dense(embedding_size, activation='relu', name='di')(wi)\n",
        "\n",
        "    wr = layers.Input(shape=(wu_size,), name='warm_up_ratings')\n",
        "\n",
        "    ireps = Broadcasting_Multiply(name='mul')([wi, wr])\n",
        "    uprofile = layers.Lambda(lambda z: K.sum(z[0], axis=1)/tf.expand_dims(tf.cast(tf.math.count_nonzero(z[1], axis=1), tf.float32), -1) )([ireps, wr])\n",
        "    # uprofile = layers.Lambda(lambda z: K.sum(z, axis=1) )(ireps)\n",
        "    # uprofile = layers.LayerNormalization(name='norm')(uprofile)\n",
        "\n",
        "    uprofile = layers.Dense( reps_size, activation='linear', name='du1')(uprofile)\n",
        "    # uprofile = layers.Dense( reps_size, activation='relu', name='du2')(uprofile)\n",
        "    # uprofile = layers.Dense( reps_size, activation='relu', name='du3')(uprofile)\n",
        "    uprofile = layers.LayerNormalization(name='norm')(uprofile)\n",
        "    # uprofile = layers.BatchNormalization(name='norm')(uprofile)\n",
        "    uprofile = layers.Dense(cluster_num, activation='sigmoid', name='clustering')(uprofile)\n",
        "    \n",
        "    model = tf.keras.Model(inputs= [input_wi, wr], outputs=[uprofile])\n",
        "    return model"
      ],
      "metadata": {
        "id": "--fbIsGLXjPD"
      },
      "execution_count": 20,
      "outputs": []
    },
    {
      "cell_type": "code",
      "source": [
        "# Kiểm tra tham số\n",
        "# encode_model.summary()"
      ],
      "metadata": {
        "id": "cJMxOoxzXvr_"
      },
      "execution_count": 19,
      "outputs": []
    },
    {
      "cell_type": "code",
      "source": [
        "# tf.keras.utils.plot_model( encode_model ,show_shapes=True, show_dtype=True, show_layer_names=True )"
      ],
      "metadata": {
        "id": "PuAM8w01Xy93"
      },
      "execution_count": null,
      "outputs": []
    },
    {
      "cell_type": "markdown",
      "source": [
        "### Constrastive model"
      ],
      "metadata": {
        "id": "pQokgKdL33ux"
      }
    },
    {
      "cell_type": "code",
      "source": [
        "def constrastive_loss(margin=0.01):\n",
        "    def compute_loss(wu_vec, mask_vec, negative_vec):\n",
        "        ap_distance = tf.linalg.norm(wu_vec - mask_vec, axis=1)\n",
        "        an_distance = tf.linalg.norm(wu_vec - negative_vec, axis=1)\n",
        "        # Computing the Triplet Loss by subtracting both distances and\n",
        "        # making sure we don't get a negative value.\n",
        "        loss = ap_distance - an_distance\n",
        "        # print(loss)\n",
        "        loss = tf.maximum(loss + margin, 0.0)\n",
        "        loss =tf.reduce_mean(loss)\n",
        "        return loss\n",
        "    return compute_loss\n",
        "\n",
        "\n",
        "# Compile model\n",
        "model = Efficient_Rec( encoder = interaction_embedding2(), \n",
        "                      reps = None, #get_reps_model(),\n",
        "                      decoder = None ,# mask_label(),\n",
        "                      use_tf_function=False)\n",
        "\n",
        "# Configure the loss and optimizer\n",
        "model.compile(\n",
        "    optimizer=tf.optimizers.Adam(),\n",
        "    loss=constrastive_loss(margin= 1),\n",
        ")"
      ],
      "metadata": {
        "id": "D5W_j9I7z5Qn"
      },
      "execution_count": 21,
      "outputs": []
    },
    {
      "cell_type": "code",
      "source": [
        "%%time\n",
        "epochs= 20\n",
        "for n in range(epochs):\n",
        "  print(n, \"/\", epochs, \": \", model._constrastive_train_step( interac_df ))\n",
        "#   print(model.layers[0].layers[-2].trainable_variables[0])\n",
        "\n",
        "gc.collect()"
      ],
      "metadata": {
        "colab": {
          "base_uri": "https://localhost:8080/"
        },
        "id": "YEJoow5P1Hnt",
        "outputId": "373bb086-f26a-4a04-e95e-0952bda591c0"
      },
      "execution_count": 22,
      "outputs": [
        {
          "output_type": "stream",
          "name": "stdout",
          "text": [
            "0 / 20 :  {'batch_loss': <tf.Tensor: shape=(), dtype=float32, numpy=1.0208822>}\n",
            "1 / 20 :  {'batch_loss': <tf.Tensor: shape=(), dtype=float32, numpy=0.9905808>}\n",
            "2 / 20 :  {'batch_loss': <tf.Tensor: shape=(), dtype=float32, numpy=0.91951746>}\n",
            "3 / 20 :  {'batch_loss': <tf.Tensor: shape=(), dtype=float32, numpy=0.8683354>}\n",
            "4 / 20 :  {'batch_loss': <tf.Tensor: shape=(), dtype=float32, numpy=0.7529137>}\n",
            "5 / 20 :  {'batch_loss': <tf.Tensor: shape=(), dtype=float32, numpy=0.7480719>}\n",
            "6 / 20 :  {'batch_loss': <tf.Tensor: shape=(), dtype=float32, numpy=0.6456269>}\n",
            "7 / 20 :  {'batch_loss': <tf.Tensor: shape=(), dtype=float32, numpy=0.6043525>}\n",
            "8 / 20 :  {'batch_loss': <tf.Tensor: shape=(), dtype=float32, numpy=0.7323804>}\n",
            "9 / 20 :  {'batch_loss': <tf.Tensor: shape=(), dtype=float32, numpy=0.54761076>}\n",
            "10 / 20 :  {'batch_loss': <tf.Tensor: shape=(), dtype=float32, numpy=0.5674488>}\n",
            "11 / 20 :  {'batch_loss': <tf.Tensor: shape=(), dtype=float32, numpy=0.51306975>}\n",
            "12 / 20 :  {'batch_loss': <tf.Tensor: shape=(), dtype=float32, numpy=0.56727767>}\n",
            "13 / 20 :  {'batch_loss': <tf.Tensor: shape=(), dtype=float32, numpy=0.53346914>}\n",
            "14 / 20 :  {'batch_loss': <tf.Tensor: shape=(), dtype=float32, numpy=0.42877504>}\n",
            "15 / 20 :  {'batch_loss': <tf.Tensor: shape=(), dtype=float32, numpy=0.4089589>}\n",
            "16 / 20 :  {'batch_loss': <tf.Tensor: shape=(), dtype=float32, numpy=0.37396973>}\n",
            "17 / 20 :  {'batch_loss': <tf.Tensor: shape=(), dtype=float32, numpy=0.3427104>}\n",
            "18 / 20 :  {'batch_loss': <tf.Tensor: shape=(), dtype=float32, numpy=0.35801208>}\n",
            "19 / 20 :  {'batch_loss': <tf.Tensor: shape=(), dtype=float32, numpy=0.32481366>}\n",
            "CPU times: user 18.1 s, sys: 424 ms, total: 18.5 s\n",
            "Wall time: 20.5 s\n"
          ]
        }
      ]
    },
    {
      "cell_type": "code",
      "source": [
        "model.layers[0].layers"
      ],
      "metadata": {
        "id": "-Zd0z6nPKrbQ",
        "outputId": "6ae88700-9c74-47b5-bd20-e62ddc44aaca",
        "colab": {
          "base_uri": "https://localhost:8080/"
        }
      },
      "execution_count": 23,
      "outputs": [
        {
          "output_type": "execute_result",
          "data": {
            "text/plain": [
              "[<keras.engine.input_layer.InputLayer at 0x7fbfd752dbd0>,\n",
              " <keras.layers.preprocessing.text_vectorization.TextVectorization at 0x7fbfdc165950>,\n",
              " <keras.layers.embeddings.Embedding at 0x7fbfd752d410>,\n",
              " <keras.layers.core.dense.Dense at 0x7fbfd54c1610>,\n",
              " <keras.engine.input_layer.InputLayer at 0x7fbfd54e0d50>,\n",
              " <__main__.Broadcasting_Multiply at 0x7fbfd54c1390>,\n",
              " <keras.layers.core.lambda_layer.Lambda at 0x7fbfdb6920d0>,\n",
              " <keras.layers.core.dense.Dense at 0x7fc05c014bd0>,\n",
              " <keras.layers.normalization.layer_normalization.LayerNormalization at 0x7fbfdbbfaa50>,\n",
              " <keras.layers.core.dense.Dense at 0x7fbfd752db90>]"
            ]
          },
          "metadata": {},
          "execution_count": 23
        }
      ]
    },
    {
      "cell_type": "code",
      "source": [
        "# np.expand_dims(np.roll(interac_df[\"movieId\"].apply(lambda x:' '.join([str(i) for i in x])), 1), -1)"
      ],
      "metadata": {
        "id": "_sq1qj0D4TY2"
      },
      "execution_count": null,
      "outputs": []
    },
    {
      "cell_type": "markdown",
      "source": [
        "// END constrastive model"
      ],
      "metadata": {
        "id": "BISfMUNM37ug"
      }
    },
    {
      "cell_type": "code",
      "source": [
        "# Kiểm tra giá trị đầu ra\n",
        "group_scores = model.encoder(model._preprocess( [interac_df[itemCol], interac_df[\"y\"]], padding_size = wu_size )).numpy()\n",
        "group_scores[0:3]"
      ],
      "metadata": {
        "colab": {
          "base_uri": "https://localhost:8080/"
        },
        "id": "l1b9ld8TfPd5",
        "outputId": "b97064ca-288f-4e55-dff1-8108e2521577"
      },
      "execution_count": 24,
      "outputs": [
        {
          "output_type": "execute_result",
          "data": {
            "text/plain": [
              "array([[0.48316443, 0.4329212 , 0.5511884 , 0.625444  , 0.58057415,\n",
              "        0.58399713, 0.53268814, 0.4098902 , 0.6122984 , 0.6057879 ,\n",
              "        0.4801377 , 0.3618313 , 0.5294955 , 0.54962254, 0.32962745,\n",
              "        0.3655401 , 0.44593734, 0.52491665, 0.5036436 , 0.4457903 ,\n",
              "        0.46140417, 0.4451954 , 0.68142605, 0.49975485, 0.42791528,\n",
              "        0.65212715, 0.41256738, 0.38726476, 0.46632135, 0.48249894,\n",
              "        0.4041263 , 0.49805585, 0.56029   , 0.5115874 , 0.647115  ,\n",
              "        0.45471013, 0.4039143 , 0.5245136 , 0.42335436, 0.4011597 ,\n",
              "        0.50585306, 0.40791374, 0.49347875],\n",
              "       [0.82315135, 0.24922058, 0.81208825, 0.14718136, 0.3981859 ,\n",
              "        0.70627075, 0.7138936 , 0.24877223, 0.7562776 , 0.21253338,\n",
              "        0.833474  , 0.2917471 , 0.40756294, 0.17037046, 0.174752  ,\n",
              "        0.16440687, 0.200715  , 0.10876396, 0.11456078, 0.5147726 ,\n",
              "        0.47781628, 0.31491002, 0.71286833, 0.6896196 , 0.7975757 ,\n",
              "        0.55973196, 0.16860232, 0.3326186 , 0.24201706, 0.13475206,\n",
              "        0.16327924, 0.37558112, 0.23950565, 0.16359323, 0.8490245 ,\n",
              "        0.7991863 , 0.39977968, 0.68569165, 0.8071166 , 0.14976677,\n",
              "        0.18193832, 0.12945336, 0.23280758],\n",
              "       [0.8171265 , 0.38959843, 0.8165324 , 0.2136316 , 0.47440907,\n",
              "        0.7328276 , 0.77163935, 0.29241052, 0.76466537, 0.21375266,\n",
              "        0.8078415 , 0.28656176, 0.37978035, 0.20734575, 0.21414524,\n",
              "        0.17322543, 0.20793483, 0.15831158, 0.15327561, 0.53638124,\n",
              "        0.42216334, 0.3341415 , 0.7604748 , 0.59352964, 0.8413507 ,\n",
              "        0.4385778 , 0.21462849, 0.3705246 , 0.26966333, 0.18251303,\n",
              "        0.22428513, 0.35904118, 0.34186167, 0.24567029, 0.82268333,\n",
              "        0.77839684, 0.27903882, 0.6360039 , 0.77575815, 0.17194492,\n",
              "        0.27711558, 0.22043225, 0.30593234]], dtype=float32)"
            ]
          },
          "metadata": {},
          "execution_count": 24
        }
      ]
    },
    {
      "cell_type": "code",
      "source": [
        "# Kiểm tra số user trong mỗi cụm có bị vón cục\n",
        "ugs= np.argmax(group_scores, axis=1)\n",
        "for i in range(50):\n",
        "    print(i,': ', np.sum(ugs==i) )\n"
      ],
      "metadata": {
        "colab": {
          "base_uri": "https://localhost:8080/"
        },
        "id": "xYjS-3omFbQk",
        "outputId": "cf68f4e3-bf13-4959-b029-8a8d00039c53"
      },
      "execution_count": 25,
      "outputs": [
        {
          "output_type": "stream",
          "name": "stdout",
          "text": [
            "0 :  2\n",
            "1 :  0\n",
            "2 :  5\n",
            "3 :  36\n",
            "4 :  0\n",
            "5 :  0\n",
            "6 :  1\n",
            "7 :  0\n",
            "8 :  1\n",
            "9 :  4\n",
            "10 :  1\n",
            "11 :  0\n",
            "12 :  0\n",
            "13 :  4\n",
            "14 :  0\n",
            "15 :  0\n",
            "16 :  0\n",
            "17 :  1\n",
            "18 :  0\n",
            "19 :  1\n",
            "20 :  0\n",
            "21 :  0\n",
            "22 :  3\n",
            "23 :  2\n",
            "24 :  8\n",
            "25 :  3\n",
            "26 :  0\n",
            "27 :  0\n",
            "28 :  0\n",
            "29 :  1\n",
            "30 :  0\n",
            "31 :  0\n",
            "32 :  0\n",
            "33 :  0\n",
            "34 :  13\n",
            "35 :  5\n",
            "36 :  1\n",
            "37 :  0\n",
            "38 :  1\n",
            "39 :  4\n",
            "40 :  0\n",
            "41 :  0\n",
            "42 :  2\n",
            "43 :  0\n",
            "44 :  0\n",
            "45 :  0\n",
            "46 :  0\n",
            "47 :  0\n",
            "48 :  0\n",
            "49 :  0\n"
          ]
        }
      ]
    },
    {
      "cell_type": "code",
      "source": [
        "# Sort theo user_group + draw sigmoid/softmax layer\n",
        "plt.rcParams[\"figure.figsize\"] = (20,10)\n",
        "k =100\n",
        "a = group_scores\n",
        "print( np.max(a), np.mean(a), np.min(a) )\n",
        "ind = np.argmax(group_scores, axis=1)\n",
        "plt.imshow( a[np.argsort(ind)][0:k] )"
      ],
      "metadata": {
        "colab": {
          "base_uri": "https://localhost:8080/",
          "height": 627
        },
        "id": "YtHEaTQUk2oo",
        "outputId": "87f2cdd5-fc1a-4387-cde6-cfcd685e3f94"
      },
      "execution_count": 30,
      "outputs": [
        {
          "output_type": "stream",
          "name": "stdout",
          "text": [
            "0.98075867 0.49472445 0.019756496\n"
          ]
        },
        {
          "output_type": "execute_result",
          "data": {
            "text/plain": [
              "<matplotlib.image.AxesImage at 0x7fbfd54ec050>"
            ]
          },
          "metadata": {},
          "execution_count": 30
        },
        {
          "output_type": "display_data",
          "data": {
            "text/plain": [
              "<Figure size 1440x720 with 1 Axes>"
            ],
            "image/png": "[encoded data removed]"
          },
          "metadata": {
            "needs_background": "light"
          }
        }
      ]
    },
    {
      "cell_type": "code",
      "source": [
        "# np.argsort(a[1])"
      ],
      "metadata": {
        "id": "d3IoG5-r4CM8"
      },
      "execution_count": null,
      "outputs": []
    },
    {
      "cell_type": "code",
      "source": [
        "# [np.isin(np.argsort(a[1]), np.array([0,1,2]) )]"
      ],
      "metadata": {
        "id": "GbNCgvoT2-Tn"
      },
      "execution_count": null,
      "outputs": []
    },
    {
      "cell_type": "code",
      "source": [
        "# Vẽ theo user_group\n",
        "# user_groups = [ 32 ]\n",
        "# a = group_scores\n",
        "# ind = np.argmax(group_scores, axis=1)\n",
        "# plt.imshow( a[ np.isin( ind, user_groups)] )"
      ],
      "metadata": {
        "id": "q-9RC3kdsSF3"
      },
      "execution_count": null,
      "outputs": []
    },
    {
      "cell_type": "code",
      "source": [
        "# Vẽ y_true của các user chung group\n",
        "# y_true = model.decoder(model._preprocess( [interac_df[itemCol], interac_df[\"y\"]], padding_size = mask_size )).numpy()\n",
        "# y_true_ugrs = y_true[ np.isin( ind, user_groups)]\n",
        "\n",
        "# for i in range(y_true_ugrs.shape[0]):\n",
        "#     y_true_i = y_true_ugrs[i].reshape((50,100))\n",
        "#     print( np.max(y_true_i), np.min(y_true_i), np.mean(y_true_i)  )\n",
        "#     plt.imshow( y_true_i)\n",
        "#     plt.show()\n"
      ],
      "metadata": {
        "id": "qYKVC00ztNBk"
      },
      "execution_count": null,
      "outputs": []
    },
    {
      "cell_type": "code",
      "source": [
        "# plt.imshow(y_true[0].reshape(50, 100) )"
      ],
      "metadata": {
        "id": "jauMa8Z36HcA"
      },
      "execution_count": null,
      "outputs": []
    },
    {
      "cell_type": "code",
      "source": [
        "# y_true[0][y_true[0]!=0]"
      ],
      "metadata": {
        "id": "5qzcwop86TNH"
      },
      "execution_count": null,
      "outputs": []
    },
    {
      "cell_type": "code",
      "source": [
        "# y_true = model.decoder(model._preprocess( [interac_df[itemCol], interac_df[\"y\"]], padding_size = mask_size )).numpy()[0:15]\n",
        "# for i in range(y_true.shape[0]):\n",
        "#     y_true_i = y_true[i].reshape((50,100))\n",
        "#     print( np.max(y_true_i), np.min(y_true_i), np.mean(y_true_i)  )\n",
        "#     plt.imshow( y_true_i)\n",
        "#     plt.show()"
      ],
      "metadata": {
        "id": "2pSAHptJVhVR"
      },
      "execution_count": null,
      "outputs": []
    },
    {
      "cell_type": "code",
      "source": [
        "# for i in range(group_scores.shape[0]):\n",
        "#     plt.imshow( group_scores[i].numpy().reshape((5,10)) )\n",
        "#     plt.show()"
      ],
      "metadata": {
        "id": "XTSdLhkjUeCk"
      },
      "execution_count": null,
      "outputs": []
    },
    {
      "cell_type": "code",
      "source": [
        "# plt.imshow(y_true)"
      ],
      "metadata": {
        "id": "eXN9E1upXW2D"
      },
      "execution_count": null,
      "outputs": []
    },
    {
      "cell_type": "code",
      "source": [
        ""
      ],
      "metadata": {
        "id": "TbltflgfUmXf"
      },
      "execution_count": null,
      "outputs": []
    },
    {
      "cell_type": "code",
      "source": [
        "gc.collect()"
      ],
      "metadata": {
        "colab": {
          "base_uri": "https://localhost:8080/"
        },
        "id": "WSAWNkXjGX7e",
        "outputId": "81645059-f45f-4372-b94e-4789531437e6"
      },
      "execution_count": null,
      "outputs": [
        {
          "output_type": "execute_result",
          "data": {
            "text/plain": [
              "0"
            ]
          },
          "metadata": {},
          "execution_count": 184
        }
      ]
    }
  ],
  "metadata": {
    "kernelspec": {
      "display_name": "Python 3",
      "language": "python",
      "name": "python3"
    },
    "language_info": {
      "codemirror_mode": {
        "name": "ipython",
        "version": 3
      },
      "file_extension": ".py",
      "mimetype": "text/x-python",
      "name": "python",
      "nbconvert_exporter": "python",
      "pygments_lexer": "ipython3",
      "version": "3.6.9"
    },
    "colab": {
      "name": "v2.2_ML20M_sequence.ipynb",
      "provenance": [],
      "collapsed_sections": [
        "17fHxkHoAQq6"
      ],
      "toc_visible": true,
      "include_colab_link": true
    }
  },
  "nbformat": 4,
  "nbformat_minor": 0
}