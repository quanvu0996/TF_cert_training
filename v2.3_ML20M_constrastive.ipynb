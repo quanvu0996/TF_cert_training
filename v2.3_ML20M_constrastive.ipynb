{
  "cells": [
    {
      "cell_type": "markdown",
      "metadata": {
        "id": "view-in-github",
        "colab_type": "text"
      },
      "source": [
        "<a href=\"https://colab.research.google.com/github/quanvu0996/TF_cert_training/blob/main/v2.3_ML20M_constrastive.ipynb\" target=\"_parent\"><img src=\"https://colab.research.google.com/assets/colab-badge.svg\" alt=\"Open In Colab\"/></a>"
      ]
    },
    {
      "cell_type": "code",
      "execution_count": 1,
      "metadata": {
        "colab": {
          "base_uri": "https://localhost:8080/"
        },
        "id": "zZQDJKGUAQqn",
        "outputId": "3e393cc4-2111-44bf-9178-15b481334e09"
      },
      "outputs": [
        {
          "metadata": {
            "tags": null
          },
          "name": "stdout",
          "output_type": "stream",
          "text": [
            "44.0\n",
            "svmem(total=13617745920, available=12829159424, percent=5.8, used=528007168, free=11176890368, active=924078080, inactive=1322885120, buffers=108404736, cached=1804443648, shared=1224704, slab=129069056)\n",
            "5.8\n",
            "94.20533620882831\n"
          ]
        }
      ],
      "source": [
        "import psutil\n",
        "# gives a single float value\n",
        "print(psutil.cpu_percent())\n",
        "# gives an object with many fields\n",
        "print(psutil.virtual_memory())\n",
        "# you can convert that object to a dictionary print(dict(psutil.virtual_memory()._asdict()))\n",
        "# you can have the percentage of used RAM\n",
        "print(psutil.virtual_memory().percent)\n",
        "# you can calculate percentage of available memory\n",
        "print(psutil.virtual_memory().available * 100 / psutil.virtual_memory().total)"
      ]
    },
    {
      "cell_type": "code",
      "execution_count": 2,
      "metadata": {
        "id": "XS6UHXPVAQqs"
      },
      "outputs": [],
      "source": [
        "import pandas as pd\n",
        "import numpy as np\n",
        "import random\n",
        "from matplotlib import pyplot as plt\n",
        "import gc\n",
        "\n",
        "import tensorflow as tf\n",
        "from tensorflow.keras import layers\n",
        "import tensorflow.keras.backend as K\n",
        "from sklearn.model_selection import train_test_split"
      ]
    },
    {
      "cell_type": "code",
      "source": [
        "tf.__version__"
      ],
      "metadata": {
        "colab": {
          "base_uri": "https://localhost:8080/",
          "height": 35
        },
        "id": "Gv8gXemwD3UQ",
        "outputId": "deb366fc-6d90-4463-addf-7b13b73a6b3c"
      },
      "execution_count": 3,
      "outputs": [
        {
          "output_type": "execute_result",
          "data": {
            "text/plain": [
              "'2.8.0'"
            ],
            "application/vnd.google.colaboratory.intrinsic+json": {
              "type": "string"
            }
          },
          "metadata": {},
          "execution_count": 3
        }
      ]
    },
    {
      "cell_type": "code",
      "execution_count": 4,
      "metadata": {
        "id": "Crhty6fiAQqu"
      },
      "outputs": [],
      "source": [
        "itemCol = 'movieId'\n",
        "userCol = 'userId'"
      ]
    },
    {
      "cell_type": "code",
      "source": [
        "# DGX setup\n",
        "# fpath = \"./ml-20m\" \n",
        "\n",
        "#colab setup\n",
        "from google.colab import drive\n",
        "drive.mount('/content/gdrive')\n",
        "fpath = \"/content/gdrive/MyDrive/RECOMMENDER_STUDIES/data/ml-20m\""
      ],
      "metadata": {
        "id": "xOJJy441A0w0",
        "colab": {
          "base_uri": "https://localhost:8080/"
        },
        "outputId": "a8961bc0-5acd-4230-c81f-e12371e57b6f"
      },
      "execution_count": 5,
      "outputs": [
        {
          "output_type": "stream",
          "name": "stdout",
          "text": [
            "Mounted at /content/gdrive\n"
          ]
        }
      ]
    },
    {
      "cell_type": "code",
      "source": [
        "# Loading data\n",
        "ratings = pd.read_csv(fpath+'/ratings.csv')\n",
        "\n",
        "ratings"
      ],
      "metadata": {
        "colab": {
          "base_uri": "https://localhost:8080/",
          "height": 419
        },
        "id": "jQck8YHxCPJ1",
        "outputId": "a56f6d13-dbe6-485d-f0f2-a68a09af4ecf"
      },
      "execution_count": 6,
      "outputs": [
        {
          "output_type": "execute_result",
          "data": {
            "text/plain": [
              "          userId  movieId  rating   timestamp\n",
              "0              1        2     3.5  1112486027\n",
              "1              1       29     3.5  1112484676\n",
              "2              1       32     3.5  1112484819\n",
              "3              1       47     3.5  1112484727\n",
              "4              1       50     3.5  1112484580\n",
              "...          ...      ...     ...         ...\n",
              "20000258  138493    68954     4.5  1258126920\n",
              "20000259  138493    69526     4.5  1259865108\n",
              "20000260  138493    69644     3.0  1260209457\n",
              "20000261  138493    70286     5.0  1258126944\n",
              "20000262  138493    71619     2.5  1255811136\n",
              "\n",
              "[20000263 rows x 4 columns]"
            ],
            "text/html": [
              "\n",
              "  <div id=\"df-8b1bd4d1-0f4d-4fa0-9ee7-d33ed2bb9519\">\n",
              "    <div class=\"colab-df-container\">\n",
              "      <div>\n",
              "<style scoped>\n",
              "    .dataframe tbody tr th:only-of-type {\n",
              "        vertical-align: middle;\n",
              "    }\n",
              "\n",
              "    .dataframe tbody tr th {\n",
              "        vertical-align: top;\n",
              "    }\n",
              "\n",
              "    .dataframe thead th {\n",
              "        text-align: right;\n",
              "    }\n",
              "</style>\n",
              "<table border=\"1\" class=\"dataframe\">\n",
              "  <thead>\n",
              "    <tr style=\"text-align: right;\">\n",
              "      <th></th>\n",
              "      <th>userId</th>\n",
              "      <th>movieId</th>\n",
              "      <th>rating</th>\n",
              "      <th>timestamp</th>\n",
              "    </tr>\n",
              "  </thead>\n",
              "  <tbody>\n",
              "    <tr>\n",
              "      <th>0</th>\n",
              "      <td>1</td>\n",
              "      <td>2</td>\n",
              "      <td>3.5</td>\n",
              "      <td>1112486027</td>\n",
              "    </tr>\n",
              "    <tr>\n",
              "      <th>1</th>\n",
              "      <td>1</td>\n",
              "      <td>29</td>\n",
              "      <td>3.5</td>\n",
              "      <td>1112484676</td>\n",
              "    </tr>\n",
              "    <tr>\n",
              "      <th>2</th>\n",
              "      <td>1</td>\n",
              "      <td>32</td>\n",
              "      <td>3.5</td>\n",
              "      <td>1112484819</td>\n",
              "    </tr>\n",
              "    <tr>\n",
              "      <th>3</th>\n",
              "      <td>1</td>\n",
              "      <td>47</td>\n",
              "      <td>3.5</td>\n",
              "      <td>1112484727</td>\n",
              "    </tr>\n",
              "    <tr>\n",
              "      <th>4</th>\n",
              "      <td>1</td>\n",
              "      <td>50</td>\n",
              "      <td>3.5</td>\n",
              "      <td>1112484580</td>\n",
              "    </tr>\n",
              "    <tr>\n",
              "      <th>...</th>\n",
              "      <td>...</td>\n",
              "      <td>...</td>\n",
              "      <td>...</td>\n",
              "      <td>...</td>\n",
              "    </tr>\n",
              "    <tr>\n",
              "      <th>20000258</th>\n",
              "      <td>138493</td>\n",
              "      <td>68954</td>\n",
              "      <td>4.5</td>\n",
              "      <td>1258126920</td>\n",
              "    </tr>\n",
              "    <tr>\n",
              "      <th>20000259</th>\n",
              "      <td>138493</td>\n",
              "      <td>69526</td>\n",
              "      <td>4.5</td>\n",
              "      <td>1259865108</td>\n",
              "    </tr>\n",
              "    <tr>\n",
              "      <th>20000260</th>\n",
              "      <td>138493</td>\n",
              "      <td>69644</td>\n",
              "      <td>3.0</td>\n",
              "      <td>1260209457</td>\n",
              "    </tr>\n",
              "    <tr>\n",
              "      <th>20000261</th>\n",
              "      <td>138493</td>\n",
              "      <td>70286</td>\n",
              "      <td>5.0</td>\n",
              "      <td>1258126944</td>\n",
              "    </tr>\n",
              "    <tr>\n",
              "      <th>20000262</th>\n",
              "      <td>138493</td>\n",
              "      <td>71619</td>\n",
              "      <td>2.5</td>\n",
              "      <td>1255811136</td>\n",
              "    </tr>\n",
              "  </tbody>\n",
              "</table>\n",
              "<p>20000263 rows × 4 columns</p>\n",
              "</div>\n",
              "      <button class=\"colab-df-convert\" onclick=\"convertToInteractive('df-8b1bd4d1-0f4d-4fa0-9ee7-d33ed2bb9519')\"\n",
              "              title=\"Convert this dataframe to an interactive table.\"\n",
              "              style=\"display:none;\">\n",
              "        \n",
              "  <svg xmlns=\"http://www.w3.org/2000/svg\" height=\"24px\"viewBox=\"0 0 24 24\"\n",
              "       width=\"24px\">\n",
              "    <path d=\"M0 0h24v24H0V0z\" fill=\"none\"/>\n",
              "    <path d=\"M18.56 5.44l.94 2.06.94-2.06 2.06-.94-2.06-.94-.94-2.06-.94 2.06-2.06.94zm-11 1L8.5 8.5l.94-2.06 2.06-.94-2.06-.94L8.5 2.5l-.94 2.06-2.06.94zm10 10l.94 2.06.94-2.06 2.06-.94-2.06-.94-.94-2.06-.94 2.06-2.06.94z\"/><path d=\"M17.41 7.96l-1.37-1.37c-.4-.4-.92-.59-1.43-.59-.52 0-1.04.2-1.43.59L10.3 9.45l-7.72 7.72c-.78.78-.78 2.05 0 2.83L4 21.41c.39.39.9.59 1.41.59.51 0 1.02-.2 1.41-.59l7.78-7.78 2.81-2.81c.8-.78.8-2.07 0-2.86zM5.41 20L4 18.59l7.72-7.72 1.47 1.35L5.41 20z\"/>\n",
              "  </svg>\n",
              "      </button>\n",
              "      \n",
              "  <style>\n",
              "    .colab-df-container {\n",
              "      display:flex;\n",
              "      flex-wrap:wrap;\n",
              "      gap: 12px;\n",
              "    }\n",
              "\n",
              "    .colab-df-convert {\n",
              "      background-color: #E8F0FE;\n",
              "      border: none;\n",
              "      border-radius: 50%;\n",
              "      cursor: pointer;\n",
              "      display: none;\n",
              "      fill: #1967D2;\n",
              "      height: 32px;\n",
              "      padding: 0 0 0 0;\n",
              "      width: 32px;\n",
              "    }\n",
              "\n",
              "    .colab-df-convert:hover {\n",
              "      background-color: #E2EBFA;\n",
              "      box-shadow: 0px 1px 2px rgba(60, 64, 67, 0.3), 0px 1px 3px 1px rgba(60, 64, 67, 0.15);\n",
              "      fill: #174EA6;\n",
              "    }\n",
              "\n",
              "    [theme=dark] .colab-df-convert {\n",
              "      background-color: #3B4455;\n",
              "      fill: #D2E3FC;\n",
              "    }\n",
              "\n",
              "    [theme=dark] .colab-df-convert:hover {\n",
              "      background-color: #434B5C;\n",
              "      box-shadow: 0px 1px 3px 1px rgba(0, 0, 0, 0.15);\n",
              "      filter: drop-shadow(0px 1px 2px rgba(0, 0, 0, 0.3));\n",
              "      fill: #FFFFFF;\n",
              "    }\n",
              "  </style>\n",
              "\n",
              "      <script>\n",
              "        const buttonEl =\n",
              "          document.querySelector('#df-8b1bd4d1-0f4d-4fa0-9ee7-d33ed2bb9519 button.colab-df-convert');\n",
              "        buttonEl.style.display =\n",
              "          google.colab.kernel.accessAllowed ? 'block' : 'none';\n",
              "\n",
              "        async function convertToInteractive(key) {\n",
              "          const element = document.querySelector('#df-8b1bd4d1-0f4d-4fa0-9ee7-d33ed2bb9519');\n",
              "          const dataTable =\n",
              "            await google.colab.kernel.invokeFunction('convertToInteractive',\n",
              "                                                     [key], {});\n",
              "          if (!dataTable) return;\n",
              "\n",
              "          const docLinkHtml = 'Like what you see? Visit the ' +\n",
              "            '<a target=\"_blank\" href=https://colab.research.google.com/notebooks/data_table.ipynb>data table notebook</a>'\n",
              "            + ' to learn more about interactive tables.';\n",
              "          element.innerHTML = '';\n",
              "          dataTable['output_type'] = 'display_data';\n",
              "          await google.colab.output.renderOutput(dataTable, element);\n",
              "          const docLink = document.createElement('div');\n",
              "          docLink.innerHTML = docLinkHtml;\n",
              "          element.appendChild(docLink);\n",
              "        }\n",
              "      </script>\n",
              "    </div>\n",
              "  </div>\n",
              "  "
            ]
          },
          "metadata": {},
          "execution_count": 6
        }
      ]
    },
    {
      "cell_type": "code",
      "source": [
        "# Normalize rating về dạng -1 -> 1 (-1 = ghét, 1 = thích)\n",
        "ratings[\"y\"] = ratings[\"rating\"]/2.5-1\n",
        "\n",
        "# Kiểm tra rating trong khoảng -1 -> 1\n",
        "ratings.groupby(\"y\")[\"y\"].count().plot(kind='bar')"
      ],
      "metadata": {
        "colab": {
          "base_uri": "https://localhost:8080/",
          "height": 419
        },
        "id": "BrwYHetxCiIw",
        "outputId": "e9d549f0-bdeb-43de-bb66-0596b87252af"
      },
      "execution_count": 7,
      "outputs": [
        {
          "output_type": "execute_result",
          "data": {
            "text/plain": [
              "<matplotlib.axes._subplots.AxesSubplot at 0x7f1bf02aee90>"
            ]
          },
          "metadata": {},
          "execution_count": 7
        },
        {
          "output_type": "display_data",
          "data": {
            "text/plain": [
              "<Figure size 432x288 with 1 Axes>"
            ],
            "image/png": "[encoded data removed]"
          },
          "metadata": {
            "needs_background": "light"
          }
        }
      ]
    },
    {
      "cell_type": "markdown",
      "source": [
        "# Model v2.2\n",
        "Gộp tất cả các bước tiền xử lý vào model "
      ],
      "metadata": {
        "id": "HfA78F8HRVJR"
      }
    },
    {
      "cell_type": "code",
      "source": [
        "# Chia dữ liệu thành các tập cho model clustering, nhãn recommendation và test\n",
        "#     warm_up_mask: ratings đã quan sát\n",
        "#     target: rating dùng để đánh giá kết quả recommend của module recommend cho từng người dùng\n",
        "#     test: đánh giá độc lập\n",
        "# TODO: chia tập dữ liệu theo user-wise => đánh giá với những user hoàn toàn mới thì model có học được không?\n",
        "# v2.1. gộp warm_up và mask thành 1\n",
        "def dataset_split(ratings):\n",
        "    train, test = train_test_split(ratings, test_size= 0.25)\n",
        "    warm_up_mask, target = train_test_split(train, test_size= 0.25)\n",
        "    return warm_up_mask, target, test\n",
        "\n",
        "warm_up_mask, target, test = dataset_split(ratings)"
      ],
      "metadata": {
        "id": "90sKne1ZRc5F"
      },
      "execution_count": 8,
      "outputs": []
    },
    {
      "cell_type": "code",
      "source": [
        "# Kiểm tra số lượng ratings\n",
        "warm_up_mask.shape[0], target.shape[0], test.shape[0]"
      ],
      "metadata": {
        "colab": {
          "base_uri": "https://localhost:8080/"
        },
        "id": "fiRtTNy1ScIa",
        "outputId": "6fde1789-84c8-4dfe-ef3c-907aaabeedf1"
      },
      "execution_count": null,
      "outputs": [
        {
          "output_type": "execute_result",
          "data": {
            "text/plain": [
              "(11250147, 3750050, 5000066)"
            ]
          },
          "metadata": {},
          "execution_count": 10
        }
      ]
    },
    {
      "cell_type": "code",
      "source": [
        "# v2.2: chỉ groupby, không padding\n",
        "def get_interaction_set(interaction, max_item = None, top_k_item = None):\n",
        "    \"\"\"\n",
        "    Input:\n",
        "        interaction: df[userCol, itemCol, y]: dữ liệu đầu vào\n",
        "        max_item: int: item num limit\n",
        "    Output:\n",
        "        df, itemCol: list, y: list, itemCol_str: string, userCol as index\n",
        "        list item sắp xếp theo giảm dần độ lớn rating\n",
        "    \"\"\"\n",
        "    items = ratings.groupby(itemCol).count().sort_values(by=userCol, ascending=False)\n",
        "    if top_k_item is not None:\n",
        "        top_items = items.head(top_k_item).index\n",
        "        interaction = interaction[interaction[itemCol].isin(top_items)]\n",
        "    else:\n",
        "        top_items = items.index\n",
        "\n",
        "    # Sắp xếp item theo thứ tự giảm dần rating (về sau cắt padding sẽ ưu tiên giữ lại item có rating cao)\n",
        "    rindex = interaction.groupby(userCol)[\"y\"].transform(lambda grp: grp.sort_values(ascending=False).index)\n",
        "    interaction = interaction.reindex(rindex)\n",
        "    \n",
        "    # Chuyển thành warm-up set theo từng user\n",
        "    interaction = interaction.groupby(\"userId\").agg({itemCol:list, \"y\":list})\n",
        "\n",
        "    # Giới hạn độ dài warm_up size\n",
        "    if max_item is not None:\n",
        "        interaction[itemCol] = interaction[itemCol].apply(lambda x: x[0:max_item])\n",
        "        interaction[\"y\"] = interaction[\"y\"].apply(lambda x: x[0:max_item])\n",
        "\n",
        "    return interaction, top_items\n",
        "\n",
        "top_k_item = 5000\n",
        "wu_size = 200\n",
        "mask_size = 50\n",
        "max_item = wu_size + mask_size\n",
        "\n",
        "interac_df, top_items = get_interaction_set(warm_up_mask[warm_up_mask[userCol]<100]\n",
        "                    , max_item = max_item\n",
        "                    , top_k_item = top_k_item )\n",
        "interac_df"
      ],
      "metadata": {
        "colab": {
          "base_uri": "https://localhost:8080/",
          "height": 450
        },
        "id": "C3ukIA2SS00l",
        "outputId": "bf5a5b82-4a6d-4bb5-87b2-063071b108aa"
      },
      "execution_count": 9,
      "outputs": [
        {
          "output_type": "execute_result",
          "data": {
            "text/plain": [
              "                                                  movieId  \\\n",
              "userId                                                      \n",
              "1       [4993, 8507, 5952, 7153, 1196, 296, 3889, 1321...   \n",
              "2       [1327, 70, 2948, 3928, 3450, 1270, 1974, 1210,...   \n",
              "3       [953, 457, 2288, 1129, 1831, 1375, 1089, 175, ...   \n",
              "4       [431, 586, 589, 520, 368, 356, 10, 594, 370, 3...   \n",
              "5       [588, 671, 595, 1036, 1035, 589, 1079, 531, 26...   \n",
              "...                                                   ...   \n",
              "95      [1104, 32, 708, 587, 594, 647, 590, 364, 31, 2...   \n",
              "96      [66934, 48394, 8961, 76093, 60069, 5618, 541, ...   \n",
              "97      [3897, 2997, 356, 3358, 1042, 52, 2396, 1617, ...   \n",
              "98      [79132, 81845, 4896, 55247, 778, 2025, 2396, 7...   \n",
              "99      [5004, 5110, 3671, 2542, 3868, 1080, 2329, 778...   \n",
              "\n",
              "                                                        y  \n",
              "userId                                                     \n",
              "1       [1.0, 1.0, 1.0, 1.0, 0.8, 0.6000000000000001, ...  \n",
              "2       [1.0, 1.0, 1.0, 1.0, 1.0, 1.0, 1.0, 1.0, 1.0, ...  \n",
              "3       [1.0, 1.0, 1.0, 1.0, 1.0, 1.0, 1.0, 1.0, 1.0, ...  \n",
              "4       [0.6000000000000001, 0.6000000000000001, 0.600...  \n",
              "5       [1.0, 1.0, 1.0, 1.0, 1.0, 1.0, 1.0, 1.0, 1.0, ...  \n",
              "...                                                   ...  \n",
              "95      [0.6000000000000001, 0.6000000000000001, 0.600...  \n",
              "96      [1.0, 1.0, 1.0, 1.0, 1.0, 1.0, 1.0, 0.8, 0.8, ...  \n",
              "97      [1.0, 1.0, 1.0, 0.6000000000000001, 0.60000000...  \n",
              "98      [1.0, 1.0, 1.0, 1.0, 0.8, 0.8, 0.8, 0.8, 0.8, ...  \n",
              "99      [1.0, 1.0, 1.0, 0.8, 0.8, 0.8, 0.8, 0.8, 0.8, ...  \n",
              "\n",
              "[99 rows x 2 columns]"
            ],
            "text/html": [
              "\n",
              "  <div id=\"df-65b800fe-bd2c-41e5-abc9-070f0761a650\">\n",
              "    <div class=\"colab-df-container\">\n",
              "      <div>\n",
              "<style scoped>\n",
              "    .dataframe tbody tr th:only-of-type {\n",
              "        vertical-align: middle;\n",
              "    }\n",
              "\n",
              "    .dataframe tbody tr th {\n",
              "        vertical-align: top;\n",
              "    }\n",
              "\n",
              "    .dataframe thead th {\n",
              "        text-align: right;\n",
              "    }\n",
              "</style>\n",
              "<table border=\"1\" class=\"dataframe\">\n",
              "  <thead>\n",
              "    <tr style=\"text-align: right;\">\n",
              "      <th></th>\n",
              "      <th>movieId</th>\n",
              "      <th>y</th>\n",
              "    </tr>\n",
              "    <tr>\n",
              "      <th>userId</th>\n",
              "      <th></th>\n",
              "      <th></th>\n",
              "    </tr>\n",
              "  </thead>\n",
              "  <tbody>\n",
              "    <tr>\n",
              "      <th>1</th>\n",
              "      <td>[4993, 8507, 5952, 7153, 1196, 296, 3889, 1321...</td>\n",
              "      <td>[1.0, 1.0, 1.0, 1.0, 0.8, 0.6000000000000001, ...</td>\n",
              "    </tr>\n",
              "    <tr>\n",
              "      <th>2</th>\n",
              "      <td>[1327, 70, 2948, 3928, 3450, 1270, 1974, 1210,...</td>\n",
              "      <td>[1.0, 1.0, 1.0, 1.0, 1.0, 1.0, 1.0, 1.0, 1.0, ...</td>\n",
              "    </tr>\n",
              "    <tr>\n",
              "      <th>3</th>\n",
              "      <td>[953, 457, 2288, 1129, 1831, 1375, 1089, 175, ...</td>\n",
              "      <td>[1.0, 1.0, 1.0, 1.0, 1.0, 1.0, 1.0, 1.0, 1.0, ...</td>\n",
              "    </tr>\n",
              "    <tr>\n",
              "      <th>4</th>\n",
              "      <td>[431, 586, 589, 520, 368, 356, 10, 594, 370, 3...</td>\n",
              "      <td>[0.6000000000000001, 0.6000000000000001, 0.600...</td>\n",
              "    </tr>\n",
              "    <tr>\n",
              "      <th>5</th>\n",
              "      <td>[588, 671, 595, 1036, 1035, 589, 1079, 531, 26...</td>\n",
              "      <td>[1.0, 1.0, 1.0, 1.0, 1.0, 1.0, 1.0, 1.0, 1.0, ...</td>\n",
              "    </tr>\n",
              "    <tr>\n",
              "      <th>...</th>\n",
              "      <td>...</td>\n",
              "      <td>...</td>\n",
              "    </tr>\n",
              "    <tr>\n",
              "      <th>95</th>\n",
              "      <td>[1104, 32, 708, 587, 594, 647, 590, 364, 31, 2...</td>\n",
              "      <td>[0.6000000000000001, 0.6000000000000001, 0.600...</td>\n",
              "    </tr>\n",
              "    <tr>\n",
              "      <th>96</th>\n",
              "      <td>[66934, 48394, 8961, 76093, 60069, 5618, 541, ...</td>\n",
              "      <td>[1.0, 1.0, 1.0, 1.0, 1.0, 1.0, 1.0, 0.8, 0.8, ...</td>\n",
              "    </tr>\n",
              "    <tr>\n",
              "      <th>97</th>\n",
              "      <td>[3897, 2997, 356, 3358, 1042, 52, 2396, 1617, ...</td>\n",
              "      <td>[1.0, 1.0, 1.0, 0.6000000000000001, 0.60000000...</td>\n",
              "    </tr>\n",
              "    <tr>\n",
              "      <th>98</th>\n",
              "      <td>[79132, 81845, 4896, 55247, 778, 2025, 2396, 7...</td>\n",
              "      <td>[1.0, 1.0, 1.0, 1.0, 0.8, 0.8, 0.8, 0.8, 0.8, ...</td>\n",
              "    </tr>\n",
              "    <tr>\n",
              "      <th>99</th>\n",
              "      <td>[5004, 5110, 3671, 2542, 3868, 1080, 2329, 778...</td>\n",
              "      <td>[1.0, 1.0, 1.0, 0.8, 0.8, 0.8, 0.8, 0.8, 0.8, ...</td>\n",
              "    </tr>\n",
              "  </tbody>\n",
              "</table>\n",
              "<p>99 rows × 2 columns</p>\n",
              "</div>\n",
              "      <button class=\"colab-df-convert\" onclick=\"convertToInteractive('df-65b800fe-bd2c-41e5-abc9-070f0761a650')\"\n",
              "              title=\"Convert this dataframe to an interactive table.\"\n",
              "              style=\"display:none;\">\n",
              "        \n",
              "  <svg xmlns=\"http://www.w3.org/2000/svg\" height=\"24px\"viewBox=\"0 0 24 24\"\n",
              "       width=\"24px\">\n",
              "    <path d=\"M0 0h24v24H0V0z\" fill=\"none\"/>\n",
              "    <path d=\"M18.56 5.44l.94 2.06.94-2.06 2.06-.94-2.06-.94-.94-2.06-.94 2.06-2.06.94zm-11 1L8.5 8.5l.94-2.06 2.06-.94-2.06-.94L8.5 2.5l-.94 2.06-2.06.94zm10 10l.94 2.06.94-2.06 2.06-.94-2.06-.94-.94-2.06-.94 2.06-2.06.94z\"/><path d=\"M17.41 7.96l-1.37-1.37c-.4-.4-.92-.59-1.43-.59-.52 0-1.04.2-1.43.59L10.3 9.45l-7.72 7.72c-.78.78-.78 2.05 0 2.83L4 21.41c.39.39.9.59 1.41.59.51 0 1.02-.2 1.41-.59l7.78-7.78 2.81-2.81c.8-.78.8-2.07 0-2.86zM5.41 20L4 18.59l7.72-7.72 1.47 1.35L5.41 20z\"/>\n",
              "  </svg>\n",
              "      </button>\n",
              "      \n",
              "  <style>\n",
              "    .colab-df-container {\n",
              "      display:flex;\n",
              "      flex-wrap:wrap;\n",
              "      gap: 12px;\n",
              "    }\n",
              "\n",
              "    .colab-df-convert {\n",
              "      background-color: #E8F0FE;\n",
              "      border: none;\n",
              "      border-radius: 50%;\n",
              "      cursor: pointer;\n",
              "      display: none;\n",
              "      fill: #1967D2;\n",
              "      height: 32px;\n",
              "      padding: 0 0 0 0;\n",
              "      width: 32px;\n",
              "    }\n",
              "\n",
              "    .colab-df-convert:hover {\n",
              "      background-color: #E2EBFA;\n",
              "      box-shadow: 0px 1px 2px rgba(60, 64, 67, 0.3), 0px 1px 3px 1px rgba(60, 64, 67, 0.15);\n",
              "      fill: #174EA6;\n",
              "    }\n",
              "\n",
              "    [theme=dark] .colab-df-convert {\n",
              "      background-color: #3B4455;\n",
              "      fill: #D2E3FC;\n",
              "    }\n",
              "\n",
              "    [theme=dark] .colab-df-convert:hover {\n",
              "      background-color: #434B5C;\n",
              "      box-shadow: 0px 1px 3px 1px rgba(0, 0, 0, 0.15);\n",
              "      filter: drop-shadow(0px 1px 2px rgba(0, 0, 0, 0.3));\n",
              "      fill: #FFFFFF;\n",
              "    }\n",
              "  </style>\n",
              "\n",
              "      <script>\n",
              "        const buttonEl =\n",
              "          document.querySelector('#df-65b800fe-bd2c-41e5-abc9-070f0761a650 button.colab-df-convert');\n",
              "        buttonEl.style.display =\n",
              "          google.colab.kernel.accessAllowed ? 'block' : 'none';\n",
              "\n",
              "        async function convertToInteractive(key) {\n",
              "          const element = document.querySelector('#df-65b800fe-bd2c-41e5-abc9-070f0761a650');\n",
              "          const dataTable =\n",
              "            await google.colab.kernel.invokeFunction('convertToInteractive',\n",
              "                                                     [key], {});\n",
              "          if (!dataTable) return;\n",
              "\n",
              "          const docLinkHtml = 'Like what you see? Visit the ' +\n",
              "            '<a target=\"_blank\" href=https://colab.research.google.com/notebooks/data_table.ipynb>data table notebook</a>'\n",
              "            + ' to learn more about interactive tables.';\n",
              "          element.innerHTML = '';\n",
              "          dataTable['output_type'] = 'display_data';\n",
              "          await google.colab.output.renderOutput(dataTable, element);\n",
              "          const docLink = document.createElement('div');\n",
              "          docLink.innerHTML = docLinkHtml;\n",
              "          element.appendChild(docLink);\n",
              "        }\n",
              "      </script>\n",
              "    </div>\n",
              "  </div>\n",
              "  "
            ]
          },
          "metadata": {},
          "execution_count": 9
        }
      ]
    },
    {
      "cell_type": "markdown",
      "source": [
        "### Class  model"
      ],
      "metadata": {
        "id": "HIfY6FeqKqQ4"
      }
    },
    {
      "cell_type": "code",
      "source": [
        "# Khởi tạo cấu hình: xác định encoder, decoder, mapping dims\n",
        "class Efficient_Rec(tf.keras.Model):\n",
        "  def __init__(self, encoder, decoder, reps, use_tf_function=False):\n",
        "    super().__init__()\n",
        "    self.use_tf_function = use_tf_function\n",
        "\n",
        "    self.encoder = encoder\n",
        "    self.decoder = decoder\n",
        "    self.reps = reps\n",
        "\n",
        "  def train_step(self, inputs):\n",
        "    if self.use_tf_function:\n",
        "      return self._tf_train_step(inputs)\n",
        "    else:\n",
        "      return self._train_step(inputs)"
      ],
      "metadata": {
        "id": "XtrIkMaRbo6v"
      },
      "execution_count": 10,
      "outputs": []
    },
    {
      "cell_type": "code",
      "source": [
        "def _wu_mask_split(self, batch_inputs, mask_ratio = 0.25):\n",
        "    \"Chia ratings và items thành mask, warm up\"\n",
        "    input_items, input_ratings = batch_inputs[itemCol], batch_inputs[\"y\"]\n",
        "\n",
        "    def list_split(input, mask_ratio = 0.25, seed= 42):\n",
        "        return train_test_split(input[0:(wu_size+mask_size)], test_size= mask_ratio, random_state=seed)\n",
        "\n",
        "    seed = random.randint(1, 100)\n",
        "    items = input_items.apply(lambda x: list_split(x, mask_ratio, seed))\n",
        "    ratings = input_ratings.apply(lambda x: list_split(x, mask_ratio, seed))\n",
        "\n",
        "    wu_item_list = items.apply(lambda x: x[0])\n",
        "    mask_item_list = items.apply(lambda x: x[1])\n",
        "\n",
        "    wu_rating_list = ratings.apply(lambda x: x[0])\n",
        "    mask_rating_list = ratings.apply(lambda x: x[1])\n",
        "    return (wu_item_list, wu_rating_list), (mask_item_list, mask_rating_list)\n",
        "\n",
        "Efficient_Rec._wu_mask_split = _wu_mask_split"
      ],
      "metadata": {
        "id": "mZtGCHBnjcCg"
      },
      "execution_count": 11,
      "outputs": []
    },
    {
      "cell_type": "code",
      "source": [
        "def _preprocess(self, inputs, padding_size = 100):\n",
        "    \"\"\"\n",
        "    Padding về wu_size và mask_size, convert list of items => string of items\n",
        "    batch_inputs: df: itemStr, y\"\"\"\n",
        "\n",
        "    def padding_list(list_item, wu_size, value=0, is_padding=True):\n",
        "        series_item1 = list_item[0:wu_size]\n",
        "        if is_padding:\n",
        "            series_item1 = series_item1+[value]*(wu_size-len(series_item1))\n",
        "        return series_item1\n",
        "\n",
        "    items_list, ratings_list = inputs\n",
        "\n",
        "    items   = items_list.apply(lambda x: ' '.join(list([str(i) for i in x])))\n",
        "    ratings =   np.stack( ratings_list.apply(lambda x: padding_list( x, padding_size  ) ) )\n",
        "\n",
        "    return items, ratings\n",
        "\n",
        "Efficient_Rec._preprocess = _preprocess"
      ],
      "metadata": {
        "id": "OvIJP8m7bvaF"
      },
      "execution_count": 12,
      "outputs": []
    },
    {
      "cell_type": "code",
      "source": [
        "# Thực hiện training\n",
        "def _train_step(self, inputs):\n",
        "    warm_up, mask = self._wu_mask_split(inputs, mask_ratio = 0.25)\n",
        "    wu_items, wu_ratings = self._preprocess(warm_up, wu_size)\n",
        "    mask_item, mask_ratings = self._preprocess(mask, mask_size)\n",
        "\n",
        "    with tf.GradientTape() as tape:\n",
        "        # Encode the input\n",
        "        wu_vec = self.encoder([wu_items, wu_ratings])\n",
        "        y_pred = self.reps(wu_vec)\n",
        "\n",
        "        # Encde the output\n",
        "        mask_vec = self.decoder([mask_item, mask_ratings])\n",
        "\n",
        "        average_loss = self.loss(mask_vec, y_pred)\n",
        "\n",
        "    # Apply an optimization step\n",
        "    variables = self.trainable_variables \n",
        "    gradients = tape.gradient(average_loss, variables)\n",
        "    self.optimizer.apply_gradients(zip(gradients, variables))\n",
        "\n",
        "    # Return a dict mapping metric names to current value\n",
        "    return {'batch_loss': average_loss}\n",
        "\n",
        "Efficient_Rec._train_step = _train_step"
      ],
      "metadata": {
        "id": "gzoNOhtuhHlu"
      },
      "execution_count": 13,
      "outputs": []
    },
    {
      "cell_type": "code",
      "source": [
        "# Thực hiện minibatch training\n",
        "def _batch_train_step(self, inputs, batch_size):\n",
        "    df = inputs.copy()\n",
        "    chunks = [df[i:i+batch_size] for i in range(0,df.shape[0],batch_size)]\n",
        "    for chunk in chunks:\n",
        "        self._train_step(chunk)\n",
        "\n",
        "Efficient_Rec._batch_train_step = _batch_train_step"
      ],
      "metadata": {
        "id": "HxyczAa_cLdY"
      },
      "execution_count": 14,
      "outputs": []
    },
    {
      "cell_type": "markdown",
      "source": [
        "### Xây dựng encoder model\n",
        "Encoder =  interaction embedding + user feature embedding<br> \n",
        "interaction embedding = sum( interaction embedding các item i)<br> \n",
        "interaction embedding item i = rating x (embedding id sản phẩm + embedding item feature)<br>\n",
        "\n"
      ],
      "metadata": {
        "id": "Sbp1tH7yUeI6"
      }
    },
    {
      "cell_type": "code",
      "source": [
        "%%time\n",
        "# Vectorize (encode + padding) item list\n",
        "max_vocab_size = len(top_items) # nếu số item có <= top_k_item => lấy số lượng item max\n",
        "items_str = ' '.join([str(i) for i in top_items])\n",
        "itemStr = itemCol+\"_str\"\n",
        "\n",
        "vectorizer = layers.TextVectorization( max_tokens= top_k_item, split='whitespace', output_sequence_length= wu_size, name = 'vectorizer')\n",
        "vectorizer.adapt( [items_str] ) "
      ],
      "metadata": {
        "colab": {
          "base_uri": "https://localhost:8080/"
        },
        "id": "QxNyuo9-WJJG",
        "outputId": "b8aaddbf-82e3-4f73-ed80-22fd3093edae"
      },
      "execution_count": 15,
      "outputs": [
        {
          "output_type": "stream",
          "name": "stdout",
          "text": [
            "CPU times: user 243 ms, sys: 56.8 ms, total: 299 ms\n",
            "Wall time: 688 ms\n"
          ]
        }
      ]
    },
    {
      "cell_type": "code",
      "source": [
        "class Broadcasting_Multiply(tf.keras.layers.Layer):\n",
        "    \"\"\"Nhân 2 layers khác shape với nhau, trong đó:\n",
        "    inputs=[layer1, layer2]\n",
        "    layer1.shape = (None, n_item, n_feature)\n",
        "    layer2.shape = (None, n_item)\n",
        "    (Chú ý đúng thứ tự)\n",
        "    \"\"\"\n",
        "\n",
        "    def call(self, inputs):\n",
        "        x, y = inputs\n",
        "\n",
        "        #we add the extra dimension:\n",
        "        y = K.expand_dims(y, axis=-1)\n",
        "        #we replicate the elements\n",
        "        y = K.repeat_elements(y, rep=x.shape[2], axis=-1)\n",
        "\n",
        "        return x * y"
      ],
      "metadata": {
        "id": "1U7EQG6zWpi9"
      },
      "execution_count": 16,
      "outputs": []
    },
    {
      "cell_type": "code",
      "source": [
        "# Xây dựng mạng\n",
        "embedding_size = 200\n",
        "reps_size = 150\n",
        "cluster_num = 50\n",
        "\n",
        "def interaction_embedding():\n",
        "\n",
        "    input_wi = layers.Input(shape=(1,), name='input_wi')\n",
        "    wi = vectorizer(input_wi)\n",
        "    wi = layers.Embedding(input_dim= max_vocab_size, output_dim= embedding_size, mask_zero= True, name='ei')(wi)\n",
        "    wi = layers.Dense(embedding_size, activation='linear', name='di')(wi)\n",
        "\n",
        "    wr = layers.Input(shape=(wu_size,), name='warm_up_ratings')\n",
        "\n",
        "    ireps = Broadcasting_Multiply(name='mul')([wi, wr])\n",
        "    uprofile = layers.Lambda(lambda z: K.mean(z, axis=1), name='lambda')(ireps)\n",
        "\n",
        "    # uprofile = layers.LayerNormalization(name='norm')(uprofile)\n",
        "    uprofile = layers.Dense( reps_size, activation='linear', name='du')(uprofile)\n",
        "    uprofile = layers.Dense(cluster_num, activation='sigmoid', name='clustering')(uprofile)\n",
        "    \n",
        "    model = tf.keras.Model(inputs= [input_wi, wr], outputs=[uprofile])\n",
        "    return model\n",
        "\n",
        "encode_model = interaction_embedding()"
      ],
      "metadata": {
        "id": "--fbIsGLXjPD"
      },
      "execution_count": null,
      "outputs": []
    },
    {
      "cell_type": "code",
      "source": [
        "# Kiểm tra tham số\n",
        "encode_model.summary()"
      ],
      "metadata": {
        "colab": {
          "base_uri": "https://localhost:8080/"
        },
        "id": "cJMxOoxzXvr_",
        "outputId": "0e31a663-6c7c-44c8-9052-620da49ce7d4"
      },
      "execution_count": null,
      "outputs": [
        {
          "output_type": "stream",
          "name": "stdout",
          "text": [
            "Model: \"model_57\"\n",
            "__________________________________________________________________________________________________\n",
            " Layer (type)                   Output Shape         Param #     Connected to                     \n",
            "==================================================================================================\n",
            " input_wi (InputLayer)          [(None, 1)]          0           []                               \n",
            "                                                                                                  \n",
            " vectorizer (TextVectorization)  (None, 200)         0           ['input_wi[0][0]']               \n",
            "                                                                                                  \n",
            " ei (Embedding)                 (None, 200, 200)     1000000     ['vectorizer[0][0]']             \n",
            "                                                                                                  \n",
            " di (Dense)                     (None, 200, 200)     40200       ['ei[0][0]']                     \n",
            "                                                                                                  \n",
            " warm_up_ratings (InputLayer)   [(None, 200)]        0           []                               \n",
            "                                                                                                  \n",
            " mul (Broadcasting_Multiply)    (None, 200, 200)     0           ['di[0][0]',                     \n",
            "                                                                  'warm_up_ratings[0][0]']        \n",
            "                                                                                                  \n",
            " lambda (Lambda)                (None, 200)          0           ['mul[0][0]']                    \n",
            "                                                                                                  \n",
            " du (Dense)                     (None, 150)          30150       ['lambda[0][0]']                 \n",
            "                                                                                                  \n",
            " clustering (Dense)             (None, 50)           7550        ['du[0][0]']                     \n",
            "                                                                                                  \n",
            "==================================================================================================\n",
            "Total params: 1,077,900\n",
            "Trainable params: 1,077,900\n",
            "Non-trainable params: 0\n",
            "__________________________________________________________________________________________________\n"
          ]
        }
      ]
    },
    {
      "cell_type": "code",
      "source": [
        "# tf.keras.utils.plot_model( encode_model ,show_shapes=True, show_dtype=True, show_layer_names=True )"
      ],
      "metadata": {
        "id": "PuAM8w01Xy93"
      },
      "execution_count": null,
      "outputs": []
    },
    {
      "cell_type": "markdown",
      "source": [
        "### Ground truth\n",
        "Nhận vào text (gồm các mã id sản phẩm) và ratings => chuyển thành vector theo từng user <br>\n",
        "Dựng ground trust onehot bằng trung bình rating onehot"
      ],
      "metadata": {
        "id": "t5vQ9PXoX-OJ"
      }
    },
    {
      "cell_type": "code",
      "source": [
        "%%time\n",
        "# Vectorize (encode + padding) item list\n",
        "maskvec = layers.TextVectorization( max_tokens=max_vocab_size, split='whitespace', output_sequence_length= mask_size, name = 'maskvec')\n",
        "maskvec.adapt( [items_str] ) "
      ],
      "metadata": {
        "colab": {
          "base_uri": "https://localhost:8080/"
        },
        "id": "8vPWr-67aOVS",
        "outputId": "4fb5c673-e082-4b6a-9e53-a8889802b28e"
      },
      "execution_count": null,
      "outputs": [
        {
          "output_type": "stream",
          "name": "stdout",
          "text": [
            "WARNING:tensorflow:6 out of the last 6 calls to <function PreprocessingLayer.make_adapt_function.<locals>.adapt_step at 0x7f21bbc777a0> triggered tf.function retracing. Tracing is expensive and the excessive number of tracings could be due to (1) creating @tf.function repeatedly in a loop, (2) passing tensors with different shapes, (3) passing Python objects instead of tensors. For (1), please define your @tf.function outside of the loop. For (2), @tf.function has experimental_relax_shapes=True option that relaxes argument shapes that can avoid unnecessary retracing. For (3), please refer to https://www.tensorflow.org/guide/function#controlling_retracing and https://www.tensorflow.org/api_docs/python/tf/function for  more details.\n",
            "CPU times: user 219 ms, sys: 6.4 ms, total: 225 ms\n",
            "Wall time: 300 ms\n"
          ]
        }
      ]
    },
    {
      "cell_type": "code",
      "source": [
        "# Xây dựng mạng\n",
        "def eye_initializer(shape_list, dtype):\n",
        "    return tf.eye(max_vocab_size)\n",
        "\n",
        "def mask_label():\n",
        "\n",
        "    input_mi = layers.Input(shape=(1,), name='input_mask')\n",
        "    mi = maskvec(input_mi)\n",
        "    mi = layers.Embedding(input_dim= max_vocab_size, output_dim= max_vocab_size, embeddings_initializer = eye_initializer, trainable=False)(mi)\n",
        "\n",
        "    input_mr = layers.Input(shape=(mask_size,), name='mask_rating')\n",
        "\n",
        "    ireps = Broadcasting_Multiply()([mi, input_mr])\n",
        "    uprofile = layers.Lambda(lambda z: K.sum(z, axis=1), name='lambda')(ireps)\n",
        "    \n",
        "    model = tf.keras.Model(inputs= [input_mi, input_mr], outputs=[uprofile])\n",
        "    return model\n",
        "\n",
        "# decoder chỉ có chức năng chuyển list of itemId => rating vector, can not trainable\n",
        "dencode_model = mask_label()"
      ],
      "metadata": {
        "id": "PuNTMa0xYDAK"
      },
      "execution_count": null,
      "outputs": []
    },
    {
      "cell_type": "code",
      "source": [
        "# Kiểm tra số lượng tham số, đảm bảo layer embedding không có trainable param\n",
        "dencode_model.summary()"
      ],
      "metadata": {
        "colab": {
          "base_uri": "https://localhost:8080/"
        },
        "id": "Z6ZLWt-Ga_qs",
        "outputId": "ca2dbd36-b8e0-4f3e-abd5-786d3b838643"
      },
      "execution_count": null,
      "outputs": [
        {
          "output_type": "stream",
          "name": "stdout",
          "text": [
            "Model: \"model_58\"\n",
            "__________________________________________________________________________________________________\n",
            " Layer (type)                   Output Shape         Param #     Connected to                     \n",
            "==================================================================================================\n",
            " input_mask (InputLayer)        [(None, 1)]          0           []                               \n",
            "                                                                                                  \n",
            " maskvec (TextVectorization)    (None, 50)           0           ['input_mask[0][0]']             \n",
            "                                                                                                  \n",
            " embedding_19 (Embedding)       (None, 50, 5000)     25000000    ['maskvec[0][0]']                \n",
            "                                                                                                  \n",
            " mask_rating (InputLayer)       [(None, 50)]         0           []                               \n",
            "                                                                                                  \n",
            " broadcasting__multiply_19 (Bro  (None, 50, 5000)    0           ['embedding_19[0][0]',           \n",
            " adcasting_Multiply)                                              'mask_rating[0][0]']            \n",
            "                                                                                                  \n",
            " lambda (Lambda)                (None, 5000)         0           ['broadcasting__multiply_19[0][0]\n",
            "                                                                 ']                               \n",
            "                                                                                                  \n",
            "==================================================================================================\n",
            "Total params: 25,000,000\n",
            "Trainable params: 0\n",
            "Non-trainable params: 25,000,000\n",
            "__________________________________________________________________________________________________\n"
          ]
        }
      ]
    },
    {
      "cell_type": "markdown",
      "source": [
        "### Mapping dims"
      ],
      "metadata": {
        "id": "bWKyminnbGyA"
      }
    },
    {
      "cell_type": "code",
      "source": [
        "# Mapping số chiều của clustering model với số chiều của label\n",
        "\n",
        "def get_reps_model():\n",
        "\n",
        "    input_reps = layers.Input(shape=(cluster_num), name='input_reps')\n",
        "    reps = layers.Dense(max_vocab_size, activation='linear', name='representations')(input_reps)\n",
        "    \n",
        "    model = tf.keras.Model(inputs= [input_reps], outputs=[reps])\n",
        "    return model\n",
        "\n",
        "reps_model = get_reps_model()"
      ],
      "metadata": {
        "id": "l7gACm3jbIrM"
      },
      "execution_count": null,
      "outputs": []
    },
    {
      "cell_type": "code",
      "source": [
        "# Check số lượng tham số \n",
        "reps_model.summary()"
      ],
      "metadata": {
        "colab": {
          "base_uri": "https://localhost:8080/"
        },
        "id": "OXV7OYa9bfxd",
        "outputId": "4563f644-1cf5-4df1-902a-554218d64541"
      },
      "execution_count": null,
      "outputs": [
        {
          "output_type": "stream",
          "name": "stdout",
          "text": [
            "Model: \"model_59\"\n",
            "_________________________________________________________________\n",
            " Layer (type)                Output Shape              Param #   \n",
            "=================================================================\n",
            " input_reps (InputLayer)     [(None, 50)]              0         \n",
            "                                                                 \n",
            " representations (Dense)     (None, 5000)              255000    \n",
            "                                                                 \n",
            "=================================================================\n",
            "Total params: 255,000\n",
            "Trainable params: 255,000\n",
            "Non-trainable params: 0\n",
            "_________________________________________________________________\n"
          ]
        }
      ]
    },
    {
      "cell_type": "code",
      "source": [
        "def Focus2(alpha=0.01):\n",
        "    def cal_los(y_true, y_pred):\n",
        "        y_pred = tf.cast(y_pred, tf.float32)\n",
        "        y_true = tf.cast(y_true, tf.float32)\n",
        "\n",
        "        positive_true = y_true[y_true!=0]\n",
        "        positive_pred = y_pred[y_true!=0]\n",
        "        los1 = K.abs(positive_true-positive_pred )\n",
        "\n",
        "        zero_true = y_true[y_true==0]\n",
        "        zero_pred = y_pred[y_true==0]\n",
        "        los2 =alpha*  K.abs(zero_true-zero_pred )\n",
        "\n",
        "\n",
        "        return K.sum( tf.concat([los1, los2], axis=0) )/( positive_true.shape[0] + alpha * zero_true.shape[0])\n",
        "    return cal_los\n",
        "\n",
        "y_true = tf.constant([1,0.2,0.1,1])\n",
        "y_pred = tf.constant([1,0,5.2,1.005])\n",
        "\n",
        "Focus2(0.01)(y_true, y_pred)"
      ],
      "metadata": {
        "colab": {
          "base_uri": "https://localhost:8080/"
        },
        "id": "pgYmc_p_ht_Q",
        "outputId": "2e230fff-2cc0-472c-907c-d7fb192d7319"
      },
      "execution_count": null,
      "outputs": [
        {
          "output_type": "execute_result",
          "data": {
            "text/plain": [
              "<tf.Tensor: shape=(), dtype=float32, numpy=1.32625>"
            ]
          },
          "metadata": {},
          "execution_count": 139
        }
      ]
    },
    {
      "cell_type": "markdown",
      "source": [
        "### Tối ưu tham số"
      ],
      "metadata": {
        "id": "tFbft_zYLDdE"
      }
    },
    {
      "cell_type": "code",
      "source": [
        "\n",
        "# input_wi = [\"1 2 5 3\"]\n",
        "\n",
        "# test_vectorizer = layers.TextVectorization( max_tokens=6, split='whitespace', output_sequence_length= 5, name = 'maskvec')\n",
        "# test_vectorizer.adapt( [input_wi] ) \n",
        "# wi = test_vectorizer(input_wi)\n",
        "# print(wi)\n",
        "# wi = layers.Embedding(input_dim= 6, output_dim= 5, mask_zero= False, name='ei')(wi)\n",
        "# print(wi)\n",
        "# wi = layers.Dense(5, activation='relu', name='di')(wi)\n",
        "# print(wi)\n",
        "# wr = np.array([0.1, 0.2, 0.5, 1, 0])\n",
        "\n",
        "# ireps = Broadcasting_Multiply(name='mul')([wi, wr])\n",
        "# print(ireps)\n",
        "# uprofile = layers.Lambda(lambda z: K.sum(z, axis=1), name='lambda')(ireps)\n",
        "# print(uprofile)\n",
        "# uprofile = layers.LayerNormalization(name='norm')(uprofile)\n",
        "# print(uprofile)\n",
        "# uprofile = layers.Dense( 4, activation='linear', name='du1')(uprofile)\n",
        "# print(uprofile)\n",
        "# uprofile = layers.Dense( 4, activation='relu', name='du2')(uprofile)\n",
        "# print(uprofile)\n",
        "# # uprofile = layers.Dense( reps_size, activation='relu', name='du3')(uprofile)\n",
        "# # uprofile = layers.Dense(cluster_num, activation='sigmoid', name='clustering')(uprofile)"
      ],
      "metadata": {
        "id": "EnBEcssCvr5K"
      },
      "execution_count": null,
      "outputs": []
    },
    {
      "cell_type": "code",
      "source": [
        "tf.math.count_nonzero"
      ],
      "metadata": {
        "colab": {
          "base_uri": "https://localhost:8080/"
        },
        "id": "7g5T_k5XBZKf",
        "outputId": "4a6354da-3ba8-4e94-f698-15a90e7a8aca"
      },
      "execution_count": null,
      "outputs": [
        {
          "output_type": "execute_result",
          "data": {
            "text/plain": [
              "<function tensorflow.python.ops.math_ops.count_nonzero_v2>"
            ]
          },
          "metadata": {},
          "execution_count": 226
        }
      ]
    },
    {
      "cell_type": "code",
      "source": [
        "# Xây dựng mạng\n",
        "embedding_size = 173\n",
        "reps_size = 132\n",
        "cluster_num = 43\n",
        "\n",
        "def interaction_embedding2():\n",
        "\n",
        "    input_wi = layers.Input(shape=(1,), name='input_wi')\n",
        "    wi = vectorizer(input_wi)\n",
        "    wi = layers.Embedding(input_dim= max_vocab_size, output_dim= embedding_size, mask_zero= False, name='ei')(wi)\n",
        "    wi = layers.Dense(embedding_size, activation='relu', name='di')(wi)\n",
        "\n",
        "    wr = layers.Input(shape=(wu_size,), name='warm_up_ratings')\n",
        "\n",
        "    ireps = Broadcasting_Multiply(name='mul')([wi, wr])\n",
        "    uprofile = layers.Lambda(lambda z: K.sum(z[0], axis=1)/tf.expand_dims(tf.cast(tf.math.count_nonzero(z[1], axis=1), tf.float32), -1) )([ireps, wr])\n",
        "    # uprofile = layers.Lambda(lambda z: K.sum(z, axis=1) )(ireps)\n",
        "    # uprofile = layers.LayerNormalization(name='norm')(uprofile)\n",
        "\n",
        "    uprofile = layers.Dense( reps_size, activation='linear', name='du1')(uprofile)\n",
        "    # uprofile = layers.Dense( reps_size, activation='relu', name='du2')(uprofile)\n",
        "    # uprofile = layers.Dense( reps_size, activation='relu', name='du3')(uprofile)\n",
        "    uprofile = layers.LayerNormalization(name='norm')(uprofile)\n",
        "    # uprofile = layers.BatchNormalization(name='norm')(uprofile)\n",
        "    uprofile = layers.Dense(cluster_num, activation='softmax', name='clustering')(uprofile)\n",
        "    \n",
        "    model = tf.keras.Model(inputs= [input_wi, wr], outputs=[uprofile])\n",
        "    return model"
      ],
      "metadata": {
        "id": "WPrKlGwedvZx"
      },
      "execution_count": 151,
      "outputs": []
    },
    {
      "cell_type": "code",
      "source": [
        "# model = Efficient_Rec( encoder = interaction_embedding2(), \n",
        "#                       reps = get_reps_model(),\n",
        "#                       decoder = mask_label(),\n",
        "#                       use_tf_function=False)\n",
        "\n",
        "# # Configure the loss and optimizer\n",
        "# model.compile(\n",
        "#     optimizer=tf.optimizers.Adam(),\n",
        "#     loss=Focus2(0.0065),\n",
        "# )"
      ],
      "metadata": {
        "id": "53ekTYluhxTG"
      },
      "execution_count": 152,
      "outputs": []
    },
    {
      "cell_type": "markdown",
      "source": [
        "### Constrastive model"
      ],
      "metadata": {
        "id": "pQokgKdL33ux"
      }
    },
    {
      "cell_type": "code",
      "source": [
        "# Thực hiện training\n",
        "# TODO: sửa lại shift thành np.roll\n",
        "def _constrastive_train_step(self, inputs):\n",
        "    warm_up, mask = self._wu_mask_split(inputs.sample(frac=1), mask_ratio = 0.25)\n",
        "    wu_items, wu_ratings = self._preprocess(warm_up, wu_size)\n",
        "    mask_item, mask_ratings = self._preprocess(mask, wu_size)\n",
        "\n",
        "    negative_items = wu_items.shift(1, axis=0, fill_value=['0 ']) #np.roll( wu_items, shift= 1, axis=0)\n",
        "    negative_ratings =  np.roll( wu_ratings, shift= 1, axis=0)\n",
        "\n",
        "    with tf.GradientTape() as tape:\n",
        "        # Interaction embedding\n",
        "        wu_vec = self.encoder([wu_items, wu_ratings])\n",
        "        mask_vec = self.encoder([mask_item, mask_ratings])\n",
        "        negative_vec = self.encoder([negative_items, negative_ratings])\n",
        "\n",
        "\n",
        "        average_loss = self.loss(wu_vec, mask_vec, negative_vec)\n",
        "\n",
        "    # Apply an optimization step\n",
        "    variables = self.trainable_variables \n",
        "    gradients = tape.gradient(average_loss, variables)\n",
        "    self.optimizer.apply_gradients(zip(gradients, variables))\n",
        "\n",
        "    # Return a dict mapping metric names to current value\n",
        "    return {'batch_loss': average_loss}\n",
        "\n",
        "Efficient_Rec._constrastive_train_step = _constrastive_train_step"
      ],
      "metadata": {
        "id": "vuBMn3DD0BaM"
      },
      "execution_count": 153,
      "outputs": []
    },
    {
      "cell_type": "code",
      "source": [
        "def constrastive_loss(margin=0.01):\n",
        "    def compute_loss(wu_vec, mask_vec, negative_vec):\n",
        "        ap_distance = tf.linalg.norm(wu_vec - mask_vec, axis=1)\n",
        "        an_distance = tf.linalg.norm(wu_vec - negative_vec, axis=1)\n",
        "        # Computing the Triplet Loss by subtracting both distances and\n",
        "        # making sure we don't get a negative value.\n",
        "        loss = ap_distance - an_distance\n",
        "        # print(loss)\n",
        "        loss = tf.maximum(loss + margin, 0.0)\n",
        "        loss =tf.reduce_mean(loss)\n",
        "        return loss\n",
        "    return compute_loss\n",
        "\n",
        "\n",
        "# Compile model\n",
        "model = Efficient_Rec( encoder = interaction_embedding2(), \n",
        "                      reps = None, #get_reps_model(),\n",
        "                      decoder = None ,# mask_label(),\n",
        "                      use_tf_function=False)\n",
        "\n",
        "# Configure the loss and optimizer\n",
        "model.compile(\n",
        "    optimizer=tf.optimizers.Adam(),\n",
        "    loss=constrastive_loss(margin= 1),\n",
        ")"
      ],
      "metadata": {
        "id": "D5W_j9I7z5Qn"
      },
      "execution_count": 198,
      "outputs": []
    },
    {
      "cell_type": "code",
      "source": [
        "%%time\n",
        "epochs= 20\n",
        "for n in range(epochs):\n",
        "  print(n, \"/\", epochs, \": \", model._constrastive_train_step( interac_df ))\n",
        "#   print(model.layers[0].layers[-2].trainable_variables[0])\n",
        "\n",
        "gc.collect()"
      ],
      "metadata": {
        "colab": {
          "base_uri": "https://localhost:8080/",
          "height": 1000
        },
        "id": "YEJoow5P1Hnt",
        "outputId": "2f110b67-bbfb-4d50-ff47-864c2ebe90b9"
      },
      "execution_count": 199,
      "outputs": [
        {
          "output_type": "stream",
          "name": "stdout",
          "text": [
            "0 / 20 :  {'batch_loss': <tf.Tensor: shape=(), dtype=float32, numpy=0.99926174>}\n",
            "<tf.Variable 'norm/gamma:0' shape=(132,) dtype=float32, numpy=\n",
            "array([1.000968  , 0.99903435, 0.9990152 , 0.99919134, 1.0009898 ,\n",
            "       0.99900985, 0.99904174, 1.0009232 , 0.9990079 , 0.99904096,\n",
            "       1.00095   , 0.9990223 , 1.000857  , 1.0009898 , 0.9990163 ,\n",
            "       0.99901944, 1.0009693 , 0.9990372 , 1.0009731 , 1.0009723 ,\n",
            "       0.99902564, 0.9991039 , 0.9990228 , 0.99901426, 1.0009757 ,\n",
            "       0.99902815, 0.9990538 , 0.99906796, 0.99915963, 0.99903685,\n",
            "       1.0009944 , 0.99901295, 0.99905217, 1.000728  , 1.0009886 ,\n",
            "       1.0009891 , 1.0009872 , 0.99912304, 0.999054  , 0.99901724,\n",
            "       0.9995239 , 0.99902064, 1.0009181 , 1.0009779 , 0.9991094 ,\n",
            "       0.9992078 , 0.99902225, 0.9990252 , 0.99901086, 1.0009956 ,\n",
            "       1.0008681 , 1.000983  , 1.0009874 , 1.0009905 , 1.0009876 ,\n",
            "       0.9990283 , 0.9990297 , 0.9990705 , 0.9990486 , 1.0009621 ,\n",
            "       1.0009671 , 1.0009025 , 1.0009662 , 0.9990247 , 1.0009941 ,\n",
            "       1.000915  , 1.0009772 , 1.0008308 , 1.0009909 , 0.99909747,\n",
            "       1.0009223 , 1.0009153 , 1.0009319 , 1.0009916 , 1.0009778 ,\n",
            "       1.0009838 , 0.9990207 , 1.000972  , 1.0009515 , 1.0009576 ,\n",
            "       1.0009341 , 0.99912614, 1.000982  , 0.9995144 , 0.99942094,\n",
            "       1.0009792 , 0.99902004, 0.9990334 , 1.0009781 , 0.99944365,\n",
            "       1.0009292 , 1.0009809 , 0.99906456, 1.0009583 , 1.0009787 ,\n",
            "       1.000945  , 1.0009602 , 0.9990324 , 0.999033  , 0.9990395 ,\n",
            "       1.0009522 , 1.000986  , 1.0009463 , 0.9990198 , 0.99908656,\n",
            "       0.9990699 , 0.9990414 , 1.0007659 , 1.0009717 , 0.9992168 ,\n",
            "       0.9990281 , 0.9990247 , 1.0009077 , 0.99901015, 0.9990246 ,\n",
            "       1.0008966 , 0.99901223, 1.0009851 , 0.9990183 , 0.99901944,\n",
            "       0.99913895, 1.0009935 , 0.99901354, 0.9990151 , 0.9990255 ,\n",
            "       0.9990146 , 0.9991719 , 0.99906033, 1.0008943 , 0.99913555,\n",
            "       0.9990166 , 0.9990268 ], dtype=float32)>\n",
            "1 / 20 :  {'batch_loss': <tf.Tensor: shape=(), dtype=float32, numpy=0.9873759>}\n",
            "<tf.Variable 'norm/gamma:0' shape=(132,) dtype=float32, numpy=\n",
            "array([1.0017766 , 0.99899787, 0.9990201 , 0.99840367, 1.0018336 ,\n",
            "       0.99801767, 0.998095  , 1.0017465 , 0.9980129 , 0.998208  ,\n",
            "       1.0014035 , 0.99805653, 1.0012045 , 1.0018873 , 0.99809474,\n",
            "       0.99807805, 1.0019122 , 0.9990841 , 1.0017724 , 1.0004077 ,\n",
            "       0.9980415 , 0.9982828 , 0.9990218 , 0.9981704 , 1.0018727 ,\n",
            "       0.99807185, 0.9982203 , 0.9982863 , 0.9998205 , 0.99806213,\n",
            "       1.0018773 , 0.9980905 , 0.9980899 , 1.0014997 , 1.0019774 ,\n",
            "       1.001899  , 1.0018781 , 0.9998441 , 0.99825156, 0.99803275,\n",
            "       1.0002277 , 0.9981076 , 1.0014913 , 1.0017978 , 0.9997266 ,\n",
            "       0.99987155, 0.9980885 , 0.99808055, 0.99808216, 1.0019033 ,\n",
            "       1.0016587 , 1.0017985 , 1.001873  , 1.0019286 , 1.0018297 ,\n",
            "       0.9980533 , 0.9980864 , 0.9996832 , 0.9995801 , 1.0017694 ,\n",
            "       1.001817  , 1.001802  , 1.0018467 , 0.99804264, 1.0019505 ,\n",
            "       1.0016866 , 1.0019542 , 1.0015852 , 1.0018524 , 0.99964964,\n",
            "       1.0017403 , 1.0003012 , 1.00188   , 1.001925  , 1.0018792 ,\n",
            "       1.0018517 , 0.99804115, 1.0018497 , 1.0017812 , 1.0003515 ,\n",
            "       1.0018593 , 0.99823695, 1.0019153 , 0.9987767 , 1.0000585 ,\n",
            "       1.0018528 , 0.99807084, 0.9987893 , 1.0018396 , 0.9986963 ,\n",
            "       1.0018067 , 1.0019355 , 0.9981832 , 1.0017986 , 1.0018387 ,\n",
            "       1.0019094 , 1.0018991 , 0.9980599 , 0.9989679 , 0.9991906 ,\n",
            "       1.0018384 , 1.0018964 , 1.0003505 , 0.99810344, 0.99931943,\n",
            "       0.9981152 , 0.99854875, 1.000058  , 1.0018538 , 0.9984067 ,\n",
            "       0.9994821 , 0.9984551 , 1.0002146 , 0.9981339 , 0.9981583 ,\n",
            "       1.0016572 , 0.9980201 , 1.0011576 , 0.99820423, 0.9982457 ,\n",
            "       0.99823356, 1.0019828 , 0.99814945, 0.99812865, 0.99843967,\n",
            "       0.9980293 , 0.9988823 , 0.9981587 , 1.0017169 , 0.9997355 ,\n",
            "       0.9994352 , 0.99805003], dtype=float32)>\n",
            "2 / 20 :  {'batch_loss': <tf.Tensor: shape=(), dtype=float32, numpy=0.96969235>}\n",
            "<tf.Variable 'norm/gamma:0' shape=(132,) dtype=float32, numpy=\n",
            "array([1.0026442 , 0.99958825, 0.9993803 , 0.99786323, 1.0027246 ,\n",
            "       0.9971791 , 0.99713284, 1.0026345 , 0.99701977, 0.9973182 ,\n",
            "       1.0010563 , 0.9971818 , 1.0017278 , 1.0027459 , 0.9971431 ,\n",
            "       0.99712765, 1.0026363 , 0.99958056, 1.0026158 , 0.9996372 ,\n",
            "       0.99712366, 0.99742997, 0.99961823, 0.99743223, 1.0027674 ,\n",
            "       0.99722195, 0.99736476, 0.9974405 , 1.000629  , 0.9971389 ,\n",
            "       1.0027695 , 0.99731594, 0.99847126, 1.0022439 , 1.0029718 ,\n",
            "       1.002839  , 1.0028058 , 1.0006402 , 0.99738765, 0.99717444,\n",
            "       1.0010492 , 0.9971675 , 1.0011095 , 1.0026783 , 1.0004795 ,\n",
            "       1.0005869 , 0.9975192 , 0.99722874, 0.9971265 , 1.0028139 ,\n",
            "       1.0024382 , 1.0026606 , 1.0027976 , 1.0028079 , 1.0027119 ,\n",
            "       0.9974394 , 0.99728405, 1.0004302 , 1.000334  , 1.0026308 ,\n",
            "       1.0026882 , 1.002694  , 1.0026867 , 0.9970908 , 1.0028731 ,\n",
            "       1.0024852 , 1.0021114 , 1.0023742 , 1.0027103 , 1.0003959 ,\n",
            "       1.0025953 , 0.9995804 , 1.0027261 , 1.0028422 , 1.0027089 ,\n",
            "       1.0027248 , 0.9972235 , 1.002664  , 1.002668  , 0.99957484,\n",
            "       1.0027556 , 0.997586  , 1.0028771 , 0.9979628 , 0.99982786,\n",
            "       1.0027238 , 0.9972471 , 0.99931395, 1.0027351 , 0.99890906,\n",
            "       1.0026884 , 1.0028068 , 0.9982359 , 1.0026126 , 1.002674  ,\n",
            "       1.0028845 , 1.0026835 , 0.9970979 , 0.99884975, 0.9997926 ,\n",
            "       1.002668  , 1.0027574 , 0.99957   , 0.99719906, 0.9999718 ,\n",
            "       0.9985996 , 0.9989234 , 0.99921924, 1.0027388 , 0.99895066,\n",
            "       1.0002089 , 0.99886835, 0.9993822 , 0.99724233, 0.99861616,\n",
            "       1.002451  , 0.9970604 , 1.0005652 , 0.99849325, 0.9982876 ,\n",
            "       0.99872637, 1.0029609 , 0.99723786, 0.99755836, 0.9978186 ,\n",
            "       0.9974614 , 0.99937844, 0.9972203 , 1.0025604 , 1.0005127 ,\n",
            "       1.0001495 , 0.9972541 ], dtype=float32)>\n",
            "3 / 20 :  {'batch_loss': <tf.Tensor: shape=(), dtype=float32, numpy=0.97178227>}\n",
            "<tf.Variable 'norm/gamma:0' shape=(132,) dtype=float32, numpy=\n",
            "array([1.0035597 , 1.0003371 , 1.0000217 , 0.99714357, 1.0036565 ,\n",
            "       0.9962946 , 0.9968914 , 1.0035456 , 0.9961977 , 0.9964771 ,\n",
            "       1.0010624 , 0.9971681 , 1.0023168 , 1.0036556 , 0.9962939 ,\n",
            "       0.99634606, 1.0034572 , 1.000276  , 1.0034151 , 0.9988039 ,\n",
            "       0.9967088 , 0.9972043 , 0.9997045 , 0.99782944, 1.003687  ,\n",
            "       0.9967339 , 0.9964692 , 0.99655586, 1.0014726 , 0.99640447,\n",
            "       1.003703  , 0.9968189 , 0.99912214, 1.0030829 , 1.0039705 ,\n",
            "       1.0037715 , 1.0037477 , 1.0015134 , 0.9964959 , 0.9972584 ,\n",
            "       1.0019222 , 0.99658316, 1.0015363 , 1.0036039 , 1.0012876 ,\n",
            "       1.0013878 , 0.99766433, 0.99633884, 0.9969236 , 1.0037553 ,\n",
            "       1.0032938 , 1.0035452 , 1.0037341 , 1.0037311 , 1.0036386 ,\n",
            "       0.9972795 , 0.99657893, 1.0012623 , 1.0009987 , 1.0035369 ,\n",
            "       1.003608  , 1.0035766 , 1.003555  , 0.9966185 , 1.0038085 ,\n",
            "       1.0033528 , 1.001749  , 1.0031828 , 1.0036092 , 1.0012344 ,\n",
            "       1.0034739 , 0.99897045, 1.0029624 , 1.0037885 , 1.0035977 ,\n",
            "       1.0036439 , 0.9966725 , 1.003536  , 1.0035546 , 0.99912703,\n",
            "       1.0036173 , 0.99680597, 1.0038536 , 0.9981631 , 0.99997056,\n",
            "       1.0036433 , 0.99637693, 0.99937934, 1.0036706 , 0.99913657,\n",
            "       1.0035409 , 1.0037253 , 0.99880403, 1.0034965 , 1.0035456 ,\n",
            "       1.0036693 , 1.0034269 , 0.9964358 , 0.9993552 , 1.000495  ,\n",
            "       1.0035439 , 1.0036694 , 0.99904144, 0.9965055 , 1.000725  ,\n",
            "       0.9992972 , 0.99928135, 0.99857247, 1.0036657 , 0.999681  ,\n",
            "       1.000974  , 0.99949485, 0.9985645 , 0.99657494, 0.99909085,\n",
            "       1.003306  , 0.9970897 , 0.99986494, 0.9991027 , 0.998798  ,\n",
            "       0.99938405, 1.0039405 , 0.9962958 , 0.99714065, 0.9977583 ,\n",
            "       0.9977887 , 1.0000777 , 0.99712646, 1.0034614 , 1.0012866 ,\n",
            "       1.0009729 , 0.99770916], dtype=float32)>\n",
            "4 / 20 :  {'batch_loss': <tf.Tensor: shape=(), dtype=float32, numpy=0.8673641>}\n",
            "<tf.Variable 'norm/gamma:0' shape=(132,) dtype=float32, numpy=\n",
            "array([1.0044262 , 1.0011487 , 1.0007664 , 0.9975703 , 1.0045793 ,\n",
            "       0.99584794, 0.9963702 , 1.0044109 , 0.99578744, 0.99558246,\n",
            "       1.0005579 , 0.9973374 , 1.0030521 , 1.0045688 , 0.9953978 ,\n",
            "       0.9957458 , 1.0043322 , 1.001071  , 1.0042306 , 0.99796176,\n",
            "       0.9961319 , 0.9970651 , 1.0002381 , 0.9984643 , 1.0045915 ,\n",
            "       0.996181  , 0.9955385 , 0.9956382 , 1.0023688 , 0.99567014,\n",
            "       1.0046033 , 0.99626577, 0.99987555, 1.0038899 , 1.0049747 ,\n",
            "       1.0047232 , 1.004697  , 1.0024092 , 0.9955855 , 0.9977764 ,\n",
            "       1.0026953 , 0.9962779 , 1.0021675 , 1.0045338 , 1.0021249 ,\n",
            "       1.0021988 , 0.9980698 , 0.9955317 , 0.99660546, 1.0046974 ,\n",
            "       1.0041455 , 1.0044023 , 1.0046594 , 1.0046564 , 1.0045241 ,\n",
            "       0.9976426 , 0.9957838 , 1.0020627 , 1.0017805 , 1.0044209 ,\n",
            "       1.0045104 , 1.0044842 , 1.004426  , 0.99638283, 1.0047647 ,\n",
            "       1.0042199 , 1.0011303 , 1.0040141 , 1.0045182 , 1.0020587 ,\n",
            "       1.004381  , 0.99876016, 1.0035377 , 1.0047387 , 1.0044734 ,\n",
            "       1.0045061 , 0.9966766 , 1.0044496 , 1.0044583 , 0.99907255,\n",
            "       1.0042806 , 0.9960308 , 1.0046529 , 0.9983638 , 1.0003628 ,\n",
            "       1.0045364 , 0.99629873, 0.9997844 , 1.004595  , 0.9996504 ,\n",
            "       1.0041826 , 1.004636  , 0.9995275 , 1.0044168 , 1.0044136 ,\n",
            "       1.0042694 , 1.0041789 , 0.9956688 , 1.0000465 , 1.001151  ,\n",
            "       1.0044589 , 1.0046022 , 0.99834114, 0.9962582 , 1.0015507 ,\n",
            "       1.0000437 , 0.99989724, 0.99789155, 1.0045534 , 1.0004718 ,\n",
            "       1.0018032 , 1.0001782 , 0.9977323 , 0.99579424, 0.9997091 ,\n",
            "       1.0041802 , 0.9975782 , 0.999061  , 0.9998084 , 0.9994311 ,\n",
            "       1.000051  , 1.0049198 , 0.9953316 , 0.9969589 , 0.99775404,\n",
            "       0.99837196, 1.0003501 , 0.9974913 , 1.00437   , 1.0020862 ,\n",
            "       1.0018051 , 0.9983324 ], dtype=float32)>\n",
            "5 / 20 :  {'batch_loss': <tf.Tensor: shape=(), dtype=float32, numpy=0.8831028>}\n",
            "<tf.Variable 'norm/gamma:0' shape=(132,) dtype=float32, numpy=\n",
            "array([1.0050966 , 1.0019345 , 1.0013409 , 0.9975744 , 1.0053226 ,\n",
            "       0.99537814, 0.995703  , 1.0049553 , 0.995273  , 0.99466276,\n",
            "       1.0000112 , 0.99718636, 1.0038365 , 1.0052617 , 0.99462754,\n",
            "       0.99530464, 1.0050774 , 1.0015999 , 1.0048344 , 0.997167  ,\n",
            "       0.9954595 , 0.9968207 , 1.0004684 , 0.9986987 , 1.0052398 ,\n",
            "       0.9955712 , 0.9946489 , 0.9948893 , 1.0030707 , 0.9949396 ,\n",
            "       1.0053424 , 0.9957202 , 1.0003664 , 1.0045555 , 1.0054264 ,\n",
            "       1.0053824 , 1.0053973 , 1.003027  , 0.9946478 , 0.99798375,\n",
            "       1.0026356 , 0.9957417 , 1.0025489 , 1.0053234 , 1.002365  ,\n",
            "       1.0028834 , 0.9982867 , 0.99468464, 0.99627113, 1.005489  ,\n",
            "       1.0049645 , 1.0051194 , 1.0053484 , 1.0053077 , 1.0052058 ,\n",
            "       0.9979854 , 0.9949788 , 1.0026261 , 1.0024935 , 1.0051109 ,\n",
            "       1.0050784 , 1.0049819 , 1.0050305 , 0.9959618 , 1.005514  ,\n",
            "       1.0049152 , 1.0005165 , 1.0046794 , 1.0052923 , 1.0025285 ,\n",
            "       1.0046663 , 0.9982313 , 1.003737  , 1.0053355 , 1.0052255 ,\n",
            "       1.0051405 , 0.9963049 , 1.005093  , 1.0052408 , 0.9988071 ,\n",
            "       1.0050409 , 0.99518514, 1.0048136 , 0.9987431 , 1.0006535 ,\n",
            "       1.0051975 , 0.9960322 , 0.99973017, 1.0051178 , 1.0002615 ,\n",
            "       1.0048609 , 1.005331  , 1.0001341 , 1.0051659 , 1.0050683 ,\n",
            "       1.003972  , 1.0048192 , 0.9952766 , 0.9999931 , 1.0016255 ,\n",
            "       1.005109  , 1.0052773 , 0.997719  , 0.99619013, 1.0021831 ,\n",
            "       1.0006367 , 1.0002096 , 0.99717057, 1.00519   , 1.0008588 ,\n",
            "       1.0024309 , 1.0008548 , 0.9968458 , 0.99508375, 1.0003045 ,\n",
            "       1.0049546 , 0.997955  , 0.9983238 , 1.0001746 , 0.9999684 ,\n",
            "       1.0004312 , 1.0056083 , 0.99443483, 0.99679166, 0.9973321 ,\n",
            "       0.99886537, 1.0001622 , 0.99762166, 1.0049992 , 1.0028228 ,\n",
            "       1.0025159 , 0.9985889 ], dtype=float32)>\n",
            "6 / 20 :  {'batch_loss': <tf.Tensor: shape=(), dtype=float32, numpy=0.8367077>}\n",
            "<tf.Variable 'norm/gamma:0' shape=(132,) dtype=float32, numpy=\n",
            "array([1.0055088 , 1.0025394 , 1.0018573 , 0.9974039 , 1.006012  ,\n",
            "       0.99473244, 0.994952  , 1.005165  , 0.99470854, 0.9937228 ,\n",
            "       0.9993962 , 0.9967685 , 1.0046337 , 1.0058281 , 0.9938764 ,\n",
            "       0.994889  , 1.0055294 , 1.0017618 , 1.0052261 , 0.99637276,\n",
            "       0.9947864 , 0.9964048 , 1.000441  , 0.99876356, 1.0057188 ,\n",
            "       0.99494654, 0.9937241 , 0.99417233, 1.0035769 , 0.9942672 ,\n",
            "       1.0059495 , 0.99529254, 1.0004457 , 1.0051689 , 1.0055013 ,\n",
            "       1.0059123 , 1.0058982 , 1.0035214 , 0.9936853 , 0.99806875,\n",
            "       1.0023649 , 0.9950816 , 1.0029384 , 1.0058914 , 1.0024549 ,\n",
            "       1.0034621 , 0.9981071 , 0.9938411 , 0.99589115, 1.0061753 ,\n",
            "       1.0057087 , 1.0058085 , 1.0059143 , 1.0058607 , 1.005728  ,\n",
            "       0.9979933 , 0.9941652 , 1.0031829 , 1.0030583 , 1.0056636 ,\n",
            "       1.0054728 , 1.0051787 , 1.0054345 , 0.99533945, 1.0060694 ,\n",
            "       1.0055462 , 0.99988735, 1.0051956 , 1.005925  , 1.002808  ,\n",
            "       1.0047251 , 0.9975599 , 1.0035539 , 1.0057111 , 1.0059247 ,\n",
            "       1.0056471 , 0.99574447, 1.005582  , 1.0058554 , 0.99828935,\n",
            "       1.0057888 , 0.99431205, 1.0047234 , 0.99910134, 1.0010846 ,\n",
            "       1.0057422 , 0.995816  , 0.9993888 , 1.0054668 , 1.0009906 ,\n",
            "       1.0055102 , 1.0058562 , 1.0006107 , 1.0057789 , 1.0055836 ,\n",
            "       1.003449  , 1.0053204 , 0.9947371 , 0.9998728 , 1.0019295 ,\n",
            "       1.0055237 , 1.0058203 , 0.9970998 , 0.9963625 , 1.0025613 ,\n",
            "       1.0009398 , 1.0003124 , 0.9964361 , 1.0057303 , 1.0011418 ,\n",
            "       1.0029818 , 1.0013375 , 0.9959455 , 0.99437165, 1.000782  ,\n",
            "       1.0055318 , 0.99805427, 0.99759287, 1.0004208 , 1.0004812 ,\n",
            "       1.0003884 , 1.0061971 , 0.99357045, 0.9965952 , 0.99678963,\n",
            "       0.9990017 , 0.9999703 , 0.9974295 , 1.005527  , 1.0033872 ,\n",
            "       1.003076  , 0.99869305], dtype=float32)>\n",
            "7 / 20 :  {'batch_loss': <tf.Tensor: shape=(), dtype=float32, numpy=0.83481646>}\n",
            "<tf.Variable 'norm/gamma:0' shape=(132,) dtype=float32, numpy=\n",
            "array([1.0057305 , 1.0026774 , 1.0021603 , 0.9971222 , 1.0065194 ,\n",
            "       0.9940772 , 0.99417496, 1.0051279 , 0.99417573, 0.9927575 ,\n",
            "       0.99879605, 0.9962241 , 1.0053059 , 1.0062478 , 0.99306065,\n",
            "       0.99438065, 1.0058014 , 1.0017266 , 1.0055395 , 0.9955841 ,\n",
            "       0.9941864 , 0.9958122 , 1.0002083 , 0.9985416 , 1.0058589 ,\n",
            "       0.9943424 , 0.9928257 , 0.99359727, 1.0035428 , 0.9936316 ,\n",
            "       1.0063221 , 0.9949822 , 1.000197  , 1.0056616 , 1.0052328 ,\n",
            "       1.0062097 , 1.0061256 , 1.0037439 , 0.9927377 , 0.99782515,\n",
            "       1.0018884 , 0.9943178 , 1.0031527 , 1.0061535 , 1.0022323 ,\n",
            "       1.0038139 , 0.9976213 , 0.9929498 , 0.99541247, 1.0066423 ,\n",
            "       1.0060654 , 1.0063425 , 1.0062411 , 1.006242  , 1.0060611 ,\n",
            "       0.9977764 , 0.9933769 , 1.0035107 , 1.003386  , 1.0060064 ,\n",
            "       1.0057404 , 1.005003  , 1.0055935 , 0.9946889 , 1.0063    ,\n",
            "       1.0060828 , 0.9992629 , 1.0055339 , 1.0064138 , 1.0027441 ,\n",
            "       1.004532  , 0.9967897 , 1.0030811 , 1.0058233 , 1.0064642 ,\n",
            "       1.0059354 , 0.9950652 , 1.0058041 , 1.0061946 , 0.9976575 ,\n",
            "       1.0065826 , 0.9934519 , 1.0044959 , 0.9993121 , 1.0015669 ,\n",
            "       1.0061765 , 0.9956397 , 0.9988179 , 1.0056456 , 1.001791  ,\n",
            "       1.0060297 , 1.0061308 , 1.0009078 , 1.006223  , 1.005947  ,\n",
            "       1.0027963 , 1.0056906 , 0.9941555 , 0.99955815, 1.0019236 ,\n",
            "       1.0056658 , 1.0061674 , 0.9965242 , 0.9965517 , 1.0026844 ,\n",
            "       1.0011922 , 1.0003475 , 0.9956276 , 1.0060654 , 1.0011939 ,\n",
            "       1.0033954 , 1.0017797 , 0.99504334, 0.9936158 , 1.0011213 ,\n",
            "       1.0058204 , 0.99793136, 0.9969323 , 1.0006524 , 1.0007786 ,\n",
            "       1.0000566 , 1.0065682 , 0.99285185, 0.9963964 , 0.99615616,\n",
            "       0.9988358 , 0.99994045, 0.996997  , 1.0058869 , 1.0036556 ,\n",
            "       1.003398  , 0.998652  ], dtype=float32)>\n",
            "8 / 20 :  {'batch_loss': <tf.Tensor: shape=(), dtype=float32, numpy=0.7846277>}\n",
            "<tf.Variable 'norm/gamma:0' shape=(132,) dtype=float32, numpy=\n",
            "array([1.0058676 , 1.002762  , 1.0023817 , 0.996789  , 1.0069901 ,\n",
            "       0.99367964, 0.993433  , 1.0050986 , 0.99364924, 0.9918513 ,\n",
            "       0.9982799 , 0.995621  , 1.0058948 , 1.0065317 , 0.99227583,\n",
            "       0.9937771 , 1.0060935 , 1.001647  , 1.0058188 , 0.99476206,\n",
            "       0.9936127 , 0.9951178 , 0.99988115, 0.99822783, 1.005872  ,\n",
            "       0.99373835, 0.99190867, 0.9930813 , 1.0032588 , 0.99309677,\n",
            "       1.0066353 , 0.9947692 , 0.9998399 , 1.006071  , 1.0048374 ,\n",
            "       1.0064825 , 1.0062991 , 1.003869  , 0.99184746, 0.99745053,\n",
            "       1.0013045 , 0.9935194 , 1.0032367 , 1.0063422 , 1.0018976 ,\n",
            "       1.0040646 , 0.99706644, 0.9920465 , 0.99484813, 1.0070655 ,\n",
            "       1.0063453 , 1.0068179 , 1.0064211 , 1.0065074 , 1.0063424 ,\n",
            "       0.9975831 , 0.9926006 , 1.0037735 , 1.0036694 , 1.0062882 ,\n",
            "       1.0059917 , 1.0047556 , 1.005689  , 0.9939591 , 1.0063566 ,\n",
            "       1.0066125 , 0.99870694, 1.0057812 , 1.0068622 , 1.0025761 ,\n",
            "       1.004264  , 0.99613625, 1.0025908 , 1.0058784 , 1.0069709 ,\n",
            "       1.006122  , 0.9943043 , 1.0059229 , 1.0065233 , 0.9971939 ,\n",
            "       1.0074159 , 0.9925658 , 1.0041443 , 0.9996171 , 1.0020891 ,\n",
            "       1.0066104 , 0.995646  , 0.99812716, 1.0057861 , 1.0025833 ,\n",
            "       1.0066663 , 1.0063473 , 1.0012541 , 1.0066767 , 1.0062304 ,\n",
            "       1.0020574 , 1.0060693 , 0.99358076, 0.9990697 , 1.001846  ,\n",
            "       1.0058228 , 1.0065169 , 0.9959639 , 0.9968377 , 1.0027504 ,\n",
            "       1.0013424 , 1.0005182 , 0.9948844 , 1.0063481 , 1.0011115 ,\n",
            "       1.0038328 , 1.0022888 , 0.9941085 , 0.99283725, 1.0015982 ,\n",
            "       1.0060829 , 0.99755996, 0.996291  , 1.0008473 , 1.0011364 ,\n",
            "       0.99963325, 1.0068504 , 0.99226826, 0.9963253 , 0.99550176,\n",
            "       0.99853814, 0.9999489 , 0.9965416 , 1.0061861 , 1.0037669 ,\n",
            "       1.0036751 , 0.9984214 ], dtype=float32)>\n",
            "9 / 20 :  {'batch_loss': <tf.Tensor: shape=(), dtype=float32, numpy=nan>}\n",
            "<tf.Variable 'norm/gamma:0' shape=(132,) dtype=float32, numpy=\n",
            "array([nan, nan, nan, nan, nan, nan, nan, nan, nan, nan, nan, nan, nan,\n",
            "       nan, nan, nan, nan, nan, nan, nan, nan, nan, nan, nan, nan, nan,\n",
            "       nan, nan, nan, nan, nan, nan, nan, nan, nan, nan, nan, nan, nan,\n",
            "       nan, nan, nan, nan, nan, nan, nan, nan, nan, nan, nan, nan, nan,\n",
            "       nan, nan, nan, nan, nan, nan, nan, nan, nan, nan, nan, nan, nan,\n",
            "       nan, nan, nan, nan, nan, nan, nan, nan, nan, nan, nan, nan, nan,\n",
            "       nan, nan, nan, nan, nan, nan, nan, nan, nan, nan, nan, nan, nan,\n",
            "       nan, nan, nan, nan, nan, nan, nan, nan, nan, nan, nan, nan, nan,\n",
            "       nan, nan, nan, nan, nan, nan, nan, nan, nan, nan, nan, nan, nan,\n",
            "       nan, nan, nan, nan, nan, nan, nan, nan, nan, nan, nan, nan, nan,\n",
            "       nan, nan], dtype=float32)>\n",
            "10 / 20 :  {'batch_loss': <tf.Tensor: shape=(), dtype=float32, numpy=nan>}\n",
            "<tf.Variable 'norm/gamma:0' shape=(132,) dtype=float32, numpy=\n",
            "array([nan, nan, nan, nan, nan, nan, nan, nan, nan, nan, nan, nan, nan,\n",
            "       nan, nan, nan, nan, nan, nan, nan, nan, nan, nan, nan, nan, nan,\n",
            "       nan, nan, nan, nan, nan, nan, nan, nan, nan, nan, nan, nan, nan,\n",
            "       nan, nan, nan, nan, nan, nan, nan, nan, nan, nan, nan, nan, nan,\n",
            "       nan, nan, nan, nan, nan, nan, nan, nan, nan, nan, nan, nan, nan,\n",
            "       nan, nan, nan, nan, nan, nan, nan, nan, nan, nan, nan, nan, nan,\n",
            "       nan, nan, nan, nan, nan, nan, nan, nan, nan, nan, nan, nan, nan,\n",
            "       nan, nan, nan, nan, nan, nan, nan, nan, nan, nan, nan, nan, nan,\n",
            "       nan, nan, nan, nan, nan, nan, nan, nan, nan, nan, nan, nan, nan,\n",
            "       nan, nan, nan, nan, nan, nan, nan, nan, nan, nan, nan, nan, nan,\n",
            "       nan, nan], dtype=float32)>\n",
            "11 / 20 :  {'batch_loss': <tf.Tensor: shape=(), dtype=float32, numpy=nan>}\n",
            "<tf.Variable 'norm/gamma:0' shape=(132,) dtype=float32, numpy=\n",
            "array([nan, nan, nan, nan, nan, nan, nan, nan, nan, nan, nan, nan, nan,\n",
            "       nan, nan, nan, nan, nan, nan, nan, nan, nan, nan, nan, nan, nan,\n",
            "       nan, nan, nan, nan, nan, nan, nan, nan, nan, nan, nan, nan, nan,\n",
            "       nan, nan, nan, nan, nan, nan, nan, nan, nan, nan, nan, nan, nan,\n",
            "       nan, nan, nan, nan, nan, nan, nan, nan, nan, nan, nan, nan, nan,\n",
            "       nan, nan, nan, nan, nan, nan, nan, nan, nan, nan, nan, nan, nan,\n",
            "       nan, nan, nan, nan, nan, nan, nan, nan, nan, nan, nan, nan, nan,\n",
            "       nan, nan, nan, nan, nan, nan, nan, nan, nan, nan, nan, nan, nan,\n",
            "       nan, nan, nan, nan, nan, nan, nan, nan, nan, nan, nan, nan, nan,\n",
            "       nan, nan, nan, nan, nan, nan, nan, nan, nan, nan, nan, nan, nan,\n",
            "       nan, nan], dtype=float32)>\n",
            "12 / 20 :  {'batch_loss': <tf.Tensor: shape=(), dtype=float32, numpy=nan>}\n",
            "<tf.Variable 'norm/gamma:0' shape=(132,) dtype=float32, numpy=\n",
            "array([nan, nan, nan, nan, nan, nan, nan, nan, nan, nan, nan, nan, nan,\n",
            "       nan, nan, nan, nan, nan, nan, nan, nan, nan, nan, nan, nan, nan,\n",
            "       nan, nan, nan, nan, nan, nan, nan, nan, nan, nan, nan, nan, nan,\n",
            "       nan, nan, nan, nan, nan, nan, nan, nan, nan, nan, nan, nan, nan,\n",
            "       nan, nan, nan, nan, nan, nan, nan, nan, nan, nan, nan, nan, nan,\n",
            "       nan, nan, nan, nan, nan, nan, nan, nan, nan, nan, nan, nan, nan,\n",
            "       nan, nan, nan, nan, nan, nan, nan, nan, nan, nan, nan, nan, nan,\n",
            "       nan, nan, nan, nan, nan, nan, nan, nan, nan, nan, nan, nan, nan,\n",
            "       nan, nan, nan, nan, nan, nan, nan, nan, nan, nan, nan, nan, nan,\n",
            "       nan, nan, nan, nan, nan, nan, nan, nan, nan, nan, nan, nan, nan,\n",
            "       nan, nan], dtype=float32)>\n",
            "13 / 20 :  {'batch_loss': <tf.Tensor: shape=(), dtype=float32, numpy=nan>}\n",
            "<tf.Variable 'norm/gamma:0' shape=(132,) dtype=float32, numpy=\n",
            "array([nan, nan, nan, nan, nan, nan, nan, nan, nan, nan, nan, nan, nan,\n",
            "       nan, nan, nan, nan, nan, nan, nan, nan, nan, nan, nan, nan, nan,\n",
            "       nan, nan, nan, nan, nan, nan, nan, nan, nan, nan, nan, nan, nan,\n",
            "       nan, nan, nan, nan, nan, nan, nan, nan, nan, nan, nan, nan, nan,\n",
            "       nan, nan, nan, nan, nan, nan, nan, nan, nan, nan, nan, nan, nan,\n",
            "       nan, nan, nan, nan, nan, nan, nan, nan, nan, nan, nan, nan, nan,\n",
            "       nan, nan, nan, nan, nan, nan, nan, nan, nan, nan, nan, nan, nan,\n",
            "       nan, nan, nan, nan, nan, nan, nan, nan, nan, nan, nan, nan, nan,\n",
            "       nan, nan, nan, nan, nan, nan, nan, nan, nan, nan, nan, nan, nan,\n",
            "       nan, nan, nan, nan, nan, nan, nan, nan, nan, nan, nan, nan, nan,\n",
            "       nan, nan], dtype=float32)>\n",
            "14 / 20 :  {'batch_loss': <tf.Tensor: shape=(), dtype=float32, numpy=nan>}\n",
            "<tf.Variable 'norm/gamma:0' shape=(132,) dtype=float32, numpy=\n",
            "array([nan, nan, nan, nan, nan, nan, nan, nan, nan, nan, nan, nan, nan,\n",
            "       nan, nan, nan, nan, nan, nan, nan, nan, nan, nan, nan, nan, nan,\n",
            "       nan, nan, nan, nan, nan, nan, nan, nan, nan, nan, nan, nan, nan,\n",
            "       nan, nan, nan, nan, nan, nan, nan, nan, nan, nan, nan, nan, nan,\n",
            "       nan, nan, nan, nan, nan, nan, nan, nan, nan, nan, nan, nan, nan,\n",
            "       nan, nan, nan, nan, nan, nan, nan, nan, nan, nan, nan, nan, nan,\n",
            "       nan, nan, nan, nan, nan, nan, nan, nan, nan, nan, nan, nan, nan,\n",
            "       nan, nan, nan, nan, nan, nan, nan, nan, nan, nan, nan, nan, nan,\n",
            "       nan, nan, nan, nan, nan, nan, nan, nan, nan, nan, nan, nan, nan,\n",
            "       nan, nan, nan, nan, nan, nan, nan, nan, nan, nan, nan, nan, nan,\n",
            "       nan, nan], dtype=float32)>\n",
            "15 / 20 :  {'batch_loss': <tf.Tensor: shape=(), dtype=float32, numpy=nan>}\n",
            "<tf.Variable 'norm/gamma:0' shape=(132,) dtype=float32, numpy=\n",
            "array([nan, nan, nan, nan, nan, nan, nan, nan, nan, nan, nan, nan, nan,\n",
            "       nan, nan, nan, nan, nan, nan, nan, nan, nan, nan, nan, nan, nan,\n",
            "       nan, nan, nan, nan, nan, nan, nan, nan, nan, nan, nan, nan, nan,\n",
            "       nan, nan, nan, nan, nan, nan, nan, nan, nan, nan, nan, nan, nan,\n",
            "       nan, nan, nan, nan, nan, nan, nan, nan, nan, nan, nan, nan, nan,\n",
            "       nan, nan, nan, nan, nan, nan, nan, nan, nan, nan, nan, nan, nan,\n",
            "       nan, nan, nan, nan, nan, nan, nan, nan, nan, nan, nan, nan, nan,\n",
            "       nan, nan, nan, nan, nan, nan, nan, nan, nan, nan, nan, nan, nan,\n",
            "       nan, nan, nan, nan, nan, nan, nan, nan, nan, nan, nan, nan, nan,\n",
            "       nan, nan, nan, nan, nan, nan, nan, nan, nan, nan, nan, nan, nan,\n",
            "       nan, nan], dtype=float32)>\n",
            "16 / 20 :  {'batch_loss': <tf.Tensor: shape=(), dtype=float32, numpy=nan>}\n",
            "<tf.Variable 'norm/gamma:0' shape=(132,) dtype=float32, numpy=\n",
            "array([nan, nan, nan, nan, nan, nan, nan, nan, nan, nan, nan, nan, nan,\n",
            "       nan, nan, nan, nan, nan, nan, nan, nan, nan, nan, nan, nan, nan,\n",
            "       nan, nan, nan, nan, nan, nan, nan, nan, nan, nan, nan, nan, nan,\n",
            "       nan, nan, nan, nan, nan, nan, nan, nan, nan, nan, nan, nan, nan,\n",
            "       nan, nan, nan, nan, nan, nan, nan, nan, nan, nan, nan, nan, nan,\n",
            "       nan, nan, nan, nan, nan, nan, nan, nan, nan, nan, nan, nan, nan,\n",
            "       nan, nan, nan, nan, nan, nan, nan, nan, nan, nan, nan, nan, nan,\n",
            "       nan, nan, nan, nan, nan, nan, nan, nan, nan, nan, nan, nan, nan,\n",
            "       nan, nan, nan, nan, nan, nan, nan, nan, nan, nan, nan, nan, nan,\n",
            "       nan, nan, nan, nan, nan, nan, nan, nan, nan, nan, nan, nan, nan,\n",
            "       nan, nan], dtype=float32)>\n"
          ]
        },
        {
          "output_type": "error",
          "ename": "KeyboardInterrupt",
          "evalue": "ignored",
          "traceback": [
            "\u001b[0;31m---------------------------------------------------------------------------\u001b[0m",
            "\u001b[0;31mKeyboardInterrupt\u001b[0m                         Traceback (most recent call last)",
            "\u001b[0;32m<ipython-input-199-63ceefccc012>\u001b[0m in \u001b[0;36m<module>\u001b[0;34m()\u001b[0m\n\u001b[0;32m----> 1\u001b[0;31m \u001b[0mget_ipython\u001b[0m\u001b[0;34m(\u001b[0m\u001b[0;34m)\u001b[0m\u001b[0;34m.\u001b[0m\u001b[0mrun_cell_magic\u001b[0m\u001b[0;34m(\u001b[0m\u001b[0;34m'time'\u001b[0m\u001b[0;34m,\u001b[0m \u001b[0;34m''\u001b[0m\u001b[0;34m,\u001b[0m \u001b[0;34m'epochs= 20\\nfor n in range(epochs):\\n  print(n, \"/\", epochs, \": \", model._constrastive_train_step( interac_df ))\\n  print(model.layers[0].layers[-2].trainable_variables[0])\\n\\ngc.collect()'\u001b[0m\u001b[0;34m)\u001b[0m\u001b[0;34m\u001b[0m\u001b[0;34m\u001b[0m\u001b[0m\n\u001b[0m",
            "\u001b[0;32m/usr/local/lib/python3.7/dist-packages/IPython/core/interactiveshell.py\u001b[0m in \u001b[0;36mrun_cell_magic\u001b[0;34m(self, magic_name, line, cell)\u001b[0m\n\u001b[1;32m   2115\u001b[0m             \u001b[0mmagic_arg_s\u001b[0m \u001b[0;34m=\u001b[0m \u001b[0mself\u001b[0m\u001b[0;34m.\u001b[0m\u001b[0mvar_expand\u001b[0m\u001b[0;34m(\u001b[0m\u001b[0mline\u001b[0m\u001b[0;34m,\u001b[0m \u001b[0mstack_depth\u001b[0m\u001b[0;34m)\u001b[0m\u001b[0;34m\u001b[0m\u001b[0;34m\u001b[0m\u001b[0m\n\u001b[1;32m   2116\u001b[0m             \u001b[0;32mwith\u001b[0m \u001b[0mself\u001b[0m\u001b[0;34m.\u001b[0m\u001b[0mbuiltin_trap\u001b[0m\u001b[0;34m:\u001b[0m\u001b[0;34m\u001b[0m\u001b[0;34m\u001b[0m\u001b[0m\n\u001b[0;32m-> 2117\u001b[0;31m                 \u001b[0mresult\u001b[0m \u001b[0;34m=\u001b[0m \u001b[0mfn\u001b[0m\u001b[0;34m(\u001b[0m\u001b[0mmagic_arg_s\u001b[0m\u001b[0;34m,\u001b[0m \u001b[0mcell\u001b[0m\u001b[0;34m)\u001b[0m\u001b[0;34m\u001b[0m\u001b[0;34m\u001b[0m\u001b[0m\n\u001b[0m\u001b[1;32m   2118\u001b[0m             \u001b[0;32mreturn\u001b[0m \u001b[0mresult\u001b[0m\u001b[0;34m\u001b[0m\u001b[0;34m\u001b[0m\u001b[0m\n\u001b[1;32m   2119\u001b[0m \u001b[0;34m\u001b[0m\u001b[0m\n",
            "\u001b[0;32m<decorator-gen-53>\u001b[0m in \u001b[0;36mtime\u001b[0;34m(self, line, cell, local_ns)\u001b[0m\n",
            "\u001b[0;32m/usr/local/lib/python3.7/dist-packages/IPython/core/magic.py\u001b[0m in \u001b[0;36m<lambda>\u001b[0;34m(f, *a, **k)\u001b[0m\n\u001b[1;32m    186\u001b[0m     \u001b[0;31m# but it's overkill for just that one bit of state.\u001b[0m\u001b[0;34m\u001b[0m\u001b[0;34m\u001b[0m\u001b[0;34m\u001b[0m\u001b[0m\n\u001b[1;32m    187\u001b[0m     \u001b[0;32mdef\u001b[0m \u001b[0mmagic_deco\u001b[0m\u001b[0;34m(\u001b[0m\u001b[0marg\u001b[0m\u001b[0;34m)\u001b[0m\u001b[0;34m:\u001b[0m\u001b[0;34m\u001b[0m\u001b[0;34m\u001b[0m\u001b[0m\n\u001b[0;32m--> 188\u001b[0;31m         \u001b[0mcall\u001b[0m \u001b[0;34m=\u001b[0m \u001b[0;32mlambda\u001b[0m \u001b[0mf\u001b[0m\u001b[0;34m,\u001b[0m \u001b[0;34m*\u001b[0m\u001b[0ma\u001b[0m\u001b[0;34m,\u001b[0m \u001b[0;34m**\u001b[0m\u001b[0mk\u001b[0m\u001b[0;34m:\u001b[0m \u001b[0mf\u001b[0m\u001b[0;34m(\u001b[0m\u001b[0;34m*\u001b[0m\u001b[0ma\u001b[0m\u001b[0;34m,\u001b[0m \u001b[0;34m**\u001b[0m\u001b[0mk\u001b[0m\u001b[0;34m)\u001b[0m\u001b[0;34m\u001b[0m\u001b[0;34m\u001b[0m\u001b[0m\n\u001b[0m\u001b[1;32m    189\u001b[0m \u001b[0;34m\u001b[0m\u001b[0m\n\u001b[1;32m    190\u001b[0m         \u001b[0;32mif\u001b[0m \u001b[0mcallable\u001b[0m\u001b[0;34m(\u001b[0m\u001b[0marg\u001b[0m\u001b[0;34m)\u001b[0m\u001b[0;34m:\u001b[0m\u001b[0;34m\u001b[0m\u001b[0;34m\u001b[0m\u001b[0m\n",
            "\u001b[0;32m/usr/local/lib/python3.7/dist-packages/IPython/core/magics/execution.py\u001b[0m in \u001b[0;36mtime\u001b[0;34m(self, line, cell, local_ns)\u001b[0m\n\u001b[1;32m   1191\u001b[0m         \u001b[0;32melse\u001b[0m\u001b[0;34m:\u001b[0m\u001b[0;34m\u001b[0m\u001b[0;34m\u001b[0m\u001b[0m\n\u001b[1;32m   1192\u001b[0m             \u001b[0mst\u001b[0m \u001b[0;34m=\u001b[0m \u001b[0mclock2\u001b[0m\u001b[0;34m(\u001b[0m\u001b[0;34m)\u001b[0m\u001b[0;34m\u001b[0m\u001b[0;34m\u001b[0m\u001b[0m\n\u001b[0;32m-> 1193\u001b[0;31m             \u001b[0mexec\u001b[0m\u001b[0;34m(\u001b[0m\u001b[0mcode\u001b[0m\u001b[0;34m,\u001b[0m \u001b[0mglob\u001b[0m\u001b[0;34m,\u001b[0m \u001b[0mlocal_ns\u001b[0m\u001b[0;34m)\u001b[0m\u001b[0;34m\u001b[0m\u001b[0;34m\u001b[0m\u001b[0m\n\u001b[0m\u001b[1;32m   1194\u001b[0m             \u001b[0mend\u001b[0m \u001b[0;34m=\u001b[0m \u001b[0mclock2\u001b[0m\u001b[0;34m(\u001b[0m\u001b[0;34m)\u001b[0m\u001b[0;34m\u001b[0m\u001b[0;34m\u001b[0m\u001b[0m\n\u001b[1;32m   1195\u001b[0m             \u001b[0mout\u001b[0m \u001b[0;34m=\u001b[0m \u001b[0;32mNone\u001b[0m\u001b[0;34m\u001b[0m\u001b[0;34m\u001b[0m\u001b[0m\n",
            "\u001b[0;32m<timed exec>\u001b[0m in \u001b[0;36m<module>\u001b[0;34m()\u001b[0m\n",
            "\u001b[0;32m<ipython-input-153-c7a09e627ee6>\u001b[0m in \u001b[0;36m_constrastive_train_step\u001b[0;34m(self, inputs)\u001b[0m\n\u001b[1;32m     20\u001b[0m     \u001b[0;31m# Apply an optimization step\u001b[0m\u001b[0;34m\u001b[0m\u001b[0;34m\u001b[0m\u001b[0;34m\u001b[0m\u001b[0m\n\u001b[1;32m     21\u001b[0m     \u001b[0mvariables\u001b[0m \u001b[0;34m=\u001b[0m \u001b[0mself\u001b[0m\u001b[0;34m.\u001b[0m\u001b[0mtrainable_variables\u001b[0m\u001b[0;34m\u001b[0m\u001b[0;34m\u001b[0m\u001b[0m\n\u001b[0;32m---> 22\u001b[0;31m     \u001b[0mgradients\u001b[0m \u001b[0;34m=\u001b[0m \u001b[0mtape\u001b[0m\u001b[0;34m.\u001b[0m\u001b[0mgradient\u001b[0m\u001b[0;34m(\u001b[0m\u001b[0maverage_loss\u001b[0m\u001b[0;34m,\u001b[0m \u001b[0mvariables\u001b[0m\u001b[0;34m)\u001b[0m\u001b[0;34m\u001b[0m\u001b[0;34m\u001b[0m\u001b[0m\n\u001b[0m\u001b[1;32m     23\u001b[0m     \u001b[0mself\u001b[0m\u001b[0;34m.\u001b[0m\u001b[0moptimizer\u001b[0m\u001b[0;34m.\u001b[0m\u001b[0mapply_gradients\u001b[0m\u001b[0;34m(\u001b[0m\u001b[0mzip\u001b[0m\u001b[0;34m(\u001b[0m\u001b[0mgradients\u001b[0m\u001b[0;34m,\u001b[0m \u001b[0mvariables\u001b[0m\u001b[0;34m)\u001b[0m\u001b[0;34m)\u001b[0m\u001b[0;34m\u001b[0m\u001b[0;34m\u001b[0m\u001b[0m\n\u001b[1;32m     24\u001b[0m \u001b[0;34m\u001b[0m\u001b[0m\n",
            "\u001b[0;32m/usr/local/lib/python3.7/dist-packages/tensorflow/python/eager/backprop.py\u001b[0m in \u001b[0;36mgradient\u001b[0;34m(self, target, sources, output_gradients, unconnected_gradients)\u001b[0m\n\u001b[1;32m   1085\u001b[0m         \u001b[0moutput_gradients\u001b[0m\u001b[0;34m=\u001b[0m\u001b[0moutput_gradients\u001b[0m\u001b[0;34m,\u001b[0m\u001b[0;34m\u001b[0m\u001b[0;34m\u001b[0m\u001b[0m\n\u001b[1;32m   1086\u001b[0m         \u001b[0msources_raw\u001b[0m\u001b[0;34m=\u001b[0m\u001b[0mflat_sources_raw\u001b[0m\u001b[0;34m,\u001b[0m\u001b[0;34m\u001b[0m\u001b[0;34m\u001b[0m\u001b[0m\n\u001b[0;32m-> 1087\u001b[0;31m         unconnected_gradients=unconnected_gradients)\n\u001b[0m\u001b[1;32m   1088\u001b[0m \u001b[0;34m\u001b[0m\u001b[0m\n\u001b[1;32m   1089\u001b[0m     \u001b[0;32mif\u001b[0m \u001b[0;32mnot\u001b[0m \u001b[0mself\u001b[0m\u001b[0;34m.\u001b[0m\u001b[0m_persistent\u001b[0m\u001b[0;34m:\u001b[0m\u001b[0;34m\u001b[0m\u001b[0;34m\u001b[0m\u001b[0m\n",
            "\u001b[0;32m/usr/local/lib/python3.7/dist-packages/tensorflow/python/eager/imperative_grad.py\u001b[0m in \u001b[0;36mimperative_grad\u001b[0;34m(tape, target, sources, output_gradients, sources_raw, unconnected_gradients)\u001b[0m\n\u001b[1;32m     71\u001b[0m       \u001b[0moutput_gradients\u001b[0m\u001b[0;34m,\u001b[0m\u001b[0;34m\u001b[0m\u001b[0;34m\u001b[0m\u001b[0m\n\u001b[1;32m     72\u001b[0m       \u001b[0msources_raw\u001b[0m\u001b[0;34m,\u001b[0m\u001b[0;34m\u001b[0m\u001b[0;34m\u001b[0m\u001b[0m\n\u001b[0;32m---> 73\u001b[0;31m       compat.as_str(unconnected_gradients.value))\n\u001b[0m",
            "\u001b[0;32m/usr/local/lib/python3.7/dist-packages/tensorflow/python/eager/backprop.py\u001b[0m in \u001b[0;36m_gradient_function\u001b[0;34m(op_name, attr_tuple, num_inputs, inputs, outputs, out_grads, skip_input_indices, forward_pass_name_scope)\u001b[0m\n\u001b[1;32m    154\u001b[0m       \u001b[0mgradient_name_scope\u001b[0m \u001b[0;34m+=\u001b[0m \u001b[0mforward_pass_name_scope\u001b[0m \u001b[0;34m+\u001b[0m \u001b[0;34m\"/\"\u001b[0m\u001b[0;34m\u001b[0m\u001b[0;34m\u001b[0m\u001b[0m\n\u001b[1;32m    155\u001b[0m     \u001b[0;32mwith\u001b[0m \u001b[0mops\u001b[0m\u001b[0;34m.\u001b[0m\u001b[0mname_scope\u001b[0m\u001b[0;34m(\u001b[0m\u001b[0mgradient_name_scope\u001b[0m\u001b[0;34m)\u001b[0m\u001b[0;34m:\u001b[0m\u001b[0;34m\u001b[0m\u001b[0;34m\u001b[0m\u001b[0m\n\u001b[0;32m--> 156\u001b[0;31m       \u001b[0;32mreturn\u001b[0m \u001b[0mgrad_fn\u001b[0m\u001b[0;34m(\u001b[0m\u001b[0mmock_op\u001b[0m\u001b[0;34m,\u001b[0m \u001b[0;34m*\u001b[0m\u001b[0mout_grads\u001b[0m\u001b[0;34m)\u001b[0m\u001b[0;34m\u001b[0m\u001b[0;34m\u001b[0m\u001b[0m\n\u001b[0m\u001b[1;32m    157\u001b[0m   \u001b[0;32melse\u001b[0m\u001b[0;34m:\u001b[0m\u001b[0;34m\u001b[0m\u001b[0;34m\u001b[0m\u001b[0m\n\u001b[1;32m    158\u001b[0m     \u001b[0;32mreturn\u001b[0m \u001b[0mgrad_fn\u001b[0m\u001b[0;34m(\u001b[0m\u001b[0mmock_op\u001b[0m\u001b[0;34m,\u001b[0m \u001b[0;34m*\u001b[0m\u001b[0mout_grads\u001b[0m\u001b[0;34m)\u001b[0m\u001b[0;34m\u001b[0m\u001b[0;34m\u001b[0m\u001b[0m\n",
            "\u001b[0;32m/usr/local/lib/python3.7/dist-packages/tensorflow/python/ops/math_grad.py\u001b[0m in \u001b[0;36m_MulGrad\u001b[0;34m(op, grad)\u001b[0m\n\u001b[1;32m   1367\u001b[0m       \u001b[0m_ShapesFullySpecifiedAndEqual\u001b[0m\u001b[0;34m(\u001b[0m\u001b[0mx\u001b[0m\u001b[0;34m,\u001b[0m \u001b[0my\u001b[0m\u001b[0;34m,\u001b[0m \u001b[0mgrad\u001b[0m\u001b[0;34m)\u001b[0m \u001b[0;32mand\u001b[0m\u001b[0;34m\u001b[0m\u001b[0;34m\u001b[0m\u001b[0m\n\u001b[1;32m   1368\u001b[0m       grad.dtype in (dtypes.int32, dtypes.float32)):\n\u001b[0;32m-> 1369\u001b[0;31m     \u001b[0;32mreturn\u001b[0m \u001b[0mgen_math_ops\u001b[0m\u001b[0;34m.\u001b[0m\u001b[0mmul\u001b[0m\u001b[0;34m(\u001b[0m\u001b[0mgrad\u001b[0m\u001b[0;34m,\u001b[0m \u001b[0my\u001b[0m\u001b[0;34m)\u001b[0m\u001b[0;34m,\u001b[0m \u001b[0mgen_math_ops\u001b[0m\u001b[0;34m.\u001b[0m\u001b[0mmul\u001b[0m\u001b[0;34m(\u001b[0m\u001b[0mgrad\u001b[0m\u001b[0;34m,\u001b[0m \u001b[0mx\u001b[0m\u001b[0;34m)\u001b[0m\u001b[0;34m\u001b[0m\u001b[0;34m\u001b[0m\u001b[0m\n\u001b[0m\u001b[1;32m   1370\u001b[0m   \u001b[0;32massert\u001b[0m \u001b[0mx\u001b[0m\u001b[0;34m.\u001b[0m\u001b[0mdtype\u001b[0m\u001b[0;34m.\u001b[0m\u001b[0mbase_dtype\u001b[0m \u001b[0;34m==\u001b[0m \u001b[0my\u001b[0m\u001b[0;34m.\u001b[0m\u001b[0mdtype\u001b[0m\u001b[0;34m.\u001b[0m\u001b[0mbase_dtype\u001b[0m\u001b[0;34m,\u001b[0m \u001b[0;34m(\u001b[0m\u001b[0mx\u001b[0m\u001b[0;34m.\u001b[0m\u001b[0mdtype\u001b[0m\u001b[0;34m,\u001b[0m \u001b[0;34m\" vs. \"\u001b[0m\u001b[0;34m,\u001b[0m \u001b[0my\u001b[0m\u001b[0;34m.\u001b[0m\u001b[0mdtype\u001b[0m\u001b[0;34m)\u001b[0m\u001b[0;34m\u001b[0m\u001b[0;34m\u001b[0m\u001b[0m\n\u001b[1;32m   1371\u001b[0m \u001b[0;34m\u001b[0m\u001b[0m\n",
            "\u001b[0;32m/usr/local/lib/python3.7/dist-packages/tensorflow/python/ops/gen_math_ops.py\u001b[0m in \u001b[0;36mmul\u001b[0;34m(x, y, name)\u001b[0m\n\u001b[1;32m   6575\u001b[0m     \u001b[0;32mtry\u001b[0m\u001b[0;34m:\u001b[0m\u001b[0;34m\u001b[0m\u001b[0;34m\u001b[0m\u001b[0m\n\u001b[1;32m   6576\u001b[0m       _result = pywrap_tfe.TFE_Py_FastPathExecute(\n\u001b[0;32m-> 6577\u001b[0;31m         _ctx, \"Mul\", name, x, y)\n\u001b[0m\u001b[1;32m   6578\u001b[0m       \u001b[0;32mreturn\u001b[0m \u001b[0m_result\u001b[0m\u001b[0;34m\u001b[0m\u001b[0;34m\u001b[0m\u001b[0m\n\u001b[1;32m   6579\u001b[0m     \u001b[0;32mexcept\u001b[0m \u001b[0m_core\u001b[0m\u001b[0;34m.\u001b[0m\u001b[0m_NotOkStatusException\u001b[0m \u001b[0;32mas\u001b[0m \u001b[0me\u001b[0m\u001b[0;34m:\u001b[0m\u001b[0;34m\u001b[0m\u001b[0;34m\u001b[0m\u001b[0m\n",
            "\u001b[0;31mKeyboardInterrupt\u001b[0m: "
          ]
        }
      ]
    },
    {
      "cell_type": "code",
      "source": [
        "model.layers[0].layers"
      ],
      "metadata": {
        "id": "-Zd0z6nPKrbQ",
        "outputId": "bf7fd659-3a2e-4dca-fccc-8d91fad335cc",
        "colab": {
          "base_uri": "https://localhost:8080/"
        }
      },
      "execution_count": 195,
      "outputs": [
        {
          "output_type": "execute_result",
          "data": {
            "text/plain": [
              "[<keras.engine.input_layer.InputLayer at 0x7f1be7d4a410>,\n",
              " <keras.layers.preprocessing.text_vectorization.TextVectorization at 0x7f1bf01c50d0>,\n",
              " <keras.layers.embeddings.Embedding at 0x7f1be7f6fed0>,\n",
              " <keras.layers.core.dense.Dense at 0x7f1be7d53390>,\n",
              " <keras.engine.input_layer.InputLayer at 0x7f1be7d73ad0>,\n",
              " <__main__.Broadcasting_Multiply at 0x7f1be7cc59d0>,\n",
              " <keras.layers.core.lambda_layer.Lambda at 0x7f1be7c993d0>,\n",
              " <keras.layers.core.dense.Dense at 0x7f1be7cdb490>,\n",
              " <keras.layers.normalization.layer_normalization.LayerNormalization at 0x7f1be7c21250>,\n",
              " <keras.layers.core.dense.Dense at 0x7f1be5b64110>]"
            ]
          },
          "metadata": {},
          "execution_count": 195
        }
      ]
    },
    {
      "cell_type": "code",
      "source": [
        "gc.collect()"
      ],
      "metadata": {
        "id": "GWUwLXvm4xuX"
      },
      "execution_count": null,
      "outputs": []
    },
    {
      "cell_type": "code",
      "source": [
        "# np.expand_dims(np.roll(interac_df[\"movieId\"].apply(lambda x:' '.join([str(i) for i in x])), 1), -1)"
      ],
      "metadata": {
        "id": "_sq1qj0D4TY2"
      },
      "execution_count": null,
      "outputs": []
    },
    {
      "cell_type": "markdown",
      "source": [
        "// END constrastive model"
      ],
      "metadata": {
        "id": "BISfMUNM37ug"
      }
    },
    {
      "cell_type": "code",
      "source": [
        "# interac_df[\"y\"].apply(lambda x: len(x))"
      ],
      "metadata": {
        "id": "yjPrQ-LyLjau"
      },
      "execution_count": 158,
      "outputs": []
    },
    {
      "cell_type": "code",
      "source": [
        "# Kiểm tra giá trị đầu ra\n",
        "group_scores = model.encoder(model._preprocess( [interac_df[itemCol], interac_df[\"y\"]], padding_size = wu_size )).numpy()\n",
        "group_scores[0:3]"
      ],
      "metadata": {
        "colab": {
          "base_uri": "https://localhost:8080/"
        },
        "id": "l1b9ld8TfPd5",
        "outputId": "f7e94f2e-9f58-4101-d935-e61c348c3ddd"
      },
      "execution_count": 174,
      "outputs": [
        {
          "output_type": "execute_result",
          "data": {
            "text/plain": [
              "array([[5.5169961e-03, 1.2081900e-02, 4.3405355e-03, 3.0938955e-03,\n",
              "        4.6700700e-03, 4.1761156e-03, 5.8861873e-03, 3.2307904e-03,\n",
              "        3.2299247e-03, 7.6826205e-03, 3.7616887e-03, 3.6874521e-03,\n",
              "        4.8224400e-03, 6.1258404e-03, 8.5272174e-03, 3.5654439e-03,\n",
              "        3.4326888e-03, 7.0991595e-03, 3.8688120e-03, 4.9343603e-03,\n",
              "        6.7214835e-03, 4.1217688e-03, 8.1150560e-03, 4.0792944e-03,\n",
              "        4.8569292e-03, 3.7570726e-03, 4.8469207e-03, 2.5268008e-03,\n",
              "        6.2282272e-03, 4.3528494e-03, 3.3944992e-03, 4.8352405e-03,\n",
              "        7.9082660e-03, 7.9486918e-01, 8.1561152e-03, 3.8814377e-03,\n",
              "        5.2884901e-03, 3.6166974e-03, 2.6502209e-03, 3.4626219e-03,\n",
              "        3.9720042e-03, 1.2888687e-03, 3.3359306e-03],\n",
              "       [4.4842277e-04, 8.5081975e-04, 1.6496316e-04, 1.3043116e-04,\n",
              "        2.1638283e-04, 1.9699344e-04, 5.4105074e-04, 1.6358421e-04,\n",
              "        1.6949762e-04, 8.0831221e-04, 2.1343686e-04, 2.4414665e-04,\n",
              "        3.2548400e-04, 4.7583185e-04, 4.8254861e-04, 2.3902427e-04,\n",
              "        2.3546266e-04, 4.9742498e-04, 2.5801858e-04, 2.3876865e-04,\n",
              "        4.6999121e-04, 2.5839658e-04, 9.5343922e-04, 2.2956748e-04,\n",
              "        3.0239657e-04, 1.5269684e-04, 2.8717399e-04, 1.5179433e-04,\n",
              "        3.5678101e-04, 4.6687527e-04, 1.8703367e-04, 2.5899091e-04,\n",
              "        5.8658770e-04, 9.8617744e-01, 5.4090034e-04, 3.3458110e-04,\n",
              "        3.5394830e-04, 1.6584097e-04, 1.7330282e-04, 1.7728201e-04,\n",
              "        2.8506693e-04, 4.0918796e-05, 1.8831373e-04],\n",
              "       [5.4413389e-04, 1.1662955e-03, 2.5293379e-04, 1.8358030e-04,\n",
              "        2.6532297e-04, 3.0782583e-04, 7.1984628e-04, 2.0403424e-04,\n",
              "        1.9847434e-04, 9.2476729e-04, 2.4349145e-04, 3.3045793e-04,\n",
              "        2.9902614e-04, 6.1981758e-04, 6.5000629e-04, 2.7355811e-04,\n",
              "        3.0004879e-04, 5.2547152e-04, 2.6942205e-04, 3.3100799e-04,\n",
              "        5.4779078e-04, 2.7350150e-04, 8.2213804e-04, 2.7687065e-04,\n",
              "        3.9047402e-04, 2.0301697e-04, 3.0786602e-04, 1.7920767e-04,\n",
              "        4.6111585e-04, 5.3189584e-04, 2.1207122e-04, 3.3273894e-04,\n",
              "        8.1719656e-04, 9.8331523e-01, 6.7643391e-04, 3.6728737e-04,\n",
              "        4.6129839e-04, 2.3857295e-04, 1.8378141e-04, 2.4639527e-04,\n",
              "        2.8404474e-04, 5.1809158e-05, 2.0983991e-04]], dtype=float32)"
            ]
          },
          "metadata": {},
          "execution_count": 174
        }
      ]
    },
    {
      "cell_type": "code",
      "source": [
        "# group_scores.shape"
      ],
      "metadata": {
        "id": "1LUQ50L20NGq"
      },
      "execution_count": 160,
      "outputs": []
    },
    {
      "cell_type": "code",
      "source": [
        "# Kiểm tra số user trong mỗi cụm có bị vón cục\n",
        "ugs= np.argmax(group_scores, axis=1)\n",
        "for i in range(50):\n",
        "    print(i,': ', np.sum(ugs==i) )\n"
      ],
      "metadata": {
        "colab": {
          "base_uri": "https://localhost:8080/"
        },
        "id": "xYjS-3omFbQk",
        "outputId": "ea17d0d0-9a05-46b6-dd51-3bd60faa6e67"
      },
      "execution_count": 175,
      "outputs": [
        {
          "output_type": "stream",
          "name": "stdout",
          "text": [
            "0 :  0\n",
            "1 :  0\n",
            "2 :  11\n",
            "3 :  0\n",
            "4 :  1\n",
            "5 :  0\n",
            "6 :  0\n",
            "7 :  0\n",
            "8 :  0\n",
            "9 :  0\n",
            "10 :  1\n",
            "11 :  0\n",
            "12 :  0\n",
            "13 :  0\n",
            "14 :  1\n",
            "15 :  0\n",
            "16 :  0\n",
            "17 :  0\n",
            "18 :  0\n",
            "19 :  0\n",
            "20 :  0\n",
            "21 :  0\n",
            "22 :  0\n",
            "23 :  0\n",
            "24 :  0\n",
            "25 :  7\n",
            "26 :  0\n",
            "27 :  0\n",
            "28 :  0\n",
            "29 :  0\n",
            "30 :  0\n",
            "31 :  0\n",
            "32 :  0\n",
            "33 :  77\n",
            "34 :  1\n",
            "35 :  0\n",
            "36 :  0\n",
            "37 :  0\n",
            "38 :  0\n",
            "39 :  0\n",
            "40 :  0\n",
            "41 :  0\n",
            "42 :  0\n",
            "43 :  0\n",
            "44 :  0\n",
            "45 :  0\n",
            "46 :  0\n",
            "47 :  0\n",
            "48 :  0\n",
            "49 :  0\n"
          ]
        }
      ]
    },
    {
      "cell_type": "code",
      "source": [
        "# Sort theo user_group + draw sigmoid/softmax layer\n",
        "k =100\n",
        "a = group_scores\n",
        "print( np.max(a), np.mean(a), np.min(a) )\n",
        "ind = np.argmax(group_scores, axis=1)\n",
        "plt.imshow( a[np.argsort(ind)][0:k] )"
      ],
      "metadata": {
        "colab": {
          "base_uri": "https://localhost:8080/",
          "height": 302
        },
        "id": "YtHEaTQUk2oo",
        "outputId": "2f414728-3890-47c1-ba14-212a8f61786e"
      },
      "execution_count": 176,
      "outputs": [
        {
          "output_type": "stream",
          "name": "stdout",
          "text": [
            "0.9941426 0.023255814 1.41308055e-05\n"
          ]
        },
        {
          "output_type": "execute_result",
          "data": {
            "text/plain": [
              "<matplotlib.image.AxesImage at 0x7f1be7d7efd0>"
            ]
          },
          "metadata": {},
          "execution_count": 176
        },
        {
          "output_type": "display_data",
          "data": {
            "text/plain": [
              "<Figure size 432x288 with 1 Axes>"
            ],
            "image/png": "[encoded data removed]"
          },
          "metadata": {
            "needs_background": "light"
          }
        }
      ]
    },
    {
      "cell_type": "code",
      "source": [
        "# np.argsort(a[1])"
      ],
      "metadata": {
        "id": "d3IoG5-r4CM8"
      },
      "execution_count": null,
      "outputs": []
    },
    {
      "cell_type": "code",
      "source": [
        "# [np.isin(np.argsort(a[1]), np.array([0,1,2]) )]"
      ],
      "metadata": {
        "id": "GbNCgvoT2-Tn"
      },
      "execution_count": null,
      "outputs": []
    },
    {
      "cell_type": "code",
      "source": [
        "# Vẽ theo user_group\n",
        "# user_groups = [ 32 ]\n",
        "# a = group_scores\n",
        "# ind = np.argmax(group_scores, axis=1)\n",
        "# plt.imshow( a[ np.isin( ind, user_groups)] )"
      ],
      "metadata": {
        "id": "q-9RC3kdsSF3"
      },
      "execution_count": null,
      "outputs": []
    },
    {
      "cell_type": "code",
      "source": [
        "# Vẽ y_true của các user chung group\n",
        "# y_true = model.decoder(model._preprocess( [interac_df[itemCol], interac_df[\"y\"]], padding_size = mask_size )).numpy()\n",
        "# y_true_ugrs = y_true[ np.isin( ind, user_groups)]\n",
        "\n",
        "# for i in range(y_true_ugrs.shape[0]):\n",
        "#     y_true_i = y_true_ugrs[i].reshape((50,100))\n",
        "#     print( np.max(y_true_i), np.min(y_true_i), np.mean(y_true_i)  )\n",
        "#     plt.imshow( y_true_i)\n",
        "#     plt.show()\n"
      ],
      "metadata": {
        "id": "qYKVC00ztNBk"
      },
      "execution_count": null,
      "outputs": []
    },
    {
      "cell_type": "code",
      "source": [
        "# plt.imshow(y_true[0].reshape(50, 100) )"
      ],
      "metadata": {
        "id": "jauMa8Z36HcA"
      },
      "execution_count": null,
      "outputs": []
    },
    {
      "cell_type": "code",
      "source": [
        "# y_true[0][y_true[0]!=0]"
      ],
      "metadata": {
        "id": "5qzcwop86TNH"
      },
      "execution_count": null,
      "outputs": []
    },
    {
      "cell_type": "code",
      "source": [
        "# y_true = model.decoder(model._preprocess( [interac_df[itemCol], interac_df[\"y\"]], padding_size = mask_size )).numpy()[0:15]\n",
        "# for i in range(y_true.shape[0]):\n",
        "#     y_true_i = y_true[i].reshape((50,100))\n",
        "#     print( np.max(y_true_i), np.min(y_true_i), np.mean(y_true_i)  )\n",
        "#     plt.imshow( y_true_i)\n",
        "#     plt.show()"
      ],
      "metadata": {
        "id": "2pSAHptJVhVR"
      },
      "execution_count": null,
      "outputs": []
    },
    {
      "cell_type": "code",
      "source": [
        "# for i in range(group_scores.shape[0]):\n",
        "#     plt.imshow( group_scores[i].numpy().reshape((5,10)) )\n",
        "#     plt.show()"
      ],
      "metadata": {
        "id": "XTSdLhkjUeCk"
      },
      "execution_count": null,
      "outputs": []
    },
    {
      "cell_type": "code",
      "source": [
        "# plt.imshow(y_true)"
      ],
      "metadata": {
        "id": "eXN9E1upXW2D"
      },
      "execution_count": null,
      "outputs": []
    },
    {
      "cell_type": "code",
      "source": [
        ""
      ],
      "metadata": {
        "id": "TbltflgfUmXf"
      },
      "execution_count": null,
      "outputs": []
    },
    {
      "cell_type": "code",
      "source": [
        "gc.collect()"
      ],
      "metadata": {
        "colab": {
          "base_uri": "https://localhost:8080/"
        },
        "id": "WSAWNkXjGX7e",
        "outputId": "81645059-f45f-4372-b94e-4789531437e6"
      },
      "execution_count": null,
      "outputs": [
        {
          "output_type": "execute_result",
          "data": {
            "text/plain": [
              "0"
            ]
          },
          "metadata": {},
          "execution_count": 184
        }
      ]
    }
  ],
  "metadata": {
    "kernelspec": {
      "display_name": "Python 3",
      "language": "python",
      "name": "python3"
    },
    "language_info": {
      "codemirror_mode": {
        "name": "ipython",
        "version": 3
      },
      "file_extension": ".py",
      "mimetype": "text/x-python",
      "name": "python",
      "nbconvert_exporter": "python",
      "pygments_lexer": "ipython3",
      "version": "3.6.9"
    },
    "colab": {
      "name": "v2.2_ML20M_sequence.ipynb",
      "provenance": [],
      "collapsed_sections": [
        "17fHxkHoAQq6"
      ],
      "toc_visible": true,
      "include_colab_link": true
    }
  },
  "nbformat": 4,
  "nbformat_minor": 0
}