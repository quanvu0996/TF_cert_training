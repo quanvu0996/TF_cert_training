{
  "cells": [
    {
      "cell_type": "markdown",
      "metadata": {
        "id": "view-in-github",
        "colab_type": "text"
      },
      "source": [
        "<a href=\"https://colab.research.google.com/github/quanvu0996/TF_cert_training/blob/main/v2.2_ML20M_sequence.ipynb\" target=\"_parent\"><img src=\"https://colab.research.google.com/assets/colab-badge.svg\" alt=\"Open In Colab\"/></a>"
      ]
    },
    {
      "cell_type": "code",
      "execution_count": 1,
      "metadata": {
        "colab": {
          "base_uri": "https://localhost:8080/"
        },
        "id": "zZQDJKGUAQqn",
        "outputId": "380d2b87-71c1-468c-a59c-dae689e40a57"
      },
      "outputs": [
        {
          "output_type": "stream",
          "name": "stdout",
          "text": [
            "20.2\n",
            "svmem(total=13617745920, available=12827746304, percent=5.8, used=525139968, free=11176034304, active=968376320, inactive=1280540672, buffers=107241472, cached=1809330176, shared=1224704, slab=128778240)\n",
            "5.8\n",
            "94.19874903937112\n"
          ]
        }
      ],
      "source": [
        "import psutil\n",
        "# gives a single float value\n",
        "print(psutil.cpu_percent())\n",
        "# gives an object with many fields\n",
        "print(psutil.virtual_memory())\n",
        "# you can convert that object to a dictionary print(dict(psutil.virtual_memory()._asdict()))\n",
        "# you can have the percentage of used RAM\n",
        "print(psutil.virtual_memory().percent)\n",
        "# you can calculate percentage of available memory\n",
        "print(psutil.virtual_memory().available * 100 / psutil.virtual_memory().total)"
      ]
    },
    {
      "cell_type": "code",
      "execution_count": 2,
      "metadata": {
        "id": "XS6UHXPVAQqs"
      },
      "outputs": [],
      "source": [
        "import pandas as pd\n",
        "import numpy as np\n",
        "import random\n",
        "import gc\n",
        " \n",
        "import tensorflow as tf\n",
        "from tensorflow.keras import layers\n",
        "import tensorflow.keras.backend as K\n",
        "from sklearn.model_selection import train_test_split"
      ]
    },
    {
      "cell_type": "code",
      "source": [
        "tf.__version__"
      ],
      "metadata": {
        "colab": {
          "base_uri": "https://localhost:8080/",
          "height": 35
        },
        "id": "Gv8gXemwD3UQ",
        "outputId": "743474ec-ac68-4b93-f4d5-6580b106e3c2"
      },
      "execution_count": 3,
      "outputs": [
        {
          "output_type": "execute_result",
          "data": {
            "text/plain": [
              "'2.8.0'"
            ],
            "application/vnd.google.colaboratory.intrinsic+json": {
              "type": "string"
            }
          },
          "metadata": {},
          "execution_count": 3
        }
      ]
    },
    {
      "cell_type": "code",
      "execution_count": 4,
      "metadata": {
        "id": "Crhty6fiAQqu"
      },
      "outputs": [],
      "source": [
        "itemCol = 'movieId'\n",
        "userCol = 'userId'"
      ]
    },
    {
      "cell_type": "code",
      "source": [
        "# DGX setup\n",
        "# fpath = \"./ml-20m\" \n",
        "\n",
        "#colab setup\n",
        "from google.colab import drive\n",
        "drive.mount('/content/gdrive')\n",
        "fpath = \"/content/gdrive/MyDrive/RECOMMENDER_STUDIES/data/ml-20m\""
      ],
      "metadata": {
        "id": "xOJJy441A0w0",
        "colab": {
          "base_uri": "https://localhost:8080/"
        },
        "outputId": "9bd8c337-20c6-4930-e3aa-fb1cd473a281"
      },
      "execution_count": 5,
      "outputs": [
        {
          "output_type": "stream",
          "name": "stdout",
          "text": [
            "Mounted at /content/gdrive\n"
          ]
        }
      ]
    },
    {
      "cell_type": "code",
      "source": [
        "# Loading data\n",
        "ratings = pd.read_csv(fpath+'/ratings.csv')\n",
        "\n",
        "ratings"
      ],
      "metadata": {
        "colab": {
          "base_uri": "https://localhost:8080/",
          "height": 419
        },
        "id": "jQck8YHxCPJ1",
        "outputId": "842f60f0-3b7c-4526-ed67-8d156f25653a"
      },
      "execution_count": 6,
      "outputs": [
        {
          "output_type": "execute_result",
          "data": {
            "text/plain": [
              "          userId  movieId  rating   timestamp\n",
              "0              1        2     3.5  1112486027\n",
              "1              1       29     3.5  1112484676\n",
              "2              1       32     3.5  1112484819\n",
              "3              1       47     3.5  1112484727\n",
              "4              1       50     3.5  1112484580\n",
              "...          ...      ...     ...         ...\n",
              "20000258  138493    68954     4.5  1258126920\n",
              "20000259  138493    69526     4.5  1259865108\n",
              "20000260  138493    69644     3.0  1260209457\n",
              "20000261  138493    70286     5.0  1258126944\n",
              "20000262  138493    71619     2.5  1255811136\n",
              "\n",
              "[20000263 rows x 4 columns]"
            ],
            "text/html": [
              "\n",
              "  <div id=\"df-12da28b0-6e80-4a75-8244-72e3863118a7\">\n",
              "    <div class=\"colab-df-container\">\n",
              "      <div>\n",
              "<style scoped>\n",
              "    .dataframe tbody tr th:only-of-type {\n",
              "        vertical-align: middle;\n",
              "    }\n",
              "\n",
              "    .dataframe tbody tr th {\n",
              "        vertical-align: top;\n",
              "    }\n",
              "\n",
              "    .dataframe thead th {\n",
              "        text-align: right;\n",
              "    }\n",
              "</style>\n",
              "<table border=\"1\" class=\"dataframe\">\n",
              "  <thead>\n",
              "    <tr style=\"text-align: right;\">\n",
              "      <th></th>\n",
              "      <th>userId</th>\n",
              "      <th>movieId</th>\n",
              "      <th>rating</th>\n",
              "      <th>timestamp</th>\n",
              "    </tr>\n",
              "  </thead>\n",
              "  <tbody>\n",
              "    <tr>\n",
              "      <th>0</th>\n",
              "      <td>1</td>\n",
              "      <td>2</td>\n",
              "      <td>3.5</td>\n",
              "      <td>1112486027</td>\n",
              "    </tr>\n",
              "    <tr>\n",
              "      <th>1</th>\n",
              "      <td>1</td>\n",
              "      <td>29</td>\n",
              "      <td>3.5</td>\n",
              "      <td>1112484676</td>\n",
              "    </tr>\n",
              "    <tr>\n",
              "      <th>2</th>\n",
              "      <td>1</td>\n",
              "      <td>32</td>\n",
              "      <td>3.5</td>\n",
              "      <td>1112484819</td>\n",
              "    </tr>\n",
              "    <tr>\n",
              "      <th>3</th>\n",
              "      <td>1</td>\n",
              "      <td>47</td>\n",
              "      <td>3.5</td>\n",
              "      <td>1112484727</td>\n",
              "    </tr>\n",
              "    <tr>\n",
              "      <th>4</th>\n",
              "      <td>1</td>\n",
              "      <td>50</td>\n",
              "      <td>3.5</td>\n",
              "      <td>1112484580</td>\n",
              "    </tr>\n",
              "    <tr>\n",
              "      <th>...</th>\n",
              "      <td>...</td>\n",
              "      <td>...</td>\n",
              "      <td>...</td>\n",
              "      <td>...</td>\n",
              "    </tr>\n",
              "    <tr>\n",
              "      <th>20000258</th>\n",
              "      <td>138493</td>\n",
              "      <td>68954</td>\n",
              "      <td>4.5</td>\n",
              "      <td>1258126920</td>\n",
              "    </tr>\n",
              "    <tr>\n",
              "      <th>20000259</th>\n",
              "      <td>138493</td>\n",
              "      <td>69526</td>\n",
              "      <td>4.5</td>\n",
              "      <td>1259865108</td>\n",
              "    </tr>\n",
              "    <tr>\n",
              "      <th>20000260</th>\n",
              "      <td>138493</td>\n",
              "      <td>69644</td>\n",
              "      <td>3.0</td>\n",
              "      <td>1260209457</td>\n",
              "    </tr>\n",
              "    <tr>\n",
              "      <th>20000261</th>\n",
              "      <td>138493</td>\n",
              "      <td>70286</td>\n",
              "      <td>5.0</td>\n",
              "      <td>1258126944</td>\n",
              "    </tr>\n",
              "    <tr>\n",
              "      <th>20000262</th>\n",
              "      <td>138493</td>\n",
              "      <td>71619</td>\n",
              "      <td>2.5</td>\n",
              "      <td>1255811136</td>\n",
              "    </tr>\n",
              "  </tbody>\n",
              "</table>\n",
              "<p>20000263 rows × 4 columns</p>\n",
              "</div>\n",
              "      <button class=\"colab-df-convert\" onclick=\"convertToInteractive('df-12da28b0-6e80-4a75-8244-72e3863118a7')\"\n",
              "              title=\"Convert this dataframe to an interactive table.\"\n",
              "              style=\"display:none;\">\n",
              "        \n",
              "  <svg xmlns=\"http://www.w3.org/2000/svg\" height=\"24px\"viewBox=\"0 0 24 24\"\n",
              "       width=\"24px\">\n",
              "    <path d=\"M0 0h24v24H0V0z\" fill=\"none\"/>\n",
              "    <path d=\"M18.56 5.44l.94 2.06.94-2.06 2.06-.94-2.06-.94-.94-2.06-.94 2.06-2.06.94zm-11 1L8.5 8.5l.94-2.06 2.06-.94-2.06-.94L8.5 2.5l-.94 2.06-2.06.94zm10 10l.94 2.06.94-2.06 2.06-.94-2.06-.94-.94-2.06-.94 2.06-2.06.94z\"/><path d=\"M17.41 7.96l-1.37-1.37c-.4-.4-.92-.59-1.43-.59-.52 0-1.04.2-1.43.59L10.3 9.45l-7.72 7.72c-.78.78-.78 2.05 0 2.83L4 21.41c.39.39.9.59 1.41.59.51 0 1.02-.2 1.41-.59l7.78-7.78 2.81-2.81c.8-.78.8-2.07 0-2.86zM5.41 20L4 18.59l7.72-7.72 1.47 1.35L5.41 20z\"/>\n",
              "  </svg>\n",
              "      </button>\n",
              "      \n",
              "  <style>\n",
              "    .colab-df-container {\n",
              "      display:flex;\n",
              "      flex-wrap:wrap;\n",
              "      gap: 12px;\n",
              "    }\n",
              "\n",
              "    .colab-df-convert {\n",
              "      background-color: #E8F0FE;\n",
              "      border: none;\n",
              "      border-radius: 50%;\n",
              "      cursor: pointer;\n",
              "      display: none;\n",
              "      fill: #1967D2;\n",
              "      height: 32px;\n",
              "      padding: 0 0 0 0;\n",
              "      width: 32px;\n",
              "    }\n",
              "\n",
              "    .colab-df-convert:hover {\n",
              "      background-color: #E2EBFA;\n",
              "      box-shadow: 0px 1px 2px rgba(60, 64, 67, 0.3), 0px 1px 3px 1px rgba(60, 64, 67, 0.15);\n",
              "      fill: #174EA6;\n",
              "    }\n",
              "\n",
              "    [theme=dark] .colab-df-convert {\n",
              "      background-color: #3B4455;\n",
              "      fill: #D2E3FC;\n",
              "    }\n",
              "\n",
              "    [theme=dark] .colab-df-convert:hover {\n",
              "      background-color: #434B5C;\n",
              "      box-shadow: 0px 1px 3px 1px rgba(0, 0, 0, 0.15);\n",
              "      filter: drop-shadow(0px 1px 2px rgba(0, 0, 0, 0.3));\n",
              "      fill: #FFFFFF;\n",
              "    }\n",
              "  </style>\n",
              "\n",
              "      <script>\n",
              "        const buttonEl =\n",
              "          document.querySelector('#df-12da28b0-6e80-4a75-8244-72e3863118a7 button.colab-df-convert');\n",
              "        buttonEl.style.display =\n",
              "          google.colab.kernel.accessAllowed ? 'block' : 'none';\n",
              "\n",
              "        async function convertToInteractive(key) {\n",
              "          const element = document.querySelector('#df-12da28b0-6e80-4a75-8244-72e3863118a7');\n",
              "          const dataTable =\n",
              "            await google.colab.kernel.invokeFunction('convertToInteractive',\n",
              "                                                     [key], {});\n",
              "          if (!dataTable) return;\n",
              "\n",
              "          const docLinkHtml = 'Like what you see? Visit the ' +\n",
              "            '<a target=\"_blank\" href=https://colab.research.google.com/notebooks/data_table.ipynb>data table notebook</a>'\n",
              "            + ' to learn more about interactive tables.';\n",
              "          element.innerHTML = '';\n",
              "          dataTable['output_type'] = 'display_data';\n",
              "          await google.colab.output.renderOutput(dataTable, element);\n",
              "          const docLink = document.createElement('div');\n",
              "          docLink.innerHTML = docLinkHtml;\n",
              "          element.appendChild(docLink);\n",
              "        }\n",
              "      </script>\n",
              "    </div>\n",
              "  </div>\n",
              "  "
            ]
          },
          "metadata": {},
          "execution_count": 6
        }
      ]
    },
    {
      "cell_type": "code",
      "source": [
        "# Normalize rating về dạng -1 -> 1 (-1 = ghét, 1 = thích)\n",
        "ratings[\"y\"] = ratings[\"rating\"]/2.5-1\n",
        "\n",
        "# Kiểm tra rating trong khoảng -1 -> 1\n",
        "ratings.groupby(\"y\")[\"y\"].count().plot(kind='bar')"
      ],
      "metadata": {
        "colab": {
          "base_uri": "https://localhost:8080/",
          "height": 419
        },
        "id": "BrwYHetxCiIw",
        "outputId": "8e168371-501d-4855-aa83-4ff91b820d3a"
      },
      "execution_count": 7,
      "outputs": [
        {
          "output_type": "execute_result",
          "data": {
            "text/plain": [
              "<matplotlib.axes._subplots.AxesSubplot at 0x7f397121e9d0>"
            ]
          },
          "metadata": {},
          "execution_count": 7
        },
        {
          "output_type": "display_data",
          "data": {
            "text/plain": [
              "<Figure size 432x288 with 1 Axes>"
            ],
            "image/png": "[encoded data removed]"
          },
          "metadata": {
            "needs_background": "light"
          }
        }
      ]
    },
    {
      "cell_type": "markdown",
      "source": [
        "# Model v2.2\n",
        "Gộp tất cả các bước tiền xử lý vào model "
      ],
      "metadata": {
        "id": "HfA78F8HRVJR"
      }
    },
    {
      "cell_type": "code",
      "source": [
        "# Chia dữ liệu thành các tập cho model clustering, nhãn recommendation và test\n",
        "#     warm_up_mask: ratings đã quan sát\n",
        "#     target: rating dùng để đánh giá kết quả recommend của module recommend cho từng người dùng\n",
        "#     test: đánh giá độc lập\n",
        "# TODO: chia tập dữ liệu theo user-wise => đánh giá với những user hoàn toàn mới thì model có học được không?\n",
        "# v2.1. gộp warm_up và mask thành 1\n",
        "def dataset_split(ratings):\n",
        "    train, test = train_test_split(ratings, test_size= 0.25)\n",
        "    warm_up_mask, target = train_test_split(train, test_size= 0.25)\n",
        "    return warm_up_mask, target, test\n",
        "\n",
        "warm_up_mask, target, test = dataset_split(ratings)"
      ],
      "metadata": {
        "id": "90sKne1ZRc5F"
      },
      "execution_count": 8,
      "outputs": []
    },
    {
      "cell_type": "code",
      "source": [
        "# Kiểm tra số lượng ratings\n",
        "warm_up_mask.shape[0], target.shape[0], test.shape[0]"
      ],
      "metadata": {
        "colab": {
          "base_uri": "https://localhost:8080/"
        },
        "id": "fiRtTNy1ScIa",
        "outputId": "5525847a-00fd-47d1-e183-abcb6ed1005a"
      },
      "execution_count": 9,
      "outputs": [
        {
          "output_type": "execute_result",
          "data": {
            "text/plain": [
              "(11250147, 3750050, 5000066)"
            ]
          },
          "metadata": {},
          "execution_count": 9
        }
      ]
    },
    {
      "cell_type": "code",
      "source": [
        "# v2.2: chỉ groupby, không padding\n",
        "def get_interaction_set(interaction, max_item = None, top_k_item = None):\n",
        "    \"\"\"\n",
        "    Input:\n",
        "        interaction: df[userCol, itemCol, y]: dữ liệu đầu vào\n",
        "        max_item: int: item num limit\n",
        "    Output:\n",
        "        df, itemCol: list, y: list, itemCol_str: string, userCol as index\n",
        "        list item sắp xếp theo giảm dần độ lớn rating\n",
        "    \"\"\"\n",
        "    items = ratings.groupby(itemCol).count().sort_values(by=userCol, ascending=False)\n",
        "    if top_k_item is not None:\n",
        "        top_items = items.head(top_k_item).index\n",
        "        interaction = interaction[interaction[itemCol].isin(top_items)]\n",
        "    else:\n",
        "        top_items = items.index\n",
        "\n",
        "    # Sắp xếp item theo thứ tự giảm dần rating (về sau cắt padding sẽ ưu tiên giữ lại item có rating cao)\n",
        "    rindex = interaction.groupby(userCol)[\"y\"].transform(lambda grp: grp.sort_values(ascending=False).index)\n",
        "    interaction = interaction.reindex(rindex)\n",
        "    \n",
        "    # Chuyển thành warm-up set theo từng user\n",
        "    interaction = interaction.groupby(\"userId\").agg({itemCol:list, \"y\":list})\n",
        "\n",
        "    # Giới hạn độ dài warm_up size\n",
        "    if max_item is not None:\n",
        "        interaction[itemCol] = interaction[itemCol].apply(lambda x: x[0:max_item])\n",
        "        interaction[\"y\"] = interaction[\"y\"].apply(lambda x: x[0:max_item])\n",
        "\n",
        "    return interaction, top_items\n",
        "\n",
        "top_k_item = 5000\n",
        "wu_size = 150\n",
        "mask_size = 50\n",
        "max_item = wu_size + mask_size\n",
        "\n",
        "interac_df, top_items = get_interaction_set(warm_up_mask[warm_up_mask[userCol]<10]\n",
        "                    , max_item = max_item\n",
        "                    , top_k_item = top_k_item )\n",
        "interac_df"
      ],
      "metadata": {
        "colab": {
          "base_uri": "https://localhost:8080/",
          "height": 359
        },
        "id": "C3ukIA2SS00l",
        "outputId": "c1e9f14d-9150-4639-c720-12f05c35369f"
      },
      "execution_count": 12,
      "outputs": [
        {
          "output_type": "execute_result",
          "data": {
            "text/plain": [
              "                                                  movieId  \\\n",
              "userId                                                      \n",
              "1       [7153, 4754, 1333, 1036, 4911, 1215, 1358, 217...   \n",
              "2       [1270, 2948, 3928, 1327, 1748, 62, 541, 589, 2...   \n",
              "3       [2009, 260, 1084, 2968, 316, 2117, 1213, 858, ...   \n",
              "4       [733, 454, 377, 594, 489, 356, 368, 480, 596, ...   \n",
              "5       [1210, 595, 1097, 780, 318, 594, 260, 1198, 45...   \n",
              "6       [141, 52, 7, 17, 708, 260, 140, 494, 3, 135, 7...   \n",
              "7       [587, 4799, 1721, 1077, 4306, 750, 2028, 1256,...   \n",
              "8       [296, 553, 527, 349, 648, 110, 356, 288, 597, ...   \n",
              "9       [4148, 1997, 1923, 2706, 356, 2841, 3979, 3857...   \n",
              "\n",
              "                                                        y  \n",
              "userId                                                     \n",
              "1       [1.0, 0.6000000000000001, 0.6000000000000001, ...  \n",
              "2       [1.0, 1.0, 1.0, 1.0, 1.0, 1.0, 1.0, 1.0, 1.0, ...  \n",
              "3       [1.0, 1.0, 1.0, 1.0, 1.0, 1.0, 1.0, 1.0, 1.0, ...  \n",
              "4       [1.0, 1.0, 0.6000000000000001, 0.6000000000000...  \n",
              "5       [1.0, 1.0, 1.0, 1.0, 1.0, 1.0, 1.0, 1.0, 1.0, ...  \n",
              "6       [1.0, 1.0, 1.0, 1.0, 0.6000000000000001, 0.600...  \n",
              "7       [1.0, 1.0, 1.0, 1.0, 1.0, 1.0, 1.0, 1.0, 1.0, ...  \n",
              "8       [1.0, 1.0, 1.0, 1.0, 1.0, 1.0, 1.0, 1.0, 1.0, ...  \n",
              "9       [1.0, 1.0, 0.6000000000000001, 0.6000000000000...  "
            ],
            "text/html": [
              "\n",
              "  <div id=\"df-cd984847-732d-4891-af6f-5c1acb770798\">\n",
              "    <div class=\"colab-df-container\">\n",
              "      <div>\n",
              "<style scoped>\n",
              "    .dataframe tbody tr th:only-of-type {\n",
              "        vertical-align: middle;\n",
              "    }\n",
              "\n",
              "    .dataframe tbody tr th {\n",
              "        vertical-align: top;\n",
              "    }\n",
              "\n",
              "    .dataframe thead th {\n",
              "        text-align: right;\n",
              "    }\n",
              "</style>\n",
              "<table border=\"1\" class=\"dataframe\">\n",
              "  <thead>\n",
              "    <tr style=\"text-align: right;\">\n",
              "      <th></th>\n",
              "      <th>movieId</th>\n",
              "      <th>y</th>\n",
              "    </tr>\n",
              "    <tr>\n",
              "      <th>userId</th>\n",
              "      <th></th>\n",
              "      <th></th>\n",
              "    </tr>\n",
              "  </thead>\n",
              "  <tbody>\n",
              "    <tr>\n",
              "      <th>1</th>\n",
              "      <td>[7153, 4754, 1333, 1036, 4911, 1215, 1358, 217...</td>\n",
              "      <td>[1.0, 0.6000000000000001, 0.6000000000000001, ...</td>\n",
              "    </tr>\n",
              "    <tr>\n",
              "      <th>2</th>\n",
              "      <td>[1270, 2948, 3928, 1327, 1748, 62, 541, 589, 2...</td>\n",
              "      <td>[1.0, 1.0, 1.0, 1.0, 1.0, 1.0, 1.0, 1.0, 1.0, ...</td>\n",
              "    </tr>\n",
              "    <tr>\n",
              "      <th>3</th>\n",
              "      <td>[2009, 260, 1084, 2968, 316, 2117, 1213, 858, ...</td>\n",
              "      <td>[1.0, 1.0, 1.0, 1.0, 1.0, 1.0, 1.0, 1.0, 1.0, ...</td>\n",
              "    </tr>\n",
              "    <tr>\n",
              "      <th>4</th>\n",
              "      <td>[733, 454, 377, 594, 489, 356, 368, 480, 596, ...</td>\n",
              "      <td>[1.0, 1.0, 0.6000000000000001, 0.6000000000000...</td>\n",
              "    </tr>\n",
              "    <tr>\n",
              "      <th>5</th>\n",
              "      <td>[1210, 595, 1097, 780, 318, 594, 260, 1198, 45...</td>\n",
              "      <td>[1.0, 1.0, 1.0, 1.0, 1.0, 1.0, 1.0, 1.0, 1.0, ...</td>\n",
              "    </tr>\n",
              "    <tr>\n",
              "      <th>6</th>\n",
              "      <td>[141, 52, 7, 17, 708, 260, 140, 494, 3, 135, 7...</td>\n",
              "      <td>[1.0, 1.0, 1.0, 1.0, 0.6000000000000001, 0.600...</td>\n",
              "    </tr>\n",
              "    <tr>\n",
              "      <th>7</th>\n",
              "      <td>[587, 4799, 1721, 1077, 4306, 750, 2028, 1256,...</td>\n",
              "      <td>[1.0, 1.0, 1.0, 1.0, 1.0, 1.0, 1.0, 1.0, 1.0, ...</td>\n",
              "    </tr>\n",
              "    <tr>\n",
              "      <th>8</th>\n",
              "      <td>[296, 553, 527, 349, 648, 110, 356, 288, 597, ...</td>\n",
              "      <td>[1.0, 1.0, 1.0, 1.0, 1.0, 1.0, 1.0, 1.0, 1.0, ...</td>\n",
              "    </tr>\n",
              "    <tr>\n",
              "      <th>9</th>\n",
              "      <td>[4148, 1997, 1923, 2706, 356, 2841, 3979, 3857...</td>\n",
              "      <td>[1.0, 1.0, 0.6000000000000001, 0.6000000000000...</td>\n",
              "    </tr>\n",
              "  </tbody>\n",
              "</table>\n",
              "</div>\n",
              "      <button class=\"colab-df-convert\" onclick=\"convertToInteractive('df-cd984847-732d-4891-af6f-5c1acb770798')\"\n",
              "              title=\"Convert this dataframe to an interactive table.\"\n",
              "              style=\"display:none;\">\n",
              "        \n",
              "  <svg xmlns=\"http://www.w3.org/2000/svg\" height=\"24px\"viewBox=\"0 0 24 24\"\n",
              "       width=\"24px\">\n",
              "    <path d=\"M0 0h24v24H0V0z\" fill=\"none\"/>\n",
              "    <path d=\"M18.56 5.44l.94 2.06.94-2.06 2.06-.94-2.06-.94-.94-2.06-.94 2.06-2.06.94zm-11 1L8.5 8.5l.94-2.06 2.06-.94-2.06-.94L8.5 2.5l-.94 2.06-2.06.94zm10 10l.94 2.06.94-2.06 2.06-.94-2.06-.94-.94-2.06-.94 2.06-2.06.94z\"/><path d=\"M17.41 7.96l-1.37-1.37c-.4-.4-.92-.59-1.43-.59-.52 0-1.04.2-1.43.59L10.3 9.45l-7.72 7.72c-.78.78-.78 2.05 0 2.83L4 21.41c.39.39.9.59 1.41.59.51 0 1.02-.2 1.41-.59l7.78-7.78 2.81-2.81c.8-.78.8-2.07 0-2.86zM5.41 20L4 18.59l7.72-7.72 1.47 1.35L5.41 20z\"/>\n",
              "  </svg>\n",
              "      </button>\n",
              "      \n",
              "  <style>\n",
              "    .colab-df-container {\n",
              "      display:flex;\n",
              "      flex-wrap:wrap;\n",
              "      gap: 12px;\n",
              "    }\n",
              "\n",
              "    .colab-df-convert {\n",
              "      background-color: #E8F0FE;\n",
              "      border: none;\n",
              "      border-radius: 50%;\n",
              "      cursor: pointer;\n",
              "      display: none;\n",
              "      fill: #1967D2;\n",
              "      height: 32px;\n",
              "      padding: 0 0 0 0;\n",
              "      width: 32px;\n",
              "    }\n",
              "\n",
              "    .colab-df-convert:hover {\n",
              "      background-color: #E2EBFA;\n",
              "      box-shadow: 0px 1px 2px rgba(60, 64, 67, 0.3), 0px 1px 3px 1px rgba(60, 64, 67, 0.15);\n",
              "      fill: #174EA6;\n",
              "    }\n",
              "\n",
              "    [theme=dark] .colab-df-convert {\n",
              "      background-color: #3B4455;\n",
              "      fill: #D2E3FC;\n",
              "    }\n",
              "\n",
              "    [theme=dark] .colab-df-convert:hover {\n",
              "      background-color: #434B5C;\n",
              "      box-shadow: 0px 1px 3px 1px rgba(0, 0, 0, 0.15);\n",
              "      filter: drop-shadow(0px 1px 2px rgba(0, 0, 0, 0.3));\n",
              "      fill: #FFFFFF;\n",
              "    }\n",
              "  </style>\n",
              "\n",
              "      <script>\n",
              "        const buttonEl =\n",
              "          document.querySelector('#df-cd984847-732d-4891-af6f-5c1acb770798 button.colab-df-convert');\n",
              "        buttonEl.style.display =\n",
              "          google.colab.kernel.accessAllowed ? 'block' : 'none';\n",
              "\n",
              "        async function convertToInteractive(key) {\n",
              "          const element = document.querySelector('#df-cd984847-732d-4891-af6f-5c1acb770798');\n",
              "          const dataTable =\n",
              "            await google.colab.kernel.invokeFunction('convertToInteractive',\n",
              "                                                     [key], {});\n",
              "          if (!dataTable) return;\n",
              "\n",
              "          const docLinkHtml = 'Like what you see? Visit the ' +\n",
              "            '<a target=\"_blank\" href=https://colab.research.google.com/notebooks/data_table.ipynb>data table notebook</a>'\n",
              "            + ' to learn more about interactive tables.';\n",
              "          element.innerHTML = '';\n",
              "          dataTable['output_type'] = 'display_data';\n",
              "          await google.colab.output.renderOutput(dataTable, element);\n",
              "          const docLink = document.createElement('div');\n",
              "          docLink.innerHTML = docLinkHtml;\n",
              "          element.appendChild(docLink);\n",
              "        }\n",
              "      </script>\n",
              "    </div>\n",
              "  </div>\n",
              "  "
            ]
          },
          "metadata": {},
          "execution_count": 12
        }
      ]
    },
    {
      "cell_type": "markdown",
      "source": [
        "### Xây dựng encoder model\n",
        "Encoder =  interaction embedding + user feature embedding<br> \n",
        "interaction embedding = sum( interaction embedding các item i)<br> \n",
        "interaction embedding item i = rating x (embedding id sản phẩm + embedding item feature)<br>\n",
        "\n"
      ],
      "metadata": {
        "id": "Sbp1tH7yUeI6"
      }
    },
    {
      "cell_type": "code",
      "source": [
        "%%time\n",
        "# Vectorize (encode + padding) item list\n",
        "max_vocab_size = len(top_items) # nếu số item có <= top_k_item => lấy số lượng item max\n",
        "items_str = ' '.join([str(i) for i in top_items])\n",
        "itemStr = itemCol+\"_str\"\n",
        "\n",
        "vectorizer = layers.TextVectorization( max_tokens= top_k_item, split='whitespace', output_sequence_length= wu_size, name = 'vectorizer')\n",
        "vectorizer.adapt( [items_str] ) "
      ],
      "metadata": {
        "colab": {
          "base_uri": "https://localhost:8080/"
        },
        "id": "QxNyuo9-WJJG",
        "outputId": "5c8ca660-d6d1-4bcf-f461-f169061e9bd3"
      },
      "execution_count": 25,
      "outputs": [
        {
          "output_type": "stream",
          "name": "stdout",
          "text": [
            "CPU times: user 177 ms, sys: 4.34 ms, total: 182 ms\n",
            "Wall time: 234 ms\n"
          ]
        }
      ]
    },
    {
      "cell_type": "markdown",
      "source": [
        ""
      ],
      "metadata": {
        "id": "z-5jOm5yWrrw"
      }
    },
    {
      "cell_type": "code",
      "source": [
        "class Broadcasting_Multiply(tf.keras.layers.Layer):\n",
        "    \"\"\"Nhân 2 layers khác shape với nhau, trong đó:\n",
        "    inputs=[layer1, layer2]\n",
        "    layer1.shape = (None, n_item, n_feature)\n",
        "    layer2.shape = (None, n_item)\n",
        "    (Chú ý đúng thứ tự)\n",
        "    \"\"\"\n",
        "\n",
        "    def call(self, inputs):\n",
        "        x, y = inputs\n",
        "\n",
        "        #we add the extra dimension:\n",
        "        y = K.expand_dims(y, axis=-1)\n",
        "        #we replicate the elements\n",
        "        y = K.repeat_elements(y, rep=x.shape[2], axis=-1)\n",
        "\n",
        "        return x * y"
      ],
      "metadata": {
        "id": "1U7EQG6zWpi9"
      },
      "execution_count": 27,
      "outputs": []
    },
    {
      "cell_type": "code",
      "source": [
        "# Xây dựng mạng\n",
        "embedding_size = 200\n",
        "reps_size = 150\n",
        "cluster_num = 50\n",
        "\n",
        "def interaction_embedding():\n",
        "\n",
        "    input_wi = layers.Input(shape=(1,), name='input_wi')\n",
        "    wi = vectorizer(input_wi)\n",
        "    wi = layers.Embedding(input_dim= max_vocab_size, output_dim= embedding_size, mask_zero= True, name='ei')(wi)\n",
        "    wi = layers.Dense(embedding_size, activation='relu', name='di')(wi)\n",
        "\n",
        "    wr = layers.Input(shape=(wu_size,), name='warm_up_ratings')\n",
        "\n",
        "    ireps = Broadcasting_Multiply(name='mul')([wi, wr])\n",
        "    uprofile = layers.Lambda(lambda z: K.mean(z, axis=1), name='lambda')(ireps)\n",
        "\n",
        "    # uprofile = layers.LayerNormalization(name='norm')(uprofile)\n",
        "    uprofile = layers.Dense( reps_size, activation='relu', name='du')(uprofile)\n",
        "    uprofile = layers.Dense(cluster_num, activation='sigmoid', name='clustering')(uprofile)\n",
        "    \n",
        "    model = tf.keras.Model(inputs= [input_wi, wr], outputs=[uprofile])\n",
        "    return model\n",
        "\n",
        "encode_model = interaction_embedding()"
      ],
      "metadata": {
        "id": "--fbIsGLXjPD"
      },
      "execution_count": 28,
      "outputs": []
    },
    {
      "cell_type": "code",
      "source": [
        "# Kiểm tra tham số\n",
        "encode_model.summary()"
      ],
      "metadata": {
        "colab": {
          "base_uri": "https://localhost:8080/"
        },
        "id": "cJMxOoxzXvr_",
        "outputId": "3cf7a4d8-f7b3-4274-ecc4-8a6888a8ec68"
      },
      "execution_count": 29,
      "outputs": [
        {
          "output_type": "stream",
          "name": "stdout",
          "text": [
            "Model: \"model_2\"\n",
            "__________________________________________________________________________________________________\n",
            " Layer (type)                   Output Shape         Param #     Connected to                     \n",
            "==================================================================================================\n",
            " input_wi (InputLayer)          [(None, 1)]          0           []                               \n",
            "                                                                                                  \n",
            " vectorizer (TextVectorization)  (None, 150)         0           ['input_wi[0][0]']               \n",
            "                                                                                                  \n",
            " ei (Embedding)                 (None, 150, 200)     1000000     ['vectorizer[0][0]']             \n",
            "                                                                                                  \n",
            " di (Dense)                     (None, 150, 200)     40200       ['ei[0][0]']                     \n",
            "                                                                                                  \n",
            " warm_up_ratings (InputLayer)   [(None, 150)]        0           []                               \n",
            "                                                                                                  \n",
            " mul (Broadcasting_Multiply)    (None, 150, 200)     0           ['di[0][0]',                     \n",
            "                                                                  'warm_up_ratings[0][0]']        \n",
            "                                                                                                  \n",
            " lambda (Lambda)                (None, 200)          0           ['mul[0][0]']                    \n",
            "                                                                                                  \n",
            " du (Dense)                     (None, 150)          30150       ['lambda[0][0]']                 \n",
            "                                                                                                  \n",
            " clustering (Dense)             (None, 50)           7550        ['du[0][0]']                     \n",
            "                                                                                                  \n",
            "==================================================================================================\n",
            "Total params: 1,077,900\n",
            "Trainable params: 1,077,900\n",
            "Non-trainable params: 0\n",
            "__________________________________________________________________________________________________\n"
          ]
        }
      ]
    },
    {
      "cell_type": "code",
      "source": [
        "tf.keras.utils.plot_model( encode_model ,show_shapes=True, show_dtype=True, show_layer_names=True )"
      ],
      "metadata": {
        "colab": {
          "base_uri": "https://localhost:8080/",
          "height": 1000
        },
        "id": "PuAM8w01Xy93",
        "outputId": "6aabc991-dc3f-42b0-a68a-72a80c4d1694"
      },
      "execution_count": 30,
      "outputs": [
        {
          "output_type": "execute_result",
          "data": {
            "text/plain": [
              "<IPython.core.display.Image object>"
            ],
            "image/png": "[encoded data removed]"
          },
          "metadata": {},
          "execution_count": 30
        }
      ]
    },
    {
      "cell_type": "markdown",
      "source": [
        "### Ground trust\n",
        "Nhận vào text (gồm các mã id sản phẩm) và ratings => chuyển thành vector theo từng user <br>\n",
        "Dựng ground trust onehot bằng trung bình rating onehot"
      ],
      "metadata": {
        "id": "t5vQ9PXoX-OJ"
      }
    },
    {
      "cell_type": "code",
      "source": [
        "%%time\n",
        "# Vectorize (encode + padding) item list\n",
        "maskvec = layers.TextVectorization( max_tokens=max_vocab_size, split='whitespace', output_sequence_length= mask_size, name = 'maskvec')\n",
        "maskvec.adapt( [items_str] ) "
      ],
      "metadata": {
        "colab": {
          "base_uri": "https://localhost:8080/"
        },
        "id": "8vPWr-67aOVS",
        "outputId": "07a215fa-257c-4d15-e3e4-1948c61b4c8c"
      },
      "execution_count": 31,
      "outputs": [
        {
          "output_type": "stream",
          "name": "stdout",
          "text": [
            "WARNING:tensorflow:5 out of the last 5 calls to <function PreprocessingLayer.make_adapt_function.<locals>.adapt_step at 0x7f396ba50440> triggered tf.function retracing. Tracing is expensive and the excessive number of tracings could be due to (1) creating @tf.function repeatedly in a loop, (2) passing tensors with different shapes, (3) passing Python objects instead of tensors. For (1), please define your @tf.function outside of the loop. For (2), @tf.function has experimental_relax_shapes=True option that relaxes argument shapes that can avoid unnecessary retracing. For (3), please refer to https://www.tensorflow.org/guide/function#controlling_retracing and https://www.tensorflow.org/api_docs/python/tf/function for  more details.\n",
            "CPU times: user 108 ms, sys: 7.98 ms, total: 116 ms\n",
            "Wall time: 123 ms\n"
          ]
        }
      ]
    },
    {
      "cell_type": "code",
      "source": [
        "# Xây dựng mạng\n",
        "def eye_initializer(shape_list, dtype):\n",
        "    return tf.eye(max_vocab_size)\n",
        "\n",
        "def mask_label():\n",
        "\n",
        "    input_mi = layers.Input(shape=(1,), name='input_mask')\n",
        "    mi = maskvec(input_mi)\n",
        "    mi = layers.Embedding(input_dim= max_vocab_size, output_dim= max_vocab_size, embeddings_initializer = eye_initializer, trainable=False)(mi)\n",
        "\n",
        "    input_mr = layers.Input(shape=(mask_size,), name='mask_rating')\n",
        "\n",
        "    ireps = Broadcasting_Multiply()([mi, input_mr])\n",
        "    uprofile = layers.Lambda(lambda z: K.mean(z, axis=1), name='lambda')(ireps)\n",
        "    \n",
        "    model = tf.keras.Model(inputs= [input_mi, input_mr], outputs=[uprofile])\n",
        "    return model\n",
        "\n",
        "# Với bộ data không có user demographic thì ecoder = interaction_embedding, nếu có thì encoder = interaction_embedding concat user demo\n",
        "dencode_model = mask_label()"
      ],
      "metadata": {
        "id": "PuNTMa0xYDAK"
      },
      "execution_count": 32,
      "outputs": []
    },
    {
      "cell_type": "code",
      "source": [
        "# Kiểm tra số lượng tham số, đảm bảo layer embedding không có trainable param\n",
        "dencode_model.summary()"
      ],
      "metadata": {
        "colab": {
          "base_uri": "https://localhost:8080/"
        },
        "id": "Z6ZLWt-Ga_qs",
        "outputId": "fdf2a96c-0ccf-48d0-8d53-16f80d99a6df"
      },
      "execution_count": 33,
      "outputs": [
        {
          "output_type": "stream",
          "name": "stdout",
          "text": [
            "Model: \"model_3\"\n",
            "__________________________________________________________________________________________________\n",
            " Layer (type)                   Output Shape         Param #     Connected to                     \n",
            "==================================================================================================\n",
            " input_mask (InputLayer)        [(None, 1)]          0           []                               \n",
            "                                                                                                  \n",
            " maskvec (TextVectorization)    (None, 50)           0           ['input_mask[0][0]']             \n",
            "                                                                                                  \n",
            " embedding_1 (Embedding)        (None, 50, 5000)     25000000    ['maskvec[0][0]']                \n",
            "                                                                                                  \n",
            " mask_rating (InputLayer)       [(None, 50)]         0           []                               \n",
            "                                                                                                  \n",
            " broadcasting__multiply_1 (Broa  (None, 50, 5000)    0           ['embedding_1[0][0]',            \n",
            " dcasting_Multiply)                                               'mask_rating[0][0]']            \n",
            "                                                                                                  \n",
            " lambda (Lambda)                (None, 5000)         0           ['broadcasting__multiply_1[0][0]'\n",
            "                                                                 ]                                \n",
            "                                                                                                  \n",
            "==================================================================================================\n",
            "Total params: 25,000,000\n",
            "Trainable params: 0\n",
            "Non-trainable params: 25,000,000\n",
            "__________________________________________________________________________________________________\n"
          ]
        }
      ]
    },
    {
      "cell_type": "markdown",
      "source": [
        "### Mapping dims"
      ],
      "metadata": {
        "id": "bWKyminnbGyA"
      }
    },
    {
      "cell_type": "code",
      "source": [
        "# Mapping số chiều của clustering model với số chiều của label\n",
        "\n",
        "def get_reps_model():\n",
        "\n",
        "    input_reps = layers.Input(shape=(cluster_num), name='input_reps')\n",
        "    reps = layers.Dense(max_vocab_size, activation='linear', name='representations')(input_reps)\n",
        "    \n",
        "    model = tf.keras.Model(inputs= [input_reps], outputs=[reps])\n",
        "    return model\n",
        "\n",
        "reps_model = get_reps_model()"
      ],
      "metadata": {
        "id": "l7gACm3jbIrM"
      },
      "execution_count": 34,
      "outputs": []
    },
    {
      "cell_type": "code",
      "source": [
        "# Check số lượng tham số \n",
        "reps_model.summary()"
      ],
      "metadata": {
        "colab": {
          "base_uri": "https://localhost:8080/"
        },
        "id": "OXV7OYa9bfxd",
        "outputId": "7cb1ff00-df8a-4e09-bc26-40d97e94dbf6"
      },
      "execution_count": 35,
      "outputs": [
        {
          "output_type": "stream",
          "name": "stdout",
          "text": [
            "Model: \"model_4\"\n",
            "_________________________________________________________________\n",
            " Layer (type)                Output Shape              Param #   \n",
            "=================================================================\n",
            " input_reps (InputLayer)     [(None, 50)]              0         \n",
            "                                                                 \n",
            " representations (Dense)     (None, 5000)              255000    \n",
            "                                                                 \n",
            "=================================================================\n",
            "Total params: 255,000\n",
            "Trainable params: 255,000\n",
            "Non-trainable params: 0\n",
            "_________________________________________________________________\n"
          ]
        }
      ]
    },
    {
      "cell_type": "code",
      "source": [
        "class Efficient_Rec(tf.keras.Model):\n",
        "  def __init__(self, use_tf_function=False):\n",
        "    super().__init__()\n",
        "    self.use_tf_function = use_tf_function\n",
        "\n",
        "    # Build the encoder and decoder\n",
        "    encoder = interaction_embedding()\n",
        "    reps = get_reps_model()\n",
        "    decoder = mask_label()\n",
        "\n",
        "    self.encoder = encoder\n",
        "    self.decoder = decoder\n",
        "    self.reps = reps\n",
        "\n",
        "  def train_step(self, inputs):\n",
        "    if self.use_tf_function:\n",
        "      return self._tf_train_step(inputs)\n",
        "    else:\n",
        "      return self._train_step(inputs)"
      ],
      "metadata": {
        "id": "XtrIkMaRbo6v"
      },
      "execution_count": 36,
      "outputs": []
    },
    {
      "cell_type": "code",
      "source": [
        "def _wu_mask_split(self, batch_inputs, mask_ratio = 0.25):\n",
        "    \"Chia ratings và items thành mask, warm up\"\n",
        "    input_items, input_ratings = batch_inputs[itemCol], batch_inputs[\"y\"]\n",
        "\n",
        "    def list_split(input, mask_ratio = 0.25, seed= 42):\n",
        "        return train_test_split(input[0:(wu_size+mask_size)], test_size= mask_ratio, random_state=seed)\n",
        "\n",
        "    seed = random.randint(1, 100)\n",
        "    items = input_items.apply(lambda x: list_split(x, mask_ratio, seed))\n",
        "    ratings = input_ratings.apply(lambda x: list_split(x, mask_ratio, seed))\n",
        "\n",
        "    wu_item_list = items.apply(lambda x: x[0])\n",
        "    mask_item_list = items.apply(lambda x: x[1])\n",
        "\n",
        "    wu_rating_list = ratings.apply(lambda x: x[0])\n",
        "    mask_rating_list = ratings.apply(lambda x: x[1])\n",
        "    return (wu_item_list, wu_rating_list), (mask_item_list, mask_rating_list)\n",
        "\n",
        "Efficient_Rec._wu_mask_split = _wu_mask_split"
      ],
      "metadata": {
        "id": "mZtGCHBnjcCg"
      },
      "execution_count": 60,
      "outputs": []
    },
    {
      "cell_type": "code",
      "source": [
        "def _preprocess(self, inputs, padding_size = 100):\n",
        "    \"\"\"\n",
        "    Padding về wu_size và mask_size, convert list of items => string of items\n",
        "    batch_inputs: df: itemStr, y\"\"\"\n",
        "\n",
        "    def padding_list(list_item, wu_size, value=0, is_padding=True):\n",
        "        series_item1 = list_item[0:wu_size]\n",
        "        if is_padding:\n",
        "            series_item1 = series_item1+[value]*(wu_size-len(series_item1))\n",
        "        return series_item1\n",
        "\n",
        "    items_list, ratings_list = inputs\n",
        "\n",
        "    items   = items_list.apply(lambda x: ' '.join(list([str(i) for i in x])))\n",
        "    ratings =   np.stack( ratings_list.apply(lambda x: padding_list( x, padding_size  ) ) )\n",
        "\n",
        "    return items, ratings\n",
        "\n",
        "Efficient_Rec._preprocess = _preprocess"
      ],
      "metadata": {
        "id": "OvIJP8m7bvaF"
      },
      "execution_count": 61,
      "outputs": []
    },
    {
      "cell_type": "code",
      "source": [
        "def _train_step(self, inputs):\n",
        "    warm_up, mask = self._wu_mask_split(inputs, mask_ratio = 0.25)\n",
        "    wu_items, wu_ratings = self._preprocess(warm_up, wu_size)\n",
        "    mask_item, mask_ratings = self._preprocess(mask, mask_size)\n",
        "\n",
        "    with tf.GradientTape() as tape:\n",
        "        # Encode the input\n",
        "        wu_vec = self.encoder([wu_items, wu_ratings])\n",
        "        y_pred = self.reps(wu_vec)\n",
        "\n",
        "        # Encde the output\n",
        "        mask_vec = self.decoder([mask_item, mask_ratings])\n",
        "\n",
        "        average_loss = self.loss(mask_vec, y_pred)\n",
        "\n",
        "    # Apply an optimization step\n",
        "    variables = self.trainable_variables \n",
        "    gradients = tape.gradient(average_loss, variables)\n",
        "    self.optimizer.apply_gradients(zip(gradients, variables))\n",
        "\n",
        "    # Return a dict mapping metric names to current value\n",
        "    return {'batch_loss': average_loss}\n",
        "\n",
        "Efficient_Rec._train_step = _train_step"
      ],
      "metadata": {
        "id": "gzoNOhtuhHlu"
      },
      "execution_count": 62,
      "outputs": []
    },
    {
      "cell_type": "code",
      "source": [
        "def Focus2(alpha=0.01):\n",
        "    def cal_los(y_true, y_pred):\n",
        "        y_pred = tf.cast(y_pred, tf.float32)\n",
        "        y_true = tf.cast(y_true, tf.float32)\n",
        "\n",
        "        positive_true = y_true[y_true!=0]\n",
        "        positive_pred = y_pred[y_true!=0]\n",
        "        los1 = K.square(positive_true-positive_pred )\n",
        "\n",
        "        zero_true = y_true[y_true==0]\n",
        "        zero_pred = y_pred[y_true==0]\n",
        "        los2 =alpha*  K.square(zero_true-zero_pred )\n",
        "\n",
        "\n",
        "        return K.mean( tf.concat([los1, los2], axis=0) )\n",
        "    return cal_los\n",
        "\n",
        "y_true = tf.constant([1,0.2,0.1,1])\n",
        "y_pred = tf.constant([1,0,5.2,1.005])\n",
        "\n",
        "Focus2(0.01)(y_true, y_pred)"
      ],
      "metadata": {
        "colab": {
          "base_uri": "https://localhost:8080/"
        },
        "id": "pgYmc_p_ht_Q",
        "outputId": "333843b4-5e4c-4d67-cde9-58cba42abdc3"
      },
      "execution_count": 63,
      "outputs": [
        {
          "output_type": "execute_result",
          "data": {
            "text/plain": [
              "<tf.Tensor: shape=(), dtype=float32, numpy=6.512506>"
            ]
          },
          "metadata": {},
          "execution_count": 63
        }
      ]
    },
    {
      "cell_type": "code",
      "source": [
        "model = Efficient_Rec( use_tf_function=False)\n",
        "\n",
        "# Configure the loss and optimizer\n",
        "model.compile(\n",
        "    optimizer=tf.optimizers.Adam(),\n",
        "    loss=Focus2(0.01),\n",
        ")"
      ],
      "metadata": {
        "id": "53ekTYluhxTG"
      },
      "execution_count": 64,
      "outputs": []
    },
    {
      "cell_type": "code",
      "source": [
        "%%time\n",
        "epochs= 20\n",
        "for n in range(epochs):\n",
        "  print(model.train_step( interac_df ))\n"
      ],
      "metadata": {
        "colab": {
          "base_uri": "https://localhost:8080/"
        },
        "id": "BmtVYa_9h1Jx",
        "outputId": "f4942ef5-96db-44fa-aa50-6c78dfd5f4a7"
      },
      "execution_count": 65,
      "outputs": [
        {
          "output_type": "stream",
          "name": "stdout",
          "text": [
            "{'batch_loss': <tf.Tensor: shape=(), dtype=float32, numpy=5.9309863e-05>}\n",
            "{'batch_loss': <tf.Tensor: shape=(), dtype=float32, numpy=5.9242706e-05>}\n",
            "{'batch_loss': <tf.Tensor: shape=(), dtype=float32, numpy=5.5017175e-05>}\n",
            "{'batch_loss': <tf.Tensor: shape=(), dtype=float32, numpy=4.8566533e-05>}\n",
            "{'batch_loss': <tf.Tensor: shape=(), dtype=float32, numpy=4.4341523e-05>}\n",
            "{'batch_loss': <tf.Tensor: shape=(), dtype=float32, numpy=4.0933075e-05>}\n",
            "{'batch_loss': <tf.Tensor: shape=(), dtype=float32, numpy=3.8239992e-05>}\n",
            "{'batch_loss': <tf.Tensor: shape=(), dtype=float32, numpy=3.3493783e-05>}\n",
            "{'batch_loss': <tf.Tensor: shape=(), dtype=float32, numpy=3.0887753e-05>}\n",
            "{'batch_loss': <tf.Tensor: shape=(), dtype=float32, numpy=2.6986856e-05>}\n",
            "{'batch_loss': <tf.Tensor: shape=(), dtype=float32, numpy=2.3702685e-05>}\n",
            "{'batch_loss': <tf.Tensor: shape=(), dtype=float32, numpy=2.0992284e-05>}\n",
            "{'batch_loss': <tf.Tensor: shape=(), dtype=float32, numpy=1.8880288e-05>}\n",
            "{'batch_loss': <tf.Tensor: shape=(), dtype=float32, numpy=1.6170135e-05>}\n",
            "{'batch_loss': <tf.Tensor: shape=(), dtype=float32, numpy=1.396158e-05>}\n",
            "{'batch_loss': <tf.Tensor: shape=(), dtype=float32, numpy=1.2005933e-05>}\n",
            "{'batch_loss': <tf.Tensor: shape=(), dtype=float32, numpy=1.0239579e-05>}\n",
            "{'batch_loss': <tf.Tensor: shape=(), dtype=float32, numpy=8.740909e-06>}\n",
            "{'batch_loss': <tf.Tensor: shape=(), dtype=float32, numpy=7.5893695e-06>}\n",
            "{'batch_loss': <tf.Tensor: shape=(), dtype=float32, numpy=6.3729526e-06>}\n",
            "CPU times: user 3.29 s, sys: 81.6 ms, total: 3.37 s\n",
            "Wall time: 2.61 s\n"
          ]
        }
      ]
    },
    {
      "cell_type": "code",
      "source": [
        "model.encoder(model._preprocess( [interac_df[itemCol], interac_df[\"y\"]], padding_size = wu_size ))"
      ],
      "metadata": {
        "colab": {
          "base_uri": "https://localhost:8080/"
        },
        "id": "xYjS-3omFbQk",
        "outputId": "febc0905-ce2c-4912-ea81-83e9746be50d"
      },
      "execution_count": 70,
      "outputs": [
        {
          "output_type": "execute_result",
          "data": {
            "text/plain": [
              "<tf.Tensor: shape=(9, 50), dtype=float32, numpy=\n",
              "array([[0.495707  , 0.49731943, 0.49881643, 0.49542737, 0.49819666,\n",
              "        0.49704415, 0.4987697 , 0.49621168, 0.4994033 , 0.49572197,\n",
              "        0.49889636, 0.50016594, 0.49686483, 0.49815366, 0.49545407,\n",
              "        0.49838638, 0.49711925, 0.49877757, 0.49625477, 0.4966548 ,\n",
              "        0.49787888, 0.49726275, 0.49749514, 0.4964643 , 0.49620146,\n",
              "        0.4960283 , 0.4959543 , 0.49777526, 0.4945367 , 0.49778992,\n",
              "        0.4949776 , 0.4964022 , 0.49529907, 0.49695218, 0.49710274,\n",
              "        0.49482757, 0.49722365, 0.49850044, 0.498777  , 0.49837112,\n",
              "        0.4975482 , 0.49645317, 0.499116  , 0.4983752 , 0.49831212,\n",
              "        0.49840352, 0.49567905, 0.49594584, 0.49719414, 0.49636474],\n",
              "       [0.496366  , 0.49749064, 0.4981255 , 0.49556255, 0.4982837 ,\n",
              "        0.49771646, 0.49849316, 0.49712726, 0.4982921 , 0.49628213,\n",
              "        0.49869   , 0.49946725, 0.49682996, 0.49814746, 0.49597287,\n",
              "        0.49815112, 0.4971888 , 0.4983147 , 0.49662194, 0.49712136,\n",
              "        0.49802426, 0.49719402, 0.49806854, 0.49701235, 0.4966012 ,\n",
              "        0.49648774, 0.49660593, 0.49789637, 0.495138  , 0.49788275,\n",
              "        0.4955909 , 0.4966523 , 0.49628404, 0.49748778, 0.4969277 ,\n",
              "        0.49606502, 0.4968428 , 0.49789456, 0.4983754 , 0.49785563,\n",
              "        0.49773118, 0.4968198 , 0.49864176, 0.4977662 , 0.49833748,\n",
              "        0.49781886, 0.49605608, 0.49646202, 0.49719462, 0.49654827],\n",
              "       [0.49516347, 0.49700543, 0.49932697, 0.4949142 , 0.49829555,\n",
              "        0.49661657, 0.4992895 , 0.4957791 , 0.49982354, 0.4949655 ,\n",
              "        0.4994764 , 0.5011904 , 0.49705523, 0.49823606, 0.4950167 ,\n",
              "        0.4982954 , 0.49681988, 0.49930438, 0.4957999 , 0.4966329 ,\n",
              "        0.49782497, 0.49729225, 0.49712682, 0.4964328 , 0.49558192,\n",
              "        0.4955814 , 0.49521542, 0.4978361 , 0.49425888, 0.49766913,\n",
              "        0.494167  , 0.4964444 , 0.49464875, 0.49649966, 0.49722803,\n",
              "        0.4945037 , 0.49748477, 0.49857384, 0.49893588, 0.4989638 ,\n",
              "        0.49760696, 0.49619418, 0.4994624 , 0.4986906 , 0.49811888,\n",
              "        0.49859965, 0.49511343, 0.49620855, 0.4973656 , 0.49605852],\n",
              "       [0.49627066, 0.4975229 , 0.49782023, 0.49587163, 0.49822086,\n",
              "        0.49784857, 0.49816704, 0.49733916, 0.49809256, 0.49666315,\n",
              "        0.4985533 , 0.49936602, 0.4967787 , 0.49810436, 0.49627045,\n",
              "        0.4980682 , 0.4973045 , 0.49818474, 0.49693188, 0.49738398,\n",
              "        0.4980228 , 0.4972806 , 0.4981788 , 0.49726748, 0.49691123,\n",
              "        0.49663827, 0.49677333, 0.49795023, 0.49547023, 0.4980113 ,\n",
              "        0.49594292, 0.49683285, 0.4965292 , 0.49757618, 0.49697733,\n",
              "        0.49608493, 0.4969691 , 0.49772897, 0.49823472, 0.49770862,\n",
              "        0.49789312, 0.49700314, 0.49824196, 0.49774015, 0.49824664,\n",
              "        0.49780223, 0.49614322, 0.4964502 , 0.4971939 , 0.496599  ],\n",
              "       [0.49586764, 0.49731302, 0.49839762, 0.49535015, 0.498099  ,\n",
              "        0.4973412 , 0.4985605 , 0.4968711 , 0.49875417, 0.49627122,\n",
              "        0.49870825, 0.499924  , 0.49685696, 0.49830025, 0.49569216,\n",
              "        0.49819407, 0.49716672, 0.4986418 , 0.49654132, 0.49680036,\n",
              "        0.49796382, 0.49704367, 0.49763837, 0.49677435, 0.49641702,\n",
              "        0.4964118 , 0.49630117, 0.49787104, 0.49478695, 0.4978737 ,\n",
              "        0.4954074 , 0.49643317, 0.4958787 , 0.49716386, 0.4969131 ,\n",
              "        0.49558896, 0.49717647, 0.49790275, 0.4983312 , 0.4978674 ,\n",
              "        0.49764124, 0.49677232, 0.4985717 , 0.49795803, 0.49814838,\n",
              "        0.4981437 , 0.49607766, 0.496368  , 0.4972172 , 0.4963265 ],\n",
              "       [0.49632448, 0.4976055 , 0.4977626 , 0.4957313 , 0.49811366,\n",
              "        0.49787658, 0.4982787 , 0.4972539 , 0.49818307, 0.4965926 ,\n",
              "        0.498498  , 0.49936578, 0.49679232, 0.49798942, 0.49630153,\n",
              "        0.49816456, 0.49736753, 0.4982064 , 0.49682638, 0.49745676,\n",
              "        0.49800783, 0.49722993, 0.49805623, 0.49728814, 0.49702308,\n",
              "        0.49668878, 0.49679273, 0.49788526, 0.4955067 , 0.4979021 ,\n",
              "        0.4958134 , 0.49675563, 0.49645227, 0.4975435 , 0.4969516 ,\n",
              "        0.49613217, 0.4969697 , 0.4977105 , 0.49822786, 0.49780443,\n",
              "        0.49780825, 0.4970189 , 0.4983995 , 0.49788398, 0.49833274,\n",
              "        0.4977965 , 0.49624643, 0.49647197, 0.49729723, 0.4965017 ],\n",
              "       [0.49528033, 0.49721813, 0.49905303, 0.49509627, 0.4982709 ,\n",
              "        0.496866  , 0.4991241 , 0.49589825, 0.4992729 , 0.4951398 ,\n",
              "        0.4993474 , 0.50105715, 0.49683577, 0.49824828, 0.4949878 ,\n",
              "        0.49819976, 0.49698913, 0.49900353, 0.49602005, 0.49676183,\n",
              "        0.4977042 , 0.49723187, 0.4974116 , 0.49664384, 0.49569407,\n",
              "        0.4956959 , 0.49558404, 0.49792406, 0.49430972, 0.49778938,\n",
              "        0.49444133, 0.49657243, 0.49522948, 0.49676752, 0.4970816 ,\n",
              "        0.4947829 , 0.49726412, 0.49857524, 0.4988254 , 0.49878097,\n",
              "        0.49771377, 0.49658865, 0.49914643, 0.49847874, 0.49816167,\n",
              "        0.4979965 , 0.4952261 , 0.4960011 , 0.49693623, 0.49611068],\n",
              "       [0.49602765, 0.49727446, 0.4981209 , 0.49540627, 0.49817696,\n",
              "        0.49741095, 0.49847668, 0.4969633 , 0.4985431 , 0.4962639 ,\n",
              "        0.49875376, 0.49981368, 0.4967883 , 0.49826333, 0.4957052 ,\n",
              "        0.49806073, 0.49720746, 0.4983352 , 0.49667516, 0.4969925 ,\n",
              "        0.4979399 , 0.49710223, 0.4979958 , 0.49691784, 0.49645743,\n",
              "        0.49634787, 0.49649146, 0.4977996 , 0.49503353, 0.49797073,\n",
              "        0.49555525, 0.4966704 , 0.49597824, 0.49742672, 0.49697298,\n",
              "        0.49570408, 0.49708724, 0.49784756, 0.49846813, 0.4979131 ,\n",
              "        0.4978497 , 0.49667925, 0.49863118, 0.4979295 , 0.49821228,\n",
              "        0.49792752, 0.49584627, 0.49639642, 0.49717608, 0.4963917 ],\n",
              "       [0.49631417, 0.49765682, 0.49767172, 0.49593106, 0.49822986,\n",
              "        0.4979129 , 0.49802193, 0.49731475, 0.49805993, 0.49670172,\n",
              "        0.49854776, 0.49920678, 0.49674264, 0.49815708, 0.49639776,\n",
              "        0.49807674, 0.4971906 , 0.49813968, 0.4969236 , 0.4974012 ,\n",
              "        0.49801975, 0.49741566, 0.4981726 , 0.49729088, 0.49694806,\n",
              "        0.49664506, 0.49690476, 0.49800748, 0.49554196, 0.49803048,\n",
              "        0.49587867, 0.49686047, 0.49661827, 0.497572  , 0.49693838,\n",
              "        0.49609303, 0.496928  , 0.4977632 , 0.49808574, 0.49779773,\n",
              "        0.49789062, 0.49706542, 0.49827132, 0.4977625 , 0.49819833,\n",
              "        0.4976848 , 0.49623692, 0.49649516, 0.4972603 , 0.49672908]],\n",
              "      dtype=float32)>"
            ]
          },
          "metadata": {},
          "execution_count": 70
        }
      ]
    },
    {
      "cell_type": "code",
      "source": [
        "gc.collect()"
      ],
      "metadata": {
        "id": "WSAWNkXjGX7e"
      },
      "execution_count": null,
      "outputs": []
    }
  ],
  "metadata": {
    "kernelspec": {
      "display_name": "Python 3",
      "language": "python",
      "name": "python3"
    },
    "language_info": {
      "codemirror_mode": {
        "name": "ipython",
        "version": 3
      },
      "file_extension": ".py",
      "mimetype": "text/x-python",
      "name": "python",
      "nbconvert_exporter": "python",
      "pygments_lexer": "ipython3",
      "version": "3.6.9"
    },
    "colab": {
      "name": "ML20M_sequence.ipynb",
      "provenance": [],
      "collapsed_sections": [
        "17fHxkHoAQq6"
      ],
      "toc_visible": true,
      "include_colab_link": true
    }
  },
  "nbformat": 4,
  "nbformat_minor": 0
}